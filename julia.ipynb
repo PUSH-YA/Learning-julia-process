{
 "cells": [
  {
   "cell_type": "markdown",
   "id": "8b2bb073",
   "metadata": {
    "jp-MarkdownHeadingCollapsed": true,
    "tags": []
   },
   "source": [
    "## **Basics and built-in programs**\n",
    "\n",
    "This notebook is to keep track of progress in learning julia"
   ]
  },
  {
   "cell_type": "markdown",
   "id": "29530749-f2e8-49b0-85f3-773f5bafa5aa",
   "metadata": {},
   "source": [
    "Where my first step is:"
   ]
  },
  {
   "cell_type": "code",
   "execution_count": 1,
   "id": "f65c0dd0",
   "metadata": {},
   "outputs": [
    {
     "name": "stdout",
     "output_type": "stream",
     "text": [
      "Hello world\n"
     ]
    }
   ],
   "source": [
    "println(\"Hello world\")"
   ]
  },
  {
   "cell_type": "markdown",
   "id": "a596f363-21e3-4bb0-80b9-a39ce09dc804",
   "metadata": {
    "jp-MarkdownHeadingCollapsed": true,
    "tags": []
   },
   "source": [
    "### **Types**\n",
    "Mainly working with 3 basic types but its the same as any other programming language"
   ]
  },
  {
   "cell_type": "code",
   "execution_count": 2,
   "id": "60c14908",
   "metadata": {},
   "outputs": [
    {
     "name": "stdout",
     "output_type": "stream",
     "text": [
      "Int64\n",
      "Float64\n",
      "String\n"
     ]
    }
   ],
   "source": [
    "trial1 = 123\n",
    "trial2 = trial1 + 0.1\n",
    "trial3 = \"my name\"\n",
    "println(typeof(trial1))\n",
    "println(typeof(trial2))\n",
    "println(typeof(trial3))"
   ]
  },
  {
   "cell_type": "code",
   "execution_count": 3,
   "id": "a14e4135-6f42-4c2d-be12-c674dfe26a46",
   "metadata": {},
   "outputs": [],
   "source": [
    "# Single line comment\n",
    "\n",
    "#=\n",
    "Multi line comments\n",
    "=#"
   ]
  },
  {
   "cell_type": "markdown",
   "id": "8dec9fb4-8c27-4bcc-b16b-00909b95680a",
   "metadata": {},
   "source": [
    "### **String manipulations**"
   ]
  },
  {
   "cell_type": "code",
   "execution_count": 4,
   "id": "59b91392-7dca-4a31-8ba1-13689d8ea728",
   "metadata": {},
   "outputs": [
    {
     "name": "stdout",
     "output_type": "stream",
     "text": [
      "Hello my name is Jane and I have 10 fingers \n",
      "\n",
      "concat1: combining multiple strings together\n",
      "concat2: combining multiple strings  together\n"
     ]
    }
   ],
   "source": [
    "# referencing vars in strings\n",
    "name = \"Jane\"; fingers = 10\n",
    "println(\"Hello my name is $name and I have $fingers fingers \\n\")\n",
    "\n",
    "#string concat\n",
    "println(string(\"concat1: \",\"combining multiple strings\",\" together\"))\n",
    "println(\"concat2: \"*\"combining multiple strings \"*\" together\")"
   ]
  },
  {
   "cell_type": "markdown",
   "id": "6e60e592-2802-4ae9-b55b-2d6ccb0f8def",
   "metadata": {},
   "source": [
    "### **Data structures**\n",
    "\n",
    "The main ones that we use are dictionaries,tuples and arrays, just like python"
   ]
  },
  {
   "cell_type": "code",
   "execution_count": 5,
   "id": "78be869f-9b10-44a4-a823-55ac794d5409",
   "metadata": {},
   "outputs": [
    {
     "name": "stdout",
     "output_type": "stream",
     "text": [
      "nice person\n",
      "average number\n",
      "something0\n",
      "24\n",
      "anagha\n",
      "Any[\"pp\", \"nups\", \"jk\", \"sad\", \"anagha\", \"another one\"]\n",
      "Any[\"pp\", \"nups\", \"jk\", \"sad\", \"anagha\"]\n"
     ]
    }
   ],
   "source": [
    "#dictionaries\n",
    "dict1 = Dict(\"Jenny\" => \"nice person\", \"RIPD\" => \"average move\", 2 => \"favourite number\")\n",
    "println(dict1[\"Jenny\"])\n",
    "dict1[3] = \"average number\"\n",
    "println(dict1[3])\n",
    "\n",
    "#tuples\n",
    "myfavourite = (\"something0\", \"something1\", \"something2\")\n",
    "println(myfavourite[1])\n",
    "\n",
    "#Arrays\n",
    "frnds = [\"pp\", \"nups\", \"jk\", \"sad\",24]\n",
    "println(frnds[5])\n",
    "frnds[5] = \"anagha\"\n",
    "println(frnds[5])\n",
    "\n",
    "#push and pop into arrays\n",
    "push!(frnds, \"another one\")\n",
    "println(frnds)\n",
    "pop!(frnds)\n",
    "println(frnds)"
   ]
  },
  {
   "cell_type": "markdown",
   "id": "b26e8ca9-313d-4d02-b14b-82c441887bce",
   "metadata": {},
   "source": [
    "#### **Matrices**\n",
    "Optimised for higher dimensional DS such as matrices"
   ]
  },
  {
   "cell_type": "code",
   "execution_count": 6,
   "id": "0607d9ef-eba1-47de-91d8-a0c51fc7f390",
   "metadata": {},
   "outputs": [
    {
     "data": {
      "text/plain": [
       "4×5 Matrix{Float64}:\n",
       " 0.783736  0.150813  0.699403   0.569426  0.367991\n",
       " 0.234946  0.980335  0.826295   0.989914  0.253398\n",
       " 0.73427   0.750025  0.571998   0.408701  0.142191\n",
       " 0.714623  0.771144  0.0135894  0.753624  0.719672"
      ]
     },
     "execution_count": 6,
     "metadata": {},
     "output_type": "execute_result"
    }
   ],
   "source": [
    "# create m x n matrix with random nums\n",
    "rand(4,5)"
   ]
  },
  {
   "cell_type": "code",
   "execution_count": 7,
   "id": "13a3b277-329c-4b88-8c1d-3302e0b6b364",
   "metadata": {},
   "outputs": [
    {
     "data": {
      "text/plain": [
       "3×2×2 Array{Float64, 3}:\n",
       "[:, :, 1] =\n",
       " 0.490622  0.136585\n",
       " 0.707115  0.504294\n",
       " 0.339322  0.164781\n",
       "\n",
       "[:, :, 2] =\n",
       " 0.492246  0.901701\n",
       " 0.973618  0.166582\n",
       " 0.642752  0.171112"
      ]
     },
     "execution_count": 7,
     "metadata": {},
     "output_type": "execute_result"
    }
   ],
   "source": [
    "rand(3,2,2)"
   ]
  },
  {
   "cell_type": "markdown",
   "id": "0bfda927-357e-4a57-b54e-f0a582f291b0",
   "metadata": {
    "jp-MarkdownHeadingCollapsed": true,
    "tags": []
   },
   "source": [
    "### **Loops**\n",
    "For and while loops"
   ]
  },
  {
   "cell_type": "code",
   "execution_count": 8,
   "id": "8c2f7ebe-872d-4b41-8ab8-c960eadb56d0",
   "metadata": {},
   "outputs": [
    {
     "name": "stdout",
     "output_type": "stream",
     "text": [
      "Hello pp\n",
      "Hello nups\n",
      "Hello jk\n",
      "Hello sad\n",
      "Hello anagha\n",
      "Bye pp\n",
      "Bye nups\n",
      "Bye jk\n",
      "Bye sad\n",
      "Bye anagha\n",
      "720\n"
     ]
    }
   ],
   "source": [
    "# while loop\n",
    "n = 1\n",
    "while n <= length(frnds)\n",
    "    frnd = frnds[n]\n",
    "    println(\"Hello $frnd\")\n",
    "    n += 1\n",
    "end\n",
    "\n",
    "\n",
    "# for loops\n",
    "for frnd in frnds\n",
    "    println(\"Bye $frnd\")\n",
    "end\n",
    "\n",
    "# using range\n",
    "n = 1\n",
    "for i in 1:6\n",
    "    n *= i\n",
    "end\n",
    "println(n)"
   ]
  },
  {
   "cell_type": "code",
   "execution_count": 9,
   "id": "8eddc383-7d55-4399-907d-16c9386dfe8f",
   "metadata": {},
   "outputs": [
    {
     "data": {
      "text/plain": [
       "5×5 Matrix{Float64}:\n",
       " 0.0  1.0  2.0  3.0  4.0\n",
       " 1.0  2.0  3.0  4.0  5.0\n",
       " 2.0  3.0  4.0  5.0  6.0\n",
       " 3.0  4.0  5.0  6.0  7.0\n",
       " 4.0  5.0  6.0  7.0  8.0"
      ]
     },
     "execution_count": 9,
     "metadata": {},
     "output_type": "execute_result"
    }
   ],
   "source": [
    "# making matrix w/ each entry as row+columns\n",
    "\n",
    "m,n = 5,5\n",
    "A = zeros(m,n)\n",
    "\n",
    "for i in 1:m\n",
    "    for j in 1:n\n",
    "        A[i,j] = i-1 + j-1 # matrix != 2D vector syntax\n",
    "    end\n",
    "end\n",
    "A"
   ]
  },
  {
   "cell_type": "code",
   "execution_count": 10,
   "id": "da6c3b02-2cac-4200-9fd2-ce4b4c300679",
   "metadata": {},
   "outputs": [
    {
     "data": {
      "text/plain": [
       "5×5 Matrix{Float64}:\n",
       " 0.0  1.0  2.0  3.0  4.0\n",
       " 1.0  2.0  3.0  4.0  5.0\n",
       " 2.0  3.0  4.0  5.0  6.0\n",
       " 3.0  4.0  5.0  6.0  7.0\n",
       " 4.0  5.0  6.0  7.0  8.0"
      ]
     },
     "execution_count": 10,
     "metadata": {},
     "output_type": "execute_result"
    }
   ],
   "source": [
    "# More julian way is to do it in one line\n",
    "B = zeros(m,n)\n",
    "for i in 1:m, j in 1:n\n",
    "        B[i,j] = i+j-2\n",
    "end\n",
    "B"
   ]
  },
  {
   "cell_type": "markdown",
   "id": "0310006f-798e-418c-9352-a7544eb6b552",
   "metadata": {},
   "source": [
    "#### **Array comprehensions**\n",
    "Just like python, use list comprehensions to be faster <br> They are not arranged slightly different are `ints` instead of `floats`\n"
   ]
  },
  {
   "cell_type": "code",
   "execution_count": 11,
   "id": "dadbf183-f6d8-496d-b247-8398f57a73bf",
   "metadata": {},
   "outputs": [
    {
     "data": {
      "text/plain": [
       "5×5 Matrix{Int64}:\n",
       " 0  1  2  3  4\n",
       " 1  2  3  4  5\n",
       " 2  3  4  5  6\n",
       " 3  4  5  6  7\n",
       " 4  5  6  7  8"
      ]
     },
     "execution_count": 11,
     "metadata": {},
     "output_type": "execute_result"
    }
   ],
   "source": [
    "B = [i+j-2 for i in 1:m, j in 1:n]"
   ]
  },
  {
   "cell_type": "code",
   "execution_count": 12,
   "id": "b1de4953-7e8a-477e-9ac3-d06cd1f3173c",
   "metadata": {},
   "outputs": [
    {
     "data": {
      "text/plain": [
       "8×8 Matrix{Int64}:\n",
       " 0  1  2   3   4   5   6   7\n",
       " 1  2  3   4   5   6   7   8\n",
       " 2  3  4   5   6   7   8   9\n",
       " 3  4  5   6   7   8   9  10\n",
       " 4  5  6   7   8   9  10  11\n",
       " 5  6  7   8   9  10  11  12\n",
       " 6  7  8   9  10  11  12  13\n",
       " 7  8  9  10  11  12  13  14"
      ]
     },
     "metadata": {},
     "output_type": "display_data"
    },
    {
     "data": {
      "text/plain": [
       "9×9 Matrix{Int64}:\n",
       " 0  1   2   3   4   5   6   7   8\n",
       " 1  2   3   4   5   6   7   8   9\n",
       " 2  3   4   5   6   7   8   9  10\n",
       " 3  4   5   6   7   8   9  10  11\n",
       " 4  5   6   7   8   9  10  11  12\n",
       " 5  6   7   8   9  10  11  12  13\n",
       " 6  7   8   9  10  11  12  13  14\n",
       " 7  8   9  10  11  12  13  14  15\n",
       " 8  9  10  11  12  13  14  15  16"
      ]
     },
     "metadata": {},
     "output_type": "display_data"
    },
    {
     "data": {
      "text/plain": [
       "10×10 Matrix{Int64}:\n",
       " 0   1   2   3   4   5   6   7   8   9\n",
       " 1   2   3   4   5   6   7   8   9  10\n",
       " 2   3   4   5   6   7   8   9  10  11\n",
       " 3   4   5   6   7   8   9  10  11  12\n",
       " 4   5   6   7   8   9  10  11  12  13\n",
       " 5   6   7   8   9  10  11  12  13  14\n",
       " 6   7   8   9  10  11  12  13  14  15\n",
       " 7   8   9  10  11  12  13  14  15  16\n",
       " 8   9  10  11  12  13  14  15  16  17\n",
       " 9  10  11  12  13  14  15  16  17  18"
      ]
     },
     "metadata": {},
     "output_type": "display_data"
    }
   ],
   "source": [
    "# combine all the above to an INCREASING square matrix\n",
    "for n in 8:10\n",
    "    A = [i+j-2 for i in 1:n, j in 1:n]\n",
    "    display(A)\n",
    "end"
   ]
  },
  {
   "cell_type": "markdown",
   "id": "6bad235e-a09b-448d-b2e1-8bdfb64ec336",
   "metadata": {
    "jp-MarkdownHeadingCollapsed": true,
    "tags": []
   },
   "source": [
    "### **Conditionals**\n",
    "we have `if`, `else`, `end`"
   ]
  },
  {
   "cell_type": "code",
   "execution_count": 13,
   "id": "c6e2e4e8-6811-493b-b234-4e94d3d00023",
   "metadata": {},
   "outputs": [
    {
     "name": "stdout",
     "output_type": "stream",
     "text": [
      "1 lame\n",
      "2 even\n",
      "3 lame\n",
      "4 even\n",
      "5 cool\n",
      "6 even\n",
      "7 lame\n",
      "8 even\n",
      "9 lame\n",
      "10 even\n"
     ]
    }
   ],
   "source": [
    "nums = [i for i in 1:10]\n",
    "\n",
    "for n in nums\n",
    "    if n%2==0 println(\"$n even\")\n",
    "    elseif n%5==0 println(\"$n cool\")\n",
    "    else println(\"$n lame\")\n",
    "    end\n",
    "end"
   ]
  },
  {
   "cell_type": "markdown",
   "id": "746ee275-aa42-44a7-a4bb-81e06ade8968",
   "metadata": {},
   "source": [
    "Just like array comprehension, we can use `ternary operator`"
   ]
  },
  {
   "cell_type": "code",
   "execution_count": 14,
   "id": "f3c35fb6-76bf-465b-add9-9509b3d89985",
   "metadata": {},
   "outputs": [
    {
     "name": "stdout",
     "output_type": "stream",
     "text": [
      "1 lame\n",
      "2 even\n",
      "3 lame\n",
      "4 even\n",
      "5 cool\n",
      "6 even\n",
      "7 lame\n",
      "8 even\n",
      "9 lame\n",
      "10 even\n"
     ]
    }
   ],
   "source": [
    "for n in nums\n",
    "    (n%2==0) ? println(\"$n even\") : \n",
    "            ((n%5==0) ? println(\"$n cool\") : println(\"$n lame\"))\n",
    "end"
   ]
  },
  {
   "cell_type": "markdown",
   "id": "40cd881f-ebc5-4cae-91ba-ada694b652ce",
   "metadata": {},
   "source": [
    "#### **binary operators** \n",
    "Same as cpp bc this is a professional language and not for kids"
   ]
  },
  {
   "cell_type": "code",
   "execution_count": 15,
   "id": "8f7e647a-5c6b-472c-ad70-04100762f330",
   "metadata": {},
   "outputs": [
    {
     "name": "stdout",
     "output_type": "stream",
     "text": [
      "true\n",
      "true\n",
      "false\n"
     ]
    }
   ],
   "source": [
    "println(true && true)\n",
    "println(true || false)\n",
    "println(true && (false || false))"
   ]
  },
  {
   "cell_type": "code",
   "execution_count": 133,
   "id": "7d87443a-8b28-40c4-923a-f954150a9173",
   "metadata": {},
   "outputs": [
    {
     "data": {
      "text/plain": [
       "MyObj(\"Hello\", \"World\")"
      ]
     },
     "execution_count": 133,
     "metadata": {},
     "output_type": "execute_result"
    }
   ],
   "source": [
    "struct MyObj\n",
    "    field1\n",
    "    field2\n",
    "end\n",
    "\n",
    "myobj1 = MyObj(\"Hello\", \"World\") # created the struct"
   ]
  },
  {
   "cell_type": "markdown",
   "id": "a2280443-fc57-44d0-a291-1fdf2472f6c8",
   "metadata": {},
   "source": [
    "The syntaxt is pretty close to C as shown above, the above has 2 fields in the struct. Structs are **Immutable** by default"
   ]
  },
  {
   "cell_type": "code",
   "execution_count": 134,
   "id": "b57f4ad2-a744-4eae-b2c0-bbfdf212e6b8",
   "metadata": {},
   "outputs": [
    {
     "data": {
      "text/plain": [
       "\"Hello\""
      ]
     },
     "execution_count": 134,
     "metadata": {},
     "output_type": "execute_result"
    }
   ],
   "source": [
    "myobj1.field1"
   ]
  },
  {
   "cell_type": "markdown",
   "id": "d6ce08b2-9faa-49fe-b036-a11f0b585e00",
   "metadata": {},
   "source": [
    "Can create out own **Mutable structs**"
   ]
  },
  {
   "cell_type": "code",
   "execution_count": null,
   "id": "c9d82c65-4f49-48e9-846b-907a27e091d8",
   "metadata": {},
   "outputs": [],
   "source": []
  },
  {
   "cell_type": "markdown",
   "id": "a69562cb-0b38-40ec-9593-926af09fcc94",
   "metadata": {
    "jp-MarkdownHeadingCollapsed": true,
    "tags": []
   },
   "source": [
    "### **Function**\n",
    "\n",
    "Need the keywords `function` and `end` and everything inside is declared as function \n",
    "#### **Multi dispatching**\n",
    "Can use `::` for multi dispatching where you can have multiple functions based on the parameter type"
   ]
  },
  {
   "cell_type": "code",
   "execution_count": 16,
   "id": "b31913be-6bd3-4ebf-b048-8ce097885147",
   "metadata": {},
   "outputs": [
    {
     "name": "stdout",
     "output_type": "stream",
     "text": [
      "hello Peter\n",
      "81\n"
     ]
    }
   ],
   "source": [
    "function do_shit(x::String)\n",
    "    println(\"hello $x\")\n",
    "end\n",
    "\n",
    "function do_shit(x::Int64)\n",
    "    println(x^2)\n",
    "end\n",
    "\n",
    "do_shit(\"Peter\")\n",
    "do_shit(9)"
   ]
  },
  {
   "cell_type": "markdown",
   "id": "75dc20d8-72fd-4dfe-b6f4-238e05c9b94a",
   "metadata": {},
   "source": [
    "#### **Lambda functions**\n",
    "\n",
    "Basically use an `->` to declare a function on the go with its parameter"
   ]
  },
  {
   "cell_type": "code",
   "execution_count": 17,
   "id": "953e2ec6-cbeb-45eb-85fb-51310fc4f5da",
   "metadata": {},
   "outputs": [
    {
     "name": "stdout",
     "output_type": "stream",
     "text": [
      "hi pushya\n"
     ]
    },
    {
     "data": {
      "text/plain": [
       "81"
      ]
     },
     "execution_count": 17,
     "metadata": {},
     "output_type": "execute_result"
    }
   ],
   "source": [
    "do_str = name -> println(\"hi $name\")\n",
    "do_num = x -> x^2\n",
    "\n",
    "do_str(\"pushya\")\n",
    "do_num(9)"
   ]
  },
  {
   "cell_type": "markdown",
   "id": "6f3fd83e-9126-4153-863a-8b75202e10fa",
   "metadata": {
    "jp-MarkdownHeadingCollapsed": true,
    "tags": []
   },
   "source": [
    "### **Duck typing**\n",
    "If it walks like a duck and it quacks like a duck ... it is a duck. <br> The parameter type does not matter but rather the behaviour of the parameter. checks if the object behaves like a certain type to perform an action"
   ]
  },
  {
   "cell_type": "code",
   "execution_count": 18,
   "id": "9e6e25bd-4e3f-45d2-9d31-fd0d1d0505bd",
   "metadata": {},
   "outputs": [
    {
     "name": "stdout",
     "output_type": "stream",
     "text": [
      "hi 1234\n"
     ]
    }
   ],
   "source": [
    "do_str(\"1234\")"
   ]
  },
  {
   "cell_type": "markdown",
   "id": "f8c31a59-470a-43fa-af27-d23d6106eb23",
   "metadata": {},
   "source": [
    "- Converts int to string and prints it with hi"
   ]
  },
  {
   "cell_type": "code",
   "execution_count": 19,
   "id": "aa164e43-5998-420e-8095-04fa9fbaad3a",
   "metadata": {},
   "outputs": [
    {
     "data": {
      "text/plain": [
       "3×3 Matrix{Float64}:\n",
       " 3.0  3.0  3.0\n",
       " 3.0  3.0  3.0\n",
       " 3.0  3.0  3.0"
      ]
     },
     "execution_count": 19,
     "metadata": {},
     "output_type": "execute_result"
    }
   ],
   "source": [
    "A = ones(3,3)\n",
    "do_num(A)"
   ]
  },
  {
   "cell_type": "markdown",
   "id": "30b42eaa-c771-4969-842a-459f5ed4f099",
   "metadata": {},
   "source": [
    "* multiplies matrix with itself"
   ]
  },
  {
   "cell_type": "markdown",
   "id": "1675939a-a0be-4cc4-9433-dac0c5a15891",
   "metadata": {
    "jp-MarkdownHeadingCollapsed": true,
    "tags": []
   },
   "source": [
    "### **Mutating VS Non Mutating**\n",
    "\n",
    "there are certain functions which return a type but don't mutate the parameter itself:"
   ]
  },
  {
   "cell_type": "code",
   "execution_count": null,
   "id": "e4dfb0e3-7bea-42d4-a9b9-990886a83b7b",
   "metadata": {},
   "outputs": [
    {
     "name": "stdout",
     "output_type": "stream",
     "text": [
      "[2, 3, 5]\n",
      "[3, 5, 2]\n"
     ]
    }
   ],
   "source": [
    "v = [3,5,2]\n",
    "println(sort(v))\n",
    "println(v)"
   ]
  },
  {
   "cell_type": "markdown",
   "id": "fc586711-19da-47bc-9b18-a8a068a74443",
   "metadata": {
    "jp-MarkdownHeadingCollapsed": true,
    "tags": []
   },
   "source": [
    "### **Broadcasting**\n",
    "By placing a . between any functions and its argument list, we tell that fucntion to broadcast it all elements of it"
   ]
  },
  {
   "cell_type": "code",
   "execution_count": 21,
   "id": "05f996c8-9349-423c-9242-64a756c65c54",
   "metadata": {},
   "outputs": [
    {
     "data": {
      "text/plain": [
       "5×5 Matrix{Int64}:\n",
       " 20  20  20  20  20\n",
       " 20  20  20  20  20\n",
       " 20  20  20  20  20\n",
       " 20  20  20  20  20\n",
       " 20  20  20  20  20"
      ]
     },
     "execution_count": 21,
     "metadata": {},
     "output_type": "execute_result"
    }
   ],
   "source": [
    "A = [2 for i in 1:m, j in 1:n]\n",
    "do_num(A) # matrix squared"
   ]
  },
  {
   "cell_type": "code",
   "execution_count": 22,
   "id": "83f6311b-2a05-4ce4-8c80-1075c3b3a786",
   "metadata": {},
   "outputs": [
    {
     "data": {
      "text/plain": [
       "5×5 Matrix{Int64}:\n",
       " 4  4  4  4  4\n",
       " 4  4  4  4  4\n",
       " 4  4  4  4  4\n",
       " 4  4  4  4  4\n",
       " 4  4  4  4  4"
      ]
     },
     "execution_count": 22,
     "metadata": {},
     "output_type": "execute_result"
    }
   ],
   "source": [
    "do_num.(A) # each element is multiplied"
   ]
  },
  {
   "cell_type": "markdown",
   "id": "cecc4988-0a33-49d7-9a99-7d63445308b8",
   "metadata": {},
   "source": [
    "- Main difference is that each first does matrix mult and the second does squaring on all elements "
   ]
  },
  {
   "cell_type": "markdown",
   "id": "21f27b4d-f5fd-47fe-9b42-3cc3d3244f6d",
   "metadata": {
    "jp-MarkdownHeadingCollapsed": true,
    "tags": []
   },
   "source": [
    "## **Structs** (More SWE than DSCI)\n",
    "\n",
    "It is not OOP but does have structs like C"
   ]
  },
  {
   "cell_type": "markdown",
   "id": "709335eb-a554-4626-a2be-bb7de2730a80",
   "metadata": {},
   "source": [
    "The syntax of the struct is pretty similar to C as we have seen. By default, they are **immutable**"
   ]
  },
  {
   "cell_type": "code",
   "execution_count": 138,
   "id": "5581e523-4c55-4735-9cec-8120ea25985b",
   "metadata": {},
   "outputs": [
    {
     "data": {
      "text/plain": [
       "\"Hello\""
      ]
     },
     "execution_count": 138,
     "metadata": {},
     "output_type": "execute_result"
    }
   ],
   "source": [
    "struct MyObj1\n",
    "    field1\n",
    "    field2\n",
    "end\n",
    "\n",
    "myobj1 = MyObj1(\"Hello\",123)\n",
    "myobj1.field1"
   ]
  },
  {
   "cell_type": "markdown",
   "id": "e95d5a19-0db0-49a3-97d1-b4c4035abc38",
   "metadata": {},
   "source": [
    "We can make them **immutable**"
   ]
  },
  {
   "cell_type": "code",
   "execution_count": 144,
   "id": "9810a0b9-6653-49e2-9ad9-12e38c2d69bb",
   "metadata": {},
   "outputs": [
    {
     "data": {
      "text/plain": [
       "12.4"
      ]
     },
     "execution_count": 144,
     "metadata": {},
     "output_type": "execute_result"
    }
   ],
   "source": [
    "mutable struct Person\n",
    "    name::String\n",
    "    age::Float64\n",
    "end\n",
    "\n",
    "person = Person(\"Hello\",12.4)\n",
    "person.age"
   ]
  },
  {
   "cell_type": "markdown",
   "id": "af06bc95-e235-4861-855a-c1bfa782c707",
   "metadata": {},
   "source": [
    "Can add function and other fields to the struct too. We can also have functions that work with structs too"
   ]
  },
  {
   "cell_type": "code",
   "execution_count": 150,
   "id": "061789f4-ee8c-423c-bcb9-74d3e4068216",
   "metadata": {},
   "outputs": [
    {
     "name": "stdout",
     "output_type": "stream",
     "text": [
      "Person1(\"logan\", 27.0, true)\n",
      "28.0\n"
     ]
    }
   ],
   "source": [
    "mutable struct Person1\n",
    "    name::String\n",
    "    age::Float64\n",
    "    isActive\n",
    "    \n",
    "    function Person1(name, age)\n",
    "        new(name, age, true) # this creates the object itself / constructor\n",
    "    end\n",
    "end\n",
    "\n",
    "logan = Person1(\"logan\", 27)\n",
    "println(logan)\n",
    "\n",
    "\n",
    "# function works with the new struct we created\n",
    "function birthday(person1::Person1)\n",
    "    person1.age += 1\n",
    "end\n",
    "birthday(logan)\n",
    "println(logan.age)"
   ]
  },
  {
   "cell_type": "markdown",
   "id": "4b3e4cbb-ec2b-4faa-bf04-20caa7b43ce5",
   "metadata": {
    "jp-MarkdownHeadingCollapsed": true,
    "tags": []
   },
   "source": [
    "\n",
    "\n",
    "## **Data analysis in Julia**\n",
    "These tools are mainly for data manipulations and are more intermediate skills with Julia\n",
    "\n"
   ]
  },
  {
   "cell_type": "code",
   "execution_count": null,
   "id": "dcbca679-0e2a-47a1-99e7-187ca8a7c002",
   "metadata": {},
   "outputs": [],
   "source": []
  },
  {
   "cell_type": "markdown",
   "id": "8218566a-1f14-49c3-9e31-12ffc22b97d3",
   "metadata": {},
   "source": [
    "### **Packages**\n",
    "Basically libraries"
   ]
  },
  {
   "cell_type": "code",
   "execution_count": 23,
   "id": "54bea752-6810-40fb-8bbe-dfe6b82cee36",
   "metadata": {},
   "outputs": [
    {
     "name": "stderr",
     "output_type": "stream",
     "text": [
      "\u001b[32m\u001b[1m    Updating\u001b[22m\u001b[39m registry at `C:\\Users\\Pushya Jain\\.julia\\registries\\General.toml`\n",
      "\u001b[32m\u001b[1m   Resolving\u001b[22m\u001b[39m package versions...\n",
      "\u001b[32m\u001b[1m  No Changes\u001b[22m\u001b[39m to `C:\\Users\\Pushya Jain\\.julia\\environments\\v1.9\\Project.toml`\n",
      "\u001b[32m\u001b[1m  No Changes\u001b[22m\u001b[39m to `C:\\Users\\Pushya Jain\\.julia\\environments\\v1.9\\Manifest.toml`\n"
     ]
    }
   ],
   "source": [
    "using Pkg \n",
    "Pkg.add(\"Colors\")"
   ]
  },
  {
   "cell_type": "code",
   "execution_count": 24,
   "id": "7b8be424-1d57-434a-b447-835a4510b1b4",
   "metadata": {},
   "outputs": [
    {
     "data": {
      "image/svg+xml": [
       "<?xml version=\"1.0\" encoding=\"UTF-8\"?>\n",
       "<!DOCTYPE svg PUBLIC \"-//W3C//DTD SVG 1.1//EN\"\n",
       " \"http://www.w3.org/Graphics/SVG/1.1/DTD/svg11.dtd\">\n",
       "<svg xmlns=\"http://www.w3.org/2000/svg\" version=\"1.1\"\n",
       "     width=\"180mm\" height=\"25mm\"\n",
       "     viewBox=\"0 0 100 1\" preserveAspectRatio=\"none\"\n",
       "     shape-rendering=\"crispEdges\" stroke=\"none\">\n",
       "<rect width=\"1\" height=\".96\" x=\"0\" y=\"0\" fill=\"#000000\" />\n",
       "<rect width=\"1\" height=\".96\" x=\"1\" y=\"0\" fill=\"#FFFF74\" />\n",
       "<rect width=\"1\" height=\".96\" x=\"2\" y=\"0\" fill=\"#FF9BFF\" />\n",
       "<rect width=\"1\" height=\".96\" x=\"3\" y=\"0\" fill=\"#00D3FF\" />\n",
       "<rect width=\"1\" height=\".96\" x=\"4\" y=\"0\" fill=\"#E2630D\" />\n",
       "<rect width=\"1\" height=\".96\" x=\"5\" y=\"0\" fill=\"#007E00\" />\n",
       "<rect width=\"1\" height=\".96\" x=\"6\" y=\"0\" fill=\"#0050E6\" />\n",
       "<rect width=\"1\" height=\".96\" x=\"7\" y=\"0\" fill=\"#AC0047\" />\n",
       "<rect width=\"1\" height=\".96\" x=\"8\" y=\"0\" fill=\"#00FFC8\" />\n",
       "<rect width=\"1\" height=\".96\" x=\"9\" y=\"0\" fill=\"#006468\" />\n",
       "<rect width=\"1\" height=\".96\" x=\"10\" y=\"0\" fill=\"#FFD5C4\" />\n",
       "<rect width=\"1\" height=\".96\" x=\"11\" y=\"0\" fill=\"#6C5200\" />\n",
       "<rect width=\"1\" height=\".96\" x=\"12\" y=\"0\" fill=\"#7A7581\" />\n",
       "<rect width=\"1\" height=\".96\" x=\"13\" y=\"0\" fill=\"#44005C\" />\n",
       "<rect width=\"1\" height=\".96\" x=\"14\" y=\"0\" fill=\"#9E9E77\" />\n",
       "<rect width=\"1\" height=\".96\" x=\"15\" y=\"0\" fill=\"#FF5C78\" />\n",
       "<rect width=\"1\" height=\".96\" x=\"16\" y=\"0\" fill=\"#8197F1\" />\n",
       "<rect width=\"1\" height=\".96\" x=\"17\" y=\"0\" fill=\"#003200\" />\n",
       "<rect width=\"1\" height=\".96\" x=\"18\" y=\"0\" fill=\"#C721DD\" />\n",
       "<rect width=\"1\" height=\".96\" x=\"19\" y=\"0\" fill=\"#FFAD07\" />\n",
       "<rect width=\"1\" height=\".96\" x=\"20\" y=\"0\" fill=\"#611C00\" />\n",
       "<rect width=\"1\" height=\".96\" x=\"21\" y=\"0\" fill=\"#F3FFFA\" />\n",
       "<rect width=\"1\" height=\".96\" x=\"22\" y=\"0\" fill=\"#009E88\" />\n",
       "<rect width=\"1\" height=\".96\" x=\"23\" y=\"0\" fill=\"#5EC700\" />\n",
       "<rect width=\"1\" height=\".96\" x=\"24\" y=\"0\" fill=\"#002D54\" />\n",
       "<rect width=\"1\" height=\".96\" x=\"25\" y=\"0\" fill=\"#553C4A\" />\n",
       "<rect width=\"1\" height=\".96\" x=\"26\" y=\"0\" fill=\"#444439\" />\n",
       "<rect width=\"1\" height=\".96\" x=\"27\" y=\"0\" fill=\"#008FB6\" />\n",
       "<rect width=\"1\" height=\".96\" x=\"28\" y=\"0\" fill=\"#CFD4FD\" />\n",
       "<rect width=\"1\" height=\".96\" x=\"29\" y=\"0\" fill=\"#C40000\" />\n",
       "<rect width=\"1\" height=\".96\" x=\"30\" y=\"0\" fill=\"#A4675C\" />\n",
       "<rect width=\"1\" height=\".96\" x=\"31\" y=\"0\" fill=\"#BB8FA8\" />\n",
       "<rect width=\"1\" height=\".96\" x=\"32\" y=\"0\" fill=\"#290001\" />\n",
       "<rect width=\"1\" height=\".96\" x=\"33\" y=\"0\" fill=\"#A78600\" />\n",
       "<rect width=\"1\" height=\".96\" x=\"34\" y=\"0\" fill=\"#002D30\" />\n",
       "<rect width=\"1\" height=\".96\" x=\"35\" y=\"0\" fill=\"#C7DEAA\" />\n",
       "<rect width=\"1\" height=\".96\" x=\"36\" y=\"0\" fill=\"#8D9FA3\" />\n",
       "<rect width=\"1\" height=\".96\" x=\"37\" y=\"0\" fill=\"#6F5B95\" />\n",
       "<rect width=\"1\" height=\".96\" x=\"38\" y=\"0\" fill=\"#A1FFFF\" />\n",
       "<rect width=\"1\" height=\".96\" x=\"39\" y=\"0\" fill=\"#B39688\" />\n",
       "<rect width=\"1\" height=\".96\" x=\"40\" y=\"0\" fill=\"#4E6D50\" />\n",
       "<rect width=\"1\" height=\".96\" x=\"41\" y=\"0\" fill=\"#FF977B\" />\n",
       "<rect width=\"1\" height=\".96\" x=\"42\" y=\"0\" fill=\"#FFD1EC\" />\n",
       "<rect width=\"1\" height=\".96\" x=\"43\" y=\"0\" fill=\"#9E5100\" />\n",
       "<rect width=\"1\" height=\".96\" x=\"44\" y=\"0\" fill=\"#AE5B8E\" />\n",
       "<rect width=\"1\" height=\".96\" x=\"45\" y=\"0\" fill=\"#799400\" />\n",
       "<rect width=\"1\" height=\".96\" x=\"46\" y=\"0\" fill=\"#362200\" />\n",
       "<rect width=\"1\" height=\".96\" x=\"47\" y=\"0\" fill=\"#0E0026\" />\n",
       "<rect width=\"1\" height=\".96\" x=\"48\" y=\"0\" fill=\"#80765F\" />\n",
       "<rect width=\"1\" height=\".96\" x=\"49\" y=\"0\" fill=\"#485C00\" />\n",
       "<rect width=\"1\" height=\".96\" x=\"50\" y=\"0\" fill=\"#C8C2B5\" />\n",
       "<rect width=\"1\" height=\".96\" x=\"51\" y=\"0\" fill=\"#8800A1\" />\n",
       "<rect width=\"1\" height=\".96\" x=\"52\" y=\"0\" fill=\"#00A853\" />\n",
       "<rect width=\"1\" height=\".96\" x=\"53\" y=\"0\" fill=\"#FFE1AA\" />\n",
       "<rect width=\"1\" height=\".96\" x=\"54\" y=\"0\" fill=\"#674F42\" />\n",
       "<rect width=\"1\" height=\".96\" x=\"55\" y=\"0\" fill=\"#FF342D\" />\n",
       "<rect width=\"1\" height=\".96\" x=\"56\" y=\"0\" fill=\"#6B0041\" />\n",
       "<rect width=\"1\" height=\".96\" x=\"57\" y=\"0\" fill=\"#0806B1\" />\n",
       "<rect width=\"1\" height=\".96\" x=\"58\" y=\"0\" fill=\"#986DFF\" />\n",
       "<rect width=\"1\" height=\".96\" x=\"59\" y=\"0\" fill=\"#FF4EC7\" />\n",
       "<rect width=\"1\" height=\".96\" x=\"60\" y=\"0\" fill=\"#8AB9A2\" />\n",
       "<rect width=\"1\" height=\".96\" x=\"61\" y=\"0\" fill=\"#2EFF71\" />\n",
       "<rect width=\"1\" height=\".96\" x=\"62\" y=\"0\" fill=\"#005577\" />\n",
       "<rect width=\"1\" height=\".96\" x=\"63\" y=\"0\" fill=\"#0078E3\" />\n",
       "<rect width=\"1\" height=\".96\" x=\"64\" y=\"0\" fill=\"#B2ADB9\" />\n",
       "<rect width=\"1\" height=\".96\" x=\"65\" y=\"0\" fill=\"#00C3C6\" />\n",
       "<rect width=\"1\" height=\".96\" x=\"66\" y=\"0\" fill=\"#00AEFF\" />\n",
       "<rect width=\"1\" height=\".96\" x=\"67\" y=\"0\" fill=\"#4E545F\" />\n",
       "<rect width=\"1\" height=\".96\" x=\"68\" y=\"0\" fill=\"#FF9BB0\" />\n",
       "<rect width=\"1\" height=\".96\" x=\"69\" y=\"0\" fill=\"#FED206\" />\n",
       "<rect width=\"1\" height=\".96\" x=\"70\" y=\"0\" fill=\"#687B7A\" />\n",
       "<rect width=\"1\" height=\".96\" x=\"71\" y=\"0\" fill=\"#B1DCFC\" />\n",
       "<rect width=\"1\" height=\".96\" x=\"72\" y=\"0\" fill=\"#FFF6FF\" />\n",
       "<rect width=\"1\" height=\".96\" x=\"73\" y=\"0\" fill=\"#620019\" />\n",
       "<rect width=\"1\" height=\".96\" x=\"74\" y=\"0\" fill=\"#C79253\" />\n",
       "<rect width=\"1\" height=\".96\" x=\"75\" y=\"0\" fill=\"#A891CF\" />\n",
       "<rect width=\"1\" height=\".96\" x=\"76\" y=\"0\" fill=\"#EF007A\" />\n",
       "<rect width=\"1\" height=\".96\" x=\"77\" y=\"0\" fill=\"#B8CE00\" />\n",
       "<rect width=\"1\" height=\".96\" x=\"78\" y=\"0\" fill=\"#001700\" />\n",
       "<rect width=\"1\" height=\".96\" x=\"79\" y=\"0\" fill=\"#204B39\" />\n",
       "<rect width=\"1\" height=\".96\" x=\"80\" y=\"0\" fill=\"#875866\" />\n",
       "<rect width=\"1\" height=\".96\" x=\"81\" y=\"0\" fill=\"#B5FF4E\" />\n",
       "<rect width=\"1\" height=\".96\" x=\"82\" y=\"0\" fill=\"#B40080\" />\n",
       "<rect width=\"1\" height=\".96\" x=\"83\" y=\"0\" fill=\"#853F34\" />\n",
       "<rect width=\"1\" height=\".96\" x=\"84\" y=\"0\" fill=\"#69936B\" />\n",
       "<rect width=\"1\" height=\".96\" x=\"85\" y=\"0\" fill=\"#FFBC80\" />\n",
       "<rect width=\"1\" height=\".96\" x=\"86\" y=\"0\" fill=\"#4C3779\" />\n",
       "<rect width=\"1\" height=\".96\" x=\"87\" y=\"0\" fill=\"#323606\" />\n",
       "<rect width=\"1\" height=\".96\" x=\"88\" y=\"0\" fill=\"#008E94\" />\n",
       "<rect width=\"1\" height=\".96\" x=\"89\" y=\"0\" fill=\"#CAAC51\" />\n",
       "<rect width=\"1\" height=\".96\" x=\"90\" y=\"0\" fill=\"#787B3B\" />\n",
       "<rect width=\"1\" height=\".96\" x=\"91\" y=\"0\" fill=\"#B6F9D9\" />\n",
       "<rect width=\"1\" height=\".96\" x=\"92\" y=\"0\" fill=\"#DA003F\" />\n",
       "<rect width=\"1\" height=\".96\" x=\"93\" y=\"0\" fill=\"#2E2124\" />\n",
       "<rect width=\"1\" height=\".96\" x=\"94\" y=\"0\" fill=\"#005815\" />\n",
       "<rect width=\"1\" height=\".96\" x=\"95\" y=\"0\" fill=\"#FF8E1D\" />\n",
       "<rect width=\"1\" height=\".96\" x=\"96\" y=\"0\" fill=\"#6674B1\" />\n",
       "<rect width=\"1\" height=\".96\" x=\"97\" y=\"0\" fill=\"#00CDAD\" />\n",
       "<rect width=\"1\" height=\".96\" x=\"98\" y=\"0\" fill=\"#007F63\" />\n",
       "<rect width=\"1\" height=\".96\" x=\"99\" y=\"0\" fill=\"#996F3D\" />\n",
       "</svg>"
      ],
      "text/plain": [
       "100-element Array{RGB{N0f8},1} with eltype RGB{FixedPointNumbers.N0f8}:\n",
       " RGB{N0f8}(0.0,0.0,0.0)\n",
       " RGB{N0f8}(1.0,1.0,0.455)\n",
       " RGB{N0f8}(1.0,0.608,1.0)\n",
       " RGB{N0f8}(0.0,0.827,1.0)\n",
       " RGB{N0f8}(0.886,0.388,0.051)\n",
       " RGB{N0f8}(0.0,0.494,0.0)\n",
       " RGB{N0f8}(0.0,0.314,0.902)\n",
       " RGB{N0f8}(0.675,0.0,0.278)\n",
       " RGB{N0f8}(0.0,1.0,0.784)\n",
       " RGB{N0f8}(0.0,0.392,0.408)\n",
       " RGB{N0f8}(1.0,0.835,0.769)\n",
       " RGB{N0f8}(0.424,0.322,0.0)\n",
       " RGB{N0f8}(0.478,0.459,0.506)\n",
       " ⋮\n",
       " RGB{N0f8}(0.0,0.557,0.58)\n",
       " RGB{N0f8}(0.792,0.675,0.318)\n",
       " RGB{N0f8}(0.471,0.482,0.231)\n",
       " RGB{N0f8}(0.714,0.976,0.851)\n",
       " RGB{N0f8}(0.855,0.0,0.247)\n",
       " RGB{N0f8}(0.18,0.129,0.141)\n",
       " RGB{N0f8}(0.0,0.345,0.082)\n",
       " RGB{N0f8}(1.0,0.557,0.114)\n",
       " RGB{N0f8}(0.4,0.455,0.694)\n",
       " RGB{N0f8}(0.0,0.804,0.678)\n",
       " RGB{N0f8}(0.0,0.498,0.388)\n",
       " RGB{N0f8}(0.6,0.435,0.239)"
      ]
     },
     "execution_count": 24,
     "metadata": {},
     "output_type": "execute_result"
    }
   ],
   "source": [
    "using Colors\n",
    "palette = distinguishable_colors(100)"
   ]
  },
  {
   "cell_type": "markdown",
   "id": "c97834dd-ab8a-4108-9903-cd0a1d738d89",
   "metadata": {},
   "source": [
    "We can work with other packages and our built in functions tooo as following"
   ]
  },
  {
   "cell_type": "code",
   "execution_count": 25,
   "id": "81477a0f-8639-4c3e-8a47-2623b56514f3",
   "metadata": {},
   "outputs": [
    {
     "data": {
      "image/svg+xml": [
       "<?xml version=\"1.0\" encoding=\"UTF-8\"?>\n",
       "<!DOCTYPE svg PUBLIC \"-//W3C//DTD SVG 1.1//EN\"\n",
       " \"http://www.w3.org/Graphics/SVG/1.1/DTD/svg11.dtd\">\n",
       "<svg xmlns=\"http://www.w3.org/2000/svg\" version=\"1.1\"\n",
       "     width=\"75mm\" height=\"75mm\"\n",
       "     viewBox=\"0 0 3 3\" preserveAspectRatio=\"none\"\n",
       "     shape-rendering=\"crispEdges\" stroke=\"none\">\n",
       "<rect width=\".96\" height=\".96\" x=\"0\" y=\"0\" fill=\"#A891CF\" />\n",
       "<rect width=\".96\" height=\".96\" x=\"1\" y=\"0\" fill=\"#8D9FA3\" />\n",
       "<rect width=\".96\" height=\".96\" x=\"2\" y=\"0\" fill=\"#69936B\" />\n",
       "<rect width=\".96\" height=\".96\" x=\"0\" y=\"1\" fill=\"#AC0047\" />\n",
       "<rect width=\".96\" height=\".96\" x=\"1\" y=\"1\" fill=\"#FF9BFF\" />\n",
       "<rect width=\".96\" height=\".96\" x=\"2\" y=\"1\" fill=\"#787B3B\" />\n",
       "<rect width=\".96\" height=\".96\" x=\"0\" y=\"2\" fill=\"#799400\" />\n",
       "<rect width=\".96\" height=\".96\" x=\"1\" y=\"2\" fill=\"#003200\" />\n",
       "<rect width=\".96\" height=\".96\" x=\"2\" y=\"2\" fill=\"#003200\" />\n",
       "</svg>"
      ],
      "text/plain": [
       "3×3 Array{RGB{N0f8},2} with eltype RGB{FixedPointNumbers.N0f8}:\n",
       " RGB{N0f8}(0.659,0.569,0.812)  …  RGB{N0f8}(0.412,0.576,0.42)\n",
       " RGB{N0f8}(0.675,0.0,0.278)       RGB{N0f8}(0.471,0.482,0.231)\n",
       " RGB{N0f8}(0.475,0.58,0.0)        RGB{N0f8}(0.0,0.196,0.0)"
      ]
     },
     "execution_count": 25,
     "metadata": {},
     "output_type": "execute_result"
    }
   ],
   "source": [
    "rand(palette, 3, 3)"
   ]
  },
  {
   "cell_type": "markdown",
   "id": "ba68dc03-93c0-4ed3-b9d4-54ba4ce9f718",
   "metadata": {},
   "source": [
    "### **Plotting**\n",
    "We will be using Plots.jl pkg here, we will first make a basic plot and then we can make it slightly fancy if we \n",
    "- add labels\n",
    "- add title\n",
    "- flip the x axis "
   ]
  },
  {
   "cell_type": "code",
   "execution_count": 26,
   "id": "41bb40a8-9119-445c-889f-1b22d4478fb3",
   "metadata": {},
   "outputs": [
    {
     "name": "stderr",
     "output_type": "stream",
     "text": [
      "\u001b[32m\u001b[1m   Resolving\u001b[22m\u001b[39m package versions...\n",
      "\u001b[32m\u001b[1m  No Changes\u001b[22m\u001b[39m to `C:\\Users\\Pushya Jain\\.julia\\environments\\v1.9\\Project.toml`\n",
      "\u001b[32m\u001b[1m  No Changes\u001b[22m\u001b[39m to `C:\\Users\\Pushya Jain\\.julia\\environments\\v1.9\\Manifest.toml`\n"
     ]
    }
   ],
   "source": [
    "Pkg.add(\"Plots\")\n",
    "using Plots"
   ]
  },
  {
   "cell_type": "code",
   "execution_count": 27,
   "id": "ee178c4c-8b41-49db-832c-c46f083be7b2",
   "metadata": {},
   "outputs": [
    {
     "data": {
      "text/plain": [
       "61"
      ]
     },
     "execution_count": 27,
     "metadata": {},
     "output_type": "execute_result"
    }
   ],
   "source": [
    "#creating synthetic data from -3 to 3 @0.1\n",
    "x = -3:0.1:3\n",
    "f(x) = x^2\n",
    "\n",
    "y=f.(x)\n",
    "length(y)"
   ]
  },
  {
   "cell_type": "code",
   "execution_count": 28,
   "id": "87003915-57c4-4559-896d-3f26283b57b9",
   "metadata": {},
   "outputs": [
    {
     "data": {
      "text/plain": [
       "Plots.GRBackend()"
      ]
     },
     "execution_count": 28,
     "metadata": {},
     "output_type": "execute_result"
    }
   ],
   "source": [
    "gr()"
   ]
  },
  {
   "cell_type": "code",
   "execution_count": 29,
   "id": "5d1fa2e3-695e-48dd-b08a-8879a9f8d4c4",
   "metadata": {},
   "outputs": [
    {
     "data": {
      "image/png": "[encoded data removed]",
      "image/svg+xml": [
       "<?xml version=\"1.0\" encoding=\"utf-8\"?>\n",
       "<svg xmlns=\"http://www.w3.org/2000/svg\" xmlns:xlink=\"http://www.w3.org/1999/xlink\" width=\"600\" height=\"400\" viewBox=\"0 0 2400 1600\">\n",
       "<defs>\n",
       "  <clipPath id=\"clip080\">\n",
       "    <rect x=\"0\" y=\"0\" width=\"2400\" height=\"1600\"/>\n",
       "  </clipPath>\n",
       "</defs>\n",
       "<path clip-path=\"url(#clip080)\" d=\"M0 1600 L2400 1600 L2400 0 L0 0  Z\" fill=\"#ffffff\" fill-rule=\"evenodd\" fill-opacity=\"1\"/>\n",
       "<defs>\n",
       "  <clipPath id=\"clip081\">\n",
       "    <rect x=\"480\" y=\"0\" width=\"1681\" height=\"1600\"/>\n",
       "  </clipPath>\n",
       "</defs>\n",
       "<path clip-path=\"url(#clip080)\" d=\"M175.445 1423.18 L2352.76 1423.18 L2352.76 123.472 L175.445 123.472  Z\" fill=\"#ffffff\" fill-rule=\"evenodd\" fill-opacity=\"1\"/>\n",
       "<defs>\n",
       "  <clipPath id=\"clip082\">\n",
       "    <rect x=\"175\" y=\"123\" width=\"2178\" height=\"1301\"/>\n",
       "  </clipPath>\n",
       "</defs>\n",
       "<polyline clip-path=\"url(#clip082)\" style=\"stroke:#000000; stroke-linecap:round; stroke-linejoin:round; stroke-width:2; stroke-opacity:0.1; fill:none\" points=\"2291.13,1423.18 2291.13,123.472 \"/>\n",
       "<polyline clip-path=\"url(#clip082)\" style=\"stroke:#000000; stroke-linecap:round; stroke-linejoin:round; stroke-width:2; stroke-opacity:0.1; fill:none\" points=\"1948.79,1423.18 1948.79,123.472 \"/>\n",
       "<polyline clip-path=\"url(#clip082)\" style=\"stroke:#000000; stroke-linecap:round; stroke-linejoin:round; stroke-width:2; stroke-opacity:0.1; fill:none\" points=\"1606.45,1423.18 1606.45,123.472 \"/>\n",
       "<polyline clip-path=\"url(#clip082)\" style=\"stroke:#000000; stroke-linecap:round; stroke-linejoin:round; stroke-width:2; stroke-opacity:0.1; fill:none\" points=\"1264.1,1423.18 1264.1,123.472 \"/>\n",
       "<polyline clip-path=\"url(#clip082)\" style=\"stroke:#000000; stroke-linecap:round; stroke-linejoin:round; stroke-width:2; stroke-opacity:0.1; fill:none\" points=\"921.756,1423.18 921.756,123.472 \"/>\n",
       "<polyline clip-path=\"url(#clip082)\" style=\"stroke:#000000; stroke-linecap:round; stroke-linejoin:round; stroke-width:2; stroke-opacity:0.1; fill:none\" points=\"579.412,1423.18 579.412,123.472 \"/>\n",
       "<polyline clip-path=\"url(#clip082)\" style=\"stroke:#000000; stroke-linecap:round; stroke-linejoin:round; stroke-width:2; stroke-opacity:0.1; fill:none\" points=\"237.067,1423.18 237.067,123.472 \"/>\n",
       "<polyline clip-path=\"url(#clip080)\" style=\"stroke:#000000; stroke-linecap:round; stroke-linejoin:round; stroke-width:4; stroke-opacity:1; fill:none\" points=\"2352.76,1423.18 175.445,1423.18 \"/>\n",
       "<polyline clip-path=\"url(#clip080)\" style=\"stroke:#000000; stroke-linecap:round; stroke-linejoin:round; stroke-width:4; stroke-opacity:1; fill:none\" points=\"2291.13,1423.18 2291.13,1404.28 \"/>\n",
       "<polyline clip-path=\"url(#clip080)\" style=\"stroke:#000000; stroke-linecap:round; stroke-linejoin:round; stroke-width:4; stroke-opacity:1; fill:none\" points=\"1948.79,1423.18 1948.79,1404.28 \"/>\n",
       "<polyline clip-path=\"url(#clip080)\" style=\"stroke:#000000; stroke-linecap:round; stroke-linejoin:round; stroke-width:4; stroke-opacity:1; fill:none\" points=\"1606.45,1423.18 1606.45,1404.28 \"/>\n",
       "<polyline clip-path=\"url(#clip080)\" style=\"stroke:#000000; stroke-linecap:round; stroke-linejoin:round; stroke-width:4; stroke-opacity:1; fill:none\" points=\"1264.1,1423.18 1264.1,1404.28 \"/>\n",
       "<polyline clip-path=\"url(#clip080)\" style=\"stroke:#000000; stroke-linecap:round; stroke-linejoin:round; stroke-width:4; stroke-opacity:1; fill:none\" points=\"921.756,1423.18 921.756,1404.28 \"/>\n",
       "<polyline clip-path=\"url(#clip080)\" style=\"stroke:#000000; stroke-linecap:round; stroke-linejoin:round; stroke-width:4; stroke-opacity:1; fill:none\" points=\"579.412,1423.18 579.412,1404.28 \"/>\n",
       "<polyline clip-path=\"url(#clip080)\" style=\"stroke:#000000; stroke-linecap:round; stroke-linejoin:round; stroke-width:4; stroke-opacity:1; fill:none\" points=\"237.067,1423.18 237.067,1404.28 \"/>\n",
       "<path clip-path=\"url(#clip080)\" d=\"M2260.6 1468.75 L2290.28 1468.75 L2290.28 1472.69 L2260.6 1472.69 L2260.6 1468.75 Z\" fill=\"#000000\" fill-rule=\"nonzero\" fill-opacity=\"1\" /><path clip-path=\"url(#clip080)\" d=\"M2314.54 1466.95 Q2317.89 1467.66 2319.77 1469.93 Q2321.67 1472.2 2321.67 1475.53 Q2321.67 1480.65 2318.15 1483.45 Q2314.63 1486.25 2308.15 1486.25 Q2305.97 1486.25 2303.66 1485.81 Q2301.37 1485.39 2298.91 1484.54 L2298.91 1480.02 Q2300.86 1481.16 2303.17 1481.74 Q2305.49 1482.32 2308.01 1482.32 Q2312.41 1482.32 2314.7 1480.58 Q2317.01 1478.84 2317.01 1475.53 Q2317.01 1472.48 2314.86 1470.77 Q2312.73 1469.03 2308.91 1469.03 L2304.88 1469.03 L2304.88 1465.19 L2309.1 1465.19 Q2312.55 1465.19 2314.37 1463.82 Q2316.2 1462.43 2316.2 1459.84 Q2316.2 1457.18 2314.31 1455.77 Q2312.43 1454.33 2308.91 1454.33 Q2306.99 1454.33 2304.79 1454.75 Q2302.59 1455.16 2299.95 1456.04 L2299.95 1451.88 Q2302.62 1451.14 2304.93 1450.77 Q2307.27 1450.39 2309.33 1450.39 Q2314.65 1450.39 2317.75 1452.83 Q2320.86 1455.23 2320.86 1459.35 Q2320.86 1462.22 2319.21 1464.21 Q2317.57 1466.18 2314.54 1466.95 Z\" fill=\"#000000\" fill-rule=\"nonzero\" fill-opacity=\"1\" /><path clip-path=\"url(#clip080)\" d=\"M1918.73 1468.75 L1948.41 1468.75 L1948.41 1472.69 L1918.73 1472.69 L1918.73 1468.75 Z\" fill=\"#000000\" fill-rule=\"nonzero\" fill-opacity=\"1\" /><path clip-path=\"url(#clip080)\" d=\"M1962.53 1481.64 L1978.85 1481.64 L1978.85 1485.58 L1956.9 1485.58 L1956.9 1481.64 Q1959.56 1478.89 1964.15 1474.26 Q1968.75 1469.61 1969.94 1468.27 Q1972.18 1465.74 1973.06 1464.01 Q1973.96 1462.25 1973.96 1460.56 Q1973.96 1457.8 1972.02 1456.07 Q1970.1 1454.33 1967 1454.33 Q1964.8 1454.33 1962.34 1455.09 Q1959.91 1455.86 1957.13 1457.41 L1957.13 1452.69 Q1959.96 1451.55 1962.41 1450.97 Q1964.87 1450.39 1966.9 1450.39 Q1972.27 1450.39 1975.47 1453.08 Q1978.66 1455.77 1978.66 1460.26 Q1978.66 1462.39 1977.85 1464.31 Q1977.06 1466.2 1974.96 1468.8 Q1974.38 1469.47 1971.28 1472.69 Q1968.18 1475.88 1962.53 1481.64 Z\" fill=\"#000000\" fill-rule=\"nonzero\" fill-opacity=\"1\" /><path clip-path=\"url(#clip080)\" d=\"M1576.2 1468.75 L1605.88 1468.75 L1605.88 1472.69 L1576.2 1472.69 L1576.2 1468.75 Z\" fill=\"#000000\" fill-rule=\"nonzero\" fill-opacity=\"1\" /><path clip-path=\"url(#clip080)\" d=\"M1616.78 1481.64 L1624.42 1481.64 L1624.42 1455.28 L1616.11 1456.95 L1616.11 1452.69 L1624.37 1451.02 L1629.05 1451.02 L1629.05 1481.64 L1636.69 1481.64 L1636.69 1485.58 L1616.78 1485.58 L1616.78 1481.64 Z\" fill=\"#000000\" fill-rule=\"nonzero\" fill-opacity=\"1\" /><path clip-path=\"url(#clip080)\" d=\"M1264.1 1454.1 Q1260.49 1454.1 1258.66 1457.66 Q1256.86 1461.2 1256.86 1468.33 Q1256.86 1475.44 1258.66 1479.01 Q1260.49 1482.55 1264.1 1482.55 Q1267.73 1482.55 1269.54 1479.01 Q1271.37 1475.44 1271.37 1468.33 Q1271.37 1461.2 1269.54 1457.66 Q1267.73 1454.1 1264.1 1454.1 M1264.1 1450.39 Q1269.91 1450.39 1272.97 1455 Q1276.04 1459.58 1276.04 1468.33 Q1276.04 1477.06 1272.97 1481.67 Q1269.91 1486.25 1264.1 1486.25 Q1258.29 1486.25 1255.21 1481.67 Q1252.16 1477.06 1252.16 1468.33 Q1252.16 1459.58 1255.21 1455 Q1258.29 1450.39 1264.1 1450.39 Z\" fill=\"#000000\" fill-rule=\"nonzero\" fill-opacity=\"1\" /><path clip-path=\"url(#clip080)\" d=\"M912.138 1481.64 L919.777 1481.64 L919.777 1455.28 L911.467 1456.95 L911.467 1452.69 L919.731 1451.02 L924.407 1451.02 L924.407 1481.64 L932.045 1481.64 L932.045 1485.58 L912.138 1485.58 L912.138 1481.64 Z\" fill=\"#000000\" fill-rule=\"nonzero\" fill-opacity=\"1\" /><path clip-path=\"url(#clip080)\" d=\"M574.064 1481.64 L590.384 1481.64 L590.384 1485.58 L568.439 1485.58 L568.439 1481.64 Q571.102 1478.89 575.685 1474.26 Q580.291 1469.61 581.472 1468.27 Q583.717 1465.74 584.597 1464.01 Q585.5 1462.25 585.5 1460.56 Q585.5 1457.8 583.555 1456.07 Q581.634 1454.33 578.532 1454.33 Q576.333 1454.33 573.879 1455.09 Q571.449 1455.86 568.671 1457.41 L568.671 1452.69 Q571.495 1451.55 573.949 1450.97 Q576.402 1450.39 578.439 1450.39 Q583.81 1450.39 587.004 1453.08 Q590.199 1455.77 590.199 1460.26 Q590.199 1462.39 589.388 1464.31 Q588.601 1466.2 586.495 1468.8 Q585.916 1469.47 582.814 1472.69 Q579.713 1475.88 574.064 1481.64 Z\" fill=\"#000000\" fill-rule=\"nonzero\" fill-opacity=\"1\" /><path clip-path=\"url(#clip080)\" d=\"M241.315 1466.95 Q244.671 1467.66 246.546 1469.93 Q248.444 1472.2 248.444 1475.53 Q248.444 1480.65 244.926 1483.45 Q241.407 1486.25 234.926 1486.25 Q232.75 1486.25 230.435 1485.81 Q228.144 1485.39 225.69 1484.54 L225.69 1480.02 Q227.634 1481.16 229.949 1481.74 Q232.264 1482.32 234.787 1482.32 Q239.185 1482.32 241.477 1480.58 Q243.792 1478.84 243.792 1475.53 Q243.792 1472.48 241.639 1470.77 Q239.509 1469.03 235.69 1469.03 L231.662 1469.03 L231.662 1465.19 L235.875 1465.19 Q239.324 1465.19 241.153 1463.82 Q242.982 1462.43 242.982 1459.84 Q242.982 1457.18 241.083 1455.77 Q239.208 1454.33 235.69 1454.33 Q233.769 1454.33 231.57 1454.75 Q229.37 1455.16 226.732 1456.04 L226.732 1451.88 Q229.394 1451.14 231.708 1450.77 Q234.046 1450.39 236.107 1450.39 Q241.431 1450.39 244.532 1452.83 Q247.634 1455.23 247.634 1459.35 Q247.634 1462.22 245.991 1464.21 Q244.347 1466.18 241.315 1466.95 Z\" fill=\"#000000\" fill-rule=\"nonzero\" fill-opacity=\"1\" /><path clip-path=\"url(#clip080)\" d=\"M1205.58 1532.4 L1192.69 1549.74 L1206.25 1568.04 L1199.35 1568.04 L1188.97 1554.04 L1178.59 1568.04 L1171.69 1568.04 L1185.53 1549.39 L1172.86 1532.4 L1179.77 1532.4 L1189.22 1545.1 L1198.68 1532.4 L1205.58 1532.4 Z\" fill=\"#000000\" fill-rule=\"nonzero\" fill-opacity=\"1\" /><path clip-path=\"url(#clip080)\" d=\"M1251.45 1550.12 Q1244.35 1550.12 1241.61 1551.75 Q1238.88 1553.37 1238.88 1557.29 Q1238.88 1560.4 1240.91 1562.25 Q1242.98 1564.07 1246.52 1564.07 Q1251.39 1564.07 1254.31 1560.63 Q1257.27 1557.16 1257.27 1551.43 L1257.27 1550.12 L1251.45 1550.12 M1263.13 1547.71 L1263.13 1568.04 L1257.27 1568.04 L1257.27 1562.63 Q1255.27 1565.88 1252.28 1567.44 Q1249.28 1568.97 1244.96 1568.97 Q1239.48 1568.97 1236.23 1565.91 Q1233.02 1562.82 1233.02 1557.67 Q1233.02 1551.65 1237.03 1548.6 Q1241.07 1545.54 1249.06 1545.54 L1257.27 1545.54 L1257.27 1544.97 Q1257.27 1540.93 1254.6 1538.73 Q1251.96 1536.5 1247.15 1536.5 Q1244.1 1536.5 1241.2 1537.23 Q1238.3 1537.97 1235.63 1539.43 L1235.63 1534.02 Q1238.84 1532.78 1241.87 1532.17 Q1244.89 1531.54 1247.76 1531.54 Q1255.49 1531.54 1259.31 1535.55 Q1263.13 1539.56 1263.13 1547.71 Z\" fill=\"#000000\" fill-rule=\"nonzero\" fill-opacity=\"1\" /><path clip-path=\"url(#clip080)\" d=\"M1304.83 1532.4 L1291.93 1549.74 L1305.49 1568.04 L1298.59 1568.04 L1288.21 1554.04 L1277.83 1568.04 L1270.93 1568.04 L1284.77 1549.39 L1272.11 1532.4 L1279.01 1532.4 L1288.47 1545.1 L1297.92 1532.4 L1304.83 1532.4 Z\" fill=\"#000000\" fill-rule=\"nonzero\" fill-opacity=\"1\" /><path clip-path=\"url(#clip080)\" d=\"M1313.77 1532.4 L1319.63 1532.4 L1319.63 1568.04 L1313.77 1568.04 L1313.77 1532.4 M1313.77 1518.52 L1319.63 1518.52 L1319.63 1525.93 L1313.77 1525.93 L1313.77 1518.52 Z\" fill=\"#000000\" fill-rule=\"nonzero\" fill-opacity=\"1\" /><path clip-path=\"url(#clip080)\" d=\"M1354.6 1533.45 L1354.6 1538.98 Q1352.12 1537.71 1349.45 1537.07 Q1346.78 1536.44 1343.91 1536.44 Q1339.55 1536.44 1337.35 1537.77 Q1335.19 1539.11 1335.19 1541.79 Q1335.19 1543.82 1336.75 1545 Q1338.31 1546.15 1343.02 1547.2 L1345.02 1547.64 Q1351.26 1548.98 1353.87 1551.43 Q1356.51 1553.85 1356.51 1558.21 Q1356.51 1563.17 1352.57 1566.07 Q1348.65 1568.97 1341.78 1568.97 Q1338.91 1568.97 1335.79 1568.39 Q1332.71 1567.85 1329.27 1566.74 L1329.27 1560.69 Q1332.52 1562.38 1335.67 1563.24 Q1338.82 1564.07 1341.91 1564.07 Q1346.04 1564.07 1348.27 1562.66 Q1350.5 1561.23 1350.5 1558.65 Q1350.5 1556.27 1348.88 1554.99 Q1347.28 1553.72 1341.84 1552.54 L1339.8 1552.07 Q1334.36 1550.92 1331.94 1548.56 Q1329.52 1546.18 1329.52 1542.04 Q1329.52 1537.01 1333.09 1534.27 Q1336.65 1531.54 1343.21 1531.54 Q1346.46 1531.54 1349.32 1532.01 Q1352.19 1532.49 1354.6 1533.45 Z\" fill=\"#000000\" fill-rule=\"nonzero\" fill-opacity=\"1\" /><polyline clip-path=\"url(#clip082)\" style=\"stroke:#000000; stroke-linecap:round; stroke-linejoin:round; stroke-width:2; stroke-opacity:0.1; fill:none\" points=\"2352.76,1386.4 175.445,1386.4 \"/>\n",
       "<polyline clip-path=\"url(#clip082)\" style=\"stroke:#000000; stroke-linecap:round; stroke-linejoin:round; stroke-width:2; stroke-opacity:0.1; fill:none\" points=\"2352.76,1113.92 175.445,1113.92 \"/>\n",
       "<polyline clip-path=\"url(#clip082)\" style=\"stroke:#000000; stroke-linecap:round; stroke-linejoin:round; stroke-width:2; stroke-opacity:0.1; fill:none\" points=\"2352.76,841.445 175.445,841.445 \"/>\n",
       "<polyline clip-path=\"url(#clip082)\" style=\"stroke:#000000; stroke-linecap:round; stroke-linejoin:round; stroke-width:2; stroke-opacity:0.1; fill:none\" points=\"2352.76,568.969 175.445,568.969 \"/>\n",
       "<polyline clip-path=\"url(#clip082)\" style=\"stroke:#000000; stroke-linecap:round; stroke-linejoin:round; stroke-width:2; stroke-opacity:0.1; fill:none\" points=\"2352.76,296.494 175.445,296.494 \"/>\n",
       "<polyline clip-path=\"url(#clip080)\" style=\"stroke:#000000; stroke-linecap:round; stroke-linejoin:round; stroke-width:4; stroke-opacity:1; fill:none\" points=\"175.445,1423.18 175.445,123.472 \"/>\n",
       "<polyline clip-path=\"url(#clip080)\" style=\"stroke:#000000; stroke-linecap:round; stroke-linejoin:round; stroke-width:4; stroke-opacity:1; fill:none\" points=\"175.445,1386.4 194.343,1386.4 \"/>\n",
       "<polyline clip-path=\"url(#clip080)\" style=\"stroke:#000000; stroke-linecap:round; stroke-linejoin:round; stroke-width:4; stroke-opacity:1; fill:none\" points=\"175.445,1113.92 194.343,1113.92 \"/>\n",
       "<polyline clip-path=\"url(#clip080)\" style=\"stroke:#000000; stroke-linecap:round; stroke-linejoin:round; stroke-width:4; stroke-opacity:1; fill:none\" points=\"175.445,841.445 194.343,841.445 \"/>\n",
       "<polyline clip-path=\"url(#clip080)\" style=\"stroke:#000000; stroke-linecap:round; stroke-linejoin:round; stroke-width:4; stroke-opacity:1; fill:none\" points=\"175.445,568.969 194.343,568.969 \"/>\n",
       "<polyline clip-path=\"url(#clip080)\" style=\"stroke:#000000; stroke-linecap:round; stroke-linejoin:round; stroke-width:4; stroke-opacity:1; fill:none\" points=\"175.445,296.494 194.343,296.494 \"/>\n",
       "<path clip-path=\"url(#clip080)\" d=\"M127.501 1372.19 Q123.89 1372.19 122.061 1375.76 Q120.255 1379.3 120.255 1386.43 Q120.255 1393.54 122.061 1397.1 Q123.89 1400.64 127.501 1400.64 Q131.135 1400.64 132.941 1397.1 Q134.769 1393.54 134.769 1386.43 Q134.769 1379.3 132.941 1375.76 Q131.135 1372.19 127.501 1372.19 M127.501 1368.49 Q133.311 1368.49 136.367 1373.1 Q139.445 1377.68 139.445 1386.43 Q139.445 1395.16 136.367 1399.76 Q133.311 1404.35 127.501 1404.35 Q121.691 1404.35 118.612 1399.76 Q115.556 1395.16 115.556 1386.43 Q115.556 1377.68 118.612 1373.1 Q121.691 1368.49 127.501 1368.49 Z\" fill=\"#000000\" fill-rule=\"nonzero\" fill-opacity=\"1\" /><path clip-path=\"url(#clip080)\" d=\"M123.126 1127.27 L139.445 1127.27 L139.445 1131.2 L117.501 1131.2 L117.501 1127.27 Q120.163 1124.51 124.746 1119.88 Q129.353 1115.23 130.533 1113.89 Q132.779 1111.36 133.658 1109.63 Q134.561 1107.87 134.561 1106.18 Q134.561 1103.42 132.617 1101.69 Q130.695 1099.95 127.593 1099.95 Q125.394 1099.95 122.941 1100.71 Q120.51 1101.48 117.732 1103.03 L117.732 1098.31 Q120.556 1097.17 123.01 1096.59 Q125.464 1096.02 127.501 1096.02 Q132.871 1096.02 136.066 1098.7 Q139.26 1101.39 139.26 1105.88 Q139.26 1108.01 138.45 1109.93 Q137.663 1111.83 135.556 1114.42 Q134.978 1115.09 131.876 1118.31 Q128.774 1121.5 123.126 1127.27 Z\" fill=\"#000000\" fill-rule=\"nonzero\" fill-opacity=\"1\" /><path clip-path=\"url(#clip080)\" d=\"M129.862 828.239 L118.056 846.688 L129.862 846.688 L129.862 828.239 M128.635 824.165 L134.515 824.165 L134.515 846.688 L139.445 846.688 L139.445 850.577 L134.515 850.577 L134.515 858.725 L129.862 858.725 L129.862 850.577 L114.26 850.577 L114.26 846.063 L128.635 824.165 Z\" fill=\"#000000\" fill-rule=\"nonzero\" fill-opacity=\"1\" /><path clip-path=\"url(#clip080)\" d=\"M127.917 567.106 Q124.769 567.106 122.918 569.259 Q121.089 571.412 121.089 575.162 Q121.089 578.888 122.918 581.064 Q124.769 583.217 127.917 583.217 Q131.066 583.217 132.894 581.064 Q134.746 578.888 134.746 575.162 Q134.746 571.412 132.894 569.259 Q131.066 567.106 127.917 567.106 M137.2 552.453 L137.2 556.713 Q135.441 555.879 133.635 555.439 Q131.853 555 130.093 555 Q125.464 555 123.01 558.125 Q120.58 561.25 120.232 567.569 Q121.598 565.555 123.658 564.49 Q125.718 563.402 128.195 563.402 Q133.404 563.402 136.413 566.574 Q139.445 569.722 139.445 575.162 Q139.445 580.486 136.297 583.703 Q133.149 586.921 127.917 586.921 Q121.922 586.921 118.751 582.337 Q115.58 577.731 115.58 569.004 Q115.58 560.81 119.468 555.949 Q123.357 551.064 129.908 551.064 Q131.667 551.064 133.45 551.412 Q135.255 551.759 137.2 552.453 Z\" fill=\"#000000\" fill-rule=\"nonzero\" fill-opacity=\"1\" /><path clip-path=\"url(#clip080)\" d=\"M127.593 297.362 Q124.26 297.362 122.339 299.144 Q120.441 300.927 120.441 304.052 Q120.441 307.177 122.339 308.959 Q124.26 310.742 127.593 310.742 Q130.927 310.742 132.848 308.959 Q134.769 307.154 134.769 304.052 Q134.769 300.927 132.848 299.144 Q130.95 297.362 127.593 297.362 M122.918 295.371 Q119.908 294.631 118.218 292.57 Q116.552 290.51 116.552 287.547 Q116.552 283.404 119.492 280.996 Q122.455 278.589 127.593 278.589 Q132.755 278.589 135.695 280.996 Q138.635 283.404 138.635 287.547 Q138.635 290.51 136.945 292.57 Q135.279 294.631 132.292 295.371 Q135.672 296.158 137.547 298.45 Q139.445 300.742 139.445 304.052 Q139.445 309.075 136.367 311.76 Q133.311 314.445 127.593 314.445 Q121.876 314.445 118.797 311.76 Q115.742 309.075 115.742 304.052 Q115.742 300.742 117.64 298.45 Q119.538 296.158 122.918 295.371 M121.205 287.987 Q121.205 290.672 122.871 292.177 Q124.561 293.682 127.593 293.682 Q130.603 293.682 132.292 292.177 Q134.005 290.672 134.005 287.987 Q134.005 285.302 132.292 283.797 Q130.603 282.293 127.593 282.293 Q124.561 282.293 122.871 283.797 Q121.205 285.302 121.205 287.987 Z\" fill=\"#000000\" fill-rule=\"nonzero\" fill-opacity=\"1\" /><path clip-path=\"url(#clip080)\" d=\"M67.3143 846.675 Q73.68 849.157 75.6216 851.513 Q77.5631 853.868 77.5631 857.815 L77.5631 862.494 L72.6615 862.494 L72.6615 859.056 Q72.6615 856.637 71.5157 855.3 Q70.3699 853.964 66.1048 852.34 L63.4312 851.29 L28.3562 865.708 L28.3562 859.502 L56.238 848.362 L28.3562 837.222 L28.3562 831.015 L67.3143 846.675 Z\" fill=\"#000000\" fill-rule=\"nonzero\" fill-opacity=\"1\" /><path clip-path=\"url(#clip080)\" d=\"M46.0847 786.01 Q46.0847 793.107 47.7079 795.845 Q49.3312 798.582 53.2461 798.582 Q56.3653 798.582 58.2114 796.545 Q60.0256 794.476 60.0256 790.943 Q60.0256 786.073 56.5881 783.145 Q53.1188 780.185 47.3897 780.185 L46.0847 780.185 L46.0847 786.01 M43.6657 774.329 L64.0042 774.329 L64.0042 780.185 L58.5933 780.185 Q61.8398 782.19 63.3994 785.182 Q64.9272 788.174 64.9272 792.503 Q64.9272 797.977 61.8716 801.224 Q58.7843 804.438 53.6281 804.438 Q47.6125 804.438 44.5569 800.428 Q41.5014 796.386 41.5014 788.397 L41.5014 780.185 L40.9285 780.185 Q36.8862 780.185 34.6901 782.859 Q32.4621 785.5 32.4621 790.307 Q32.4621 793.362 33.1941 796.258 Q33.9262 799.155 35.3903 801.828 L29.9795 801.828 Q28.7381 798.614 28.1334 795.59 Q27.4968 792.566 27.4968 789.702 Q27.4968 781.967 31.5072 778.148 Q35.5176 774.329 43.6657 774.329 Z\" fill=\"#000000\" fill-rule=\"nonzero\" fill-opacity=\"1\" /><path clip-path=\"url(#clip080)\" d=\"M28.3562 732.633 L45.7028 745.524 L64.0042 731.965 L64.0042 738.872 L49.9996 749.248 L64.0042 759.624 L64.0042 766.531 L45.3526 752.685 L28.3562 765.353 L28.3562 758.446 L41.0558 748.993 L28.3562 739.54 L28.3562 732.633 Z\" fill=\"#000000\" fill-rule=\"nonzero\" fill-opacity=\"1\" /><path clip-path=\"url(#clip080)\" d=\"M28.3562 723.689 L28.3562 717.833 L64.0042 717.833 L64.0042 723.689 L28.3562 723.689 M14.479 723.689 L14.479 717.833 L21.895 717.833 L21.895 723.689 L14.479 723.689 Z\" fill=\"#000000\" fill-rule=\"nonzero\" fill-opacity=\"1\" /><path clip-path=\"url(#clip080)\" d=\"M29.4065 682.853 L34.9447 682.853 Q33.6716 685.336 33.035 688.01 Q32.3984 690.683 32.3984 693.548 Q32.3984 697.908 33.7352 700.104 Q35.072 702.269 37.7456 702.269 Q39.7826 702.269 40.9603 700.709 Q42.1061 699.15 43.1565 694.439 L43.6021 692.434 Q44.9389 686.195 47.3897 683.585 Q49.8086 680.944 54.1691 680.944 Q59.1344 680.944 62.0308 684.89 Q64.9272 688.805 64.9272 695.68 Q64.9272 698.545 64.3543 701.664 Q63.8132 704.751 62.6992 708.189 L56.6518 708.189 Q58.3387 704.942 59.198 701.791 Q60.0256 698.64 60.0256 695.553 Q60.0256 691.415 58.6251 689.187 Q57.1929 686.959 54.6147 686.959 Q52.2276 686.959 50.9545 688.583 Q49.6813 690.174 48.5037 695.617 L48.0262 697.654 Q46.8804 703.096 44.5251 705.515 Q42.138 707.934 38.0002 707.934 Q32.9713 707.934 30.2341 704.369 Q27.4968 700.805 27.4968 694.248 Q27.4968 691.001 27.9743 688.137 Q28.4517 685.272 29.4065 682.853 Z\" fill=\"#000000\" fill-rule=\"nonzero\" fill-opacity=\"1\" /><path clip-path=\"url(#clip080)\" d=\"M1110.17 43.6931 L1110.17 65.8515 L1123.29 65.8515 Q1129.89 65.8515 1133.05 63.1374 Q1136.25 60.3828 1136.25 54.752 Q1136.25 49.0808 1133.05 46.4072 Q1129.89 43.6931 1123.29 43.6931 L1110.17 43.6931 M1110.17 18.8205 L1110.17 37.0496 L1122.28 37.0496 Q1128.27 37.0496 1131.19 34.8216 Q1134.15 32.5531 1134.15 27.935 Q1134.15 23.3575 1131.19 21.089 Q1128.27 18.8205 1122.28 18.8205 L1110.17 18.8205 M1101.98 12.096 L1122.89 12.096 Q1132.24 12.096 1137.31 15.9849 Q1142.37 19.8737 1142.37 27.0438 Q1142.37 32.5936 1139.78 35.8748 Q1137.19 39.156 1132.16 39.9662 Q1138.2 41.2625 1141.52 45.3944 Q1144.88 49.4858 1144.88 55.6432 Q1144.88 63.745 1139.37 68.1605 Q1133.86 72.576 1123.7 72.576 L1101.98 72.576 L1101.98 12.096 Z\" fill=\"#000000\" fill-rule=\"nonzero\" fill-opacity=\"1\" /><path clip-path=\"url(#clip080)\" d=\"M1158.57 27.2059 L1166.03 27.2059 L1166.03 72.576 L1158.57 72.576 L1158.57 27.2059 M1158.57 9.54393 L1166.03 9.54393 L1166.03 18.9825 L1158.57 18.9825 L1158.57 9.54393 Z\" fill=\"#000000\" fill-rule=\"nonzero\" fill-opacity=\"1\" /><path clip-path=\"url(#clip080)\" d=\"M1211.48 49.3643 Q1211.48 41.2625 1208.12 36.8065 Q1204.8 32.3505 1198.76 32.3505 Q1192.76 32.3505 1189.4 36.8065 Q1186.08 41.2625 1186.08 49.3643 Q1186.08 57.4256 1189.4 61.8816 Q1192.76 66.3376 1198.76 66.3376 Q1204.8 66.3376 1208.12 61.8816 Q1211.48 57.4256 1211.48 49.3643 M1218.93 66.9452 Q1218.93 78.5308 1213.79 84.1616 Q1208.64 89.8329 1198.03 89.8329 Q1194.1 89.8329 1190.62 89.2252 Q1187.13 88.6581 1183.85 87.4428 L1183.85 80.1917 Q1187.13 81.9741 1190.33 82.8248 Q1193.53 83.6755 1196.86 83.6755 Q1204.19 83.6755 1207.83 79.8271 Q1211.48 76.0193 1211.48 68.282 L1211.48 64.5957 Q1209.17 68.6061 1205.56 70.5911 Q1201.96 72.576 1196.94 72.576 Q1188.59 72.576 1183.49 66.2161 Q1178.38 59.8562 1178.38 49.3643 Q1178.38 38.832 1183.49 32.472 Q1188.59 26.1121 1196.94 26.1121 Q1201.96 26.1121 1205.56 28.0971 Q1209.17 30.082 1211.48 34.0924 L1211.48 27.2059 L1218.93 27.2059 L1218.93 66.9452 Z\" fill=\"#000000\" fill-rule=\"nonzero\" fill-opacity=\"1\" /><path clip-path=\"url(#clip080)\" d=\"M1252.6 12.096 L1303.76 12.096 L1303.76 18.9825 L1282.29 18.9825 L1282.29 72.576 L1274.07 72.576 L1274.07 18.9825 L1252.6 18.9825 L1252.6 12.096 Z\" fill=\"#000000\" fill-rule=\"nonzero\" fill-opacity=\"1\" /><path clip-path=\"url(#clip080)\" d=\"M1308.78 27.2059 L1316.24 27.2059 L1316.24 72.576 L1308.78 72.576 L1308.78 27.2059 M1308.78 9.54393 L1316.24 9.54393 L1316.24 18.9825 L1308.78 18.9825 L1308.78 9.54393 Z\" fill=\"#000000\" fill-rule=\"nonzero\" fill-opacity=\"1\" /><path clip-path=\"url(#clip080)\" d=\"M1339.2 14.324 L1339.2 27.2059 L1354.56 27.2059 L1354.56 32.9987 L1339.2 32.9987 L1339.2 57.6282 Q1339.2 63.1779 1340.7 64.7578 Q1342.24 66.3376 1346.9 66.3376 L1354.56 66.3376 L1354.56 72.576 L1346.9 72.576 Q1338.27 72.576 1334.99 69.3758 Q1331.71 66.1351 1331.71 57.6282 L1331.71 32.9987 L1326.24 32.9987 L1326.24 27.2059 L1331.71 27.2059 L1331.71 14.324 L1339.2 14.324 Z\" fill=\"#000000\" fill-rule=\"nonzero\" fill-opacity=\"1\" /><path clip-path=\"url(#clip080)\" d=\"M1364.36 9.54393 L1371.81 9.54393 L1371.81 72.576 L1364.36 72.576 L1364.36 9.54393 Z\" fill=\"#000000\" fill-rule=\"nonzero\" fill-opacity=\"1\" /><path clip-path=\"url(#clip080)\" d=\"M1426.22 48.0275 L1426.22 51.6733 L1391.95 51.6733 Q1392.43 59.3701 1396.57 63.421 Q1400.74 67.4314 1408.15 67.4314 Q1412.44 67.4314 1416.46 66.3781 Q1420.51 65.3249 1424.48 63.2184 L1424.48 70.267 Q1420.47 71.9684 1416.25 72.8596 Q1412.04 73.7508 1407.71 73.7508 Q1396.85 73.7508 1390.49 67.4314 Q1384.17 61.1119 1384.17 50.3365 Q1384.17 39.1965 1390.16 32.6746 Q1396.2 26.1121 1406.41 26.1121 Q1415.56 26.1121 1420.87 32.0264 Q1426.22 37.9003 1426.22 48.0275 M1418.76 45.84 Q1418.68 39.7232 1415.32 36.0774 Q1412 32.4315 1406.49 32.4315 Q1400.25 32.4315 1396.48 35.9558 Q1392.76 39.4801 1392.19 45.8805 L1418.76 45.84 Z\" fill=\"#000000\" fill-rule=\"nonzero\" fill-opacity=\"1\" /><polyline clip-path=\"url(#clip082)\" style=\"stroke:#009af9; stroke-linecap:round; stroke-linejoin:round; stroke-width:4; stroke-opacity:1; fill:none\" points=\"2291.13,160.256 2256.9,240.637 2222.67,318.292 2188.43,393.223 2154.2,465.429 2119.96,534.91 2085.73,601.666 2051.49,665.698 2017.26,727.005 1983.02,785.587 1948.79,841.445 1914.56,894.578 1880.32,944.985 1846.09,992.669 1811.85,1037.63 1777.62,1079.86 1743.38,1119.37 1709.15,1156.15 1674.91,1190.21 1640.68,1221.55 1606.45,1250.16 1572.21,1276.04 1537.98,1299.2 1503.74,1319.64 1469.51,1337.35 1435.27,1352.34 1401.04,1364.6 1366.8,1374.13 1332.57,1380.95 1298.34,1385.03 1264.1,1386.4 1229.87,1385.03 1195.63,1380.95 1161.4,1374.13 1127.16,1364.6 1092.93,1352.34 1058.69,1337.35 1024.46,1319.64 990.225,1299.2 955.991,1276.04 921.756,1250.16 887.522,1221.55 853.287,1190.21 819.053,1156.15 784.818,1119.37 750.584,1079.86 716.349,1037.63 682.115,992.669 647.881,944.985 613.646,894.578 579.412,841.445 545.177,785.587 510.943,727.005 476.708,665.698 442.474,601.666 408.239,534.91 374.005,465.429 339.771,393.223 305.536,318.292 271.302,240.637 237.067,160.256 \"/>\n",
       "<circle clip-path=\"url(#clip082)\" cx=\"2291.13\" cy=\"160.256\" r=\"14.4\" fill=\"#e26f46\" fill-rule=\"evenodd\" fill-opacity=\"1\" stroke=\"#000000\" stroke-opacity=\"1\" stroke-width=\"3.2\"/>\n",
       "<circle clip-path=\"url(#clip082)\" cx=\"2256.9\" cy=\"240.637\" r=\"14.4\" fill=\"#e26f46\" fill-rule=\"evenodd\" fill-opacity=\"1\" stroke=\"#000000\" stroke-opacity=\"1\" stroke-width=\"3.2\"/>\n",
       "<circle clip-path=\"url(#clip082)\" cx=\"2222.67\" cy=\"318.292\" r=\"14.4\" fill=\"#e26f46\" fill-rule=\"evenodd\" fill-opacity=\"1\" stroke=\"#000000\" stroke-opacity=\"1\" stroke-width=\"3.2\"/>\n",
       "<circle clip-path=\"url(#clip082)\" cx=\"2188.43\" cy=\"393.223\" r=\"14.4\" fill=\"#e26f46\" fill-rule=\"evenodd\" fill-opacity=\"1\" stroke=\"#000000\" stroke-opacity=\"1\" stroke-width=\"3.2\"/>\n",
       "<circle clip-path=\"url(#clip082)\" cx=\"2154.2\" cy=\"465.429\" r=\"14.4\" fill=\"#e26f46\" fill-rule=\"evenodd\" fill-opacity=\"1\" stroke=\"#000000\" stroke-opacity=\"1\" stroke-width=\"3.2\"/>\n",
       "<circle clip-path=\"url(#clip082)\" cx=\"2119.96\" cy=\"534.91\" r=\"14.4\" fill=\"#e26f46\" fill-rule=\"evenodd\" fill-opacity=\"1\" stroke=\"#000000\" stroke-opacity=\"1\" stroke-width=\"3.2\"/>\n",
       "<circle clip-path=\"url(#clip082)\" cx=\"2085.73\" cy=\"601.666\" r=\"14.4\" fill=\"#e26f46\" fill-rule=\"evenodd\" fill-opacity=\"1\" stroke=\"#000000\" stroke-opacity=\"1\" stroke-width=\"3.2\"/>\n",
       "<circle clip-path=\"url(#clip082)\" cx=\"2051.49\" cy=\"665.698\" r=\"14.4\" fill=\"#e26f46\" fill-rule=\"evenodd\" fill-opacity=\"1\" stroke=\"#000000\" stroke-opacity=\"1\" stroke-width=\"3.2\"/>\n",
       "<circle clip-path=\"url(#clip082)\" cx=\"2017.26\" cy=\"727.005\" r=\"14.4\" fill=\"#e26f46\" fill-rule=\"evenodd\" fill-opacity=\"1\" stroke=\"#000000\" stroke-opacity=\"1\" stroke-width=\"3.2\"/>\n",
       "<circle clip-path=\"url(#clip082)\" cx=\"1983.02\" cy=\"785.587\" r=\"14.4\" fill=\"#e26f46\" fill-rule=\"evenodd\" fill-opacity=\"1\" stroke=\"#000000\" stroke-opacity=\"1\" stroke-width=\"3.2\"/>\n",
       "<circle clip-path=\"url(#clip082)\" cx=\"1948.79\" cy=\"841.445\" r=\"14.4\" fill=\"#e26f46\" fill-rule=\"evenodd\" fill-opacity=\"1\" stroke=\"#000000\" stroke-opacity=\"1\" stroke-width=\"3.2\"/>\n",
       "<circle clip-path=\"url(#clip082)\" cx=\"1914.56\" cy=\"894.578\" r=\"14.4\" fill=\"#e26f46\" fill-rule=\"evenodd\" fill-opacity=\"1\" stroke=\"#000000\" stroke-opacity=\"1\" stroke-width=\"3.2\"/>\n",
       "<circle clip-path=\"url(#clip082)\" cx=\"1880.32\" cy=\"944.985\" r=\"14.4\" fill=\"#e26f46\" fill-rule=\"evenodd\" fill-opacity=\"1\" stroke=\"#000000\" stroke-opacity=\"1\" stroke-width=\"3.2\"/>\n",
       "<circle clip-path=\"url(#clip082)\" cx=\"1846.09\" cy=\"992.669\" r=\"14.4\" fill=\"#e26f46\" fill-rule=\"evenodd\" fill-opacity=\"1\" stroke=\"#000000\" stroke-opacity=\"1\" stroke-width=\"3.2\"/>\n",
       "<circle clip-path=\"url(#clip082)\" cx=\"1811.85\" cy=\"1037.63\" r=\"14.4\" fill=\"#e26f46\" fill-rule=\"evenodd\" fill-opacity=\"1\" stroke=\"#000000\" stroke-opacity=\"1\" stroke-width=\"3.2\"/>\n",
       "<circle clip-path=\"url(#clip082)\" cx=\"1777.62\" cy=\"1079.86\" r=\"14.4\" fill=\"#e26f46\" fill-rule=\"evenodd\" fill-opacity=\"1\" stroke=\"#000000\" stroke-opacity=\"1\" stroke-width=\"3.2\"/>\n",
       "<circle clip-path=\"url(#clip082)\" cx=\"1743.38\" cy=\"1119.37\" r=\"14.4\" fill=\"#e26f46\" fill-rule=\"evenodd\" fill-opacity=\"1\" stroke=\"#000000\" stroke-opacity=\"1\" stroke-width=\"3.2\"/>\n",
       "<circle clip-path=\"url(#clip082)\" cx=\"1709.15\" cy=\"1156.15\" r=\"14.4\" fill=\"#e26f46\" fill-rule=\"evenodd\" fill-opacity=\"1\" stroke=\"#000000\" stroke-opacity=\"1\" stroke-width=\"3.2\"/>\n",
       "<circle clip-path=\"url(#clip082)\" cx=\"1674.91\" cy=\"1190.21\" r=\"14.4\" fill=\"#e26f46\" fill-rule=\"evenodd\" fill-opacity=\"1\" stroke=\"#000000\" stroke-opacity=\"1\" stroke-width=\"3.2\"/>\n",
       "<circle clip-path=\"url(#clip082)\" cx=\"1640.68\" cy=\"1221.55\" r=\"14.4\" fill=\"#e26f46\" fill-rule=\"evenodd\" fill-opacity=\"1\" stroke=\"#000000\" stroke-opacity=\"1\" stroke-width=\"3.2\"/>\n",
       "<circle clip-path=\"url(#clip082)\" cx=\"1606.45\" cy=\"1250.16\" r=\"14.4\" fill=\"#e26f46\" fill-rule=\"evenodd\" fill-opacity=\"1\" stroke=\"#000000\" stroke-opacity=\"1\" stroke-width=\"3.2\"/>\n",
       "<circle clip-path=\"url(#clip082)\" cx=\"1572.21\" cy=\"1276.04\" r=\"14.4\" fill=\"#e26f46\" fill-rule=\"evenodd\" fill-opacity=\"1\" stroke=\"#000000\" stroke-opacity=\"1\" stroke-width=\"3.2\"/>\n",
       "<circle clip-path=\"url(#clip082)\" cx=\"1537.98\" cy=\"1299.2\" r=\"14.4\" fill=\"#e26f46\" fill-rule=\"evenodd\" fill-opacity=\"1\" stroke=\"#000000\" stroke-opacity=\"1\" stroke-width=\"3.2\"/>\n",
       "<circle clip-path=\"url(#clip082)\" cx=\"1503.74\" cy=\"1319.64\" r=\"14.4\" fill=\"#e26f46\" fill-rule=\"evenodd\" fill-opacity=\"1\" stroke=\"#000000\" stroke-opacity=\"1\" stroke-width=\"3.2\"/>\n",
       "<circle clip-path=\"url(#clip082)\" cx=\"1469.51\" cy=\"1337.35\" r=\"14.4\" fill=\"#e26f46\" fill-rule=\"evenodd\" fill-opacity=\"1\" stroke=\"#000000\" stroke-opacity=\"1\" stroke-width=\"3.2\"/>\n",
       "<circle clip-path=\"url(#clip082)\" cx=\"1435.27\" cy=\"1352.34\" r=\"14.4\" fill=\"#e26f46\" fill-rule=\"evenodd\" fill-opacity=\"1\" stroke=\"#000000\" stroke-opacity=\"1\" stroke-width=\"3.2\"/>\n",
       "<circle clip-path=\"url(#clip082)\" cx=\"1401.04\" cy=\"1364.6\" r=\"14.4\" fill=\"#e26f46\" fill-rule=\"evenodd\" fill-opacity=\"1\" stroke=\"#000000\" stroke-opacity=\"1\" stroke-width=\"3.2\"/>\n",
       "<circle clip-path=\"url(#clip082)\" cx=\"1366.8\" cy=\"1374.13\" r=\"14.4\" fill=\"#e26f46\" fill-rule=\"evenodd\" fill-opacity=\"1\" stroke=\"#000000\" stroke-opacity=\"1\" stroke-width=\"3.2\"/>\n",
       "<circle clip-path=\"url(#clip082)\" cx=\"1332.57\" cy=\"1380.95\" r=\"14.4\" fill=\"#e26f46\" fill-rule=\"evenodd\" fill-opacity=\"1\" stroke=\"#000000\" stroke-opacity=\"1\" stroke-width=\"3.2\"/>\n",
       "<circle clip-path=\"url(#clip082)\" cx=\"1298.34\" cy=\"1385.03\" r=\"14.4\" fill=\"#e26f46\" fill-rule=\"evenodd\" fill-opacity=\"1\" stroke=\"#000000\" stroke-opacity=\"1\" stroke-width=\"3.2\"/>\n",
       "<circle clip-path=\"url(#clip082)\" cx=\"1264.1\" cy=\"1386.4\" r=\"14.4\" fill=\"#e26f46\" fill-rule=\"evenodd\" fill-opacity=\"1\" stroke=\"#000000\" stroke-opacity=\"1\" stroke-width=\"3.2\"/>\n",
       "<circle clip-path=\"url(#clip082)\" cx=\"1229.87\" cy=\"1385.03\" r=\"14.4\" fill=\"#e26f46\" fill-rule=\"evenodd\" fill-opacity=\"1\" stroke=\"#000000\" stroke-opacity=\"1\" stroke-width=\"3.2\"/>\n",
       "<circle clip-path=\"url(#clip082)\" cx=\"1195.63\" cy=\"1380.95\" r=\"14.4\" fill=\"#e26f46\" fill-rule=\"evenodd\" fill-opacity=\"1\" stroke=\"#000000\" stroke-opacity=\"1\" stroke-width=\"3.2\"/>\n",
       "<circle clip-path=\"url(#clip082)\" cx=\"1161.4\" cy=\"1374.13\" r=\"14.4\" fill=\"#e26f46\" fill-rule=\"evenodd\" fill-opacity=\"1\" stroke=\"#000000\" stroke-opacity=\"1\" stroke-width=\"3.2\"/>\n",
       "<circle clip-path=\"url(#clip082)\" cx=\"1127.16\" cy=\"1364.6\" r=\"14.4\" fill=\"#e26f46\" fill-rule=\"evenodd\" fill-opacity=\"1\" stroke=\"#000000\" stroke-opacity=\"1\" stroke-width=\"3.2\"/>\n",
       "<circle clip-path=\"url(#clip082)\" cx=\"1092.93\" cy=\"1352.34\" r=\"14.4\" fill=\"#e26f46\" fill-rule=\"evenodd\" fill-opacity=\"1\" stroke=\"#000000\" stroke-opacity=\"1\" stroke-width=\"3.2\"/>\n",
       "<circle clip-path=\"url(#clip082)\" cx=\"1058.69\" cy=\"1337.35\" r=\"14.4\" fill=\"#e26f46\" fill-rule=\"evenodd\" fill-opacity=\"1\" stroke=\"#000000\" stroke-opacity=\"1\" stroke-width=\"3.2\"/>\n",
       "<circle clip-path=\"url(#clip082)\" cx=\"1024.46\" cy=\"1319.64\" r=\"14.4\" fill=\"#e26f46\" fill-rule=\"evenodd\" fill-opacity=\"1\" stroke=\"#000000\" stroke-opacity=\"1\" stroke-width=\"3.2\"/>\n",
       "<circle clip-path=\"url(#clip082)\" cx=\"990.225\" cy=\"1299.2\" r=\"14.4\" fill=\"#e26f46\" fill-rule=\"evenodd\" fill-opacity=\"1\" stroke=\"#000000\" stroke-opacity=\"1\" stroke-width=\"3.2\"/>\n",
       "<circle clip-path=\"url(#clip082)\" cx=\"955.991\" cy=\"1276.04\" r=\"14.4\" fill=\"#e26f46\" fill-rule=\"evenodd\" fill-opacity=\"1\" stroke=\"#000000\" stroke-opacity=\"1\" stroke-width=\"3.2\"/>\n",
       "<circle clip-path=\"url(#clip082)\" cx=\"921.756\" cy=\"1250.16\" r=\"14.4\" fill=\"#e26f46\" fill-rule=\"evenodd\" fill-opacity=\"1\" stroke=\"#000000\" stroke-opacity=\"1\" stroke-width=\"3.2\"/>\n",
       "<circle clip-path=\"url(#clip082)\" cx=\"887.522\" cy=\"1221.55\" r=\"14.4\" fill=\"#e26f46\" fill-rule=\"evenodd\" fill-opacity=\"1\" stroke=\"#000000\" stroke-opacity=\"1\" stroke-width=\"3.2\"/>\n",
       "<circle clip-path=\"url(#clip082)\" cx=\"853.287\" cy=\"1190.21\" r=\"14.4\" fill=\"#e26f46\" fill-rule=\"evenodd\" fill-opacity=\"1\" stroke=\"#000000\" stroke-opacity=\"1\" stroke-width=\"3.2\"/>\n",
       "<circle clip-path=\"url(#clip082)\" cx=\"819.053\" cy=\"1156.15\" r=\"14.4\" fill=\"#e26f46\" fill-rule=\"evenodd\" fill-opacity=\"1\" stroke=\"#000000\" stroke-opacity=\"1\" stroke-width=\"3.2\"/>\n",
       "<circle clip-path=\"url(#clip082)\" cx=\"784.818\" cy=\"1119.37\" r=\"14.4\" fill=\"#e26f46\" fill-rule=\"evenodd\" fill-opacity=\"1\" stroke=\"#000000\" stroke-opacity=\"1\" stroke-width=\"3.2\"/>\n",
       "<circle clip-path=\"url(#clip082)\" cx=\"750.584\" cy=\"1079.86\" r=\"14.4\" fill=\"#e26f46\" fill-rule=\"evenodd\" fill-opacity=\"1\" stroke=\"#000000\" stroke-opacity=\"1\" stroke-width=\"3.2\"/>\n",
       "<circle clip-path=\"url(#clip082)\" cx=\"716.349\" cy=\"1037.63\" r=\"14.4\" fill=\"#e26f46\" fill-rule=\"evenodd\" fill-opacity=\"1\" stroke=\"#000000\" stroke-opacity=\"1\" stroke-width=\"3.2\"/>\n",
       "<circle clip-path=\"url(#clip082)\" cx=\"682.115\" cy=\"992.669\" r=\"14.4\" fill=\"#e26f46\" fill-rule=\"evenodd\" fill-opacity=\"1\" stroke=\"#000000\" stroke-opacity=\"1\" stroke-width=\"3.2\"/>\n",
       "<circle clip-path=\"url(#clip082)\" cx=\"647.881\" cy=\"944.985\" r=\"14.4\" fill=\"#e26f46\" fill-rule=\"evenodd\" fill-opacity=\"1\" stroke=\"#000000\" stroke-opacity=\"1\" stroke-width=\"3.2\"/>\n",
       "<circle clip-path=\"url(#clip082)\" cx=\"613.646\" cy=\"894.578\" r=\"14.4\" fill=\"#e26f46\" fill-rule=\"evenodd\" fill-opacity=\"1\" stroke=\"#000000\" stroke-opacity=\"1\" stroke-width=\"3.2\"/>\n",
       "<circle clip-path=\"url(#clip082)\" cx=\"579.412\" cy=\"841.445\" r=\"14.4\" fill=\"#e26f46\" fill-rule=\"evenodd\" fill-opacity=\"1\" stroke=\"#000000\" stroke-opacity=\"1\" stroke-width=\"3.2\"/>\n",
       "<circle clip-path=\"url(#clip082)\" cx=\"545.177\" cy=\"785.587\" r=\"14.4\" fill=\"#e26f46\" fill-rule=\"evenodd\" fill-opacity=\"1\" stroke=\"#000000\" stroke-opacity=\"1\" stroke-width=\"3.2\"/>\n",
       "<circle clip-path=\"url(#clip082)\" cx=\"510.943\" cy=\"727.005\" r=\"14.4\" fill=\"#e26f46\" fill-rule=\"evenodd\" fill-opacity=\"1\" stroke=\"#000000\" stroke-opacity=\"1\" stroke-width=\"3.2\"/>\n",
       "<circle clip-path=\"url(#clip082)\" cx=\"476.708\" cy=\"665.698\" r=\"14.4\" fill=\"#e26f46\" fill-rule=\"evenodd\" fill-opacity=\"1\" stroke=\"#000000\" stroke-opacity=\"1\" stroke-width=\"3.2\"/>\n",
       "<circle clip-path=\"url(#clip082)\" cx=\"442.474\" cy=\"601.666\" r=\"14.4\" fill=\"#e26f46\" fill-rule=\"evenodd\" fill-opacity=\"1\" stroke=\"#000000\" stroke-opacity=\"1\" stroke-width=\"3.2\"/>\n",
       "<circle clip-path=\"url(#clip082)\" cx=\"408.239\" cy=\"534.91\" r=\"14.4\" fill=\"#e26f46\" fill-rule=\"evenodd\" fill-opacity=\"1\" stroke=\"#000000\" stroke-opacity=\"1\" stroke-width=\"3.2\"/>\n",
       "<circle clip-path=\"url(#clip082)\" cx=\"374.005\" cy=\"465.429\" r=\"14.4\" fill=\"#e26f46\" fill-rule=\"evenodd\" fill-opacity=\"1\" stroke=\"#000000\" stroke-opacity=\"1\" stroke-width=\"3.2\"/>\n",
       "<circle clip-path=\"url(#clip082)\" cx=\"339.771\" cy=\"393.223\" r=\"14.4\" fill=\"#e26f46\" fill-rule=\"evenodd\" fill-opacity=\"1\" stroke=\"#000000\" stroke-opacity=\"1\" stroke-width=\"3.2\"/>\n",
       "<circle clip-path=\"url(#clip082)\" cx=\"305.536\" cy=\"318.292\" r=\"14.4\" fill=\"#e26f46\" fill-rule=\"evenodd\" fill-opacity=\"1\" stroke=\"#000000\" stroke-opacity=\"1\" stroke-width=\"3.2\"/>\n",
       "<circle clip-path=\"url(#clip082)\" cx=\"271.302\" cy=\"240.637\" r=\"14.4\" fill=\"#e26f46\" fill-rule=\"evenodd\" fill-opacity=\"1\" stroke=\"#000000\" stroke-opacity=\"1\" stroke-width=\"3.2\"/>\n",
       "<circle clip-path=\"url(#clip082)\" cx=\"237.067\" cy=\"160.256\" r=\"14.4\" fill=\"#e26f46\" fill-rule=\"evenodd\" fill-opacity=\"1\" stroke=\"#000000\" stroke-opacity=\"1\" stroke-width=\"3.2\"/>\n",
       "<path clip-path=\"url(#clip080)\" d=\"M1923.47 1379.86 L2280.18 1379.86 L2280.18 1224.34 L1923.47 1224.34  Z\" fill=\"#ffffff\" fill-rule=\"evenodd\" fill-opacity=\"1\"/>\n",
       "<polyline clip-path=\"url(#clip080)\" style=\"stroke:#000000; stroke-linecap:round; stroke-linejoin:round; stroke-width:4; stroke-opacity:1; fill:none\" points=\"1923.47,1379.86 2280.18,1379.86 2280.18,1224.34 1923.47,1224.34 1923.47,1379.86 \"/>\n",
       "<polyline clip-path=\"url(#clip080)\" style=\"stroke:#009af9; stroke-linecap:round; stroke-linejoin:round; stroke-width:4; stroke-opacity:1; fill:none\" points=\"1947.66,1276.18 2092.81,1276.18 \"/>\n",
       "<path clip-path=\"url(#clip080)\" d=\"M2117.01 1257.44 L2121.27 1257.44 L2121.27 1293.46 L2117.01 1293.46 L2117.01 1257.44 Z\" fill=\"#000000\" fill-rule=\"nonzero\" fill-opacity=\"1\" /><path clip-path=\"url(#clip080)\" d=\"M2130.18 1267.53 L2134.44 1267.53 L2134.44 1293.46 L2130.18 1293.46 L2130.18 1267.53 M2130.18 1257.44 L2134.44 1257.44 L2134.44 1262.83 L2130.18 1262.83 L2130.18 1257.44 Z\" fill=\"#000000\" fill-rule=\"nonzero\" fill-opacity=\"1\" /><path clip-path=\"url(#clip080)\" d=\"M2164.9 1277.81 L2164.9 1293.46 L2160.64 1293.46 L2160.64 1277.95 Q2160.64 1274.27 2159.2 1272.44 Q2157.77 1270.61 2154.9 1270.61 Q2151.45 1270.61 2149.46 1272.81 Q2147.47 1275.01 2147.47 1278.8 L2147.47 1293.46 L2143.19 1293.46 L2143.19 1267.53 L2147.47 1267.53 L2147.47 1271.56 Q2149 1269.22 2151.06 1268.06 Q2153.14 1266.91 2155.85 1266.91 Q2160.32 1266.91 2162.61 1269.68 Q2164.9 1272.44 2164.9 1277.81 Z\" fill=\"#000000\" fill-rule=\"nonzero\" fill-opacity=\"1\" /><path clip-path=\"url(#clip080)\" d=\"M2195.57 1279.43 L2195.57 1281.51 L2175.99 1281.51 Q2176.26 1285.91 2178.63 1288.22 Q2181.01 1290.52 2185.25 1290.52 Q2187.7 1290.52 2189.99 1289.91 Q2192.31 1289.31 2194.57 1288.11 L2194.57 1292.14 Q2192.28 1293.11 2189.88 1293.62 Q2187.47 1294.13 2184.99 1294.13 Q2178.79 1294.13 2175.15 1290.52 Q2171.54 1286.91 2171.54 1280.75 Q2171.54 1274.38 2174.97 1270.66 Q2178.42 1266.91 2184.25 1266.91 Q2189.48 1266.91 2192.51 1270.29 Q2195.57 1273.64 2195.57 1279.43 M2191.31 1278.18 Q2191.26 1274.68 2189.34 1272.6 Q2187.45 1270.52 2184.3 1270.52 Q2180.73 1270.52 2178.58 1272.53 Q2176.45 1274.54 2176.13 1278.2 L2191.31 1278.18 Z\" fill=\"#000000\" fill-rule=\"nonzero\" fill-opacity=\"1\" /><circle clip-path=\"url(#clip080)\" cx=\"2020.24\" cy=\"1328.02\" r=\"20.48\" fill=\"#e26f46\" fill-rule=\"evenodd\" fill-opacity=\"1\" stroke=\"#000000\" stroke-opacity=\"1\" stroke-width=\"4.55111\"/>\n",
       "<path clip-path=\"url(#clip080)\" d=\"M2121.29 1341.41 L2121.29 1355.16 L2117.01 1355.16 L2117.01 1319.37 L2121.29 1319.37 L2121.29 1323.31 Q2122.63 1320.99 2124.67 1319.88 Q2126.73 1318.75 2129.58 1318.75 Q2134.3 1318.75 2137.24 1322.5 Q2140.2 1326.25 2140.2 1332.36 Q2140.2 1338.47 2137.24 1342.22 Q2134.3 1345.97 2129.58 1345.97 Q2126.73 1345.97 2124.67 1344.86 Q2122.63 1343.72 2121.29 1341.41 M2135.78 1332.36 Q2135.78 1327.66 2133.83 1325 Q2131.91 1322.31 2128.53 1322.31 Q2125.15 1322.31 2123.21 1325 Q2121.29 1327.66 2121.29 1332.36 Q2121.29 1337.06 2123.21 1339.74 Q2125.15 1342.4 2128.53 1342.4 Q2131.91 1342.4 2133.83 1339.74 Q2135.78 1337.06 2135.78 1332.36 Z\" fill=\"#000000\" fill-rule=\"nonzero\" fill-opacity=\"1\" /><path clip-path=\"url(#clip080)\" d=\"M2157.31 1322.36 Q2153.88 1322.36 2151.89 1325.04 Q2149.9 1327.7 2149.9 1332.36 Q2149.9 1337.01 2151.87 1339.69 Q2153.86 1342.36 2157.31 1342.36 Q2160.71 1342.36 2162.7 1339.67 Q2164.69 1336.99 2164.69 1332.36 Q2164.69 1327.75 2162.7 1325.06 Q2160.71 1322.36 2157.31 1322.36 M2157.31 1318.75 Q2162.86 1318.75 2166.03 1322.36 Q2169.2 1325.97 2169.2 1332.36 Q2169.2 1338.72 2166.03 1342.36 Q2162.86 1345.97 2157.31 1345.97 Q2151.73 1345.97 2148.56 1342.36 Q2145.41 1338.72 2145.41 1332.36 Q2145.41 1325.97 2148.56 1322.36 Q2151.73 1318.75 2157.31 1318.75 Z\" fill=\"#000000\" fill-rule=\"nonzero\" fill-opacity=\"1\" /><path clip-path=\"url(#clip080)\" d=\"M2176.26 1319.37 L2180.52 1319.37 L2180.52 1345.3 L2176.26 1345.3 L2176.26 1319.37 M2176.26 1309.28 L2180.52 1309.28 L2180.52 1314.67 L2176.26 1314.67 L2176.26 1309.28 Z\" fill=\"#000000\" fill-rule=\"nonzero\" fill-opacity=\"1\" /><path clip-path=\"url(#clip080)\" d=\"M2210.99 1329.65 L2210.99 1345.3 L2206.73 1345.3 L2206.73 1329.79 Q2206.73 1326.11 2205.29 1324.28 Q2203.86 1322.45 2200.99 1322.45 Q2197.54 1322.45 2195.55 1324.65 Q2193.56 1326.85 2193.56 1330.64 L2193.56 1345.3 L2189.27 1345.3 L2189.27 1319.37 L2193.56 1319.37 L2193.56 1323.4 Q2195.08 1321.06 2197.14 1319.9 Q2199.23 1318.75 2201.94 1318.75 Q2206.4 1318.75 2208.7 1321.52 Q2210.99 1324.28 2210.99 1329.65 Z\" fill=\"#000000\" fill-rule=\"nonzero\" fill-opacity=\"1\" /><path clip-path=\"url(#clip080)\" d=\"M2223.7 1312.01 L2223.7 1319.37 L2232.47 1319.37 L2232.47 1322.68 L2223.7 1322.68 L2223.7 1336.75 Q2223.7 1339.93 2224.55 1340.83 Q2225.43 1341.73 2228.09 1341.73 L2232.47 1341.73 L2232.47 1345.3 L2228.09 1345.3 Q2223.16 1345.3 2221.29 1343.47 Q2219.41 1341.62 2219.41 1336.75 L2219.41 1322.68 L2216.29 1322.68 L2216.29 1319.37 L2219.41 1319.37 L2219.41 1312.01 L2223.7 1312.01 Z\" fill=\"#000000\" fill-rule=\"nonzero\" fill-opacity=\"1\" /><path clip-path=\"url(#clip080)\" d=\"M2254.6 1320.13 L2254.6 1324.16 Q2252.79 1323.24 2250.85 1322.77 Q2248.9 1322.31 2246.82 1322.31 Q2243.65 1322.31 2242.05 1323.28 Q2240.48 1324.25 2240.48 1326.2 Q2240.48 1327.68 2241.61 1328.54 Q2242.75 1329.37 2246.17 1330.13 L2247.63 1330.46 Q2252.17 1331.43 2254.07 1333.21 Q2255.99 1334.97 2255.99 1338.14 Q2255.99 1341.75 2253.12 1343.86 Q2250.27 1345.97 2245.27 1345.97 Q2243.19 1345.97 2240.92 1345.55 Q2238.67 1345.16 2236.17 1344.35 L2236.17 1339.95 Q2238.53 1341.18 2240.82 1341.8 Q2243.12 1342.4 2245.36 1342.4 Q2248.37 1342.4 2249.99 1341.38 Q2251.61 1340.34 2251.61 1338.47 Q2251.61 1336.73 2250.43 1335.81 Q2249.27 1334.88 2245.32 1334.02 L2243.83 1333.68 Q2239.88 1332.84 2238.12 1331.13 Q2236.36 1329.39 2236.36 1326.38 Q2236.36 1322.73 2238.95 1320.74 Q2241.54 1318.75 2246.31 1318.75 Q2248.67 1318.75 2250.76 1319.09 Q2252.84 1319.44 2254.6 1320.13 Z\" fill=\"#000000\" fill-rule=\"nonzero\" fill-opacity=\"1\" /></svg>\n"
      ],
      "text/html": [
       "<?xml version=\"1.0\" encoding=\"utf-8\"?>\n",
       "<svg xmlns=\"http://www.w3.org/2000/svg\" xmlns:xlink=\"http://www.w3.org/1999/xlink\" width=\"600\" height=\"400\" viewBox=\"0 0 2400 1600\">\n",
       "<defs>\n",
       "  <clipPath id=\"clip130\">\n",
       "    <rect x=\"0\" y=\"0\" width=\"2400\" height=\"1600\"/>\n",
       "  </clipPath>\n",
       "</defs>\n",
       "<path clip-path=\"url(#clip130)\" d=\"M0 1600 L2400 1600 L2400 0 L0 0  Z\" fill=\"#ffffff\" fill-rule=\"evenodd\" fill-opacity=\"1\"/>\n",
       "<defs>\n",
       "  <clipPath id=\"clip131\">\n",
       "    <rect x=\"480\" y=\"0\" width=\"1681\" height=\"1600\"/>\n",
       "  </clipPath>\n",
       "</defs>\n",
       "<path clip-path=\"url(#clip130)\" d=\"M175.445 1423.18 L2352.76 1423.18 L2352.76 123.472 L175.445 123.472  Z\" fill=\"#ffffff\" fill-rule=\"evenodd\" fill-opacity=\"1\"/>\n",
       "<defs>\n",
       "  <clipPath id=\"clip132\">\n",
       "    <rect x=\"175\" y=\"123\" width=\"2178\" height=\"1301\"/>\n",
       "  </clipPath>\n",
       "</defs>\n",
       "<polyline clip-path=\"url(#clip132)\" style=\"stroke:#000000; stroke-linecap:round; stroke-linejoin:round; stroke-width:2; stroke-opacity:0.1; fill:none\" points=\"2291.13,1423.18 2291.13,123.472 \"/>\n",
       "<polyline clip-path=\"url(#clip132)\" style=\"stroke:#000000; stroke-linecap:round; stroke-linejoin:round; stroke-width:2; stroke-opacity:0.1; fill:none\" points=\"1948.79,1423.18 1948.79,123.472 \"/>\n",
       "<polyline clip-path=\"url(#clip132)\" style=\"stroke:#000000; stroke-linecap:round; stroke-linejoin:round; stroke-width:2; stroke-opacity:0.1; fill:none\" points=\"1606.45,1423.18 1606.45,123.472 \"/>\n",
       "<polyline clip-path=\"url(#clip132)\" style=\"stroke:#000000; stroke-linecap:round; stroke-linejoin:round; stroke-width:2; stroke-opacity:0.1; fill:none\" points=\"1264.1,1423.18 1264.1,123.472 \"/>\n",
       "<polyline clip-path=\"url(#clip132)\" style=\"stroke:#000000; stroke-linecap:round; stroke-linejoin:round; stroke-width:2; stroke-opacity:0.1; fill:none\" points=\"921.756,1423.18 921.756,123.472 \"/>\n",
       "<polyline clip-path=\"url(#clip132)\" style=\"stroke:#000000; stroke-linecap:round; stroke-linejoin:round; stroke-width:2; stroke-opacity:0.1; fill:none\" points=\"579.412,1423.18 579.412,123.472 \"/>\n",
       "<polyline clip-path=\"url(#clip132)\" style=\"stroke:#000000; stroke-linecap:round; stroke-linejoin:round; stroke-width:2; stroke-opacity:0.1; fill:none\" points=\"237.067,1423.18 237.067,123.472 \"/>\n",
       "<polyline clip-path=\"url(#clip130)\" style=\"stroke:#000000; stroke-linecap:round; stroke-linejoin:round; stroke-width:4; stroke-opacity:1; fill:none\" points=\"2352.76,1423.18 175.445,1423.18 \"/>\n",
       "<polyline clip-path=\"url(#clip130)\" style=\"stroke:#000000; stroke-linecap:round; stroke-linejoin:round; stroke-width:4; stroke-opacity:1; fill:none\" points=\"2291.13,1423.18 2291.13,1404.28 \"/>\n",
       "<polyline clip-path=\"url(#clip130)\" style=\"stroke:#000000; stroke-linecap:round; stroke-linejoin:round; stroke-width:4; stroke-opacity:1; fill:none\" points=\"1948.79,1423.18 1948.79,1404.28 \"/>\n",
       "<polyline clip-path=\"url(#clip130)\" style=\"stroke:#000000; stroke-linecap:round; stroke-linejoin:round; stroke-width:4; stroke-opacity:1; fill:none\" points=\"1606.45,1423.18 1606.45,1404.28 \"/>\n",
       "<polyline clip-path=\"url(#clip130)\" style=\"stroke:#000000; stroke-linecap:round; stroke-linejoin:round; stroke-width:4; stroke-opacity:1; fill:none\" points=\"1264.1,1423.18 1264.1,1404.28 \"/>\n",
       "<polyline clip-path=\"url(#clip130)\" style=\"stroke:#000000; stroke-linecap:round; stroke-linejoin:round; stroke-width:4; stroke-opacity:1; fill:none\" points=\"921.756,1423.18 921.756,1404.28 \"/>\n",
       "<polyline clip-path=\"url(#clip130)\" style=\"stroke:#000000; stroke-linecap:round; stroke-linejoin:round; stroke-width:4; stroke-opacity:1; fill:none\" points=\"579.412,1423.18 579.412,1404.28 \"/>\n",
       "<polyline clip-path=\"url(#clip130)\" style=\"stroke:#000000; stroke-linecap:round; stroke-linejoin:round; stroke-width:4; stroke-opacity:1; fill:none\" points=\"237.067,1423.18 237.067,1404.28 \"/>\n",
       "<path clip-path=\"url(#clip130)\" d=\"M2260.6 1468.75 L2290.28 1468.75 L2290.28 1472.69 L2260.6 1472.69 L2260.6 1468.75 Z\" fill=\"#000000\" fill-rule=\"nonzero\" fill-opacity=\"1\" /><path clip-path=\"url(#clip130)\" d=\"M2314.54 1466.95 Q2317.89 1467.66 2319.77 1469.93 Q2321.67 1472.2 2321.67 1475.53 Q2321.67 1480.65 2318.15 1483.45 Q2314.63 1486.25 2308.15 1486.25 Q2305.97 1486.25 2303.66 1485.81 Q2301.37 1485.39 2298.91 1484.54 L2298.91 1480.02 Q2300.86 1481.16 2303.17 1481.74 Q2305.49 1482.32 2308.01 1482.32 Q2312.41 1482.32 2314.7 1480.58 Q2317.01 1478.84 2317.01 1475.53 Q2317.01 1472.48 2314.86 1470.77 Q2312.73 1469.03 2308.91 1469.03 L2304.88 1469.03 L2304.88 1465.19 L2309.1 1465.19 Q2312.55 1465.19 2314.37 1463.82 Q2316.2 1462.43 2316.2 1459.84 Q2316.2 1457.18 2314.31 1455.77 Q2312.43 1454.33 2308.91 1454.33 Q2306.99 1454.33 2304.79 1454.75 Q2302.59 1455.16 2299.95 1456.04 L2299.95 1451.88 Q2302.62 1451.14 2304.93 1450.77 Q2307.27 1450.39 2309.33 1450.39 Q2314.65 1450.39 2317.75 1452.83 Q2320.86 1455.23 2320.86 1459.35 Q2320.86 1462.22 2319.21 1464.21 Q2317.57 1466.18 2314.54 1466.95 Z\" fill=\"#000000\" fill-rule=\"nonzero\" fill-opacity=\"1\" /><path clip-path=\"url(#clip130)\" d=\"M1918.73 1468.75 L1948.41 1468.75 L1948.41 1472.69 L1918.73 1472.69 L1918.73 1468.75 Z\" fill=\"#000000\" fill-rule=\"nonzero\" fill-opacity=\"1\" /><path clip-path=\"url(#clip130)\" d=\"M1962.53 1481.64 L1978.85 1481.64 L1978.85 1485.58 L1956.9 1485.58 L1956.9 1481.64 Q1959.56 1478.89 1964.15 1474.26 Q1968.75 1469.61 1969.94 1468.27 Q1972.18 1465.74 1973.06 1464.01 Q1973.96 1462.25 1973.96 1460.56 Q1973.96 1457.8 1972.02 1456.07 Q1970.1 1454.33 1967 1454.33 Q1964.8 1454.33 1962.34 1455.09 Q1959.91 1455.86 1957.13 1457.41 L1957.13 1452.69 Q1959.96 1451.55 1962.41 1450.97 Q1964.87 1450.39 1966.9 1450.39 Q1972.27 1450.39 1975.47 1453.08 Q1978.66 1455.77 1978.66 1460.26 Q1978.66 1462.39 1977.85 1464.31 Q1977.06 1466.2 1974.96 1468.8 Q1974.38 1469.47 1971.28 1472.69 Q1968.18 1475.88 1962.53 1481.64 Z\" fill=\"#000000\" fill-rule=\"nonzero\" fill-opacity=\"1\" /><path clip-path=\"url(#clip130)\" d=\"M1576.2 1468.75 L1605.88 1468.75 L1605.88 1472.69 L1576.2 1472.69 L1576.2 1468.75 Z\" fill=\"#000000\" fill-rule=\"nonzero\" fill-opacity=\"1\" /><path clip-path=\"url(#clip130)\" d=\"M1616.78 1481.64 L1624.42 1481.64 L1624.42 1455.28 L1616.11 1456.95 L1616.11 1452.69 L1624.37 1451.02 L1629.05 1451.02 L1629.05 1481.64 L1636.69 1481.64 L1636.69 1485.58 L1616.78 1485.58 L1616.78 1481.64 Z\" fill=\"#000000\" fill-rule=\"nonzero\" fill-opacity=\"1\" /><path clip-path=\"url(#clip130)\" d=\"M1264.1 1454.1 Q1260.49 1454.1 1258.66 1457.66 Q1256.86 1461.2 1256.86 1468.33 Q1256.86 1475.44 1258.66 1479.01 Q1260.49 1482.55 1264.1 1482.55 Q1267.73 1482.55 1269.54 1479.01 Q1271.37 1475.44 1271.37 1468.33 Q1271.37 1461.2 1269.54 1457.66 Q1267.73 1454.1 1264.1 1454.1 M1264.1 1450.39 Q1269.91 1450.39 1272.97 1455 Q1276.04 1459.58 1276.04 1468.33 Q1276.04 1477.06 1272.97 1481.67 Q1269.91 1486.25 1264.1 1486.25 Q1258.29 1486.25 1255.21 1481.67 Q1252.16 1477.06 1252.16 1468.33 Q1252.16 1459.58 1255.21 1455 Q1258.29 1450.39 1264.1 1450.39 Z\" fill=\"#000000\" fill-rule=\"nonzero\" fill-opacity=\"1\" /><path clip-path=\"url(#clip130)\" d=\"M912.138 1481.64 L919.777 1481.64 L919.777 1455.28 L911.467 1456.95 L911.467 1452.69 L919.731 1451.02 L924.407 1451.02 L924.407 1481.64 L932.045 1481.64 L932.045 1485.58 L912.138 1485.58 L912.138 1481.64 Z\" fill=\"#000000\" fill-rule=\"nonzero\" fill-opacity=\"1\" /><path clip-path=\"url(#clip130)\" d=\"M574.064 1481.64 L590.384 1481.64 L590.384 1485.58 L568.439 1485.58 L568.439 1481.64 Q571.102 1478.89 575.685 1474.26 Q580.291 1469.61 581.472 1468.27 Q583.717 1465.74 584.597 1464.01 Q585.5 1462.25 585.5 1460.56 Q585.5 1457.8 583.555 1456.07 Q581.634 1454.33 578.532 1454.33 Q576.333 1454.33 573.879 1455.09 Q571.449 1455.86 568.671 1457.41 L568.671 1452.69 Q571.495 1451.55 573.949 1450.97 Q576.402 1450.39 578.439 1450.39 Q583.81 1450.39 587.004 1453.08 Q590.199 1455.77 590.199 1460.26 Q590.199 1462.39 589.388 1464.31 Q588.601 1466.2 586.495 1468.8 Q585.916 1469.47 582.814 1472.69 Q579.713 1475.88 574.064 1481.64 Z\" fill=\"#000000\" fill-rule=\"nonzero\" fill-opacity=\"1\" /><path clip-path=\"url(#clip130)\" d=\"M241.315 1466.95 Q244.671 1467.66 246.546 1469.93 Q248.444 1472.2 248.444 1475.53 Q248.444 1480.65 244.926 1483.45 Q241.407 1486.25 234.926 1486.25 Q232.75 1486.25 230.435 1485.81 Q228.144 1485.39 225.69 1484.54 L225.69 1480.02 Q227.634 1481.16 229.949 1481.74 Q232.264 1482.32 234.787 1482.32 Q239.185 1482.32 241.477 1480.58 Q243.792 1478.84 243.792 1475.53 Q243.792 1472.48 241.639 1470.77 Q239.509 1469.03 235.69 1469.03 L231.662 1469.03 L231.662 1465.19 L235.875 1465.19 Q239.324 1465.19 241.153 1463.82 Q242.982 1462.43 242.982 1459.84 Q242.982 1457.18 241.083 1455.77 Q239.208 1454.33 235.69 1454.33 Q233.769 1454.33 231.57 1454.75 Q229.37 1455.16 226.732 1456.04 L226.732 1451.88 Q229.394 1451.14 231.708 1450.77 Q234.046 1450.39 236.107 1450.39 Q241.431 1450.39 244.532 1452.83 Q247.634 1455.23 247.634 1459.35 Q247.634 1462.22 245.991 1464.21 Q244.347 1466.18 241.315 1466.95 Z\" fill=\"#000000\" fill-rule=\"nonzero\" fill-opacity=\"1\" /><path clip-path=\"url(#clip130)\" d=\"M1205.58 1532.4 L1192.69 1549.74 L1206.25 1568.04 L1199.35 1568.04 L1188.97 1554.04 L1178.59 1568.04 L1171.69 1568.04 L1185.53 1549.39 L1172.86 1532.4 L1179.77 1532.4 L1189.22 1545.1 L1198.68 1532.4 L1205.58 1532.4 Z\" fill=\"#000000\" fill-rule=\"nonzero\" fill-opacity=\"1\" /><path clip-path=\"url(#clip130)\" d=\"M1251.45 1550.12 Q1244.35 1550.12 1241.61 1551.75 Q1238.88 1553.37 1238.88 1557.29 Q1238.88 1560.4 1240.91 1562.25 Q1242.98 1564.07 1246.52 1564.07 Q1251.39 1564.07 1254.31 1560.63 Q1257.27 1557.16 1257.27 1551.43 L1257.27 1550.12 L1251.45 1550.12 M1263.13 1547.71 L1263.13 1568.04 L1257.27 1568.04 L1257.27 1562.63 Q1255.27 1565.88 1252.28 1567.44 Q1249.28 1568.97 1244.96 1568.97 Q1239.48 1568.97 1236.23 1565.91 Q1233.02 1562.82 1233.02 1557.67 Q1233.02 1551.65 1237.03 1548.6 Q1241.07 1545.54 1249.06 1545.54 L1257.27 1545.54 L1257.27 1544.97 Q1257.27 1540.93 1254.6 1538.73 Q1251.96 1536.5 1247.15 1536.5 Q1244.1 1536.5 1241.2 1537.23 Q1238.3 1537.97 1235.63 1539.43 L1235.63 1534.02 Q1238.84 1532.78 1241.87 1532.17 Q1244.89 1531.54 1247.76 1531.54 Q1255.49 1531.54 1259.31 1535.55 Q1263.13 1539.56 1263.13 1547.71 Z\" fill=\"#000000\" fill-rule=\"nonzero\" fill-opacity=\"1\" /><path clip-path=\"url(#clip130)\" d=\"M1304.83 1532.4 L1291.93 1549.74 L1305.49 1568.04 L1298.59 1568.04 L1288.21 1554.04 L1277.83 1568.04 L1270.93 1568.04 L1284.77 1549.39 L1272.11 1532.4 L1279.01 1532.4 L1288.47 1545.1 L1297.92 1532.4 L1304.83 1532.4 Z\" fill=\"#000000\" fill-rule=\"nonzero\" fill-opacity=\"1\" /><path clip-path=\"url(#clip130)\" d=\"M1313.77 1532.4 L1319.63 1532.4 L1319.63 1568.04 L1313.77 1568.04 L1313.77 1532.4 M1313.77 1518.52 L1319.63 1518.52 L1319.63 1525.93 L1313.77 1525.93 L1313.77 1518.52 Z\" fill=\"#000000\" fill-rule=\"nonzero\" fill-opacity=\"1\" /><path clip-path=\"url(#clip130)\" d=\"M1354.6 1533.45 L1354.6 1538.98 Q1352.12 1537.71 1349.45 1537.07 Q1346.78 1536.44 1343.91 1536.44 Q1339.55 1536.44 1337.35 1537.77 Q1335.19 1539.11 1335.19 1541.79 Q1335.19 1543.82 1336.75 1545 Q1338.31 1546.15 1343.02 1547.2 L1345.02 1547.64 Q1351.26 1548.98 1353.87 1551.43 Q1356.51 1553.85 1356.51 1558.21 Q1356.51 1563.17 1352.57 1566.07 Q1348.65 1568.97 1341.78 1568.97 Q1338.91 1568.97 1335.79 1568.39 Q1332.71 1567.85 1329.27 1566.74 L1329.27 1560.69 Q1332.52 1562.38 1335.67 1563.24 Q1338.82 1564.07 1341.91 1564.07 Q1346.04 1564.07 1348.27 1562.66 Q1350.5 1561.23 1350.5 1558.65 Q1350.5 1556.27 1348.88 1554.99 Q1347.28 1553.72 1341.84 1552.54 L1339.8 1552.07 Q1334.36 1550.92 1331.94 1548.56 Q1329.52 1546.18 1329.52 1542.04 Q1329.52 1537.01 1333.09 1534.27 Q1336.65 1531.54 1343.21 1531.54 Q1346.46 1531.54 1349.32 1532.01 Q1352.19 1532.49 1354.6 1533.45 Z\" fill=\"#000000\" fill-rule=\"nonzero\" fill-opacity=\"1\" /><polyline clip-path=\"url(#clip132)\" style=\"stroke:#000000; stroke-linecap:round; stroke-linejoin:round; stroke-width:2; stroke-opacity:0.1; fill:none\" points=\"2352.76,1386.4 175.445,1386.4 \"/>\n",
       "<polyline clip-path=\"url(#clip132)\" style=\"stroke:#000000; stroke-linecap:round; stroke-linejoin:round; stroke-width:2; stroke-opacity:0.1; fill:none\" points=\"2352.76,1113.92 175.445,1113.92 \"/>\n",
       "<polyline clip-path=\"url(#clip132)\" style=\"stroke:#000000; stroke-linecap:round; stroke-linejoin:round; stroke-width:2; stroke-opacity:0.1; fill:none\" points=\"2352.76,841.445 175.445,841.445 \"/>\n",
       "<polyline clip-path=\"url(#clip132)\" style=\"stroke:#000000; stroke-linecap:round; stroke-linejoin:round; stroke-width:2; stroke-opacity:0.1; fill:none\" points=\"2352.76,568.969 175.445,568.969 \"/>\n",
       "<polyline clip-path=\"url(#clip132)\" style=\"stroke:#000000; stroke-linecap:round; stroke-linejoin:round; stroke-width:2; stroke-opacity:0.1; fill:none\" points=\"2352.76,296.494 175.445,296.494 \"/>\n",
       "<polyline clip-path=\"url(#clip130)\" style=\"stroke:#000000; stroke-linecap:round; stroke-linejoin:round; stroke-width:4; stroke-opacity:1; fill:none\" points=\"175.445,1423.18 175.445,123.472 \"/>\n",
       "<polyline clip-path=\"url(#clip130)\" style=\"stroke:#000000; stroke-linecap:round; stroke-linejoin:round; stroke-width:4; stroke-opacity:1; fill:none\" points=\"175.445,1386.4 194.343,1386.4 \"/>\n",
       "<polyline clip-path=\"url(#clip130)\" style=\"stroke:#000000; stroke-linecap:round; stroke-linejoin:round; stroke-width:4; stroke-opacity:1; fill:none\" points=\"175.445,1113.92 194.343,1113.92 \"/>\n",
       "<polyline clip-path=\"url(#clip130)\" style=\"stroke:#000000; stroke-linecap:round; stroke-linejoin:round; stroke-width:4; stroke-opacity:1; fill:none\" points=\"175.445,841.445 194.343,841.445 \"/>\n",
       "<polyline clip-path=\"url(#clip130)\" style=\"stroke:#000000; stroke-linecap:round; stroke-linejoin:round; stroke-width:4; stroke-opacity:1; fill:none\" points=\"175.445,568.969 194.343,568.969 \"/>\n",
       "<polyline clip-path=\"url(#clip130)\" style=\"stroke:#000000; stroke-linecap:round; stroke-linejoin:round; stroke-width:4; stroke-opacity:1; fill:none\" points=\"175.445,296.494 194.343,296.494 \"/>\n",
       "<path clip-path=\"url(#clip130)\" d=\"M127.501 1372.19 Q123.89 1372.19 122.061 1375.76 Q120.255 1379.3 120.255 1386.43 Q120.255 1393.54 122.061 1397.1 Q123.89 1400.64 127.501 1400.64 Q131.135 1400.64 132.941 1397.1 Q134.769 1393.54 134.769 1386.43 Q134.769 1379.3 132.941 1375.76 Q131.135 1372.19 127.501 1372.19 M127.501 1368.49 Q133.311 1368.49 136.367 1373.1 Q139.445 1377.68 139.445 1386.43 Q139.445 1395.16 136.367 1399.76 Q133.311 1404.35 127.501 1404.35 Q121.691 1404.35 118.612 1399.76 Q115.556 1395.16 115.556 1386.43 Q115.556 1377.68 118.612 1373.1 Q121.691 1368.49 127.501 1368.49 Z\" fill=\"#000000\" fill-rule=\"nonzero\" fill-opacity=\"1\" /><path clip-path=\"url(#clip130)\" d=\"M123.126 1127.27 L139.445 1127.27 L139.445 1131.2 L117.501 1131.2 L117.501 1127.27 Q120.163 1124.51 124.746 1119.88 Q129.353 1115.23 130.533 1113.89 Q132.779 1111.36 133.658 1109.63 Q134.561 1107.87 134.561 1106.18 Q134.561 1103.42 132.617 1101.69 Q130.695 1099.95 127.593 1099.95 Q125.394 1099.95 122.941 1100.71 Q120.51 1101.48 117.732 1103.03 L117.732 1098.31 Q120.556 1097.17 123.01 1096.59 Q125.464 1096.02 127.501 1096.02 Q132.871 1096.02 136.066 1098.7 Q139.26 1101.39 139.26 1105.88 Q139.26 1108.01 138.45 1109.93 Q137.663 1111.83 135.556 1114.42 Q134.978 1115.09 131.876 1118.31 Q128.774 1121.5 123.126 1127.27 Z\" fill=\"#000000\" fill-rule=\"nonzero\" fill-opacity=\"1\" /><path clip-path=\"url(#clip130)\" d=\"M129.862 828.239 L118.056 846.688 L129.862 846.688 L129.862 828.239 M128.635 824.165 L134.515 824.165 L134.515 846.688 L139.445 846.688 L139.445 850.577 L134.515 850.577 L134.515 858.725 L129.862 858.725 L129.862 850.577 L114.26 850.577 L114.26 846.063 L128.635 824.165 Z\" fill=\"#000000\" fill-rule=\"nonzero\" fill-opacity=\"1\" /><path clip-path=\"url(#clip130)\" d=\"M127.917 567.106 Q124.769 567.106 122.918 569.259 Q121.089 571.412 121.089 575.162 Q121.089 578.888 122.918 581.064 Q124.769 583.217 127.917 583.217 Q131.066 583.217 132.894 581.064 Q134.746 578.888 134.746 575.162 Q134.746 571.412 132.894 569.259 Q131.066 567.106 127.917 567.106 M137.2 552.453 L137.2 556.713 Q135.441 555.879 133.635 555.439 Q131.853 555 130.093 555 Q125.464 555 123.01 558.125 Q120.58 561.25 120.232 567.569 Q121.598 565.555 123.658 564.49 Q125.718 563.402 128.195 563.402 Q133.404 563.402 136.413 566.574 Q139.445 569.722 139.445 575.162 Q139.445 580.486 136.297 583.703 Q133.149 586.921 127.917 586.921 Q121.922 586.921 118.751 582.337 Q115.58 577.731 115.58 569.004 Q115.58 560.81 119.468 555.949 Q123.357 551.064 129.908 551.064 Q131.667 551.064 133.45 551.412 Q135.255 551.759 137.2 552.453 Z\" fill=\"#000000\" fill-rule=\"nonzero\" fill-opacity=\"1\" /><path clip-path=\"url(#clip130)\" d=\"M127.593 297.362 Q124.26 297.362 122.339 299.144 Q120.441 300.927 120.441 304.052 Q120.441 307.177 122.339 308.959 Q124.26 310.742 127.593 310.742 Q130.927 310.742 132.848 308.959 Q134.769 307.154 134.769 304.052 Q134.769 300.927 132.848 299.144 Q130.95 297.362 127.593 297.362 M122.918 295.371 Q119.908 294.631 118.218 292.57 Q116.552 290.51 116.552 287.547 Q116.552 283.404 119.492 280.996 Q122.455 278.589 127.593 278.589 Q132.755 278.589 135.695 280.996 Q138.635 283.404 138.635 287.547 Q138.635 290.51 136.945 292.57 Q135.279 294.631 132.292 295.371 Q135.672 296.158 137.547 298.45 Q139.445 300.742 139.445 304.052 Q139.445 309.075 136.367 311.76 Q133.311 314.445 127.593 314.445 Q121.876 314.445 118.797 311.76 Q115.742 309.075 115.742 304.052 Q115.742 300.742 117.64 298.45 Q119.538 296.158 122.918 295.371 M121.205 287.987 Q121.205 290.672 122.871 292.177 Q124.561 293.682 127.593 293.682 Q130.603 293.682 132.292 292.177 Q134.005 290.672 134.005 287.987 Q134.005 285.302 132.292 283.797 Q130.603 282.293 127.593 282.293 Q124.561 282.293 122.871 283.797 Q121.205 285.302 121.205 287.987 Z\" fill=\"#000000\" fill-rule=\"nonzero\" fill-opacity=\"1\" /><path clip-path=\"url(#clip130)\" d=\"M67.3143 846.675 Q73.68 849.157 75.6216 851.513 Q77.5631 853.868 77.5631 857.815 L77.5631 862.494 L72.6615 862.494 L72.6615 859.056 Q72.6615 856.637 71.5157 855.3 Q70.3699 853.964 66.1048 852.34 L63.4312 851.29 L28.3562 865.708 L28.3562 859.502 L56.238 848.362 L28.3562 837.222 L28.3562 831.015 L67.3143 846.675 Z\" fill=\"#000000\" fill-rule=\"nonzero\" fill-opacity=\"1\" /><path clip-path=\"url(#clip130)\" d=\"M46.0847 786.01 Q46.0847 793.107 47.7079 795.845 Q49.3312 798.582 53.2461 798.582 Q56.3653 798.582 58.2114 796.545 Q60.0256 794.476 60.0256 790.943 Q60.0256 786.073 56.5881 783.145 Q53.1188 780.185 47.3897 780.185 L46.0847 780.185 L46.0847 786.01 M43.6657 774.329 L64.0042 774.329 L64.0042 780.185 L58.5933 780.185 Q61.8398 782.19 63.3994 785.182 Q64.9272 788.174 64.9272 792.503 Q64.9272 797.977 61.8716 801.224 Q58.7843 804.438 53.6281 804.438 Q47.6125 804.438 44.5569 800.428 Q41.5014 796.386 41.5014 788.397 L41.5014 780.185 L40.9285 780.185 Q36.8862 780.185 34.6901 782.859 Q32.4621 785.5 32.4621 790.307 Q32.4621 793.362 33.1941 796.258 Q33.9262 799.155 35.3903 801.828 L29.9795 801.828 Q28.7381 798.614 28.1334 795.59 Q27.4968 792.566 27.4968 789.702 Q27.4968 781.967 31.5072 778.148 Q35.5176 774.329 43.6657 774.329 Z\" fill=\"#000000\" fill-rule=\"nonzero\" fill-opacity=\"1\" /><path clip-path=\"url(#clip130)\" d=\"M28.3562 732.633 L45.7028 745.524 L64.0042 731.965 L64.0042 738.872 L49.9996 749.248 L64.0042 759.624 L64.0042 766.531 L45.3526 752.685 L28.3562 765.353 L28.3562 758.446 L41.0558 748.993 L28.3562 739.54 L28.3562 732.633 Z\" fill=\"#000000\" fill-rule=\"nonzero\" fill-opacity=\"1\" /><path clip-path=\"url(#clip130)\" d=\"M28.3562 723.689 L28.3562 717.833 L64.0042 717.833 L64.0042 723.689 L28.3562 723.689 M14.479 723.689 L14.479 717.833 L21.895 717.833 L21.895 723.689 L14.479 723.689 Z\" fill=\"#000000\" fill-rule=\"nonzero\" fill-opacity=\"1\" /><path clip-path=\"url(#clip130)\" d=\"M29.4065 682.853 L34.9447 682.853 Q33.6716 685.336 33.035 688.01 Q32.3984 690.683 32.3984 693.548 Q32.3984 697.908 33.7352 700.104 Q35.072 702.269 37.7456 702.269 Q39.7826 702.269 40.9603 700.709 Q42.1061 699.15 43.1565 694.439 L43.6021 692.434 Q44.9389 686.195 47.3897 683.585 Q49.8086 680.944 54.1691 680.944 Q59.1344 680.944 62.0308 684.89 Q64.9272 688.805 64.9272 695.68 Q64.9272 698.545 64.3543 701.664 Q63.8132 704.751 62.6992 708.189 L56.6518 708.189 Q58.3387 704.942 59.198 701.791 Q60.0256 698.64 60.0256 695.553 Q60.0256 691.415 58.6251 689.187 Q57.1929 686.959 54.6147 686.959 Q52.2276 686.959 50.9545 688.583 Q49.6813 690.174 48.5037 695.617 L48.0262 697.654 Q46.8804 703.096 44.5251 705.515 Q42.138 707.934 38.0002 707.934 Q32.9713 707.934 30.2341 704.369 Q27.4968 700.805 27.4968 694.248 Q27.4968 691.001 27.9743 688.137 Q28.4517 685.272 29.4065 682.853 Z\" fill=\"#000000\" fill-rule=\"nonzero\" fill-opacity=\"1\" /><path clip-path=\"url(#clip130)\" d=\"M1110.17 43.6931 L1110.17 65.8515 L1123.29 65.8515 Q1129.89 65.8515 1133.05 63.1374 Q1136.25 60.3828 1136.25 54.752 Q1136.25 49.0808 1133.05 46.4072 Q1129.89 43.6931 1123.29 43.6931 L1110.17 43.6931 M1110.17 18.8205 L1110.17 37.0496 L1122.28 37.0496 Q1128.27 37.0496 1131.19 34.8216 Q1134.15 32.5531 1134.15 27.935 Q1134.15 23.3575 1131.19 21.089 Q1128.27 18.8205 1122.28 18.8205 L1110.17 18.8205 M1101.98 12.096 L1122.89 12.096 Q1132.24 12.096 1137.31 15.9849 Q1142.37 19.8737 1142.37 27.0438 Q1142.37 32.5936 1139.78 35.8748 Q1137.19 39.156 1132.16 39.9662 Q1138.2 41.2625 1141.52 45.3944 Q1144.88 49.4858 1144.88 55.6432 Q1144.88 63.745 1139.37 68.1605 Q1133.86 72.576 1123.7 72.576 L1101.98 72.576 L1101.98 12.096 Z\" fill=\"#000000\" fill-rule=\"nonzero\" fill-opacity=\"1\" /><path clip-path=\"url(#clip130)\" d=\"M1158.57 27.2059 L1166.03 27.2059 L1166.03 72.576 L1158.57 72.576 L1158.57 27.2059 M1158.57 9.54393 L1166.03 9.54393 L1166.03 18.9825 L1158.57 18.9825 L1158.57 9.54393 Z\" fill=\"#000000\" fill-rule=\"nonzero\" fill-opacity=\"1\" /><path clip-path=\"url(#clip130)\" d=\"M1211.48 49.3643 Q1211.48 41.2625 1208.12 36.8065 Q1204.8 32.3505 1198.76 32.3505 Q1192.76 32.3505 1189.4 36.8065 Q1186.08 41.2625 1186.08 49.3643 Q1186.08 57.4256 1189.4 61.8816 Q1192.76 66.3376 1198.76 66.3376 Q1204.8 66.3376 1208.12 61.8816 Q1211.48 57.4256 1211.48 49.3643 M1218.93 66.9452 Q1218.93 78.5308 1213.79 84.1616 Q1208.64 89.8329 1198.03 89.8329 Q1194.1 89.8329 1190.62 89.2252 Q1187.13 88.6581 1183.85 87.4428 L1183.85 80.1917 Q1187.13 81.9741 1190.33 82.8248 Q1193.53 83.6755 1196.86 83.6755 Q1204.19 83.6755 1207.83 79.8271 Q1211.48 76.0193 1211.48 68.282 L1211.48 64.5957 Q1209.17 68.6061 1205.56 70.5911 Q1201.96 72.576 1196.94 72.576 Q1188.59 72.576 1183.49 66.2161 Q1178.38 59.8562 1178.38 49.3643 Q1178.38 38.832 1183.49 32.472 Q1188.59 26.1121 1196.94 26.1121 Q1201.96 26.1121 1205.56 28.0971 Q1209.17 30.082 1211.48 34.0924 L1211.48 27.2059 L1218.93 27.2059 L1218.93 66.9452 Z\" fill=\"#000000\" fill-rule=\"nonzero\" fill-opacity=\"1\" /><path clip-path=\"url(#clip130)\" d=\"M1252.6 12.096 L1303.76 12.096 L1303.76 18.9825 L1282.29 18.9825 L1282.29 72.576 L1274.07 72.576 L1274.07 18.9825 L1252.6 18.9825 L1252.6 12.096 Z\" fill=\"#000000\" fill-rule=\"nonzero\" fill-opacity=\"1\" /><path clip-path=\"url(#clip130)\" d=\"M1308.78 27.2059 L1316.24 27.2059 L1316.24 72.576 L1308.78 72.576 L1308.78 27.2059 M1308.78 9.54393 L1316.24 9.54393 L1316.24 18.9825 L1308.78 18.9825 L1308.78 9.54393 Z\" fill=\"#000000\" fill-rule=\"nonzero\" fill-opacity=\"1\" /><path clip-path=\"url(#clip130)\" d=\"M1339.2 14.324 L1339.2 27.2059 L1354.56 27.2059 L1354.56 32.9987 L1339.2 32.9987 L1339.2 57.6282 Q1339.2 63.1779 1340.7 64.7578 Q1342.24 66.3376 1346.9 66.3376 L1354.56 66.3376 L1354.56 72.576 L1346.9 72.576 Q1338.27 72.576 1334.99 69.3758 Q1331.71 66.1351 1331.71 57.6282 L1331.71 32.9987 L1326.24 32.9987 L1326.24 27.2059 L1331.71 27.2059 L1331.71 14.324 L1339.2 14.324 Z\" fill=\"#000000\" fill-rule=\"nonzero\" fill-opacity=\"1\" /><path clip-path=\"url(#clip130)\" d=\"M1364.36 9.54393 L1371.81 9.54393 L1371.81 72.576 L1364.36 72.576 L1364.36 9.54393 Z\" fill=\"#000000\" fill-rule=\"nonzero\" fill-opacity=\"1\" /><path clip-path=\"url(#clip130)\" d=\"M1426.22 48.0275 L1426.22 51.6733 L1391.95 51.6733 Q1392.43 59.3701 1396.57 63.421 Q1400.74 67.4314 1408.15 67.4314 Q1412.44 67.4314 1416.46 66.3781 Q1420.51 65.3249 1424.48 63.2184 L1424.48 70.267 Q1420.47 71.9684 1416.25 72.8596 Q1412.04 73.7508 1407.71 73.7508 Q1396.85 73.7508 1390.49 67.4314 Q1384.17 61.1119 1384.17 50.3365 Q1384.17 39.1965 1390.16 32.6746 Q1396.2 26.1121 1406.41 26.1121 Q1415.56 26.1121 1420.87 32.0264 Q1426.22 37.9003 1426.22 48.0275 M1418.76 45.84 Q1418.68 39.7232 1415.32 36.0774 Q1412 32.4315 1406.49 32.4315 Q1400.25 32.4315 1396.48 35.9558 Q1392.76 39.4801 1392.19 45.8805 L1418.76 45.84 Z\" fill=\"#000000\" fill-rule=\"nonzero\" fill-opacity=\"1\" /><polyline clip-path=\"url(#clip132)\" style=\"stroke:#009af9; stroke-linecap:round; stroke-linejoin:round; stroke-width:4; stroke-opacity:1; fill:none\" points=\"2291.13,160.256 2256.9,240.637 2222.67,318.292 2188.43,393.223 2154.2,465.429 2119.96,534.91 2085.73,601.666 2051.49,665.698 2017.26,727.005 1983.02,785.587 1948.79,841.445 1914.56,894.578 1880.32,944.985 1846.09,992.669 1811.85,1037.63 1777.62,1079.86 1743.38,1119.37 1709.15,1156.15 1674.91,1190.21 1640.68,1221.55 1606.45,1250.16 1572.21,1276.04 1537.98,1299.2 1503.74,1319.64 1469.51,1337.35 1435.27,1352.34 1401.04,1364.6 1366.8,1374.13 1332.57,1380.95 1298.34,1385.03 1264.1,1386.4 1229.87,1385.03 1195.63,1380.95 1161.4,1374.13 1127.16,1364.6 1092.93,1352.34 1058.69,1337.35 1024.46,1319.64 990.225,1299.2 955.991,1276.04 921.756,1250.16 887.522,1221.55 853.287,1190.21 819.053,1156.15 784.818,1119.37 750.584,1079.86 716.349,1037.63 682.115,992.669 647.881,944.985 613.646,894.578 579.412,841.445 545.177,785.587 510.943,727.005 476.708,665.698 442.474,601.666 408.239,534.91 374.005,465.429 339.771,393.223 305.536,318.292 271.302,240.637 237.067,160.256 \"/>\n",
       "<circle clip-path=\"url(#clip132)\" cx=\"2291.13\" cy=\"160.256\" r=\"14.4\" fill=\"#e26f46\" fill-rule=\"evenodd\" fill-opacity=\"1\" stroke=\"#000000\" stroke-opacity=\"1\" stroke-width=\"3.2\"/>\n",
       "<circle clip-path=\"url(#clip132)\" cx=\"2256.9\" cy=\"240.637\" r=\"14.4\" fill=\"#e26f46\" fill-rule=\"evenodd\" fill-opacity=\"1\" stroke=\"#000000\" stroke-opacity=\"1\" stroke-width=\"3.2\"/>\n",
       "<circle clip-path=\"url(#clip132)\" cx=\"2222.67\" cy=\"318.292\" r=\"14.4\" fill=\"#e26f46\" fill-rule=\"evenodd\" fill-opacity=\"1\" stroke=\"#000000\" stroke-opacity=\"1\" stroke-width=\"3.2\"/>\n",
       "<circle clip-path=\"url(#clip132)\" cx=\"2188.43\" cy=\"393.223\" r=\"14.4\" fill=\"#e26f46\" fill-rule=\"evenodd\" fill-opacity=\"1\" stroke=\"#000000\" stroke-opacity=\"1\" stroke-width=\"3.2\"/>\n",
       "<circle clip-path=\"url(#clip132)\" cx=\"2154.2\" cy=\"465.429\" r=\"14.4\" fill=\"#e26f46\" fill-rule=\"evenodd\" fill-opacity=\"1\" stroke=\"#000000\" stroke-opacity=\"1\" stroke-width=\"3.2\"/>\n",
       "<circle clip-path=\"url(#clip132)\" cx=\"2119.96\" cy=\"534.91\" r=\"14.4\" fill=\"#e26f46\" fill-rule=\"evenodd\" fill-opacity=\"1\" stroke=\"#000000\" stroke-opacity=\"1\" stroke-width=\"3.2\"/>\n",
       "<circle clip-path=\"url(#clip132)\" cx=\"2085.73\" cy=\"601.666\" r=\"14.4\" fill=\"#e26f46\" fill-rule=\"evenodd\" fill-opacity=\"1\" stroke=\"#000000\" stroke-opacity=\"1\" stroke-width=\"3.2\"/>\n",
       "<circle clip-path=\"url(#clip132)\" cx=\"2051.49\" cy=\"665.698\" r=\"14.4\" fill=\"#e26f46\" fill-rule=\"evenodd\" fill-opacity=\"1\" stroke=\"#000000\" stroke-opacity=\"1\" stroke-width=\"3.2\"/>\n",
       "<circle clip-path=\"url(#clip132)\" cx=\"2017.26\" cy=\"727.005\" r=\"14.4\" fill=\"#e26f46\" fill-rule=\"evenodd\" fill-opacity=\"1\" stroke=\"#000000\" stroke-opacity=\"1\" stroke-width=\"3.2\"/>\n",
       "<circle clip-path=\"url(#clip132)\" cx=\"1983.02\" cy=\"785.587\" r=\"14.4\" fill=\"#e26f46\" fill-rule=\"evenodd\" fill-opacity=\"1\" stroke=\"#000000\" stroke-opacity=\"1\" stroke-width=\"3.2\"/>\n",
       "<circle clip-path=\"url(#clip132)\" cx=\"1948.79\" cy=\"841.445\" r=\"14.4\" fill=\"#e26f46\" fill-rule=\"evenodd\" fill-opacity=\"1\" stroke=\"#000000\" stroke-opacity=\"1\" stroke-width=\"3.2\"/>\n",
       "<circle clip-path=\"url(#clip132)\" cx=\"1914.56\" cy=\"894.578\" r=\"14.4\" fill=\"#e26f46\" fill-rule=\"evenodd\" fill-opacity=\"1\" stroke=\"#000000\" stroke-opacity=\"1\" stroke-width=\"3.2\"/>\n",
       "<circle clip-path=\"url(#clip132)\" cx=\"1880.32\" cy=\"944.985\" r=\"14.4\" fill=\"#e26f46\" fill-rule=\"evenodd\" fill-opacity=\"1\" stroke=\"#000000\" stroke-opacity=\"1\" stroke-width=\"3.2\"/>\n",
       "<circle clip-path=\"url(#clip132)\" cx=\"1846.09\" cy=\"992.669\" r=\"14.4\" fill=\"#e26f46\" fill-rule=\"evenodd\" fill-opacity=\"1\" stroke=\"#000000\" stroke-opacity=\"1\" stroke-width=\"3.2\"/>\n",
       "<circle clip-path=\"url(#clip132)\" cx=\"1811.85\" cy=\"1037.63\" r=\"14.4\" fill=\"#e26f46\" fill-rule=\"evenodd\" fill-opacity=\"1\" stroke=\"#000000\" stroke-opacity=\"1\" stroke-width=\"3.2\"/>\n",
       "<circle clip-path=\"url(#clip132)\" cx=\"1777.62\" cy=\"1079.86\" r=\"14.4\" fill=\"#e26f46\" fill-rule=\"evenodd\" fill-opacity=\"1\" stroke=\"#000000\" stroke-opacity=\"1\" stroke-width=\"3.2\"/>\n",
       "<circle clip-path=\"url(#clip132)\" cx=\"1743.38\" cy=\"1119.37\" r=\"14.4\" fill=\"#e26f46\" fill-rule=\"evenodd\" fill-opacity=\"1\" stroke=\"#000000\" stroke-opacity=\"1\" stroke-width=\"3.2\"/>\n",
       "<circle clip-path=\"url(#clip132)\" cx=\"1709.15\" cy=\"1156.15\" r=\"14.4\" fill=\"#e26f46\" fill-rule=\"evenodd\" fill-opacity=\"1\" stroke=\"#000000\" stroke-opacity=\"1\" stroke-width=\"3.2\"/>\n",
       "<circle clip-path=\"url(#clip132)\" cx=\"1674.91\" cy=\"1190.21\" r=\"14.4\" fill=\"#e26f46\" fill-rule=\"evenodd\" fill-opacity=\"1\" stroke=\"#000000\" stroke-opacity=\"1\" stroke-width=\"3.2\"/>\n",
       "<circle clip-path=\"url(#clip132)\" cx=\"1640.68\" cy=\"1221.55\" r=\"14.4\" fill=\"#e26f46\" fill-rule=\"evenodd\" fill-opacity=\"1\" stroke=\"#000000\" stroke-opacity=\"1\" stroke-width=\"3.2\"/>\n",
       "<circle clip-path=\"url(#clip132)\" cx=\"1606.45\" cy=\"1250.16\" r=\"14.4\" fill=\"#e26f46\" fill-rule=\"evenodd\" fill-opacity=\"1\" stroke=\"#000000\" stroke-opacity=\"1\" stroke-width=\"3.2\"/>\n",
       "<circle clip-path=\"url(#clip132)\" cx=\"1572.21\" cy=\"1276.04\" r=\"14.4\" fill=\"#e26f46\" fill-rule=\"evenodd\" fill-opacity=\"1\" stroke=\"#000000\" stroke-opacity=\"1\" stroke-width=\"3.2\"/>\n",
       "<circle clip-path=\"url(#clip132)\" cx=\"1537.98\" cy=\"1299.2\" r=\"14.4\" fill=\"#e26f46\" fill-rule=\"evenodd\" fill-opacity=\"1\" stroke=\"#000000\" stroke-opacity=\"1\" stroke-width=\"3.2\"/>\n",
       "<circle clip-path=\"url(#clip132)\" cx=\"1503.74\" cy=\"1319.64\" r=\"14.4\" fill=\"#e26f46\" fill-rule=\"evenodd\" fill-opacity=\"1\" stroke=\"#000000\" stroke-opacity=\"1\" stroke-width=\"3.2\"/>\n",
       "<circle clip-path=\"url(#clip132)\" cx=\"1469.51\" cy=\"1337.35\" r=\"14.4\" fill=\"#e26f46\" fill-rule=\"evenodd\" fill-opacity=\"1\" stroke=\"#000000\" stroke-opacity=\"1\" stroke-width=\"3.2\"/>\n",
       "<circle clip-path=\"url(#clip132)\" cx=\"1435.27\" cy=\"1352.34\" r=\"14.4\" fill=\"#e26f46\" fill-rule=\"evenodd\" fill-opacity=\"1\" stroke=\"#000000\" stroke-opacity=\"1\" stroke-width=\"3.2\"/>\n",
       "<circle clip-path=\"url(#clip132)\" cx=\"1401.04\" cy=\"1364.6\" r=\"14.4\" fill=\"#e26f46\" fill-rule=\"evenodd\" fill-opacity=\"1\" stroke=\"#000000\" stroke-opacity=\"1\" stroke-width=\"3.2\"/>\n",
       "<circle clip-path=\"url(#clip132)\" cx=\"1366.8\" cy=\"1374.13\" r=\"14.4\" fill=\"#e26f46\" fill-rule=\"evenodd\" fill-opacity=\"1\" stroke=\"#000000\" stroke-opacity=\"1\" stroke-width=\"3.2\"/>\n",
       "<circle clip-path=\"url(#clip132)\" cx=\"1332.57\" cy=\"1380.95\" r=\"14.4\" fill=\"#e26f46\" fill-rule=\"evenodd\" fill-opacity=\"1\" stroke=\"#000000\" stroke-opacity=\"1\" stroke-width=\"3.2\"/>\n",
       "<circle clip-path=\"url(#clip132)\" cx=\"1298.34\" cy=\"1385.03\" r=\"14.4\" fill=\"#e26f46\" fill-rule=\"evenodd\" fill-opacity=\"1\" stroke=\"#000000\" stroke-opacity=\"1\" stroke-width=\"3.2\"/>\n",
       "<circle clip-path=\"url(#clip132)\" cx=\"1264.1\" cy=\"1386.4\" r=\"14.4\" fill=\"#e26f46\" fill-rule=\"evenodd\" fill-opacity=\"1\" stroke=\"#000000\" stroke-opacity=\"1\" stroke-width=\"3.2\"/>\n",
       "<circle clip-path=\"url(#clip132)\" cx=\"1229.87\" cy=\"1385.03\" r=\"14.4\" fill=\"#e26f46\" fill-rule=\"evenodd\" fill-opacity=\"1\" stroke=\"#000000\" stroke-opacity=\"1\" stroke-width=\"3.2\"/>\n",
       "<circle clip-path=\"url(#clip132)\" cx=\"1195.63\" cy=\"1380.95\" r=\"14.4\" fill=\"#e26f46\" fill-rule=\"evenodd\" fill-opacity=\"1\" stroke=\"#000000\" stroke-opacity=\"1\" stroke-width=\"3.2\"/>\n",
       "<circle clip-path=\"url(#clip132)\" cx=\"1161.4\" cy=\"1374.13\" r=\"14.4\" fill=\"#e26f46\" fill-rule=\"evenodd\" fill-opacity=\"1\" stroke=\"#000000\" stroke-opacity=\"1\" stroke-width=\"3.2\"/>\n",
       "<circle clip-path=\"url(#clip132)\" cx=\"1127.16\" cy=\"1364.6\" r=\"14.4\" fill=\"#e26f46\" fill-rule=\"evenodd\" fill-opacity=\"1\" stroke=\"#000000\" stroke-opacity=\"1\" stroke-width=\"3.2\"/>\n",
       "<circle clip-path=\"url(#clip132)\" cx=\"1092.93\" cy=\"1352.34\" r=\"14.4\" fill=\"#e26f46\" fill-rule=\"evenodd\" fill-opacity=\"1\" stroke=\"#000000\" stroke-opacity=\"1\" stroke-width=\"3.2\"/>\n",
       "<circle clip-path=\"url(#clip132)\" cx=\"1058.69\" cy=\"1337.35\" r=\"14.4\" fill=\"#e26f46\" fill-rule=\"evenodd\" fill-opacity=\"1\" stroke=\"#000000\" stroke-opacity=\"1\" stroke-width=\"3.2\"/>\n",
       "<circle clip-path=\"url(#clip132)\" cx=\"1024.46\" cy=\"1319.64\" r=\"14.4\" fill=\"#e26f46\" fill-rule=\"evenodd\" fill-opacity=\"1\" stroke=\"#000000\" stroke-opacity=\"1\" stroke-width=\"3.2\"/>\n",
       "<circle clip-path=\"url(#clip132)\" cx=\"990.225\" cy=\"1299.2\" r=\"14.4\" fill=\"#e26f46\" fill-rule=\"evenodd\" fill-opacity=\"1\" stroke=\"#000000\" stroke-opacity=\"1\" stroke-width=\"3.2\"/>\n",
       "<circle clip-path=\"url(#clip132)\" cx=\"955.991\" cy=\"1276.04\" r=\"14.4\" fill=\"#e26f46\" fill-rule=\"evenodd\" fill-opacity=\"1\" stroke=\"#000000\" stroke-opacity=\"1\" stroke-width=\"3.2\"/>\n",
       "<circle clip-path=\"url(#clip132)\" cx=\"921.756\" cy=\"1250.16\" r=\"14.4\" fill=\"#e26f46\" fill-rule=\"evenodd\" fill-opacity=\"1\" stroke=\"#000000\" stroke-opacity=\"1\" stroke-width=\"3.2\"/>\n",
       "<circle clip-path=\"url(#clip132)\" cx=\"887.522\" cy=\"1221.55\" r=\"14.4\" fill=\"#e26f46\" fill-rule=\"evenodd\" fill-opacity=\"1\" stroke=\"#000000\" stroke-opacity=\"1\" stroke-width=\"3.2\"/>\n",
       "<circle clip-path=\"url(#clip132)\" cx=\"853.287\" cy=\"1190.21\" r=\"14.4\" fill=\"#e26f46\" fill-rule=\"evenodd\" fill-opacity=\"1\" stroke=\"#000000\" stroke-opacity=\"1\" stroke-width=\"3.2\"/>\n",
       "<circle clip-path=\"url(#clip132)\" cx=\"819.053\" cy=\"1156.15\" r=\"14.4\" fill=\"#e26f46\" fill-rule=\"evenodd\" fill-opacity=\"1\" stroke=\"#000000\" stroke-opacity=\"1\" stroke-width=\"3.2\"/>\n",
       "<circle clip-path=\"url(#clip132)\" cx=\"784.818\" cy=\"1119.37\" r=\"14.4\" fill=\"#e26f46\" fill-rule=\"evenodd\" fill-opacity=\"1\" stroke=\"#000000\" stroke-opacity=\"1\" stroke-width=\"3.2\"/>\n",
       "<circle clip-path=\"url(#clip132)\" cx=\"750.584\" cy=\"1079.86\" r=\"14.4\" fill=\"#e26f46\" fill-rule=\"evenodd\" fill-opacity=\"1\" stroke=\"#000000\" stroke-opacity=\"1\" stroke-width=\"3.2\"/>\n",
       "<circle clip-path=\"url(#clip132)\" cx=\"716.349\" cy=\"1037.63\" r=\"14.4\" fill=\"#e26f46\" fill-rule=\"evenodd\" fill-opacity=\"1\" stroke=\"#000000\" stroke-opacity=\"1\" stroke-width=\"3.2\"/>\n",
       "<circle clip-path=\"url(#clip132)\" cx=\"682.115\" cy=\"992.669\" r=\"14.4\" fill=\"#e26f46\" fill-rule=\"evenodd\" fill-opacity=\"1\" stroke=\"#000000\" stroke-opacity=\"1\" stroke-width=\"3.2\"/>\n",
       "<circle clip-path=\"url(#clip132)\" cx=\"647.881\" cy=\"944.985\" r=\"14.4\" fill=\"#e26f46\" fill-rule=\"evenodd\" fill-opacity=\"1\" stroke=\"#000000\" stroke-opacity=\"1\" stroke-width=\"3.2\"/>\n",
       "<circle clip-path=\"url(#clip132)\" cx=\"613.646\" cy=\"894.578\" r=\"14.4\" fill=\"#e26f46\" fill-rule=\"evenodd\" fill-opacity=\"1\" stroke=\"#000000\" stroke-opacity=\"1\" stroke-width=\"3.2\"/>\n",
       "<circle clip-path=\"url(#clip132)\" cx=\"579.412\" cy=\"841.445\" r=\"14.4\" fill=\"#e26f46\" fill-rule=\"evenodd\" fill-opacity=\"1\" stroke=\"#000000\" stroke-opacity=\"1\" stroke-width=\"3.2\"/>\n",
       "<circle clip-path=\"url(#clip132)\" cx=\"545.177\" cy=\"785.587\" r=\"14.4\" fill=\"#e26f46\" fill-rule=\"evenodd\" fill-opacity=\"1\" stroke=\"#000000\" stroke-opacity=\"1\" stroke-width=\"3.2\"/>\n",
       "<circle clip-path=\"url(#clip132)\" cx=\"510.943\" cy=\"727.005\" r=\"14.4\" fill=\"#e26f46\" fill-rule=\"evenodd\" fill-opacity=\"1\" stroke=\"#000000\" stroke-opacity=\"1\" stroke-width=\"3.2\"/>\n",
       "<circle clip-path=\"url(#clip132)\" cx=\"476.708\" cy=\"665.698\" r=\"14.4\" fill=\"#e26f46\" fill-rule=\"evenodd\" fill-opacity=\"1\" stroke=\"#000000\" stroke-opacity=\"1\" stroke-width=\"3.2\"/>\n",
       "<circle clip-path=\"url(#clip132)\" cx=\"442.474\" cy=\"601.666\" r=\"14.4\" fill=\"#e26f46\" fill-rule=\"evenodd\" fill-opacity=\"1\" stroke=\"#000000\" stroke-opacity=\"1\" stroke-width=\"3.2\"/>\n",
       "<circle clip-path=\"url(#clip132)\" cx=\"408.239\" cy=\"534.91\" r=\"14.4\" fill=\"#e26f46\" fill-rule=\"evenodd\" fill-opacity=\"1\" stroke=\"#000000\" stroke-opacity=\"1\" stroke-width=\"3.2\"/>\n",
       "<circle clip-path=\"url(#clip132)\" cx=\"374.005\" cy=\"465.429\" r=\"14.4\" fill=\"#e26f46\" fill-rule=\"evenodd\" fill-opacity=\"1\" stroke=\"#000000\" stroke-opacity=\"1\" stroke-width=\"3.2\"/>\n",
       "<circle clip-path=\"url(#clip132)\" cx=\"339.771\" cy=\"393.223\" r=\"14.4\" fill=\"#e26f46\" fill-rule=\"evenodd\" fill-opacity=\"1\" stroke=\"#000000\" stroke-opacity=\"1\" stroke-width=\"3.2\"/>\n",
       "<circle clip-path=\"url(#clip132)\" cx=\"305.536\" cy=\"318.292\" r=\"14.4\" fill=\"#e26f46\" fill-rule=\"evenodd\" fill-opacity=\"1\" stroke=\"#000000\" stroke-opacity=\"1\" stroke-width=\"3.2\"/>\n",
       "<circle clip-path=\"url(#clip132)\" cx=\"271.302\" cy=\"240.637\" r=\"14.4\" fill=\"#e26f46\" fill-rule=\"evenodd\" fill-opacity=\"1\" stroke=\"#000000\" stroke-opacity=\"1\" stroke-width=\"3.2\"/>\n",
       "<circle clip-path=\"url(#clip132)\" cx=\"237.067\" cy=\"160.256\" r=\"14.4\" fill=\"#e26f46\" fill-rule=\"evenodd\" fill-opacity=\"1\" stroke=\"#000000\" stroke-opacity=\"1\" stroke-width=\"3.2\"/>\n",
       "<path clip-path=\"url(#clip130)\" d=\"M1923.47 1379.86 L2280.18 1379.86 L2280.18 1224.34 L1923.47 1224.34  Z\" fill=\"#ffffff\" fill-rule=\"evenodd\" fill-opacity=\"1\"/>\n",
       "<polyline clip-path=\"url(#clip130)\" style=\"stroke:#000000; stroke-linecap:round; stroke-linejoin:round; stroke-width:4; stroke-opacity:1; fill:none\" points=\"1923.47,1379.86 2280.18,1379.86 2280.18,1224.34 1923.47,1224.34 1923.47,1379.86 \"/>\n",
       "<polyline clip-path=\"url(#clip130)\" style=\"stroke:#009af9; stroke-linecap:round; stroke-linejoin:round; stroke-width:4; stroke-opacity:1; fill:none\" points=\"1947.66,1276.18 2092.81,1276.18 \"/>\n",
       "<path clip-path=\"url(#clip130)\" d=\"M2117.01 1257.44 L2121.27 1257.44 L2121.27 1293.46 L2117.01 1293.46 L2117.01 1257.44 Z\" fill=\"#000000\" fill-rule=\"nonzero\" fill-opacity=\"1\" /><path clip-path=\"url(#clip130)\" d=\"M2130.18 1267.53 L2134.44 1267.53 L2134.44 1293.46 L2130.18 1293.46 L2130.18 1267.53 M2130.18 1257.44 L2134.44 1257.44 L2134.44 1262.83 L2130.18 1262.83 L2130.18 1257.44 Z\" fill=\"#000000\" fill-rule=\"nonzero\" fill-opacity=\"1\" /><path clip-path=\"url(#clip130)\" d=\"M2164.9 1277.81 L2164.9 1293.46 L2160.64 1293.46 L2160.64 1277.95 Q2160.64 1274.27 2159.2 1272.44 Q2157.77 1270.61 2154.9 1270.61 Q2151.45 1270.61 2149.46 1272.81 Q2147.47 1275.01 2147.47 1278.8 L2147.47 1293.46 L2143.19 1293.46 L2143.19 1267.53 L2147.47 1267.53 L2147.47 1271.56 Q2149 1269.22 2151.06 1268.06 Q2153.14 1266.91 2155.85 1266.91 Q2160.32 1266.91 2162.61 1269.68 Q2164.9 1272.44 2164.9 1277.81 Z\" fill=\"#000000\" fill-rule=\"nonzero\" fill-opacity=\"1\" /><path clip-path=\"url(#clip130)\" d=\"M2195.57 1279.43 L2195.57 1281.51 L2175.99 1281.51 Q2176.26 1285.91 2178.63 1288.22 Q2181.01 1290.52 2185.25 1290.52 Q2187.7 1290.52 2189.99 1289.91 Q2192.31 1289.31 2194.57 1288.11 L2194.57 1292.14 Q2192.28 1293.11 2189.88 1293.62 Q2187.47 1294.13 2184.99 1294.13 Q2178.79 1294.13 2175.15 1290.52 Q2171.54 1286.91 2171.54 1280.75 Q2171.54 1274.38 2174.97 1270.66 Q2178.42 1266.91 2184.25 1266.91 Q2189.48 1266.91 2192.51 1270.29 Q2195.57 1273.64 2195.57 1279.43 M2191.31 1278.18 Q2191.26 1274.68 2189.34 1272.6 Q2187.45 1270.52 2184.3 1270.52 Q2180.73 1270.52 2178.58 1272.53 Q2176.45 1274.54 2176.13 1278.2 L2191.31 1278.18 Z\" fill=\"#000000\" fill-rule=\"nonzero\" fill-opacity=\"1\" /><circle clip-path=\"url(#clip130)\" cx=\"2020.24\" cy=\"1328.02\" r=\"20.48\" fill=\"#e26f46\" fill-rule=\"evenodd\" fill-opacity=\"1\" stroke=\"#000000\" stroke-opacity=\"1\" stroke-width=\"4.55111\"/>\n",
       "<path clip-path=\"url(#clip130)\" d=\"M2121.29 1341.41 L2121.29 1355.16 L2117.01 1355.16 L2117.01 1319.37 L2121.29 1319.37 L2121.29 1323.31 Q2122.63 1320.99 2124.67 1319.88 Q2126.73 1318.75 2129.58 1318.75 Q2134.3 1318.75 2137.24 1322.5 Q2140.2 1326.25 2140.2 1332.36 Q2140.2 1338.47 2137.24 1342.22 Q2134.3 1345.97 2129.58 1345.97 Q2126.73 1345.97 2124.67 1344.86 Q2122.63 1343.72 2121.29 1341.41 M2135.78 1332.36 Q2135.78 1327.66 2133.83 1325 Q2131.91 1322.31 2128.53 1322.31 Q2125.15 1322.31 2123.21 1325 Q2121.29 1327.66 2121.29 1332.36 Q2121.29 1337.06 2123.21 1339.74 Q2125.15 1342.4 2128.53 1342.4 Q2131.91 1342.4 2133.83 1339.74 Q2135.78 1337.06 2135.78 1332.36 Z\" fill=\"#000000\" fill-rule=\"nonzero\" fill-opacity=\"1\" /><path clip-path=\"url(#clip130)\" d=\"M2157.31 1322.36 Q2153.88 1322.36 2151.89 1325.04 Q2149.9 1327.7 2149.9 1332.36 Q2149.9 1337.01 2151.87 1339.69 Q2153.86 1342.36 2157.31 1342.36 Q2160.71 1342.36 2162.7 1339.67 Q2164.69 1336.99 2164.69 1332.36 Q2164.69 1327.75 2162.7 1325.06 Q2160.71 1322.36 2157.31 1322.36 M2157.31 1318.75 Q2162.86 1318.75 2166.03 1322.36 Q2169.2 1325.97 2169.2 1332.36 Q2169.2 1338.72 2166.03 1342.36 Q2162.86 1345.97 2157.31 1345.97 Q2151.73 1345.97 2148.56 1342.36 Q2145.41 1338.72 2145.41 1332.36 Q2145.41 1325.97 2148.56 1322.36 Q2151.73 1318.75 2157.31 1318.75 Z\" fill=\"#000000\" fill-rule=\"nonzero\" fill-opacity=\"1\" /><path clip-path=\"url(#clip130)\" d=\"M2176.26 1319.37 L2180.52 1319.37 L2180.52 1345.3 L2176.26 1345.3 L2176.26 1319.37 M2176.26 1309.28 L2180.52 1309.28 L2180.52 1314.67 L2176.26 1314.67 L2176.26 1309.28 Z\" fill=\"#000000\" fill-rule=\"nonzero\" fill-opacity=\"1\" /><path clip-path=\"url(#clip130)\" d=\"M2210.99 1329.65 L2210.99 1345.3 L2206.73 1345.3 L2206.73 1329.79 Q2206.73 1326.11 2205.29 1324.28 Q2203.86 1322.45 2200.99 1322.45 Q2197.54 1322.45 2195.55 1324.65 Q2193.56 1326.85 2193.56 1330.64 L2193.56 1345.3 L2189.27 1345.3 L2189.27 1319.37 L2193.56 1319.37 L2193.56 1323.4 Q2195.08 1321.06 2197.14 1319.9 Q2199.23 1318.75 2201.94 1318.75 Q2206.4 1318.75 2208.7 1321.52 Q2210.99 1324.28 2210.99 1329.65 Z\" fill=\"#000000\" fill-rule=\"nonzero\" fill-opacity=\"1\" /><path clip-path=\"url(#clip130)\" d=\"M2223.7 1312.01 L2223.7 1319.37 L2232.47 1319.37 L2232.47 1322.68 L2223.7 1322.68 L2223.7 1336.75 Q2223.7 1339.93 2224.55 1340.83 Q2225.43 1341.73 2228.09 1341.73 L2232.47 1341.73 L2232.47 1345.3 L2228.09 1345.3 Q2223.16 1345.3 2221.29 1343.47 Q2219.41 1341.62 2219.41 1336.75 L2219.41 1322.68 L2216.29 1322.68 L2216.29 1319.37 L2219.41 1319.37 L2219.41 1312.01 L2223.7 1312.01 Z\" fill=\"#000000\" fill-rule=\"nonzero\" fill-opacity=\"1\" /><path clip-path=\"url(#clip130)\" d=\"M2254.6 1320.13 L2254.6 1324.16 Q2252.79 1323.24 2250.85 1322.77 Q2248.9 1322.31 2246.82 1322.31 Q2243.65 1322.31 2242.05 1323.28 Q2240.48 1324.25 2240.48 1326.2 Q2240.48 1327.68 2241.61 1328.54 Q2242.75 1329.37 2246.17 1330.13 L2247.63 1330.46 Q2252.17 1331.43 2254.07 1333.21 Q2255.99 1334.97 2255.99 1338.14 Q2255.99 1341.75 2253.12 1343.86 Q2250.27 1345.97 2245.27 1345.97 Q2243.19 1345.97 2240.92 1345.55 Q2238.67 1345.16 2236.17 1344.35 L2236.17 1339.95 Q2238.53 1341.18 2240.82 1341.8 Q2243.12 1342.4 2245.36 1342.4 Q2248.37 1342.4 2249.99 1341.38 Q2251.61 1340.34 2251.61 1338.47 Q2251.61 1336.73 2250.43 1335.81 Q2249.27 1334.88 2245.32 1334.02 L2243.83 1333.68 Q2239.88 1332.84 2238.12 1331.13 Q2236.36 1329.39 2236.36 1326.38 Q2236.36 1322.73 2238.95 1320.74 Q2241.54 1318.75 2246.31 1318.75 Q2248.67 1318.75 2250.76 1319.09 Q2252.84 1319.44 2254.6 1320.13 Z\" fill=\"#000000\" fill-rule=\"nonzero\" fill-opacity=\"1\" /></svg>\n"
      ]
     },
     "execution_count": 29,
     "metadata": {},
     "output_type": "execute_result"
    }
   ],
   "source": [
    "plot(x,y, label = \"line\")\n",
    "scatter!(x,y,label = \"points\")\n",
    "\n",
    "xflip!()\n",
    "xlabel!(\"x axis\")\n",
    "ylabel!(\"y axis\")\n",
    "title!(\"Big Title\")"
   ]
  },
  {
   "cell_type": "markdown",
   "id": "6edba0d5-3c73-4d71-8146-1b417d3daff6",
   "metadata": {},
   "source": [
    "Here `scatter` needs `!` because it is mutating an existing graph where `plot` is creating one <br> Removing the `!` would make two separate graphs"
   ]
  },
  {
   "cell_type": "markdown",
   "id": "736b0826-8195-4e64-9fcc-874e77b04c47",
   "metadata": {},
   "source": [
    "We can also make it interactive with plotlyjs but makes it quite slow"
   ]
  },
  {
   "cell_type": "code",
   "execution_count": 30,
   "id": "0ec804b9-5600-4882-b705-1465fb96ad07",
   "metadata": {},
   "outputs": [
    {
     "name": "stderr",
     "output_type": "stream",
     "text": [
      "\u001b[32m\u001b[1m   Resolving\u001b[22m\u001b[39m package versions...\n",
      "\u001b[32m\u001b[1m  No Changes\u001b[22m\u001b[39m to `C:\\Users\\Pushya Jain\\.julia\\environments\\v1.9\\Project.toml`\n",
      "\u001b[32m\u001b[1m  No Changes\u001b[22m\u001b[39m to `C:\\Users\\Pushya Jain\\.julia\\environments\\v1.9\\Manifest.toml`\n"
     ]
    },
    {
     "ename": "LoadError",
     "evalue": "ArgumentError: Package plotlyjs not found in current path.\n- Run `import Pkg; Pkg.add(\"plotlyjs\")` to install the plotlyjs package.",
     "output_type": "error",
     "traceback": [
      "ArgumentError: Package plotlyjs not found in current path.\n- Run `import Pkg; Pkg.add(\"plotlyjs\")` to install the plotlyjs package.",
      "",
      "Stacktrace:",
      " [1] macro expansion",
      "   @ .\\loading.jl:1630 [inlined]",
      " [2] macro expansion",
      "   @ .\\lock.jl:267 [inlined]",
      " [3] require(into::Module, mod::Symbol)",
      "   @ Base .\\loading.jl:1611"
     ]
    }
   ],
   "source": [
    "Pkg.add(\"PlotlyJS\")\n",
    "using plotlyjs\n",
    "\n",
    "plotlyjs()\n",
    "\n",
    "# plot(x,y, label = \"line\");\n",
    "# scatter!(x,y,label = \"points\");"
   ]
  },
  {
   "cell_type": "markdown",
   "id": "3b61b941-b70c-4d3f-af79-41cfc396dc9b",
   "metadata": {},
   "source": [
    "can layout multiple plots together and make it fancy as following"
   ]
  },
  {
   "cell_type": "code",
   "execution_count": 31,
   "id": "0ed78807-dc87-4e63-8a44-f759209e8a53",
   "metadata": {},
   "outputs": [
    {
     "data": {
      "image/png": "[encoded data removed]",
      "image/svg+xml": [
       "<?xml version=\"1.0\" encoding=\"utf-8\"?>\n",
       "<svg xmlns=\"http://www.w3.org/2000/svg\" xmlns:xlink=\"http://www.w3.org/1999/xlink\" width=\"600\" height=\"400\" viewBox=\"0 0 2400 1600\">\n",
       "<defs>\n",
       "  <clipPath id=\"clip170\">\n",
       "    <rect x=\"0\" y=\"0\" width=\"2400\" height=\"1600\"/>\n",
       "  </clipPath>\n",
       "</defs>\n",
       "<path clip-path=\"url(#clip170)\" d=\"M0 1600 L2400 1600 L2400 0 L0 0  Z\" fill=\"#ffffff\" fill-rule=\"evenodd\" fill-opacity=\"1\"/>\n",
       "<defs>\n",
       "  <clipPath id=\"clip171\">\n",
       "    <rect x=\"480\" y=\"0\" width=\"1681\" height=\"1600\"/>\n",
       "  </clipPath>\n",
       "</defs>\n",
       "<path clip-path=\"url(#clip170)\" d=\"M178.867 686.448 L1171.26 686.448 L1171.26 47.2441 L178.867 47.2441  Z\" fill=\"#ffffff\" fill-rule=\"evenodd\" fill-opacity=\"1\"/>\n",
       "<defs>\n",
       "  <clipPath id=\"clip172\">\n",
       "    <rect x=\"178\" y=\"47\" width=\"993\" height=\"640\"/>\n",
       "  </clipPath>\n",
       "</defs>\n",
       "<polyline clip-path=\"url(#clip172)\" style=\"stroke:#000000; stroke-linecap:round; stroke-linejoin:round; stroke-width:2; stroke-opacity:0.1; fill:none\" points=\"206.953,686.448 206.953,47.2441 \"/>\n",
       "<polyline clip-path=\"url(#clip172)\" style=\"stroke:#000000; stroke-linecap:round; stroke-linejoin:round; stroke-width:2; stroke-opacity:0.1; fill:none\" points=\"362.99,686.448 362.99,47.2441 \"/>\n",
       "<polyline clip-path=\"url(#clip172)\" style=\"stroke:#000000; stroke-linecap:round; stroke-linejoin:round; stroke-width:2; stroke-opacity:0.1; fill:none\" points=\"519.028,686.448 519.028,47.2441 \"/>\n",
       "<polyline clip-path=\"url(#clip172)\" style=\"stroke:#000000; stroke-linecap:round; stroke-linejoin:round; stroke-width:2; stroke-opacity:0.1; fill:none\" points=\"675.065,686.448 675.065,47.2441 \"/>\n",
       "<polyline clip-path=\"url(#clip172)\" style=\"stroke:#000000; stroke-linecap:round; stroke-linejoin:round; stroke-width:2; stroke-opacity:0.1; fill:none\" points=\"831.102,686.448 831.102,47.2441 \"/>\n",
       "<polyline clip-path=\"url(#clip172)\" style=\"stroke:#000000; stroke-linecap:round; stroke-linejoin:round; stroke-width:2; stroke-opacity:0.1; fill:none\" points=\"987.139,686.448 987.139,47.2441 \"/>\n",
       "<polyline clip-path=\"url(#clip172)\" style=\"stroke:#000000; stroke-linecap:round; stroke-linejoin:round; stroke-width:2; stroke-opacity:0.1; fill:none\" points=\"1143.18,686.448 1143.18,47.2441 \"/>\n",
       "<polyline clip-path=\"url(#clip170)\" style=\"stroke:#000000; stroke-linecap:round; stroke-linejoin:round; stroke-width:4; stroke-opacity:1; fill:none\" points=\"178.867,686.448 1171.26,686.448 \"/>\n",
       "<polyline clip-path=\"url(#clip170)\" style=\"stroke:#000000; stroke-linecap:round; stroke-linejoin:round; stroke-width:4; stroke-opacity:1; fill:none\" points=\"206.953,686.448 206.953,667.55 \"/>\n",
       "<polyline clip-path=\"url(#clip170)\" style=\"stroke:#000000; stroke-linecap:round; stroke-linejoin:round; stroke-width:4; stroke-opacity:1; fill:none\" points=\"362.99,686.448 362.99,667.55 \"/>\n",
       "<polyline clip-path=\"url(#clip170)\" style=\"stroke:#000000; stroke-linecap:round; stroke-linejoin:round; stroke-width:4; stroke-opacity:1; fill:none\" points=\"519.028,686.448 519.028,667.55 \"/>\n",
       "<polyline clip-path=\"url(#clip170)\" style=\"stroke:#000000; stroke-linecap:round; stroke-linejoin:round; stroke-width:4; stroke-opacity:1; fill:none\" points=\"675.065,686.448 675.065,667.55 \"/>\n",
       "<polyline clip-path=\"url(#clip170)\" style=\"stroke:#000000; stroke-linecap:round; stroke-linejoin:round; stroke-width:4; stroke-opacity:1; fill:none\" points=\"831.102,686.448 831.102,667.55 \"/>\n",
       "<polyline clip-path=\"url(#clip170)\" style=\"stroke:#000000; stroke-linecap:round; stroke-linejoin:round; stroke-width:4; stroke-opacity:1; fill:none\" points=\"987.139,686.448 987.139,667.55 \"/>\n",
       "<polyline clip-path=\"url(#clip170)\" style=\"stroke:#000000; stroke-linecap:round; stroke-linejoin:round; stroke-width:4; stroke-opacity:1; fill:none\" points=\"1143.18,686.448 1143.18,667.55 \"/>\n",
       "<path clip-path=\"url(#clip170)\" d=\"M176.421 732.019 L206.097 732.019 L206.097 735.954 L176.421 735.954 L176.421 732.019 Z\" fill=\"#000000\" fill-rule=\"nonzero\" fill-opacity=\"1\" /><path clip-path=\"url(#clip170)\" d=\"M230.356 730.214 Q233.712 730.931 235.587 733.2 Q237.486 735.468 237.486 738.802 Q237.486 743.917 233.967 746.718 Q230.449 749.519 223.967 749.519 Q221.791 749.519 219.476 749.079 Q217.185 748.663 214.731 747.806 L214.731 743.292 Q216.675 744.427 218.99 745.005 Q221.305 745.584 223.828 745.584 Q228.226 745.584 230.518 743.848 Q232.833 742.112 232.833 738.802 Q232.833 735.746 230.68 734.033 Q228.55 732.297 224.731 732.297 L220.703 732.297 L220.703 728.454 L224.916 728.454 Q228.365 728.454 230.194 727.089 Q232.023 725.7 232.023 723.107 Q232.023 720.445 230.124 719.033 Q228.249 717.598 224.731 717.598 Q222.81 717.598 220.611 718.015 Q218.412 718.431 215.773 719.311 L215.773 715.144 Q218.435 714.404 220.75 714.033 Q223.087 713.663 225.148 713.663 Q230.472 713.663 233.574 716.093 Q236.675 718.501 236.675 722.621 Q236.675 725.492 235.032 727.482 Q233.388 729.45 230.356 730.214 Z\" fill=\"#000000\" fill-rule=\"nonzero\" fill-opacity=\"1\" /><path clip-path=\"url(#clip170)\" d=\"M332.933 732.019 L362.608 732.019 L362.608 735.954 L332.933 735.954 L332.933 732.019 Z\" fill=\"#000000\" fill-rule=\"nonzero\" fill-opacity=\"1\" /><path clip-path=\"url(#clip170)\" d=\"M376.729 744.913 L393.048 744.913 L393.048 748.848 L371.104 748.848 L371.104 744.913 Q373.766 742.158 378.349 737.528 Q382.956 732.876 384.136 731.533 Q386.382 729.01 387.261 727.274 Q388.164 725.515 388.164 723.825 Q388.164 721.07 386.219 719.334 Q384.298 717.598 381.196 717.598 Q378.997 717.598 376.544 718.362 Q374.113 719.126 371.335 720.677 L371.335 715.955 Q374.159 714.82 376.613 714.242 Q379.067 713.663 381.104 713.663 Q386.474 713.663 389.669 716.348 Q392.863 719.033 392.863 723.524 Q392.863 725.654 392.053 727.575 Q391.266 729.473 389.159 732.066 Q388.581 732.737 385.479 735.954 Q382.377 739.149 376.729 744.913 Z\" fill=\"#000000\" fill-rule=\"nonzero\" fill-opacity=\"1\" /><path clip-path=\"url(#clip170)\" d=\"M488.785 732.019 L518.46 732.019 L518.46 735.954 L488.785 735.954 L488.785 732.019 Z\" fill=\"#000000\" fill-rule=\"nonzero\" fill-opacity=\"1\" /><path clip-path=\"url(#clip170)\" d=\"M529.363 744.913 L537.002 744.913 L537.002 718.547 L528.692 720.214 L528.692 715.955 L536.956 714.288 L541.632 714.288 L541.632 744.913 L549.27 744.913 L549.27 748.848 L529.363 748.848 L529.363 744.913 Z\" fill=\"#000000\" fill-rule=\"nonzero\" fill-opacity=\"1\" /><path clip-path=\"url(#clip170)\" d=\"M675.065 717.367 Q671.454 717.367 669.625 720.931 Q667.819 724.473 667.819 731.603 Q667.819 738.709 669.625 742.274 Q671.454 745.815 675.065 745.815 Q678.699 745.815 680.504 742.274 Q682.333 738.709 682.333 731.603 Q682.333 724.473 680.504 720.931 Q678.699 717.367 675.065 717.367 M675.065 713.663 Q680.875 713.663 683.93 718.269 Q687.009 722.853 687.009 731.603 Q687.009 740.329 683.93 744.936 Q680.875 749.519 675.065 749.519 Q669.255 749.519 666.176 744.936 Q663.12 740.329 663.12 731.603 Q663.12 722.853 666.176 718.269 Q669.255 713.663 675.065 713.663 Z\" fill=\"#000000\" fill-rule=\"nonzero\" fill-opacity=\"1\" /><path clip-path=\"url(#clip170)\" d=\"M821.484 744.913 L829.123 744.913 L829.123 718.547 L820.813 720.214 L820.813 715.955 L829.076 714.288 L833.752 714.288 L833.752 744.913 L841.391 744.913 L841.391 748.848 L821.484 748.848 L821.484 744.913 Z\" fill=\"#000000\" fill-rule=\"nonzero\" fill-opacity=\"1\" /><path clip-path=\"url(#clip170)\" d=\"M981.792 744.913 L998.111 744.913 L998.111 748.848 L976.167 748.848 L976.167 744.913 Q978.829 742.158 983.412 737.528 Q988.019 732.876 989.199 731.533 Q991.444 729.01 992.324 727.274 Q993.227 725.515 993.227 723.825 Q993.227 721.07 991.282 719.334 Q989.361 717.598 986.259 717.598 Q984.06 717.598 981.607 718.362 Q979.176 719.126 976.398 720.677 L976.398 715.955 Q979.222 714.82 981.676 714.242 Q984.13 713.663 986.167 713.663 Q991.537 713.663 994.731 716.348 Q997.926 719.033 997.926 723.524 Q997.926 725.654 997.116 727.575 Q996.329 729.473 994.222 732.066 Q993.644 732.737 990.542 735.954 Q987.44 739.149 981.792 744.913 Z\" fill=\"#000000\" fill-rule=\"nonzero\" fill-opacity=\"1\" /><path clip-path=\"url(#clip170)\" d=\"M1147.42 730.214 Q1150.78 730.931 1152.66 733.2 Q1154.55 735.468 1154.55 738.802 Q1154.55 743.917 1151.03 746.718 Q1147.52 749.519 1141.03 749.519 Q1138.86 749.519 1136.54 749.079 Q1134.25 748.663 1131.8 747.806 L1131.8 743.292 Q1133.74 744.427 1136.06 745.005 Q1138.37 745.584 1140.9 745.584 Q1145.29 745.584 1147.59 743.848 Q1149.9 742.112 1149.9 738.802 Q1149.9 735.746 1147.75 734.033 Q1145.62 732.297 1141.8 732.297 L1137.77 732.297 L1137.77 728.454 L1141.98 728.454 Q1145.43 728.454 1147.26 727.089 Q1149.09 725.7 1149.09 723.107 Q1149.09 720.445 1147.19 719.033 Q1145.32 717.598 1141.8 717.598 Q1139.88 717.598 1137.68 718.015 Q1135.48 718.431 1132.84 719.311 L1132.84 715.144 Q1135.5 714.404 1137.82 714.033 Q1140.16 713.663 1142.22 713.663 Q1147.54 713.663 1150.64 716.093 Q1153.74 718.501 1153.74 722.621 Q1153.74 725.492 1152.1 727.482 Q1150.46 729.45 1147.42 730.214 Z\" fill=\"#000000\" fill-rule=\"nonzero\" fill-opacity=\"1\" /><polyline clip-path=\"url(#clip172)\" style=\"stroke:#000000; stroke-linecap:round; stroke-linejoin:round; stroke-width:2; stroke-opacity:0.1; fill:none\" points=\"178.867,668.357 1171.26,668.357 \"/>\n",
       "<polyline clip-path=\"url(#clip172)\" style=\"stroke:#000000; stroke-linecap:round; stroke-linejoin:round; stroke-width:2; stroke-opacity:0.1; fill:none\" points=\"178.867,567.853 1171.26,567.853 \"/>\n",
       "<polyline clip-path=\"url(#clip172)\" style=\"stroke:#000000; stroke-linecap:round; stroke-linejoin:round; stroke-width:2; stroke-opacity:0.1; fill:none\" points=\"178.867,467.35 1171.26,467.35 \"/>\n",
       "<polyline clip-path=\"url(#clip172)\" style=\"stroke:#000000; stroke-linecap:round; stroke-linejoin:round; stroke-width:2; stroke-opacity:0.1; fill:none\" points=\"178.867,366.846 1171.26,366.846 \"/>\n",
       "<polyline clip-path=\"url(#clip172)\" style=\"stroke:#000000; stroke-linecap:round; stroke-linejoin:round; stroke-width:2; stroke-opacity:0.1; fill:none\" points=\"178.867,266.342 1171.26,266.342 \"/>\n",
       "<polyline clip-path=\"url(#clip172)\" style=\"stroke:#000000; stroke-linecap:round; stroke-linejoin:round; stroke-width:2; stroke-opacity:0.1; fill:none\" points=\"178.867,165.839 1171.26,165.839 \"/>\n",
       "<polyline clip-path=\"url(#clip172)\" style=\"stroke:#000000; stroke-linecap:round; stroke-linejoin:round; stroke-width:2; stroke-opacity:0.1; fill:none\" points=\"178.867,65.3348 1171.26,65.3348 \"/>\n",
       "<polyline clip-path=\"url(#clip170)\" style=\"stroke:#000000; stroke-linecap:round; stroke-linejoin:round; stroke-width:4; stroke-opacity:1; fill:none\" points=\"178.867,686.448 178.867,47.2441 \"/>\n",
       "<polyline clip-path=\"url(#clip170)\" style=\"stroke:#000000; stroke-linecap:round; stroke-linejoin:round; stroke-width:4; stroke-opacity:1; fill:none\" points=\"178.867,668.357 197.764,668.357 \"/>\n",
       "<polyline clip-path=\"url(#clip170)\" style=\"stroke:#000000; stroke-linecap:round; stroke-linejoin:round; stroke-width:4; stroke-opacity:1; fill:none\" points=\"178.867,567.853 197.764,567.853 \"/>\n",
       "<polyline clip-path=\"url(#clip170)\" style=\"stroke:#000000; stroke-linecap:round; stroke-linejoin:round; stroke-width:4; stroke-opacity:1; fill:none\" points=\"178.867,467.35 197.764,467.35 \"/>\n",
       "<polyline clip-path=\"url(#clip170)\" style=\"stroke:#000000; stroke-linecap:round; stroke-linejoin:round; stroke-width:4; stroke-opacity:1; fill:none\" points=\"178.867,366.846 197.764,366.846 \"/>\n",
       "<polyline clip-path=\"url(#clip170)\" style=\"stroke:#000000; stroke-linecap:round; stroke-linejoin:round; stroke-width:4; stroke-opacity:1; fill:none\" points=\"178.867,266.342 197.764,266.342 \"/>\n",
       "<polyline clip-path=\"url(#clip170)\" style=\"stroke:#000000; stroke-linecap:round; stroke-linejoin:round; stroke-width:4; stroke-opacity:1; fill:none\" points=\"178.867,165.839 197.764,165.839 \"/>\n",
       "<polyline clip-path=\"url(#clip170)\" style=\"stroke:#000000; stroke-linecap:round; stroke-linejoin:round; stroke-width:4; stroke-opacity:1; fill:none\" points=\"178.867,65.3348 197.764,65.3348 \"/>\n",
       "<path clip-path=\"url(#clip170)\" d=\"M81.8021 668.809 L111.478 668.809 L111.478 672.744 L81.8021 672.744 L81.8021 668.809 Z\" fill=\"#000000\" fill-rule=\"nonzero\" fill-opacity=\"1\" /><path clip-path=\"url(#clip170)\" d=\"M135.737 667.003 Q139.094 667.721 140.968 669.989 Q142.867 672.258 142.867 675.591 Q142.867 680.707 139.348 683.508 Q135.83 686.308 129.348 686.308 Q127.172 686.308 124.857 685.869 Q122.566 685.452 120.112 684.596 L120.112 680.082 Q122.057 681.216 124.371 681.795 Q126.686 682.373 129.209 682.373 Q133.607 682.373 135.899 680.637 Q138.214 678.901 138.214 675.591 Q138.214 672.535 136.061 670.822 Q133.931 669.086 130.112 669.086 L126.084 669.086 L126.084 665.244 L130.297 665.244 Q133.746 665.244 135.575 663.878 Q137.404 662.489 137.404 659.897 Q137.404 657.235 135.506 655.823 Q133.631 654.387 130.112 654.387 Q128.191 654.387 125.992 654.804 Q123.793 655.221 121.154 656.1 L121.154 651.934 Q123.816 651.193 126.131 650.823 Q128.469 650.452 130.529 650.452 Q135.853 650.452 138.955 652.883 Q142.056 655.29 142.056 659.41 Q142.056 662.281 140.413 664.272 Q138.769 666.239 135.737 667.003 Z\" fill=\"#000000\" fill-rule=\"nonzero\" fill-opacity=\"1\" /><path clip-path=\"url(#clip170)\" d=\"M82.7512 568.305 L112.427 568.305 L112.427 572.24 L82.7512 572.24 L82.7512 568.305 Z\" fill=\"#000000\" fill-rule=\"nonzero\" fill-opacity=\"1\" /><path clip-path=\"url(#clip170)\" d=\"M126.547 581.198 L142.867 581.198 L142.867 585.133 L120.922 585.133 L120.922 581.198 Q123.584 578.444 128.168 573.814 Q132.774 569.161 133.955 567.819 Q136.2 565.296 137.08 563.56 Q137.982 561.8 137.982 560.11 Q137.982 557.356 136.038 555.62 Q134.117 553.884 131.015 553.884 Q128.816 553.884 126.362 554.648 Q123.932 555.411 121.154 556.962 L121.154 552.24 Q123.978 551.106 126.432 550.527 Q128.885 549.948 130.922 549.948 Q136.293 549.948 139.487 552.634 Q142.681 555.319 142.681 559.81 Q142.681 561.939 141.871 563.86 Q141.084 565.759 138.978 568.351 Q138.399 569.022 135.297 572.24 Q132.195 575.434 126.547 581.198 Z\" fill=\"#000000\" fill-rule=\"nonzero\" fill-opacity=\"1\" /><path clip-path=\"url(#clip170)\" d=\"M82.3808 467.801 L112.057 467.801 L112.057 471.736 L82.3808 471.736 L82.3808 467.801 Z\" fill=\"#000000\" fill-rule=\"nonzero\" fill-opacity=\"1\" /><path clip-path=\"url(#clip170)\" d=\"M122.959 480.695 L130.598 480.695 L130.598 454.329 L122.288 455.996 L122.288 451.736 L130.552 450.07 L135.228 450.07 L135.228 480.695 L142.867 480.695 L142.867 484.63 L122.959 484.63 L122.959 480.695 Z\" fill=\"#000000\" fill-rule=\"nonzero\" fill-opacity=\"1\" /><path clip-path=\"url(#clip170)\" d=\"M130.922 352.645 Q127.311 352.645 125.482 356.209 Q123.677 359.751 123.677 366.881 Q123.677 373.987 125.482 377.552 Q127.311 381.094 130.922 381.094 Q134.556 381.094 136.362 377.552 Q138.191 373.987 138.191 366.881 Q138.191 359.751 136.362 356.209 Q134.556 352.645 130.922 352.645 M130.922 348.941 Q136.732 348.941 139.788 353.547 Q142.867 358.131 142.867 366.881 Q142.867 375.608 139.788 380.214 Q136.732 384.797 130.922 384.797 Q125.112 384.797 122.033 380.214 Q118.978 375.608 118.978 366.881 Q118.978 358.131 122.033 353.547 Q125.112 348.941 130.922 348.941 Z\" fill=\"#000000\" fill-rule=\"nonzero\" fill-opacity=\"1\" /><path clip-path=\"url(#clip170)\" d=\"M122.959 279.687 L130.598 279.687 L130.598 253.321 L122.288 254.988 L122.288 250.729 L130.552 249.062 L135.228 249.062 L135.228 279.687 L142.867 279.687 L142.867 283.622 L122.959 283.622 L122.959 279.687 Z\" fill=\"#000000\" fill-rule=\"nonzero\" fill-opacity=\"1\" /><path clip-path=\"url(#clip170)\" d=\"M126.547 179.183 L142.867 179.183 L142.867 183.119 L120.922 183.119 L120.922 179.183 Q123.584 176.429 128.168 171.799 Q132.774 167.146 133.955 165.804 Q136.2 163.281 137.08 161.545 Q137.982 159.785 137.982 158.095 Q137.982 155.341 136.038 153.605 Q134.117 151.869 131.015 151.869 Q128.816 151.869 126.362 152.633 Q123.932 153.396 121.154 154.947 L121.154 150.225 Q123.978 149.091 126.432 148.512 Q128.885 147.934 130.922 147.934 Q136.293 147.934 139.487 150.619 Q142.681 153.304 142.681 157.795 Q142.681 159.924 141.871 161.845 Q141.084 163.744 138.978 166.336 Q138.399 167.007 135.297 170.225 Q132.195 173.419 126.547 179.183 Z\" fill=\"#000000\" fill-rule=\"nonzero\" fill-opacity=\"1\" /><path clip-path=\"url(#clip170)\" d=\"M135.737 63.9806 Q139.094 64.6982 140.968 66.9667 Q142.867 69.2352 142.867 72.5685 Q142.867 77.6842 139.348 80.4851 Q135.83 83.2861 129.348 83.2861 Q127.172 83.2861 124.857 82.8462 Q122.566 82.4296 120.112 81.5731 L120.112 77.0592 Q122.057 78.1935 124.371 78.7722 Q126.686 79.3509 129.209 79.3509 Q133.607 79.3509 135.899 77.6148 Q138.214 75.8787 138.214 72.5685 Q138.214 69.513 136.061 67.8 Q133.931 66.0639 130.112 66.0639 L126.084 66.0639 L126.084 62.2214 L130.297 62.2214 Q133.746 62.2214 135.575 60.8556 Q137.404 59.4667 137.404 56.8742 Q137.404 54.2121 135.506 52.8001 Q133.631 51.3649 130.112 51.3649 Q128.191 51.3649 125.992 51.7816 Q123.793 52.1983 121.154 53.0779 L121.154 48.9112 Q123.816 48.1705 126.131 47.8001 Q128.469 47.4298 130.529 47.4298 Q135.853 47.4298 138.955 49.8603 Q142.056 52.2677 142.056 56.3881 Q142.056 59.2584 140.413 61.2491 Q138.769 63.2167 135.737 63.9806 Z\" fill=\"#000000\" fill-rule=\"nonzero\" fill-opacity=\"1\" /><polyline clip-path=\"url(#clip172)\" style=\"stroke:#009af9; stroke-linecap:round; stroke-linejoin:round; stroke-width:4; stroke-opacity:1; fill:none\" points=\"206.953,668.357 222.557,658.307 238.161,648.256 253.764,638.206 269.368,628.156 284.972,618.105 300.576,608.055 316.179,598.005 331.783,587.954 347.387,577.904 362.99,567.853 378.594,557.803 394.198,547.753 409.802,537.702 425.405,527.652 441.009,517.602 456.613,507.551 472.216,497.501 487.82,487.45 503.424,477.4 519.028,467.35 534.631,457.299 550.235,447.249 565.839,437.199 581.442,427.148 597.046,417.098 612.65,407.047 628.254,396.997 643.857,386.947 659.461,376.896 675.065,366.846 690.668,356.796 706.272,346.745 721.876,336.695 737.48,326.644 753.083,316.594 768.687,306.544 784.291,296.493 799.894,286.443 815.498,276.393 831.102,266.342 846.706,256.292 862.309,246.241 877.913,236.191 893.517,226.141 909.12,216.09 924.724,206.04 940.328,195.99 955.932,185.939 971.535,175.889 987.139,165.839 1002.74,155.788 1018.35,145.738 1033.95,135.687 1049.55,125.637 1065.16,115.587 1080.76,105.536 1096.36,95.4859 1111.97,85.4355 1127.57,75.3851 1143.18,65.3348 \"/>\n",
       "<path clip-path=\"url(#clip170)\" d=\"M1360.36 686.448 L2352.76 686.448 L2352.76 47.2441 L1360.36 47.2441  Z\" fill=\"#ffffff\" fill-rule=\"evenodd\" fill-opacity=\"1\"/>\n",
       "<defs>\n",
       "  <clipPath id=\"clip173\">\n",
       "    <rect x=\"1360\" y=\"47\" width=\"993\" height=\"640\"/>\n",
       "  </clipPath>\n",
       "</defs>\n",
       "<polyline clip-path=\"url(#clip173)\" style=\"stroke:#000000; stroke-linecap:round; stroke-linejoin:round; stroke-width:2; stroke-opacity:0.1; fill:none\" points=\"1388.45,686.448 1388.45,47.2441 \"/>\n",
       "<polyline clip-path=\"url(#clip173)\" style=\"stroke:#000000; stroke-linecap:round; stroke-linejoin:round; stroke-width:2; stroke-opacity:0.1; fill:none\" points=\"1544.48,686.448 1544.48,47.2441 \"/>\n",
       "<polyline clip-path=\"url(#clip173)\" style=\"stroke:#000000; stroke-linecap:round; stroke-linejoin:round; stroke-width:2; stroke-opacity:0.1; fill:none\" points=\"1700.52,686.448 1700.52,47.2441 \"/>\n",
       "<polyline clip-path=\"url(#clip173)\" style=\"stroke:#000000; stroke-linecap:round; stroke-linejoin:round; stroke-width:2; stroke-opacity:0.1; fill:none\" points=\"1856.56,686.448 1856.56,47.2441 \"/>\n",
       "<polyline clip-path=\"url(#clip173)\" style=\"stroke:#000000; stroke-linecap:round; stroke-linejoin:round; stroke-width:2; stroke-opacity:0.1; fill:none\" points=\"2012.59,686.448 2012.59,47.2441 \"/>\n",
       "<polyline clip-path=\"url(#clip173)\" style=\"stroke:#000000; stroke-linecap:round; stroke-linejoin:round; stroke-width:2; stroke-opacity:0.1; fill:none\" points=\"2168.63,686.448 2168.63,47.2441 \"/>\n",
       "<polyline clip-path=\"url(#clip173)\" style=\"stroke:#000000; stroke-linecap:round; stroke-linejoin:round; stroke-width:2; stroke-opacity:0.1; fill:none\" points=\"2324.67,686.448 2324.67,47.2441 \"/>\n",
       "<polyline clip-path=\"url(#clip170)\" style=\"stroke:#000000; stroke-linecap:round; stroke-linejoin:round; stroke-width:4; stroke-opacity:1; fill:none\" points=\"1360.36,686.448 2352.76,686.448 \"/>\n",
       "<polyline clip-path=\"url(#clip170)\" style=\"stroke:#000000; stroke-linecap:round; stroke-linejoin:round; stroke-width:4; stroke-opacity:1; fill:none\" points=\"1388.45,686.448 1388.45,667.55 \"/>\n",
       "<polyline clip-path=\"url(#clip170)\" style=\"stroke:#000000; stroke-linecap:round; stroke-linejoin:round; stroke-width:4; stroke-opacity:1; fill:none\" points=\"1544.48,686.448 1544.48,667.55 \"/>\n",
       "<polyline clip-path=\"url(#clip170)\" style=\"stroke:#000000; stroke-linecap:round; stroke-linejoin:round; stroke-width:4; stroke-opacity:1; fill:none\" points=\"1700.52,686.448 1700.52,667.55 \"/>\n",
       "<polyline clip-path=\"url(#clip170)\" style=\"stroke:#000000; stroke-linecap:round; stroke-linejoin:round; stroke-width:4; stroke-opacity:1; fill:none\" points=\"1856.56,686.448 1856.56,667.55 \"/>\n",
       "<polyline clip-path=\"url(#clip170)\" style=\"stroke:#000000; stroke-linecap:round; stroke-linejoin:round; stroke-width:4; stroke-opacity:1; fill:none\" points=\"2012.59,686.448 2012.59,667.55 \"/>\n",
       "<polyline clip-path=\"url(#clip170)\" style=\"stroke:#000000; stroke-linecap:round; stroke-linejoin:round; stroke-width:4; stroke-opacity:1; fill:none\" points=\"2168.63,686.448 2168.63,667.55 \"/>\n",
       "<polyline clip-path=\"url(#clip170)\" style=\"stroke:#000000; stroke-linecap:round; stroke-linejoin:round; stroke-width:4; stroke-opacity:1; fill:none\" points=\"2324.67,686.448 2324.67,667.55 \"/>\n",
       "<path clip-path=\"url(#clip170)\" d=\"M1357.91 732.019 L1387.59 732.019 L1387.59 735.954 L1357.91 735.954 L1357.91 732.019 Z\" fill=\"#000000\" fill-rule=\"nonzero\" fill-opacity=\"1\" /><path clip-path=\"url(#clip170)\" d=\"M1411.85 730.214 Q1415.21 730.931 1417.08 733.2 Q1418.98 735.468 1418.98 738.802 Q1418.98 743.917 1415.46 746.718 Q1411.94 749.519 1405.46 749.519 Q1403.28 749.519 1400.97 749.079 Q1398.68 748.663 1396.22 747.806 L1396.22 743.292 Q1398.17 744.427 1400.48 745.005 Q1402.8 745.584 1405.32 745.584 Q1409.72 745.584 1412.01 743.848 Q1414.33 742.112 1414.33 738.802 Q1414.33 735.746 1412.17 734.033 Q1410.04 732.297 1406.22 732.297 L1402.2 732.297 L1402.2 728.454 L1406.41 728.454 Q1409.86 728.454 1411.69 727.089 Q1413.52 725.7 1413.52 723.107 Q1413.52 720.445 1411.62 719.033 Q1409.74 717.598 1406.22 717.598 Q1404.3 717.598 1402.1 718.015 Q1399.9 718.431 1397.27 719.311 L1397.27 715.144 Q1399.93 714.404 1402.24 714.033 Q1404.58 713.663 1406.64 713.663 Q1411.96 713.663 1415.07 716.093 Q1418.17 718.501 1418.17 722.621 Q1418.17 725.492 1416.53 727.482 Q1414.88 729.45 1411.85 730.214 Z\" fill=\"#000000\" fill-rule=\"nonzero\" fill-opacity=\"1\" /><path clip-path=\"url(#clip170)\" d=\"M1514.43 732.019 L1544.1 732.019 L1544.1 735.954 L1514.43 735.954 L1514.43 732.019 Z\" fill=\"#000000\" fill-rule=\"nonzero\" fill-opacity=\"1\" /><path clip-path=\"url(#clip170)\" d=\"M1558.22 744.913 L1574.54 744.913 L1574.54 748.848 L1552.6 748.848 L1552.6 744.913 Q1555.26 742.158 1559.84 737.528 Q1564.45 732.876 1565.63 731.533 Q1567.87 729.01 1568.75 727.274 Q1569.66 725.515 1569.66 723.825 Q1569.66 721.07 1567.71 719.334 Q1565.79 717.598 1562.69 717.598 Q1560.49 717.598 1558.04 718.362 Q1555.61 719.126 1552.83 720.677 L1552.83 715.955 Q1555.65 714.82 1558.11 714.242 Q1560.56 713.663 1562.6 713.663 Q1567.97 713.663 1571.16 716.348 Q1574.36 719.033 1574.36 723.524 Q1574.36 725.654 1573.55 727.575 Q1572.76 729.473 1570.65 732.066 Q1570.07 732.737 1566.97 735.954 Q1563.87 739.149 1558.22 744.913 Z\" fill=\"#000000\" fill-rule=\"nonzero\" fill-opacity=\"1\" /><path clip-path=\"url(#clip170)\" d=\"M1670.28 732.019 L1699.95 732.019 L1699.95 735.954 L1670.28 735.954 L1670.28 732.019 Z\" fill=\"#000000\" fill-rule=\"nonzero\" fill-opacity=\"1\" /><path clip-path=\"url(#clip170)\" d=\"M1710.86 744.913 L1718.5 744.913 L1718.5 718.547 L1710.19 720.214 L1710.19 715.955 L1718.45 714.288 L1723.12 714.288 L1723.12 744.913 L1730.76 744.913 L1730.76 748.848 L1710.86 748.848 L1710.86 744.913 Z\" fill=\"#000000\" fill-rule=\"nonzero\" fill-opacity=\"1\" /><path clip-path=\"url(#clip170)\" d=\"M1856.56 717.367 Q1852.95 717.367 1851.12 720.931 Q1849.31 724.473 1849.31 731.603 Q1849.31 738.709 1851.12 742.274 Q1852.95 745.815 1856.56 745.815 Q1860.19 745.815 1862 742.274 Q1863.83 738.709 1863.83 731.603 Q1863.83 724.473 1862 720.931 Q1860.19 717.367 1856.56 717.367 M1856.56 713.663 Q1862.37 713.663 1865.42 718.269 Q1868.5 722.853 1868.5 731.603 Q1868.5 740.329 1865.42 744.936 Q1862.37 749.519 1856.56 749.519 Q1850.75 749.519 1847.67 744.936 Q1844.61 740.329 1844.61 731.603 Q1844.61 722.853 1847.67 718.269 Q1850.75 713.663 1856.56 713.663 Z\" fill=\"#000000\" fill-rule=\"nonzero\" fill-opacity=\"1\" /><path clip-path=\"url(#clip170)\" d=\"M2002.98 744.913 L2010.62 744.913 L2010.62 718.547 L2002.31 720.214 L2002.31 715.955 L2010.57 714.288 L2015.25 714.288 L2015.25 744.913 L2022.88 744.913 L2022.88 748.848 L2002.98 748.848 L2002.98 744.913 Z\" fill=\"#000000\" fill-rule=\"nonzero\" fill-opacity=\"1\" /><path clip-path=\"url(#clip170)\" d=\"M2163.28 744.913 L2179.6 744.913 L2179.6 748.848 L2157.66 748.848 L2157.66 744.913 Q2160.32 742.158 2164.91 737.528 Q2169.51 732.876 2170.69 731.533 Q2172.94 729.01 2173.82 727.274 Q2174.72 725.515 2174.72 723.825 Q2174.72 721.07 2172.78 719.334 Q2170.85 717.598 2167.75 717.598 Q2165.55 717.598 2163.1 718.362 Q2160.67 719.126 2157.89 720.677 L2157.89 715.955 Q2160.72 714.82 2163.17 714.242 Q2165.62 713.663 2167.66 713.663 Q2173.03 713.663 2176.22 716.348 Q2179.42 719.033 2179.42 723.524 Q2179.42 725.654 2178.61 727.575 Q2177.82 729.473 2175.72 732.066 Q2175.14 732.737 2172.03 735.954 Q2168.93 739.149 2163.28 744.913 Z\" fill=\"#000000\" fill-rule=\"nonzero\" fill-opacity=\"1\" /><path clip-path=\"url(#clip170)\" d=\"M2328.92 730.214 Q2332.27 730.931 2334.15 733.2 Q2336.05 735.468 2336.05 738.802 Q2336.05 743.917 2332.53 746.718 Q2329.01 749.519 2322.53 749.519 Q2320.35 749.519 2318.04 749.079 Q2315.75 748.663 2313.29 747.806 L2313.29 743.292 Q2315.24 744.427 2317.55 745.005 Q2319.87 745.584 2322.39 745.584 Q2326.79 745.584 2329.08 743.848 Q2331.39 742.112 2331.39 738.802 Q2331.39 735.746 2329.24 734.033 Q2327.11 732.297 2323.29 732.297 L2319.26 732.297 L2319.26 728.454 L2323.48 728.454 Q2326.93 728.454 2328.75 727.089 Q2330.58 725.7 2330.58 723.107 Q2330.58 720.445 2328.69 719.033 Q2326.81 717.598 2323.29 717.598 Q2321.37 717.598 2319.17 718.015 Q2316.97 718.431 2314.33 719.311 L2314.33 715.144 Q2317 714.404 2319.31 714.033 Q2321.65 713.663 2323.71 713.663 Q2329.03 713.663 2332.13 716.093 Q2335.24 718.501 2335.24 722.621 Q2335.24 725.492 2333.59 727.482 Q2331.95 729.45 2328.92 730.214 Z\" fill=\"#000000\" fill-rule=\"nonzero\" fill-opacity=\"1\" /><polyline clip-path=\"url(#clip173)\" style=\"stroke:#000000; stroke-linecap:round; stroke-linejoin:round; stroke-width:2; stroke-opacity:0.1; fill:none\" points=\"1360.36,668.357 2352.76,668.357 \"/>\n",
       "<polyline clip-path=\"url(#clip173)\" style=\"stroke:#000000; stroke-linecap:round; stroke-linejoin:round; stroke-width:2; stroke-opacity:0.1; fill:none\" points=\"1360.36,534.352 2352.76,534.352 \"/>\n",
       "<polyline clip-path=\"url(#clip173)\" style=\"stroke:#000000; stroke-linecap:round; stroke-linejoin:round; stroke-width:2; stroke-opacity:0.1; fill:none\" points=\"1360.36,400.347 2352.76,400.347 \"/>\n",
       "<polyline clip-path=\"url(#clip173)\" style=\"stroke:#000000; stroke-linecap:round; stroke-linejoin:round; stroke-width:2; stroke-opacity:0.1; fill:none\" points=\"1360.36,266.342 2352.76,266.342 \"/>\n",
       "<polyline clip-path=\"url(#clip173)\" style=\"stroke:#000000; stroke-linecap:round; stroke-linejoin:round; stroke-width:2; stroke-opacity:0.1; fill:none\" points=\"1360.36,132.337 2352.76,132.337 \"/>\n",
       "<polyline clip-path=\"url(#clip170)\" style=\"stroke:#000000; stroke-linecap:round; stroke-linejoin:round; stroke-width:4; stroke-opacity:1; fill:none\" points=\"1360.36,686.448 1360.36,47.2441 \"/>\n",
       "<polyline clip-path=\"url(#clip170)\" style=\"stroke:#000000; stroke-linecap:round; stroke-linejoin:round; stroke-width:4; stroke-opacity:1; fill:none\" points=\"1360.36,668.357 1379.26,668.357 \"/>\n",
       "<polyline clip-path=\"url(#clip170)\" style=\"stroke:#000000; stroke-linecap:round; stroke-linejoin:round; stroke-width:4; stroke-opacity:1; fill:none\" points=\"1360.36,534.352 1379.26,534.352 \"/>\n",
       "<polyline clip-path=\"url(#clip170)\" style=\"stroke:#000000; stroke-linecap:round; stroke-linejoin:round; stroke-width:4; stroke-opacity:1; fill:none\" points=\"1360.36,400.347 1379.26,400.347 \"/>\n",
       "<polyline clip-path=\"url(#clip170)\" style=\"stroke:#000000; stroke-linecap:round; stroke-linejoin:round; stroke-width:4; stroke-opacity:1; fill:none\" points=\"1360.36,266.342 1379.26,266.342 \"/>\n",
       "<polyline clip-path=\"url(#clip170)\" style=\"stroke:#000000; stroke-linecap:round; stroke-linejoin:round; stroke-width:4; stroke-opacity:1; fill:none\" points=\"1360.36,132.337 1379.26,132.337 \"/>\n",
       "<path clip-path=\"url(#clip170)\" d=\"M1312.42 654.156 Q1308.8 654.156 1306.98 657.721 Q1305.17 661.262 1305.17 668.392 Q1305.17 675.498 1306.98 679.063 Q1308.8 682.605 1312.42 682.605 Q1316.05 682.605 1317.86 679.063 Q1319.68 675.498 1319.68 668.392 Q1319.68 661.262 1317.86 657.721 Q1316.05 654.156 1312.42 654.156 M1312.42 650.452 Q1318.23 650.452 1321.28 655.059 Q1324.36 659.642 1324.36 668.392 Q1324.36 677.119 1321.28 681.725 Q1318.23 686.308 1312.42 686.308 Q1306.61 686.308 1303.53 681.725 Q1300.47 677.119 1300.47 668.392 Q1300.47 659.642 1303.53 655.059 Q1306.61 650.452 1312.42 650.452 Z\" fill=\"#000000\" fill-rule=\"nonzero\" fill-opacity=\"1\" /><path clip-path=\"url(#clip170)\" d=\"M1308.04 547.697 L1324.36 547.697 L1324.36 551.632 L1302.42 551.632 L1302.42 547.697 Q1305.08 544.942 1309.66 540.313 Q1314.27 535.66 1315.45 534.317 Q1317.69 531.794 1318.57 530.058 Q1319.48 528.299 1319.48 526.609 Q1319.48 523.855 1317.53 522.118 Q1315.61 520.382 1312.51 520.382 Q1310.31 520.382 1307.86 521.146 Q1305.42 521.91 1302.65 523.461 L1302.65 518.739 Q1305.47 517.605 1307.92 517.026 Q1310.38 516.447 1312.42 516.447 Q1317.79 516.447 1320.98 519.132 Q1324.17 521.818 1324.17 526.308 Q1324.17 528.438 1323.36 530.359 Q1322.58 532.257 1320.47 534.85 Q1319.89 535.521 1316.79 538.739 Q1313.69 541.933 1308.04 547.697 Z\" fill=\"#000000\" fill-rule=\"nonzero\" fill-opacity=\"1\" /><path clip-path=\"url(#clip170)\" d=\"M1314.78 387.141 L1302.97 405.59 L1314.78 405.59 L1314.78 387.141 M1313.55 383.067 L1319.43 383.067 L1319.43 405.59 L1324.36 405.59 L1324.36 409.479 L1319.43 409.479 L1319.43 417.627 L1314.78 417.627 L1314.78 409.479 L1299.17 409.479 L1299.17 404.965 L1313.55 383.067 Z\" fill=\"#000000\" fill-rule=\"nonzero\" fill-opacity=\"1\" /><path clip-path=\"url(#clip170)\" d=\"M1312.83 264.479 Q1309.68 264.479 1307.83 266.632 Q1306 268.784 1306 272.534 Q1306 276.261 1307.83 278.437 Q1309.68 280.59 1312.83 280.59 Q1315.98 280.59 1317.81 278.437 Q1319.66 276.261 1319.66 272.534 Q1319.66 268.784 1317.81 266.632 Q1315.98 264.479 1312.83 264.479 M1322.11 249.826 L1322.11 254.085 Q1320.36 253.252 1318.55 252.812 Q1316.77 252.372 1315.01 252.372 Q1310.38 252.372 1307.92 255.497 Q1305.49 258.622 1305.15 264.942 Q1306.51 262.928 1308.57 261.863 Q1310.63 260.775 1313.11 260.775 Q1318.32 260.775 1321.33 263.946 Q1324.36 267.095 1324.36 272.534 Q1324.36 277.858 1321.21 281.076 Q1318.06 284.294 1312.83 284.294 Q1306.84 284.294 1303.67 279.71 Q1300.49 275.104 1300.49 266.377 Q1300.49 258.183 1304.38 253.321 Q1308.27 248.437 1314.82 248.437 Q1316.58 248.437 1318.36 248.784 Q1320.17 249.132 1322.11 249.826 Z\" fill=\"#000000\" fill-rule=\"nonzero\" fill-opacity=\"1\" /><path clip-path=\"url(#clip170)\" d=\"M1312.51 133.205 Q1309.17 133.205 1307.25 134.988 Q1305.36 136.77 1305.36 139.895 Q1305.36 143.02 1307.25 144.802 Q1309.17 146.585 1312.51 146.585 Q1315.84 146.585 1317.76 144.802 Q1319.68 142.997 1319.68 139.895 Q1319.68 136.77 1317.76 134.988 Q1315.86 133.205 1312.51 133.205 M1307.83 131.215 Q1304.82 130.474 1303.13 128.414 Q1301.47 126.353 1301.47 123.391 Q1301.47 119.247 1304.41 116.84 Q1307.37 114.432 1312.51 114.432 Q1317.67 114.432 1320.61 116.84 Q1323.55 119.247 1323.55 123.391 Q1323.55 126.353 1321.86 128.414 Q1320.19 130.474 1317.21 131.215 Q1320.59 132.002 1322.46 134.293 Q1324.36 136.585 1324.36 139.895 Q1324.36 144.918 1321.28 147.603 Q1318.23 150.289 1312.51 150.289 Q1306.79 150.289 1303.71 147.603 Q1300.66 144.918 1300.66 139.895 Q1300.66 136.585 1302.55 134.293 Q1304.45 132.002 1307.83 131.215 M1306.12 123.83 Q1306.12 126.516 1307.79 128.02 Q1309.48 129.525 1312.51 129.525 Q1315.52 129.525 1317.21 128.02 Q1318.92 126.516 1318.92 123.83 Q1318.92 121.145 1317.21 119.641 Q1315.52 118.136 1312.51 118.136 Q1309.48 118.136 1307.79 119.641 Q1306.12 121.145 1306.12 123.83 Z\" fill=\"#000000\" fill-rule=\"nonzero\" fill-opacity=\"1\" /><polyline clip-path=\"url(#clip173)\" style=\"stroke:#009af9; stroke-linecap:round; stroke-linejoin:round; stroke-width:4; stroke-opacity:1; fill:none\" points=\"1388.45,65.3348 1404.05,104.866 1419.65,143.058 1435.26,179.909 1450.86,215.42 1466.47,249.592 1482.07,282.423 1497.67,313.914 1513.28,344.065 1528.88,372.876 1544.48,400.347 1560.09,426.478 1575.69,451.269 1591.29,474.72 1606.9,496.831 1622.5,517.602 1638.11,537.032 1653.71,555.123 1669.31,571.874 1684.92,587.284 1700.52,601.355 1716.12,614.085 1731.73,625.476 1747.33,635.526 1762.94,644.236 1778.54,651.607 1794.14,657.637 1809.75,662.327 1825.35,665.677 1840.95,667.687 1856.56,668.357 1872.16,667.687 1887.77,665.677 1903.37,662.327 1918.97,657.637 1934.58,651.607 1950.18,644.236 1965.78,635.526 1981.39,625.476 1996.99,614.085 2012.59,601.355 2028.2,587.284 2043.8,571.874 2059.41,555.123 2075.01,537.032 2090.61,517.602 2106.22,496.831 2121.82,474.72 2137.42,451.269 2153.03,426.478 2168.63,400.347 2184.24,372.876 2199.84,344.065 2215.44,313.914 2231.05,282.423 2246.65,249.592 2262.25,215.42 2277.86,179.909 2293.46,143.058 2309.07,104.866 2324.67,65.3348 \"/>\n",
       "<path clip-path=\"url(#clip170)\" d=\"M178.867 1486.45 L1171.26 1486.45 L1171.26 847.244 L178.867 847.244  Z\" fill=\"#ffffff\" fill-rule=\"evenodd\" fill-opacity=\"1\"/>\n",
       "<defs>\n",
       "  <clipPath id=\"clip174\">\n",
       "    <rect x=\"178\" y=\"847\" width=\"993\" height=\"640\"/>\n",
       "  </clipPath>\n",
       "</defs>\n",
       "<polyline clip-path=\"url(#clip174)\" style=\"stroke:#000000; stroke-linecap:round; stroke-linejoin:round; stroke-width:2; stroke-opacity:0.1; fill:none\" points=\"206.953,1486.45 206.953,847.244 \"/>\n",
       "<polyline clip-path=\"url(#clip174)\" style=\"stroke:#000000; stroke-linecap:round; stroke-linejoin:round; stroke-width:2; stroke-opacity:0.1; fill:none\" points=\"362.99,1486.45 362.99,847.244 \"/>\n",
       "<polyline clip-path=\"url(#clip174)\" style=\"stroke:#000000; stroke-linecap:round; stroke-linejoin:round; stroke-width:2; stroke-opacity:0.1; fill:none\" points=\"519.028,1486.45 519.028,847.244 \"/>\n",
       "<polyline clip-path=\"url(#clip174)\" style=\"stroke:#000000; stroke-linecap:round; stroke-linejoin:round; stroke-width:2; stroke-opacity:0.1; fill:none\" points=\"675.065,1486.45 675.065,847.244 \"/>\n",
       "<polyline clip-path=\"url(#clip174)\" style=\"stroke:#000000; stroke-linecap:round; stroke-linejoin:round; stroke-width:2; stroke-opacity:0.1; fill:none\" points=\"831.102,1486.45 831.102,847.244 \"/>\n",
       "<polyline clip-path=\"url(#clip174)\" style=\"stroke:#000000; stroke-linecap:round; stroke-linejoin:round; stroke-width:2; stroke-opacity:0.1; fill:none\" points=\"987.139,1486.45 987.139,847.244 \"/>\n",
       "<polyline clip-path=\"url(#clip174)\" style=\"stroke:#000000; stroke-linecap:round; stroke-linejoin:round; stroke-width:2; stroke-opacity:0.1; fill:none\" points=\"1143.18,1486.45 1143.18,847.244 \"/>\n",
       "<polyline clip-path=\"url(#clip170)\" style=\"stroke:#000000; stroke-linecap:round; stroke-linejoin:round; stroke-width:4; stroke-opacity:1; fill:none\" points=\"178.867,1486.45 1171.26,1486.45 \"/>\n",
       "<polyline clip-path=\"url(#clip170)\" style=\"stroke:#000000; stroke-linecap:round; stroke-linejoin:round; stroke-width:4; stroke-opacity:1; fill:none\" points=\"206.953,1486.45 206.953,1467.55 \"/>\n",
       "<polyline clip-path=\"url(#clip170)\" style=\"stroke:#000000; stroke-linecap:round; stroke-linejoin:round; stroke-width:4; stroke-opacity:1; fill:none\" points=\"362.99,1486.45 362.99,1467.55 \"/>\n",
       "<polyline clip-path=\"url(#clip170)\" style=\"stroke:#000000; stroke-linecap:round; stroke-linejoin:round; stroke-width:4; stroke-opacity:1; fill:none\" points=\"519.028,1486.45 519.028,1467.55 \"/>\n",
       "<polyline clip-path=\"url(#clip170)\" style=\"stroke:#000000; stroke-linecap:round; stroke-linejoin:round; stroke-width:4; stroke-opacity:1; fill:none\" points=\"675.065,1486.45 675.065,1467.55 \"/>\n",
       "<polyline clip-path=\"url(#clip170)\" style=\"stroke:#000000; stroke-linecap:round; stroke-linejoin:round; stroke-width:4; stroke-opacity:1; fill:none\" points=\"831.102,1486.45 831.102,1467.55 \"/>\n",
       "<polyline clip-path=\"url(#clip170)\" style=\"stroke:#000000; stroke-linecap:round; stroke-linejoin:round; stroke-width:4; stroke-opacity:1; fill:none\" points=\"987.139,1486.45 987.139,1467.55 \"/>\n",
       "<polyline clip-path=\"url(#clip170)\" style=\"stroke:#000000; stroke-linecap:round; stroke-linejoin:round; stroke-width:4; stroke-opacity:1; fill:none\" points=\"1143.18,1486.45 1143.18,1467.55 \"/>\n",
       "<path clip-path=\"url(#clip170)\" d=\"M176.421 1532.02 L206.097 1532.02 L206.097 1535.95 L176.421 1535.95 L176.421 1532.02 Z\" fill=\"#000000\" fill-rule=\"nonzero\" fill-opacity=\"1\" /><path clip-path=\"url(#clip170)\" d=\"M230.356 1530.21 Q233.712 1530.93 235.587 1533.2 Q237.486 1535.47 237.486 1538.8 Q237.486 1543.92 233.967 1546.72 Q230.449 1549.52 223.967 1549.52 Q221.791 1549.52 219.476 1549.08 Q217.185 1548.66 214.731 1547.81 L214.731 1543.29 Q216.675 1544.43 218.99 1545.01 Q221.305 1545.58 223.828 1545.58 Q228.226 1545.58 230.518 1543.85 Q232.833 1542.11 232.833 1538.8 Q232.833 1535.75 230.68 1534.03 Q228.55 1532.3 224.731 1532.3 L220.703 1532.3 L220.703 1528.45 L224.916 1528.45 Q228.365 1528.45 230.194 1527.09 Q232.023 1525.7 232.023 1523.11 Q232.023 1520.45 230.124 1519.03 Q228.249 1517.6 224.731 1517.6 Q222.81 1517.6 220.611 1518.01 Q218.412 1518.43 215.773 1519.31 L215.773 1515.14 Q218.435 1514.4 220.75 1514.03 Q223.087 1513.66 225.148 1513.66 Q230.472 1513.66 233.574 1516.09 Q236.675 1518.5 236.675 1522.62 Q236.675 1525.49 235.032 1527.48 Q233.388 1529.45 230.356 1530.21 Z\" fill=\"#000000\" fill-rule=\"nonzero\" fill-opacity=\"1\" /><path clip-path=\"url(#clip170)\" d=\"M332.933 1532.02 L362.608 1532.02 L362.608 1535.95 L332.933 1535.95 L332.933 1532.02 Z\" fill=\"#000000\" fill-rule=\"nonzero\" fill-opacity=\"1\" /><path clip-path=\"url(#clip170)\" d=\"M376.729 1544.91 L393.048 1544.91 L393.048 1548.85 L371.104 1548.85 L371.104 1544.91 Q373.766 1542.16 378.349 1537.53 Q382.956 1532.88 384.136 1531.53 Q386.382 1529.01 387.261 1527.27 Q388.164 1525.51 388.164 1523.82 Q388.164 1521.07 386.219 1519.33 Q384.298 1517.6 381.196 1517.6 Q378.997 1517.6 376.544 1518.36 Q374.113 1519.13 371.335 1520.68 L371.335 1515.95 Q374.159 1514.82 376.613 1514.24 Q379.067 1513.66 381.104 1513.66 Q386.474 1513.66 389.669 1516.35 Q392.863 1519.03 392.863 1523.52 Q392.863 1525.65 392.053 1527.57 Q391.266 1529.47 389.159 1532.07 Q388.581 1532.74 385.479 1535.95 Q382.377 1539.15 376.729 1544.91 Z\" fill=\"#000000\" fill-rule=\"nonzero\" fill-opacity=\"1\" /><path clip-path=\"url(#clip170)\" d=\"M488.785 1532.02 L518.46 1532.02 L518.46 1535.95 L488.785 1535.95 L488.785 1532.02 Z\" fill=\"#000000\" fill-rule=\"nonzero\" fill-opacity=\"1\" /><path clip-path=\"url(#clip170)\" d=\"M529.363 1544.91 L537.002 1544.91 L537.002 1518.55 L528.692 1520.21 L528.692 1515.95 L536.956 1514.29 L541.632 1514.29 L541.632 1544.91 L549.27 1544.91 L549.27 1548.85 L529.363 1548.85 L529.363 1544.91 Z\" fill=\"#000000\" fill-rule=\"nonzero\" fill-opacity=\"1\" /><path clip-path=\"url(#clip170)\" d=\"M675.065 1517.37 Q671.454 1517.37 669.625 1520.93 Q667.819 1524.47 667.819 1531.6 Q667.819 1538.71 669.625 1542.27 Q671.454 1545.82 675.065 1545.82 Q678.699 1545.82 680.504 1542.27 Q682.333 1538.71 682.333 1531.6 Q682.333 1524.47 680.504 1520.93 Q678.699 1517.37 675.065 1517.37 M675.065 1513.66 Q680.875 1513.66 683.93 1518.27 Q687.009 1522.85 687.009 1531.6 Q687.009 1540.33 683.93 1544.94 Q680.875 1549.52 675.065 1549.52 Q669.255 1549.52 666.176 1544.94 Q663.12 1540.33 663.12 1531.6 Q663.12 1522.85 666.176 1518.27 Q669.255 1513.66 675.065 1513.66 Z\" fill=\"#000000\" fill-rule=\"nonzero\" fill-opacity=\"1\" /><path clip-path=\"url(#clip170)\" d=\"M821.484 1544.91 L829.123 1544.91 L829.123 1518.55 L820.813 1520.21 L820.813 1515.95 L829.076 1514.29 L833.752 1514.29 L833.752 1544.91 L841.391 1544.91 L841.391 1548.85 L821.484 1548.85 L821.484 1544.91 Z\" fill=\"#000000\" fill-rule=\"nonzero\" fill-opacity=\"1\" /><path clip-path=\"url(#clip170)\" d=\"M981.792 1544.91 L998.111 1544.91 L998.111 1548.85 L976.167 1548.85 L976.167 1544.91 Q978.829 1542.16 983.412 1537.53 Q988.019 1532.88 989.199 1531.53 Q991.444 1529.01 992.324 1527.27 Q993.227 1525.51 993.227 1523.82 Q993.227 1521.07 991.282 1519.33 Q989.361 1517.6 986.259 1517.6 Q984.06 1517.6 981.607 1518.36 Q979.176 1519.13 976.398 1520.68 L976.398 1515.95 Q979.222 1514.82 981.676 1514.24 Q984.13 1513.66 986.167 1513.66 Q991.537 1513.66 994.731 1516.35 Q997.926 1519.03 997.926 1523.52 Q997.926 1525.65 997.116 1527.57 Q996.329 1529.47 994.222 1532.07 Q993.644 1532.74 990.542 1535.95 Q987.44 1539.15 981.792 1544.91 Z\" fill=\"#000000\" fill-rule=\"nonzero\" fill-opacity=\"1\" /><path clip-path=\"url(#clip170)\" d=\"M1147.42 1530.21 Q1150.78 1530.93 1152.66 1533.2 Q1154.55 1535.47 1154.55 1538.8 Q1154.55 1543.92 1151.03 1546.72 Q1147.52 1549.52 1141.03 1549.52 Q1138.86 1549.52 1136.54 1549.08 Q1134.25 1548.66 1131.8 1547.81 L1131.8 1543.29 Q1133.74 1544.43 1136.06 1545.01 Q1138.37 1545.58 1140.9 1545.58 Q1145.29 1545.58 1147.59 1543.85 Q1149.9 1542.11 1149.9 1538.8 Q1149.9 1535.75 1147.75 1534.03 Q1145.62 1532.3 1141.8 1532.3 L1137.77 1532.3 L1137.77 1528.45 L1141.98 1528.45 Q1145.43 1528.45 1147.26 1527.09 Q1149.09 1525.7 1149.09 1523.11 Q1149.09 1520.45 1147.19 1519.03 Q1145.32 1517.6 1141.8 1517.6 Q1139.88 1517.6 1137.68 1518.01 Q1135.48 1518.43 1132.84 1519.31 L1132.84 1515.14 Q1135.5 1514.4 1137.82 1514.03 Q1140.16 1513.66 1142.22 1513.66 Q1147.54 1513.66 1150.64 1516.09 Q1153.74 1518.5 1153.74 1522.62 Q1153.74 1525.49 1152.1 1527.48 Q1150.46 1529.45 1147.42 1530.21 Z\" fill=\"#000000\" fill-rule=\"nonzero\" fill-opacity=\"1\" /><polyline clip-path=\"url(#clip174)\" style=\"stroke:#000000; stroke-linecap:round; stroke-linejoin:round; stroke-width:2; stroke-opacity:0.1; fill:none\" points=\"178.867,1390.19 1171.26,1390.19 \"/>\n",
       "<polyline clip-path=\"url(#clip174)\" style=\"stroke:#000000; stroke-linecap:round; stroke-linejoin:round; stroke-width:2; stroke-opacity:0.1; fill:none\" points=\"178.867,1278.52 1171.26,1278.52 \"/>\n",
       "<polyline clip-path=\"url(#clip174)\" style=\"stroke:#000000; stroke-linecap:round; stroke-linejoin:round; stroke-width:2; stroke-opacity:0.1; fill:none\" points=\"178.867,1166.85 1171.26,1166.85 \"/>\n",
       "<polyline clip-path=\"url(#clip174)\" style=\"stroke:#000000; stroke-linecap:round; stroke-linejoin:round; stroke-width:2; stroke-opacity:0.1; fill:none\" points=\"178.867,1055.18 1171.26,1055.18 \"/>\n",
       "<polyline clip-path=\"url(#clip174)\" style=\"stroke:#000000; stroke-linecap:round; stroke-linejoin:round; stroke-width:2; stroke-opacity:0.1; fill:none\" points=\"178.867,943.504 1171.26,943.504 \"/>\n",
       "<polyline clip-path=\"url(#clip170)\" style=\"stroke:#000000; stroke-linecap:round; stroke-linejoin:round; stroke-width:4; stroke-opacity:1; fill:none\" points=\"178.867,1486.45 178.867,847.244 \"/>\n",
       "<polyline clip-path=\"url(#clip170)\" style=\"stroke:#000000; stroke-linecap:round; stroke-linejoin:round; stroke-width:4; stroke-opacity:1; fill:none\" points=\"178.867,1390.19 197.764,1390.19 \"/>\n",
       "<polyline clip-path=\"url(#clip170)\" style=\"stroke:#000000; stroke-linecap:round; stroke-linejoin:round; stroke-width:4; stroke-opacity:1; fill:none\" points=\"178.867,1278.52 197.764,1278.52 \"/>\n",
       "<polyline clip-path=\"url(#clip170)\" style=\"stroke:#000000; stroke-linecap:round; stroke-linejoin:round; stroke-width:4; stroke-opacity:1; fill:none\" points=\"178.867,1166.85 197.764,1166.85 \"/>\n",
       "<polyline clip-path=\"url(#clip170)\" style=\"stroke:#000000; stroke-linecap:round; stroke-linejoin:round; stroke-width:4; stroke-opacity:1; fill:none\" points=\"178.867,1055.18 197.764,1055.18 \"/>\n",
       "<polyline clip-path=\"url(#clip170)\" style=\"stroke:#000000; stroke-linecap:round; stroke-linejoin:round; stroke-width:4; stroke-opacity:1; fill:none\" points=\"178.867,943.504 197.764,943.504 \"/>\n",
       "<path clip-path=\"url(#clip170)\" d=\"M50.9921 1390.64 L80.6679 1390.64 L80.6679 1394.57 L50.9921 1394.57 L50.9921 1390.64 Z\" fill=\"#000000\" fill-rule=\"nonzero\" fill-opacity=\"1\" /><path clip-path=\"url(#clip170)\" d=\"M94.7882 1403.53 L111.108 1403.53 L111.108 1407.47 L89.1632 1407.47 L89.1632 1403.53 Q91.8252 1400.78 96.4085 1396.15 Q101.015 1391.5 102.196 1390.15 Q104.441 1387.63 105.321 1385.89 Q106.223 1384.13 106.223 1382.44 Q106.223 1379.69 104.279 1377.95 Q102.358 1376.22 99.2558 1376.22 Q97.0567 1376.22 94.603 1376.98 Q92.1725 1377.75 89.3947 1379.3 L89.3947 1374.57 Q92.2188 1373.44 94.6724 1372.86 Q97.1261 1372.28 99.1632 1372.28 Q104.534 1372.28 107.728 1374.97 Q110.922 1377.65 110.922 1382.14 Q110.922 1384.27 110.112 1386.19 Q109.325 1388.09 107.219 1390.69 Q106.64 1391.36 103.538 1394.57 Q100.436 1397.77 94.7882 1403.53 Z\" fill=\"#000000\" fill-rule=\"nonzero\" fill-opacity=\"1\" /><path clip-path=\"url(#clip170)\" d=\"M130.922 1375.99 Q127.311 1375.99 125.482 1379.55 Q123.677 1383.09 123.677 1390.22 Q123.677 1397.33 125.482 1400.89 Q127.311 1404.44 130.922 1404.44 Q134.556 1404.44 136.362 1400.89 Q138.191 1397.33 138.191 1390.22 Q138.191 1383.09 136.362 1379.55 Q134.556 1375.99 130.922 1375.99 M130.922 1372.28 Q136.732 1372.28 139.788 1376.89 Q142.867 1381.47 142.867 1390.22 Q142.867 1398.95 139.788 1403.56 Q136.732 1408.14 130.922 1408.14 Q125.112 1408.14 122.033 1403.56 Q118.978 1398.95 118.978 1390.22 Q118.978 1381.47 122.033 1376.89 Q125.112 1372.28 130.922 1372.28 Z\" fill=\"#000000\" fill-rule=\"nonzero\" fill-opacity=\"1\" /><path clip-path=\"url(#clip170)\" d=\"M50.9921 1278.97 L80.6679 1278.97 L80.6679 1282.9 L50.9921 1282.9 L50.9921 1278.97 Z\" fill=\"#000000\" fill-rule=\"nonzero\" fill-opacity=\"1\" /><path clip-path=\"url(#clip170)\" d=\"M91.5706 1291.86 L99.2095 1291.86 L99.2095 1265.5 L90.8993 1267.16 L90.8993 1262.9 L99.1632 1261.24 L103.839 1261.24 L103.839 1291.86 L111.478 1291.86 L111.478 1295.8 L91.5706 1295.8 L91.5706 1291.86 Z\" fill=\"#000000\" fill-rule=\"nonzero\" fill-opacity=\"1\" /><path clip-path=\"url(#clip170)\" d=\"M130.922 1264.32 Q127.311 1264.32 125.482 1267.88 Q123.677 1271.42 123.677 1278.55 Q123.677 1285.66 125.482 1289.22 Q127.311 1292.76 130.922 1292.76 Q134.556 1292.76 136.362 1289.22 Q138.191 1285.66 138.191 1278.55 Q138.191 1271.42 136.362 1267.88 Q134.556 1264.32 130.922 1264.32 M130.922 1260.61 Q136.732 1260.61 139.788 1265.22 Q142.867 1269.8 142.867 1278.55 Q142.867 1287.28 139.788 1291.88 Q136.732 1296.47 130.922 1296.47 Q125.112 1296.47 122.033 1291.88 Q118.978 1287.28 118.978 1278.55 Q118.978 1269.8 122.033 1265.22 Q125.112 1260.61 130.922 1260.61 Z\" fill=\"#000000\" fill-rule=\"nonzero\" fill-opacity=\"1\" /><path clip-path=\"url(#clip170)\" d=\"M130.922 1152.64 Q127.311 1152.64 125.482 1156.21 Q123.677 1159.75 123.677 1166.88 Q123.677 1173.99 125.482 1177.55 Q127.311 1181.09 130.922 1181.09 Q134.556 1181.09 136.362 1177.55 Q138.191 1173.99 138.191 1166.88 Q138.191 1159.75 136.362 1156.21 Q134.556 1152.64 130.922 1152.64 M130.922 1148.94 Q136.732 1148.94 139.788 1153.55 Q142.867 1158.13 142.867 1166.88 Q142.867 1175.61 139.788 1180.21 Q136.732 1184.8 130.922 1184.8 Q125.112 1184.8 122.033 1180.21 Q118.978 1175.61 118.978 1166.88 Q118.978 1158.13 122.033 1153.55 Q125.112 1148.94 130.922 1148.94 Z\" fill=\"#000000\" fill-rule=\"nonzero\" fill-opacity=\"1\" /><path clip-path=\"url(#clip170)\" d=\"M91.5706 1068.52 L99.2095 1068.52 L99.2095 1042.15 L90.8993 1043.82 L90.8993 1039.56 L99.1632 1037.9 L103.839 1037.9 L103.839 1068.52 L111.478 1068.52 L111.478 1072.46 L91.5706 1072.46 L91.5706 1068.52 Z\" fill=\"#000000\" fill-rule=\"nonzero\" fill-opacity=\"1\" /><path clip-path=\"url(#clip170)\" d=\"M130.922 1040.97 Q127.311 1040.97 125.482 1044.54 Q123.677 1048.08 123.677 1055.21 Q123.677 1062.32 125.482 1065.88 Q127.311 1069.42 130.922 1069.42 Q134.556 1069.42 136.362 1065.88 Q138.191 1062.32 138.191 1055.21 Q138.191 1048.08 136.362 1044.54 Q134.556 1040.97 130.922 1040.97 M130.922 1037.27 Q136.732 1037.27 139.788 1041.88 Q142.867 1046.46 142.867 1055.21 Q142.867 1063.94 139.788 1068.54 Q136.732 1073.13 130.922 1073.13 Q125.112 1073.13 122.033 1068.54 Q118.978 1063.94 118.978 1055.21 Q118.978 1046.46 122.033 1041.88 Q125.112 1037.27 130.922 1037.27 Z\" fill=\"#000000\" fill-rule=\"nonzero\" fill-opacity=\"1\" /><path clip-path=\"url(#clip170)\" d=\"M94.7882 956.849 L111.108 956.849 L111.108 960.784 L89.1632 960.784 L89.1632 956.849 Q91.8252 954.095 96.4085 949.465 Q101.015 944.812 102.196 943.47 Q104.441 940.946 105.321 939.21 Q106.223 937.451 106.223 935.761 Q106.223 933.007 104.279 931.271 Q102.358 929.535 99.2558 929.535 Q97.0567 929.535 94.603 930.298 Q92.1725 931.062 89.3947 932.613 L89.3947 927.891 Q92.2188 926.757 94.6724 926.178 Q97.1261 925.599 99.1632 925.599 Q104.534 925.599 107.728 928.285 Q110.922 930.97 110.922 935.46 Q110.922 937.59 110.112 939.511 Q109.325 941.409 107.219 944.002 Q106.64 944.673 103.538 947.891 Q100.436 951.085 94.7882 956.849 Z\" fill=\"#000000\" fill-rule=\"nonzero\" fill-opacity=\"1\" /><path clip-path=\"url(#clip170)\" d=\"M130.922 929.303 Q127.311 929.303 125.482 932.868 Q123.677 936.409 123.677 943.539 Q123.677 950.646 125.482 954.21 Q127.311 957.752 130.922 957.752 Q134.556 957.752 136.362 954.21 Q138.191 950.646 138.191 943.539 Q138.191 936.409 136.362 932.868 Q134.556 929.303 130.922 929.303 M130.922 925.599 Q136.732 925.599 139.788 930.206 Q142.867 934.789 142.867 943.539 Q142.867 952.266 139.788 956.872 Q136.732 961.456 130.922 961.456 Q125.112 961.456 122.033 956.872 Q118.978 952.266 118.978 943.539 Q118.978 934.789 122.033 930.206 Q125.112 925.599 130.922 925.599 Z\" fill=\"#000000\" fill-rule=\"nonzero\" fill-opacity=\"1\" /><polyline clip-path=\"url(#clip174)\" style=\"stroke:#009af9; stroke-linecap:round; stroke-linejoin:round; stroke-width:4; stroke-opacity:1; fill:none\" points=\"206.953,1468.36 222.557,1439.2 238.161,1411.99 253.764,1386.65 269.368,1363.12 284.972,1341.33 300.576,1321.22 316.179,1302.72 331.783,1285.75 347.387,1270.26 362.99,1256.18 378.594,1243.44 394.198,1231.97 409.802,1221.71 425.405,1212.59 441.009,1204.53 456.613,1197.49 472.216,1191.38 487.82,1186.14 503.424,1181.71 519.028,1178.01 534.631,1174.99 550.235,1172.56 565.839,1170.68 581.442,1169.26 597.046,1168.24 612.65,1167.56 628.254,1167.15 643.857,1166.94 659.461,1166.86 675.065,1166.85 690.668,1166.83 706.272,1166.76 721.876,1166.54 737.48,1166.13 753.083,1165.45 768.687,1164.43 784.291,1163.02 799.894,1161.13 815.498,1158.71 831.102,1155.68 846.706,1151.98 862.309,1147.55 877.913,1142.31 893.517,1136.2 909.12,1129.16 924.724,1121.11 940.328,1111.98 955.932,1101.72 971.535,1090.25 987.139,1077.51 1002.74,1063.43 1018.35,1047.94 1033.95,1030.98 1049.55,1012.47 1065.16,992.36 1080.76,970.573 1096.36,947.044 1111.97,921.706 1127.57,894.492 1143.18,865.335 \"/>\n",
       "<path clip-path=\"url(#clip170)\" d=\"M1360.36 1486.45 L2352.76 1486.45 L2352.76 847.244 L1360.36 847.244  Z\" fill=\"#ffffff\" fill-rule=\"evenodd\" fill-opacity=\"1\"/>\n",
       "<defs>\n",
       "  <clipPath id=\"clip175\">\n",
       "    <rect x=\"1360\" y=\"847\" width=\"993\" height=\"640\"/>\n",
       "  </clipPath>\n",
       "</defs>\n",
       "<polyline clip-path=\"url(#clip175)\" style=\"stroke:#000000; stroke-linecap:round; stroke-linejoin:round; stroke-width:2; stroke-opacity:0.1; fill:none\" points=\"1388.45,1486.45 1388.45,847.244 \"/>\n",
       "<polyline clip-path=\"url(#clip175)\" style=\"stroke:#000000; stroke-linecap:round; stroke-linejoin:round; stroke-width:2; stroke-opacity:0.1; fill:none\" points=\"1544.48,1486.45 1544.48,847.244 \"/>\n",
       "<polyline clip-path=\"url(#clip175)\" style=\"stroke:#000000; stroke-linecap:round; stroke-linejoin:round; stroke-width:2; stroke-opacity:0.1; fill:none\" points=\"1700.52,1486.45 1700.52,847.244 \"/>\n",
       "<polyline clip-path=\"url(#clip175)\" style=\"stroke:#000000; stroke-linecap:round; stroke-linejoin:round; stroke-width:2; stroke-opacity:0.1; fill:none\" points=\"1856.56,1486.45 1856.56,847.244 \"/>\n",
       "<polyline clip-path=\"url(#clip175)\" style=\"stroke:#000000; stroke-linecap:round; stroke-linejoin:round; stroke-width:2; stroke-opacity:0.1; fill:none\" points=\"2012.59,1486.45 2012.59,847.244 \"/>\n",
       "<polyline clip-path=\"url(#clip175)\" style=\"stroke:#000000; stroke-linecap:round; stroke-linejoin:round; stroke-width:2; stroke-opacity:0.1; fill:none\" points=\"2168.63,1486.45 2168.63,847.244 \"/>\n",
       "<polyline clip-path=\"url(#clip175)\" style=\"stroke:#000000; stroke-linecap:round; stroke-linejoin:round; stroke-width:2; stroke-opacity:0.1; fill:none\" points=\"2324.67,1486.45 2324.67,847.244 \"/>\n",
       "<polyline clip-path=\"url(#clip170)\" style=\"stroke:#000000; stroke-linecap:round; stroke-linejoin:round; stroke-width:4; stroke-opacity:1; fill:none\" points=\"1360.36,1486.45 2352.76,1486.45 \"/>\n",
       "<polyline clip-path=\"url(#clip170)\" style=\"stroke:#000000; stroke-linecap:round; stroke-linejoin:round; stroke-width:4; stroke-opacity:1; fill:none\" points=\"1388.45,1486.45 1388.45,1467.55 \"/>\n",
       "<polyline clip-path=\"url(#clip170)\" style=\"stroke:#000000; stroke-linecap:round; stroke-linejoin:round; stroke-width:4; stroke-opacity:1; fill:none\" points=\"1544.48,1486.45 1544.48,1467.55 \"/>\n",
       "<polyline clip-path=\"url(#clip170)\" style=\"stroke:#000000; stroke-linecap:round; stroke-linejoin:round; stroke-width:4; stroke-opacity:1; fill:none\" points=\"1700.52,1486.45 1700.52,1467.55 \"/>\n",
       "<polyline clip-path=\"url(#clip170)\" style=\"stroke:#000000; stroke-linecap:round; stroke-linejoin:round; stroke-width:4; stroke-opacity:1; fill:none\" points=\"1856.56,1486.45 1856.56,1467.55 \"/>\n",
       "<polyline clip-path=\"url(#clip170)\" style=\"stroke:#000000; stroke-linecap:round; stroke-linejoin:round; stroke-width:4; stroke-opacity:1; fill:none\" points=\"2012.59,1486.45 2012.59,1467.55 \"/>\n",
       "<polyline clip-path=\"url(#clip170)\" style=\"stroke:#000000; stroke-linecap:round; stroke-linejoin:round; stroke-width:4; stroke-opacity:1; fill:none\" points=\"2168.63,1486.45 2168.63,1467.55 \"/>\n",
       "<polyline clip-path=\"url(#clip170)\" style=\"stroke:#000000; stroke-linecap:round; stroke-linejoin:round; stroke-width:4; stroke-opacity:1; fill:none\" points=\"2324.67,1486.45 2324.67,1467.55 \"/>\n",
       "<path clip-path=\"url(#clip170)\" d=\"M1357.91 1532.02 L1387.59 1532.02 L1387.59 1535.95 L1357.91 1535.95 L1357.91 1532.02 Z\" fill=\"#000000\" fill-rule=\"nonzero\" fill-opacity=\"1\" /><path clip-path=\"url(#clip170)\" d=\"M1411.85 1530.21 Q1415.21 1530.93 1417.08 1533.2 Q1418.98 1535.47 1418.98 1538.8 Q1418.98 1543.92 1415.46 1546.72 Q1411.94 1549.52 1405.46 1549.52 Q1403.28 1549.52 1400.97 1549.08 Q1398.68 1548.66 1396.22 1547.81 L1396.22 1543.29 Q1398.17 1544.43 1400.48 1545.01 Q1402.8 1545.58 1405.32 1545.58 Q1409.72 1545.58 1412.01 1543.85 Q1414.33 1542.11 1414.33 1538.8 Q1414.33 1535.75 1412.17 1534.03 Q1410.04 1532.3 1406.22 1532.3 L1402.2 1532.3 L1402.2 1528.45 L1406.41 1528.45 Q1409.86 1528.45 1411.69 1527.09 Q1413.52 1525.7 1413.52 1523.11 Q1413.52 1520.45 1411.62 1519.03 Q1409.74 1517.6 1406.22 1517.6 Q1404.3 1517.6 1402.1 1518.01 Q1399.9 1518.43 1397.27 1519.31 L1397.27 1515.14 Q1399.93 1514.4 1402.24 1514.03 Q1404.58 1513.66 1406.64 1513.66 Q1411.96 1513.66 1415.07 1516.09 Q1418.17 1518.5 1418.17 1522.62 Q1418.17 1525.49 1416.53 1527.48 Q1414.88 1529.45 1411.85 1530.21 Z\" fill=\"#000000\" fill-rule=\"nonzero\" fill-opacity=\"1\" /><path clip-path=\"url(#clip170)\" d=\"M1514.43 1532.02 L1544.1 1532.02 L1544.1 1535.95 L1514.43 1535.95 L1514.43 1532.02 Z\" fill=\"#000000\" fill-rule=\"nonzero\" fill-opacity=\"1\" /><path clip-path=\"url(#clip170)\" d=\"M1558.22 1544.91 L1574.54 1544.91 L1574.54 1548.85 L1552.6 1548.85 L1552.6 1544.91 Q1555.26 1542.16 1559.84 1537.53 Q1564.45 1532.88 1565.63 1531.53 Q1567.87 1529.01 1568.75 1527.27 Q1569.66 1525.51 1569.66 1523.82 Q1569.66 1521.07 1567.71 1519.33 Q1565.79 1517.6 1562.69 1517.6 Q1560.49 1517.6 1558.04 1518.36 Q1555.61 1519.13 1552.83 1520.68 L1552.83 1515.95 Q1555.65 1514.82 1558.11 1514.24 Q1560.56 1513.66 1562.6 1513.66 Q1567.97 1513.66 1571.16 1516.35 Q1574.36 1519.03 1574.36 1523.52 Q1574.36 1525.65 1573.55 1527.57 Q1572.76 1529.47 1570.65 1532.07 Q1570.07 1532.74 1566.97 1535.95 Q1563.87 1539.15 1558.22 1544.91 Z\" fill=\"#000000\" fill-rule=\"nonzero\" fill-opacity=\"1\" /><path clip-path=\"url(#clip170)\" d=\"M1670.28 1532.02 L1699.95 1532.02 L1699.95 1535.95 L1670.28 1535.95 L1670.28 1532.02 Z\" fill=\"#000000\" fill-rule=\"nonzero\" fill-opacity=\"1\" /><path clip-path=\"url(#clip170)\" d=\"M1710.86 1544.91 L1718.5 1544.91 L1718.5 1518.55 L1710.19 1520.21 L1710.19 1515.95 L1718.45 1514.29 L1723.12 1514.29 L1723.12 1544.91 L1730.76 1544.91 L1730.76 1548.85 L1710.86 1548.85 L1710.86 1544.91 Z\" fill=\"#000000\" fill-rule=\"nonzero\" fill-opacity=\"1\" /><path clip-path=\"url(#clip170)\" d=\"M1856.56 1517.37 Q1852.95 1517.37 1851.12 1520.93 Q1849.31 1524.47 1849.31 1531.6 Q1849.31 1538.71 1851.12 1542.27 Q1852.95 1545.82 1856.56 1545.82 Q1860.19 1545.82 1862 1542.27 Q1863.83 1538.71 1863.83 1531.6 Q1863.83 1524.47 1862 1520.93 Q1860.19 1517.37 1856.56 1517.37 M1856.56 1513.66 Q1862.37 1513.66 1865.42 1518.27 Q1868.5 1522.85 1868.5 1531.6 Q1868.5 1540.33 1865.42 1544.94 Q1862.37 1549.52 1856.56 1549.52 Q1850.75 1549.52 1847.67 1544.94 Q1844.61 1540.33 1844.61 1531.6 Q1844.61 1522.85 1847.67 1518.27 Q1850.75 1513.66 1856.56 1513.66 Z\" fill=\"#000000\" fill-rule=\"nonzero\" fill-opacity=\"1\" /><path clip-path=\"url(#clip170)\" d=\"M2002.98 1544.91 L2010.62 1544.91 L2010.62 1518.55 L2002.31 1520.21 L2002.31 1515.95 L2010.57 1514.29 L2015.25 1514.29 L2015.25 1544.91 L2022.88 1544.91 L2022.88 1548.85 L2002.98 1548.85 L2002.98 1544.91 Z\" fill=\"#000000\" fill-rule=\"nonzero\" fill-opacity=\"1\" /><path clip-path=\"url(#clip170)\" d=\"M2163.28 1544.91 L2179.6 1544.91 L2179.6 1548.85 L2157.66 1548.85 L2157.66 1544.91 Q2160.32 1542.16 2164.91 1537.53 Q2169.51 1532.88 2170.69 1531.53 Q2172.94 1529.01 2173.82 1527.27 Q2174.72 1525.51 2174.72 1523.82 Q2174.72 1521.07 2172.78 1519.33 Q2170.85 1517.6 2167.75 1517.6 Q2165.55 1517.6 2163.1 1518.36 Q2160.67 1519.13 2157.89 1520.68 L2157.89 1515.95 Q2160.72 1514.82 2163.17 1514.24 Q2165.62 1513.66 2167.66 1513.66 Q2173.03 1513.66 2176.22 1516.35 Q2179.42 1519.03 2179.42 1523.52 Q2179.42 1525.65 2178.61 1527.57 Q2177.82 1529.47 2175.72 1532.07 Q2175.14 1532.74 2172.03 1535.95 Q2168.93 1539.15 2163.28 1544.91 Z\" fill=\"#000000\" fill-rule=\"nonzero\" fill-opacity=\"1\" /><path clip-path=\"url(#clip170)\" d=\"M2328.92 1530.21 Q2332.27 1530.93 2334.15 1533.2 Q2336.05 1535.47 2336.05 1538.8 Q2336.05 1543.92 2332.53 1546.72 Q2329.01 1549.52 2322.53 1549.52 Q2320.35 1549.52 2318.04 1549.08 Q2315.75 1548.66 2313.29 1547.81 L2313.29 1543.29 Q2315.24 1544.43 2317.55 1545.01 Q2319.87 1545.58 2322.39 1545.58 Q2326.79 1545.58 2329.08 1543.85 Q2331.39 1542.11 2331.39 1538.8 Q2331.39 1535.75 2329.24 1534.03 Q2327.11 1532.3 2323.29 1532.3 L2319.26 1532.3 L2319.26 1528.45 L2323.48 1528.45 Q2326.93 1528.45 2328.75 1527.09 Q2330.58 1525.7 2330.58 1523.11 Q2330.58 1520.45 2328.69 1519.03 Q2326.81 1517.6 2323.29 1517.6 Q2321.37 1517.6 2319.17 1518.01 Q2316.97 1518.43 2314.33 1519.31 L2314.33 1515.14 Q2317 1514.4 2319.31 1514.03 Q2321.65 1513.66 2323.71 1513.66 Q2329.03 1513.66 2332.13 1516.09 Q2335.24 1518.5 2335.24 1522.62 Q2335.24 1525.49 2333.59 1527.48 Q2331.95 1529.45 2328.92 1530.21 Z\" fill=\"#000000\" fill-rule=\"nonzero\" fill-opacity=\"1\" /><polyline clip-path=\"url(#clip175)\" style=\"stroke:#000000; stroke-linecap:round; stroke-linejoin:round; stroke-width:2; stroke-opacity:0.1; fill:none\" points=\"1360.36,1468.36 2352.76,1468.36 \"/>\n",
       "<polyline clip-path=\"url(#clip175)\" style=\"stroke:#000000; stroke-linecap:round; stroke-linejoin:round; stroke-width:2; stroke-opacity:0.1; fill:none\" points=\"1360.36,1319.46 2352.76,1319.46 \"/>\n",
       "<polyline clip-path=\"url(#clip175)\" style=\"stroke:#000000; stroke-linecap:round; stroke-linejoin:round; stroke-width:2; stroke-opacity:0.1; fill:none\" points=\"1360.36,1170.57 2352.76,1170.57 \"/>\n",
       "<polyline clip-path=\"url(#clip175)\" style=\"stroke:#000000; stroke-linecap:round; stroke-linejoin:round; stroke-width:2; stroke-opacity:0.1; fill:none\" points=\"1360.36,1021.67 2352.76,1021.67 \"/>\n",
       "<polyline clip-path=\"url(#clip175)\" style=\"stroke:#000000; stroke-linecap:round; stroke-linejoin:round; stroke-width:2; stroke-opacity:0.1; fill:none\" points=\"1360.36,872.779 2352.76,872.779 \"/>\n",
       "<polyline clip-path=\"url(#clip170)\" style=\"stroke:#000000; stroke-linecap:round; stroke-linejoin:round; stroke-width:4; stroke-opacity:1; fill:none\" points=\"1360.36,1486.45 1360.36,847.244 \"/>\n",
       "<polyline clip-path=\"url(#clip170)\" style=\"stroke:#000000; stroke-linecap:round; stroke-linejoin:round; stroke-width:4; stroke-opacity:1; fill:none\" points=\"1360.36,1468.36 1379.26,1468.36 \"/>\n",
       "<polyline clip-path=\"url(#clip170)\" style=\"stroke:#000000; stroke-linecap:round; stroke-linejoin:round; stroke-width:4; stroke-opacity:1; fill:none\" points=\"1360.36,1319.46 1379.26,1319.46 \"/>\n",
       "<polyline clip-path=\"url(#clip170)\" style=\"stroke:#000000; stroke-linecap:round; stroke-linejoin:round; stroke-width:4; stroke-opacity:1; fill:none\" points=\"1360.36,1170.57 1379.26,1170.57 \"/>\n",
       "<polyline clip-path=\"url(#clip170)\" style=\"stroke:#000000; stroke-linecap:round; stroke-linejoin:round; stroke-width:4; stroke-opacity:1; fill:none\" points=\"1360.36,1021.67 1379.26,1021.67 \"/>\n",
       "<polyline clip-path=\"url(#clip170)\" style=\"stroke:#000000; stroke-linecap:round; stroke-linejoin:round; stroke-width:4; stroke-opacity:1; fill:none\" points=\"1360.36,872.779 1379.26,872.779 \"/>\n",
       "<path clip-path=\"url(#clip170)\" d=\"M1312.42 1454.16 Q1308.8 1454.16 1306.98 1457.72 Q1305.17 1461.26 1305.17 1468.39 Q1305.17 1475.5 1306.98 1479.06 Q1308.8 1482.6 1312.42 1482.6 Q1316.05 1482.6 1317.86 1479.06 Q1319.68 1475.5 1319.68 1468.39 Q1319.68 1461.26 1317.86 1457.72 Q1316.05 1454.16 1312.42 1454.16 M1312.42 1450.45 Q1318.23 1450.45 1321.28 1455.06 Q1324.36 1459.64 1324.36 1468.39 Q1324.36 1477.12 1321.28 1481.73 Q1318.23 1486.31 1312.42 1486.31 Q1306.61 1486.31 1303.53 1481.73 Q1300.47 1477.12 1300.47 1468.39 Q1300.47 1459.64 1303.53 1455.06 Q1306.61 1450.45 1312.42 1450.45 Z\" fill=\"#000000\" fill-rule=\"nonzero\" fill-opacity=\"1\" /><path clip-path=\"url(#clip170)\" d=\"M1276.28 1332.81 L1292.6 1332.81 L1292.6 1336.74 L1270.66 1336.74 L1270.66 1332.81 Q1273.32 1330.05 1277.9 1325.42 Q1282.51 1320.77 1283.69 1319.43 Q1285.93 1316.9 1286.81 1315.17 Q1287.72 1313.41 1287.72 1311.72 Q1287.72 1308.97 1285.77 1307.23 Q1283.85 1305.49 1280.75 1305.49 Q1278.55 1305.49 1276.1 1306.26 Q1273.67 1307.02 1270.89 1308.57 L1270.89 1303.85 Q1273.71 1302.72 1276.17 1302.14 Q1278.62 1301.56 1280.66 1301.56 Q1286.03 1301.56 1289.22 1304.24 Q1292.42 1306.93 1292.42 1311.42 Q1292.42 1313.55 1291.61 1315.47 Q1290.82 1317.37 1288.71 1319.96 Q1288.13 1320.63 1285.03 1323.85 Q1281.93 1327.04 1276.28 1332.81 Z\" fill=\"#000000\" fill-rule=\"nonzero\" fill-opacity=\"1\" /><path clip-path=\"url(#clip170)\" d=\"M1312.42 1305.26 Q1308.8 1305.26 1306.98 1308.83 Q1305.17 1312.37 1305.17 1319.5 Q1305.17 1326.6 1306.98 1330.17 Q1308.8 1333.71 1312.42 1333.71 Q1316.05 1333.71 1317.86 1330.17 Q1319.68 1326.6 1319.68 1319.5 Q1319.68 1312.37 1317.86 1308.83 Q1316.05 1305.26 1312.42 1305.26 M1312.42 1301.56 Q1318.23 1301.56 1321.28 1306.16 Q1324.36 1310.75 1324.36 1319.5 Q1324.36 1328.22 1321.28 1332.83 Q1318.23 1337.41 1312.42 1337.41 Q1306.61 1337.41 1303.53 1332.83 Q1300.47 1328.22 1300.47 1319.5 Q1300.47 1310.75 1303.53 1306.16 Q1306.61 1301.56 1312.42 1301.56 Z\" fill=\"#000000\" fill-rule=\"nonzero\" fill-opacity=\"1\" /><path clip-path=\"url(#clip170)\" d=\"M1285.1 1157.36 L1273.3 1175.81 L1285.1 1175.81 L1285.1 1157.36 M1283.87 1153.29 L1289.75 1153.29 L1289.75 1175.81 L1294.68 1175.81 L1294.68 1179.7 L1289.75 1179.7 L1289.75 1187.85 L1285.1 1187.85 L1285.1 1179.7 L1269.5 1179.7 L1269.5 1175.19 L1283.87 1153.29 Z\" fill=\"#000000\" fill-rule=\"nonzero\" fill-opacity=\"1\" /><path clip-path=\"url(#clip170)\" d=\"M1312.42 1156.37 Q1308.8 1156.37 1306.98 1159.93 Q1305.17 1163.47 1305.17 1170.6 Q1305.17 1177.71 1306.98 1181.27 Q1308.8 1184.82 1312.42 1184.82 Q1316.05 1184.82 1317.86 1181.27 Q1319.68 1177.71 1319.68 1170.6 Q1319.68 1163.47 1317.86 1159.93 Q1316.05 1156.37 1312.42 1156.37 M1312.42 1152.66 Q1318.23 1152.66 1321.28 1157.27 Q1324.36 1161.85 1324.36 1170.6 Q1324.36 1179.33 1321.28 1183.94 Q1318.23 1188.52 1312.42 1188.52 Q1306.61 1188.52 1303.53 1183.94 Q1300.47 1179.33 1300.47 1170.6 Q1300.47 1161.85 1303.53 1157.27 Q1306.61 1152.66 1312.42 1152.66 Z\" fill=\"#000000\" fill-rule=\"nonzero\" fill-opacity=\"1\" /><path clip-path=\"url(#clip170)\" d=\"M1282.83 1019.81 Q1279.68 1019.81 1277.83 1021.96 Q1276 1024.12 1276 1027.87 Q1276 1031.59 1277.83 1033.77 Q1279.68 1035.92 1282.83 1035.92 Q1285.98 1035.92 1287.81 1033.77 Q1289.66 1031.59 1289.66 1027.87 Q1289.66 1024.12 1287.81 1021.96 Q1285.98 1019.81 1282.83 1019.81 M1292.11 1005.16 L1292.11 1009.42 Q1290.36 1008.58 1288.55 1008.14 Q1286.77 1007.7 1285.01 1007.7 Q1280.38 1007.7 1277.92 1010.83 Q1275.49 1013.95 1275.15 1020.27 Q1276.51 1018.26 1278.57 1017.19 Q1280.63 1016.11 1283.11 1016.11 Q1288.32 1016.11 1291.33 1019.28 Q1294.36 1022.43 1294.36 1027.87 Q1294.36 1033.19 1291.21 1036.41 Q1288.06 1039.63 1282.83 1039.63 Q1276.84 1039.63 1273.67 1035.04 Q1270.49 1030.44 1270.49 1021.71 Q1270.49 1013.51 1274.38 1008.65 Q1278.27 1003.77 1284.82 1003.77 Q1286.58 1003.77 1288.36 1004.12 Q1290.17 1004.46 1292.11 1005.16 Z\" fill=\"#000000\" fill-rule=\"nonzero\" fill-opacity=\"1\" /><path clip-path=\"url(#clip170)\" d=\"M1312.42 1007.47 Q1308.8 1007.47 1306.98 1011.04 Q1305.17 1014.58 1305.17 1021.71 Q1305.17 1028.82 1306.98 1032.38 Q1308.8 1035.92 1312.42 1035.92 Q1316.05 1035.92 1317.86 1032.38 Q1319.68 1028.82 1319.68 1021.71 Q1319.68 1014.58 1317.86 1011.04 Q1316.05 1007.47 1312.42 1007.47 M1312.42 1003.77 Q1318.23 1003.77 1321.28 1008.38 Q1324.36 1012.96 1324.36 1021.71 Q1324.36 1030.44 1321.28 1035.04 Q1318.23 1039.63 1312.42 1039.63 Q1306.61 1039.63 1303.53 1035.04 Q1300.47 1030.44 1300.47 1021.71 Q1300.47 1012.96 1303.53 1008.38 Q1306.61 1003.77 1312.42 1003.77 Z\" fill=\"#000000\" fill-rule=\"nonzero\" fill-opacity=\"1\" /><path clip-path=\"url(#clip170)\" d=\"M1282.25 873.648 Q1278.92 873.648 1277 875.43 Q1275.1 877.212 1275.1 880.337 Q1275.1 883.462 1277 885.245 Q1278.92 887.027 1282.25 887.027 Q1285.59 887.027 1287.51 885.245 Q1289.43 883.439 1289.43 880.337 Q1289.43 877.212 1287.51 875.43 Q1285.61 873.648 1282.25 873.648 M1277.58 871.657 Q1274.57 870.916 1272.88 868.856 Q1271.21 866.796 1271.21 863.833 Q1271.21 859.689 1274.15 857.282 Q1277.11 854.874 1282.25 854.874 Q1287.42 854.874 1290.36 857.282 Q1293.3 859.689 1293.3 863.833 Q1293.3 866.796 1291.61 868.856 Q1289.94 870.916 1286.95 871.657 Q1290.33 872.444 1292.21 874.735 Q1294.11 877.027 1294.11 880.337 Q1294.11 885.36 1291.03 888.046 Q1287.97 890.731 1282.25 890.731 Q1276.54 890.731 1273.46 888.046 Q1270.4 885.36 1270.4 880.337 Q1270.4 877.027 1272.3 874.735 Q1274.2 872.444 1277.58 871.657 M1275.86 864.273 Q1275.86 866.958 1277.53 868.462 Q1279.22 869.967 1282.25 869.967 Q1285.26 869.967 1286.95 868.462 Q1288.67 866.958 1288.67 864.273 Q1288.67 861.587 1286.95 860.083 Q1285.26 858.578 1282.25 858.578 Q1279.22 858.578 1277.53 860.083 Q1275.86 861.587 1275.86 864.273 Z\" fill=\"#000000\" fill-rule=\"nonzero\" fill-opacity=\"1\" /><path clip-path=\"url(#clip170)\" d=\"M1312.42 858.578 Q1308.8 858.578 1306.98 862.143 Q1305.17 865.685 1305.17 872.814 Q1305.17 879.921 1306.98 883.485 Q1308.8 887.027 1312.42 887.027 Q1316.05 887.027 1317.86 883.485 Q1319.68 879.921 1319.68 872.814 Q1319.68 865.685 1317.86 862.143 Q1316.05 858.578 1312.42 858.578 M1312.42 854.874 Q1318.23 854.874 1321.28 859.481 Q1324.36 864.064 1324.36 872.814 Q1324.36 881.541 1321.28 886.147 Q1318.23 890.731 1312.42 890.731 Q1306.61 890.731 1303.53 886.147 Q1300.47 881.541 1300.47 872.814 Q1300.47 864.064 1303.53 859.481 Q1306.61 854.874 1312.42 854.874 Z\" fill=\"#000000\" fill-rule=\"nonzero\" fill-opacity=\"1\" /><polyline clip-path=\"url(#clip175)\" style=\"stroke:#009af9; stroke-linecap:round; stroke-linejoin:round; stroke-width:4; stroke-opacity:1; fill:none\" points=\"1388.45,865.335 1404.05,941.806 1419.65,1010.76 1435.26,1072.71 1450.86,1128.15 1466.47,1177.55 1482.07,1221.36 1497.67,1260.02 1513.28,1293.96 1528.88,1323.57 1544.48,1349.24 1560.09,1371.34 1575.69,1390.21 1591.29,1406.18 1606.9,1419.57 1622.5,1430.67 1638.11,1439.76 1653.71,1447.09 1669.31,1452.92 1684.92,1457.46 1700.52,1460.91 1716.12,1463.47 1731.73,1465.31 1747.33,1466.57 1762.94,1467.39 1778.54,1467.89 1794.14,1468.17 1809.75,1468.3 1825.35,1468.35 1840.95,1468.36 1856.56,1468.36 1872.16,1468.36 1887.77,1468.35 1903.37,1468.3 1918.97,1468.17 1934.58,1467.89 1950.18,1467.39 1965.78,1466.57 1981.39,1465.31 1996.99,1463.47 2012.59,1460.91 2028.2,1457.46 2043.8,1452.92 2059.41,1447.09 2075.01,1439.76 2090.61,1430.67 2106.22,1419.57 2121.82,1406.18 2137.42,1390.21 2153.03,1371.34 2168.63,1349.24 2184.24,1323.57 2199.84,1293.96 2215.44,1260.02 2231.05,1221.36 2246.65,1177.55 2262.25,1128.15 2277.86,1072.71 2293.46,1010.76 2309.07,941.806 2324.67,865.335 \"/>\n",
       "</svg>\n"
      ],
      "text/html": [
       "<?xml version=\"1.0\" encoding=\"utf-8\"?>\n",
       "<svg xmlns=\"http://www.w3.org/2000/svg\" xmlns:xlink=\"http://www.w3.org/1999/xlink\" width=\"600\" height=\"400\" viewBox=\"0 0 2400 1600\">\n",
       "<defs>\n",
       "  <clipPath id=\"clip220\">\n",
       "    <rect x=\"0\" y=\"0\" width=\"2400\" height=\"1600\"/>\n",
       "  </clipPath>\n",
       "</defs>\n",
       "<path clip-path=\"url(#clip220)\" d=\"M0 1600 L2400 1600 L2400 0 L0 0  Z\" fill=\"#ffffff\" fill-rule=\"evenodd\" fill-opacity=\"1\"/>\n",
       "<defs>\n",
       "  <clipPath id=\"clip221\">\n",
       "    <rect x=\"480\" y=\"0\" width=\"1681\" height=\"1600\"/>\n",
       "  </clipPath>\n",
       "</defs>\n",
       "<path clip-path=\"url(#clip220)\" d=\"M178.867 686.448 L1171.26 686.448 L1171.26 47.2441 L178.867 47.2441  Z\" fill=\"#ffffff\" fill-rule=\"evenodd\" fill-opacity=\"1\"/>\n",
       "<defs>\n",
       "  <clipPath id=\"clip222\">\n",
       "    <rect x=\"178\" y=\"47\" width=\"993\" height=\"640\"/>\n",
       "  </clipPath>\n",
       "</defs>\n",
       "<polyline clip-path=\"url(#clip222)\" style=\"stroke:#000000; stroke-linecap:round; stroke-linejoin:round; stroke-width:2; stroke-opacity:0.1; fill:none\" points=\"206.953,686.448 206.953,47.2441 \"/>\n",
       "<polyline clip-path=\"url(#clip222)\" style=\"stroke:#000000; stroke-linecap:round; stroke-linejoin:round; stroke-width:2; stroke-opacity:0.1; fill:none\" points=\"362.99,686.448 362.99,47.2441 \"/>\n",
       "<polyline clip-path=\"url(#clip222)\" style=\"stroke:#000000; stroke-linecap:round; stroke-linejoin:round; stroke-width:2; stroke-opacity:0.1; fill:none\" points=\"519.028,686.448 519.028,47.2441 \"/>\n",
       "<polyline clip-path=\"url(#clip222)\" style=\"stroke:#000000; stroke-linecap:round; stroke-linejoin:round; stroke-width:2; stroke-opacity:0.1; fill:none\" points=\"675.065,686.448 675.065,47.2441 \"/>\n",
       "<polyline clip-path=\"url(#clip222)\" style=\"stroke:#000000; stroke-linecap:round; stroke-linejoin:round; stroke-width:2; stroke-opacity:0.1; fill:none\" points=\"831.102,686.448 831.102,47.2441 \"/>\n",
       "<polyline clip-path=\"url(#clip222)\" style=\"stroke:#000000; stroke-linecap:round; stroke-linejoin:round; stroke-width:2; stroke-opacity:0.1; fill:none\" points=\"987.139,686.448 987.139,47.2441 \"/>\n",
       "<polyline clip-path=\"url(#clip222)\" style=\"stroke:#000000; stroke-linecap:round; stroke-linejoin:round; stroke-width:2; stroke-opacity:0.1; fill:none\" points=\"1143.18,686.448 1143.18,47.2441 \"/>\n",
       "<polyline clip-path=\"url(#clip220)\" style=\"stroke:#000000; stroke-linecap:round; stroke-linejoin:round; stroke-width:4; stroke-opacity:1; fill:none\" points=\"178.867,686.448 1171.26,686.448 \"/>\n",
       "<polyline clip-path=\"url(#clip220)\" style=\"stroke:#000000; stroke-linecap:round; stroke-linejoin:round; stroke-width:4; stroke-opacity:1; fill:none\" points=\"206.953,686.448 206.953,667.55 \"/>\n",
       "<polyline clip-path=\"url(#clip220)\" style=\"stroke:#000000; stroke-linecap:round; stroke-linejoin:round; stroke-width:4; stroke-opacity:1; fill:none\" points=\"362.99,686.448 362.99,667.55 \"/>\n",
       "<polyline clip-path=\"url(#clip220)\" style=\"stroke:#000000; stroke-linecap:round; stroke-linejoin:round; stroke-width:4; stroke-opacity:1; fill:none\" points=\"519.028,686.448 519.028,667.55 \"/>\n",
       "<polyline clip-path=\"url(#clip220)\" style=\"stroke:#000000; stroke-linecap:round; stroke-linejoin:round; stroke-width:4; stroke-opacity:1; fill:none\" points=\"675.065,686.448 675.065,667.55 \"/>\n",
       "<polyline clip-path=\"url(#clip220)\" style=\"stroke:#000000; stroke-linecap:round; stroke-linejoin:round; stroke-width:4; stroke-opacity:1; fill:none\" points=\"831.102,686.448 831.102,667.55 \"/>\n",
       "<polyline clip-path=\"url(#clip220)\" style=\"stroke:#000000; stroke-linecap:round; stroke-linejoin:round; stroke-width:4; stroke-opacity:1; fill:none\" points=\"987.139,686.448 987.139,667.55 \"/>\n",
       "<polyline clip-path=\"url(#clip220)\" style=\"stroke:#000000; stroke-linecap:round; stroke-linejoin:round; stroke-width:4; stroke-opacity:1; fill:none\" points=\"1143.18,686.448 1143.18,667.55 \"/>\n",
       "<path clip-path=\"url(#clip220)\" d=\"M176.421 732.019 L206.097 732.019 L206.097 735.954 L176.421 735.954 L176.421 732.019 Z\" fill=\"#000000\" fill-rule=\"nonzero\" fill-opacity=\"1\" /><path clip-path=\"url(#clip220)\" d=\"M230.356 730.214 Q233.712 730.931 235.587 733.2 Q237.486 735.468 237.486 738.802 Q237.486 743.917 233.967 746.718 Q230.449 749.519 223.967 749.519 Q221.791 749.519 219.476 749.079 Q217.185 748.663 214.731 747.806 L214.731 743.292 Q216.675 744.427 218.99 745.005 Q221.305 745.584 223.828 745.584 Q228.226 745.584 230.518 743.848 Q232.833 742.112 232.833 738.802 Q232.833 735.746 230.68 734.033 Q228.55 732.297 224.731 732.297 L220.703 732.297 L220.703 728.454 L224.916 728.454 Q228.365 728.454 230.194 727.089 Q232.023 725.7 232.023 723.107 Q232.023 720.445 230.124 719.033 Q228.249 717.598 224.731 717.598 Q222.81 717.598 220.611 718.015 Q218.412 718.431 215.773 719.311 L215.773 715.144 Q218.435 714.404 220.75 714.033 Q223.087 713.663 225.148 713.663 Q230.472 713.663 233.574 716.093 Q236.675 718.501 236.675 722.621 Q236.675 725.492 235.032 727.482 Q233.388 729.45 230.356 730.214 Z\" fill=\"#000000\" fill-rule=\"nonzero\" fill-opacity=\"1\" /><path clip-path=\"url(#clip220)\" d=\"M332.933 732.019 L362.608 732.019 L362.608 735.954 L332.933 735.954 L332.933 732.019 Z\" fill=\"#000000\" fill-rule=\"nonzero\" fill-opacity=\"1\" /><path clip-path=\"url(#clip220)\" d=\"M376.729 744.913 L393.048 744.913 L393.048 748.848 L371.104 748.848 L371.104 744.913 Q373.766 742.158 378.349 737.528 Q382.956 732.876 384.136 731.533 Q386.382 729.01 387.261 727.274 Q388.164 725.515 388.164 723.825 Q388.164 721.07 386.219 719.334 Q384.298 717.598 381.196 717.598 Q378.997 717.598 376.544 718.362 Q374.113 719.126 371.335 720.677 L371.335 715.955 Q374.159 714.82 376.613 714.242 Q379.067 713.663 381.104 713.663 Q386.474 713.663 389.669 716.348 Q392.863 719.033 392.863 723.524 Q392.863 725.654 392.053 727.575 Q391.266 729.473 389.159 732.066 Q388.581 732.737 385.479 735.954 Q382.377 739.149 376.729 744.913 Z\" fill=\"#000000\" fill-rule=\"nonzero\" fill-opacity=\"1\" /><path clip-path=\"url(#clip220)\" d=\"M488.785 732.019 L518.46 732.019 L518.46 735.954 L488.785 735.954 L488.785 732.019 Z\" fill=\"#000000\" fill-rule=\"nonzero\" fill-opacity=\"1\" /><path clip-path=\"url(#clip220)\" d=\"M529.363 744.913 L537.002 744.913 L537.002 718.547 L528.692 720.214 L528.692 715.955 L536.956 714.288 L541.632 714.288 L541.632 744.913 L549.27 744.913 L549.27 748.848 L529.363 748.848 L529.363 744.913 Z\" fill=\"#000000\" fill-rule=\"nonzero\" fill-opacity=\"1\" /><path clip-path=\"url(#clip220)\" d=\"M675.065 717.367 Q671.454 717.367 669.625 720.931 Q667.819 724.473 667.819 731.603 Q667.819 738.709 669.625 742.274 Q671.454 745.815 675.065 745.815 Q678.699 745.815 680.504 742.274 Q682.333 738.709 682.333 731.603 Q682.333 724.473 680.504 720.931 Q678.699 717.367 675.065 717.367 M675.065 713.663 Q680.875 713.663 683.93 718.269 Q687.009 722.853 687.009 731.603 Q687.009 740.329 683.93 744.936 Q680.875 749.519 675.065 749.519 Q669.255 749.519 666.176 744.936 Q663.12 740.329 663.12 731.603 Q663.12 722.853 666.176 718.269 Q669.255 713.663 675.065 713.663 Z\" fill=\"#000000\" fill-rule=\"nonzero\" fill-opacity=\"1\" /><path clip-path=\"url(#clip220)\" d=\"M821.484 744.913 L829.123 744.913 L829.123 718.547 L820.813 720.214 L820.813 715.955 L829.076 714.288 L833.752 714.288 L833.752 744.913 L841.391 744.913 L841.391 748.848 L821.484 748.848 L821.484 744.913 Z\" fill=\"#000000\" fill-rule=\"nonzero\" fill-opacity=\"1\" /><path clip-path=\"url(#clip220)\" d=\"M981.792 744.913 L998.111 744.913 L998.111 748.848 L976.167 748.848 L976.167 744.913 Q978.829 742.158 983.412 737.528 Q988.019 732.876 989.199 731.533 Q991.444 729.01 992.324 727.274 Q993.227 725.515 993.227 723.825 Q993.227 721.07 991.282 719.334 Q989.361 717.598 986.259 717.598 Q984.06 717.598 981.607 718.362 Q979.176 719.126 976.398 720.677 L976.398 715.955 Q979.222 714.82 981.676 714.242 Q984.13 713.663 986.167 713.663 Q991.537 713.663 994.731 716.348 Q997.926 719.033 997.926 723.524 Q997.926 725.654 997.116 727.575 Q996.329 729.473 994.222 732.066 Q993.644 732.737 990.542 735.954 Q987.44 739.149 981.792 744.913 Z\" fill=\"#000000\" fill-rule=\"nonzero\" fill-opacity=\"1\" /><path clip-path=\"url(#clip220)\" d=\"M1147.42 730.214 Q1150.78 730.931 1152.66 733.2 Q1154.55 735.468 1154.55 738.802 Q1154.55 743.917 1151.03 746.718 Q1147.52 749.519 1141.03 749.519 Q1138.86 749.519 1136.54 749.079 Q1134.25 748.663 1131.8 747.806 L1131.8 743.292 Q1133.74 744.427 1136.06 745.005 Q1138.37 745.584 1140.9 745.584 Q1145.29 745.584 1147.59 743.848 Q1149.9 742.112 1149.9 738.802 Q1149.9 735.746 1147.75 734.033 Q1145.62 732.297 1141.8 732.297 L1137.77 732.297 L1137.77 728.454 L1141.98 728.454 Q1145.43 728.454 1147.26 727.089 Q1149.09 725.7 1149.09 723.107 Q1149.09 720.445 1147.19 719.033 Q1145.32 717.598 1141.8 717.598 Q1139.88 717.598 1137.68 718.015 Q1135.48 718.431 1132.84 719.311 L1132.84 715.144 Q1135.5 714.404 1137.82 714.033 Q1140.16 713.663 1142.22 713.663 Q1147.54 713.663 1150.64 716.093 Q1153.74 718.501 1153.74 722.621 Q1153.74 725.492 1152.1 727.482 Q1150.46 729.45 1147.42 730.214 Z\" fill=\"#000000\" fill-rule=\"nonzero\" fill-opacity=\"1\" /><polyline clip-path=\"url(#clip222)\" style=\"stroke:#000000; stroke-linecap:round; stroke-linejoin:round; stroke-width:2; stroke-opacity:0.1; fill:none\" points=\"178.867,668.357 1171.26,668.357 \"/>\n",
       "<polyline clip-path=\"url(#clip222)\" style=\"stroke:#000000; stroke-linecap:round; stroke-linejoin:round; stroke-width:2; stroke-opacity:0.1; fill:none\" points=\"178.867,567.853 1171.26,567.853 \"/>\n",
       "<polyline clip-path=\"url(#clip222)\" style=\"stroke:#000000; stroke-linecap:round; stroke-linejoin:round; stroke-width:2; stroke-opacity:0.1; fill:none\" points=\"178.867,467.35 1171.26,467.35 \"/>\n",
       "<polyline clip-path=\"url(#clip222)\" style=\"stroke:#000000; stroke-linecap:round; stroke-linejoin:round; stroke-width:2; stroke-opacity:0.1; fill:none\" points=\"178.867,366.846 1171.26,366.846 \"/>\n",
       "<polyline clip-path=\"url(#clip222)\" style=\"stroke:#000000; stroke-linecap:round; stroke-linejoin:round; stroke-width:2; stroke-opacity:0.1; fill:none\" points=\"178.867,266.342 1171.26,266.342 \"/>\n",
       "<polyline clip-path=\"url(#clip222)\" style=\"stroke:#000000; stroke-linecap:round; stroke-linejoin:round; stroke-width:2; stroke-opacity:0.1; fill:none\" points=\"178.867,165.839 1171.26,165.839 \"/>\n",
       "<polyline clip-path=\"url(#clip222)\" style=\"stroke:#000000; stroke-linecap:round; stroke-linejoin:round; stroke-width:2; stroke-opacity:0.1; fill:none\" points=\"178.867,65.3348 1171.26,65.3348 \"/>\n",
       "<polyline clip-path=\"url(#clip220)\" style=\"stroke:#000000; stroke-linecap:round; stroke-linejoin:round; stroke-width:4; stroke-opacity:1; fill:none\" points=\"178.867,686.448 178.867,47.2441 \"/>\n",
       "<polyline clip-path=\"url(#clip220)\" style=\"stroke:#000000; stroke-linecap:round; stroke-linejoin:round; stroke-width:4; stroke-opacity:1; fill:none\" points=\"178.867,668.357 197.764,668.357 \"/>\n",
       "<polyline clip-path=\"url(#clip220)\" style=\"stroke:#000000; stroke-linecap:round; stroke-linejoin:round; stroke-width:4; stroke-opacity:1; fill:none\" points=\"178.867,567.853 197.764,567.853 \"/>\n",
       "<polyline clip-path=\"url(#clip220)\" style=\"stroke:#000000; stroke-linecap:round; stroke-linejoin:round; stroke-width:4; stroke-opacity:1; fill:none\" points=\"178.867,467.35 197.764,467.35 \"/>\n",
       "<polyline clip-path=\"url(#clip220)\" style=\"stroke:#000000; stroke-linecap:round; stroke-linejoin:round; stroke-width:4; stroke-opacity:1; fill:none\" points=\"178.867,366.846 197.764,366.846 \"/>\n",
       "<polyline clip-path=\"url(#clip220)\" style=\"stroke:#000000; stroke-linecap:round; stroke-linejoin:round; stroke-width:4; stroke-opacity:1; fill:none\" points=\"178.867,266.342 197.764,266.342 \"/>\n",
       "<polyline clip-path=\"url(#clip220)\" style=\"stroke:#000000; stroke-linecap:round; stroke-linejoin:round; stroke-width:4; stroke-opacity:1; fill:none\" points=\"178.867,165.839 197.764,165.839 \"/>\n",
       "<polyline clip-path=\"url(#clip220)\" style=\"stroke:#000000; stroke-linecap:round; stroke-linejoin:round; stroke-width:4; stroke-opacity:1; fill:none\" points=\"178.867,65.3348 197.764,65.3348 \"/>\n",
       "<path clip-path=\"url(#clip220)\" d=\"M81.8021 668.809 L111.478 668.809 L111.478 672.744 L81.8021 672.744 L81.8021 668.809 Z\" fill=\"#000000\" fill-rule=\"nonzero\" fill-opacity=\"1\" /><path clip-path=\"url(#clip220)\" d=\"M135.737 667.003 Q139.094 667.721 140.968 669.989 Q142.867 672.258 142.867 675.591 Q142.867 680.707 139.348 683.508 Q135.83 686.308 129.348 686.308 Q127.172 686.308 124.857 685.869 Q122.566 685.452 120.112 684.596 L120.112 680.082 Q122.057 681.216 124.371 681.795 Q126.686 682.373 129.209 682.373 Q133.607 682.373 135.899 680.637 Q138.214 678.901 138.214 675.591 Q138.214 672.535 136.061 670.822 Q133.931 669.086 130.112 669.086 L126.084 669.086 L126.084 665.244 L130.297 665.244 Q133.746 665.244 135.575 663.878 Q137.404 662.489 137.404 659.897 Q137.404 657.235 135.506 655.823 Q133.631 654.387 130.112 654.387 Q128.191 654.387 125.992 654.804 Q123.793 655.221 121.154 656.1 L121.154 651.934 Q123.816 651.193 126.131 650.823 Q128.469 650.452 130.529 650.452 Q135.853 650.452 138.955 652.883 Q142.056 655.29 142.056 659.41 Q142.056 662.281 140.413 664.272 Q138.769 666.239 135.737 667.003 Z\" fill=\"#000000\" fill-rule=\"nonzero\" fill-opacity=\"1\" /><path clip-path=\"url(#clip220)\" d=\"M82.7512 568.305 L112.427 568.305 L112.427 572.24 L82.7512 572.24 L82.7512 568.305 Z\" fill=\"#000000\" fill-rule=\"nonzero\" fill-opacity=\"1\" /><path clip-path=\"url(#clip220)\" d=\"M126.547 581.198 L142.867 581.198 L142.867 585.133 L120.922 585.133 L120.922 581.198 Q123.584 578.444 128.168 573.814 Q132.774 569.161 133.955 567.819 Q136.2 565.296 137.08 563.56 Q137.982 561.8 137.982 560.11 Q137.982 557.356 136.038 555.62 Q134.117 553.884 131.015 553.884 Q128.816 553.884 126.362 554.648 Q123.932 555.411 121.154 556.962 L121.154 552.24 Q123.978 551.106 126.432 550.527 Q128.885 549.948 130.922 549.948 Q136.293 549.948 139.487 552.634 Q142.681 555.319 142.681 559.81 Q142.681 561.939 141.871 563.86 Q141.084 565.759 138.978 568.351 Q138.399 569.022 135.297 572.24 Q132.195 575.434 126.547 581.198 Z\" fill=\"#000000\" fill-rule=\"nonzero\" fill-opacity=\"1\" /><path clip-path=\"url(#clip220)\" d=\"M82.3808 467.801 L112.057 467.801 L112.057 471.736 L82.3808 471.736 L82.3808 467.801 Z\" fill=\"#000000\" fill-rule=\"nonzero\" fill-opacity=\"1\" /><path clip-path=\"url(#clip220)\" d=\"M122.959 480.695 L130.598 480.695 L130.598 454.329 L122.288 455.996 L122.288 451.736 L130.552 450.07 L135.228 450.07 L135.228 480.695 L142.867 480.695 L142.867 484.63 L122.959 484.63 L122.959 480.695 Z\" fill=\"#000000\" fill-rule=\"nonzero\" fill-opacity=\"1\" /><path clip-path=\"url(#clip220)\" d=\"M130.922 352.645 Q127.311 352.645 125.482 356.209 Q123.677 359.751 123.677 366.881 Q123.677 373.987 125.482 377.552 Q127.311 381.094 130.922 381.094 Q134.556 381.094 136.362 377.552 Q138.191 373.987 138.191 366.881 Q138.191 359.751 136.362 356.209 Q134.556 352.645 130.922 352.645 M130.922 348.941 Q136.732 348.941 139.788 353.547 Q142.867 358.131 142.867 366.881 Q142.867 375.608 139.788 380.214 Q136.732 384.797 130.922 384.797 Q125.112 384.797 122.033 380.214 Q118.978 375.608 118.978 366.881 Q118.978 358.131 122.033 353.547 Q125.112 348.941 130.922 348.941 Z\" fill=\"#000000\" fill-rule=\"nonzero\" fill-opacity=\"1\" /><path clip-path=\"url(#clip220)\" d=\"M122.959 279.687 L130.598 279.687 L130.598 253.321 L122.288 254.988 L122.288 250.729 L130.552 249.062 L135.228 249.062 L135.228 279.687 L142.867 279.687 L142.867 283.622 L122.959 283.622 L122.959 279.687 Z\" fill=\"#000000\" fill-rule=\"nonzero\" fill-opacity=\"1\" /><path clip-path=\"url(#clip220)\" d=\"M126.547 179.183 L142.867 179.183 L142.867 183.119 L120.922 183.119 L120.922 179.183 Q123.584 176.429 128.168 171.799 Q132.774 167.146 133.955 165.804 Q136.2 163.281 137.08 161.545 Q137.982 159.785 137.982 158.095 Q137.982 155.341 136.038 153.605 Q134.117 151.869 131.015 151.869 Q128.816 151.869 126.362 152.633 Q123.932 153.396 121.154 154.947 L121.154 150.225 Q123.978 149.091 126.432 148.512 Q128.885 147.934 130.922 147.934 Q136.293 147.934 139.487 150.619 Q142.681 153.304 142.681 157.795 Q142.681 159.924 141.871 161.845 Q141.084 163.744 138.978 166.336 Q138.399 167.007 135.297 170.225 Q132.195 173.419 126.547 179.183 Z\" fill=\"#000000\" fill-rule=\"nonzero\" fill-opacity=\"1\" /><path clip-path=\"url(#clip220)\" d=\"M135.737 63.9806 Q139.094 64.6982 140.968 66.9667 Q142.867 69.2352 142.867 72.5685 Q142.867 77.6842 139.348 80.4851 Q135.83 83.2861 129.348 83.2861 Q127.172 83.2861 124.857 82.8462 Q122.566 82.4296 120.112 81.5731 L120.112 77.0592 Q122.057 78.1935 124.371 78.7722 Q126.686 79.3509 129.209 79.3509 Q133.607 79.3509 135.899 77.6148 Q138.214 75.8787 138.214 72.5685 Q138.214 69.513 136.061 67.8 Q133.931 66.0639 130.112 66.0639 L126.084 66.0639 L126.084 62.2214 L130.297 62.2214 Q133.746 62.2214 135.575 60.8556 Q137.404 59.4667 137.404 56.8742 Q137.404 54.2121 135.506 52.8001 Q133.631 51.3649 130.112 51.3649 Q128.191 51.3649 125.992 51.7816 Q123.793 52.1983 121.154 53.0779 L121.154 48.9112 Q123.816 48.1705 126.131 47.8001 Q128.469 47.4298 130.529 47.4298 Q135.853 47.4298 138.955 49.8603 Q142.056 52.2677 142.056 56.3881 Q142.056 59.2584 140.413 61.2491 Q138.769 63.2167 135.737 63.9806 Z\" fill=\"#000000\" fill-rule=\"nonzero\" fill-opacity=\"1\" /><polyline clip-path=\"url(#clip222)\" style=\"stroke:#009af9; stroke-linecap:round; stroke-linejoin:round; stroke-width:4; stroke-opacity:1; fill:none\" points=\"206.953,668.357 222.557,658.307 238.161,648.256 253.764,638.206 269.368,628.156 284.972,618.105 300.576,608.055 316.179,598.005 331.783,587.954 347.387,577.904 362.99,567.853 378.594,557.803 394.198,547.753 409.802,537.702 425.405,527.652 441.009,517.602 456.613,507.551 472.216,497.501 487.82,487.45 503.424,477.4 519.028,467.35 534.631,457.299 550.235,447.249 565.839,437.199 581.442,427.148 597.046,417.098 612.65,407.047 628.254,396.997 643.857,386.947 659.461,376.896 675.065,366.846 690.668,356.796 706.272,346.745 721.876,336.695 737.48,326.644 753.083,316.594 768.687,306.544 784.291,296.493 799.894,286.443 815.498,276.393 831.102,266.342 846.706,256.292 862.309,246.241 877.913,236.191 893.517,226.141 909.12,216.09 924.724,206.04 940.328,195.99 955.932,185.939 971.535,175.889 987.139,165.839 1002.74,155.788 1018.35,145.738 1033.95,135.687 1049.55,125.637 1065.16,115.587 1080.76,105.536 1096.36,95.4859 1111.97,85.4355 1127.57,75.3851 1143.18,65.3348 \"/>\n",
       "<path clip-path=\"url(#clip220)\" d=\"M1360.36 686.448 L2352.76 686.448 L2352.76 47.2441 L1360.36 47.2441  Z\" fill=\"#ffffff\" fill-rule=\"evenodd\" fill-opacity=\"1\"/>\n",
       "<defs>\n",
       "  <clipPath id=\"clip223\">\n",
       "    <rect x=\"1360\" y=\"47\" width=\"993\" height=\"640\"/>\n",
       "  </clipPath>\n",
       "</defs>\n",
       "<polyline clip-path=\"url(#clip223)\" style=\"stroke:#000000; stroke-linecap:round; stroke-linejoin:round; stroke-width:2; stroke-opacity:0.1; fill:none\" points=\"1388.45,686.448 1388.45,47.2441 \"/>\n",
       "<polyline clip-path=\"url(#clip223)\" style=\"stroke:#000000; stroke-linecap:round; stroke-linejoin:round; stroke-width:2; stroke-opacity:0.1; fill:none\" points=\"1544.48,686.448 1544.48,47.2441 \"/>\n",
       "<polyline clip-path=\"url(#clip223)\" style=\"stroke:#000000; stroke-linecap:round; stroke-linejoin:round; stroke-width:2; stroke-opacity:0.1; fill:none\" points=\"1700.52,686.448 1700.52,47.2441 \"/>\n",
       "<polyline clip-path=\"url(#clip223)\" style=\"stroke:#000000; stroke-linecap:round; stroke-linejoin:round; stroke-width:2; stroke-opacity:0.1; fill:none\" points=\"1856.56,686.448 1856.56,47.2441 \"/>\n",
       "<polyline clip-path=\"url(#clip223)\" style=\"stroke:#000000; stroke-linecap:round; stroke-linejoin:round; stroke-width:2; stroke-opacity:0.1; fill:none\" points=\"2012.59,686.448 2012.59,47.2441 \"/>\n",
       "<polyline clip-path=\"url(#clip223)\" style=\"stroke:#000000; stroke-linecap:round; stroke-linejoin:round; stroke-width:2; stroke-opacity:0.1; fill:none\" points=\"2168.63,686.448 2168.63,47.2441 \"/>\n",
       "<polyline clip-path=\"url(#clip223)\" style=\"stroke:#000000; stroke-linecap:round; stroke-linejoin:round; stroke-width:2; stroke-opacity:0.1; fill:none\" points=\"2324.67,686.448 2324.67,47.2441 \"/>\n",
       "<polyline clip-path=\"url(#clip220)\" style=\"stroke:#000000; stroke-linecap:round; stroke-linejoin:round; stroke-width:4; stroke-opacity:1; fill:none\" points=\"1360.36,686.448 2352.76,686.448 \"/>\n",
       "<polyline clip-path=\"url(#clip220)\" style=\"stroke:#000000; stroke-linecap:round; stroke-linejoin:round; stroke-width:4; stroke-opacity:1; fill:none\" points=\"1388.45,686.448 1388.45,667.55 \"/>\n",
       "<polyline clip-path=\"url(#clip220)\" style=\"stroke:#000000; stroke-linecap:round; stroke-linejoin:round; stroke-width:4; stroke-opacity:1; fill:none\" points=\"1544.48,686.448 1544.48,667.55 \"/>\n",
       "<polyline clip-path=\"url(#clip220)\" style=\"stroke:#000000; stroke-linecap:round; stroke-linejoin:round; stroke-width:4; stroke-opacity:1; fill:none\" points=\"1700.52,686.448 1700.52,667.55 \"/>\n",
       "<polyline clip-path=\"url(#clip220)\" style=\"stroke:#000000; stroke-linecap:round; stroke-linejoin:round; stroke-width:4; stroke-opacity:1; fill:none\" points=\"1856.56,686.448 1856.56,667.55 \"/>\n",
       "<polyline clip-path=\"url(#clip220)\" style=\"stroke:#000000; stroke-linecap:round; stroke-linejoin:round; stroke-width:4; stroke-opacity:1; fill:none\" points=\"2012.59,686.448 2012.59,667.55 \"/>\n",
       "<polyline clip-path=\"url(#clip220)\" style=\"stroke:#000000; stroke-linecap:round; stroke-linejoin:round; stroke-width:4; stroke-opacity:1; fill:none\" points=\"2168.63,686.448 2168.63,667.55 \"/>\n",
       "<polyline clip-path=\"url(#clip220)\" style=\"stroke:#000000; stroke-linecap:round; stroke-linejoin:round; stroke-width:4; stroke-opacity:1; fill:none\" points=\"2324.67,686.448 2324.67,667.55 \"/>\n",
       "<path clip-path=\"url(#clip220)\" d=\"M1357.91 732.019 L1387.59 732.019 L1387.59 735.954 L1357.91 735.954 L1357.91 732.019 Z\" fill=\"#000000\" fill-rule=\"nonzero\" fill-opacity=\"1\" /><path clip-path=\"url(#clip220)\" d=\"M1411.85 730.214 Q1415.21 730.931 1417.08 733.2 Q1418.98 735.468 1418.98 738.802 Q1418.98 743.917 1415.46 746.718 Q1411.94 749.519 1405.46 749.519 Q1403.28 749.519 1400.97 749.079 Q1398.68 748.663 1396.22 747.806 L1396.22 743.292 Q1398.17 744.427 1400.48 745.005 Q1402.8 745.584 1405.32 745.584 Q1409.72 745.584 1412.01 743.848 Q1414.33 742.112 1414.33 738.802 Q1414.33 735.746 1412.17 734.033 Q1410.04 732.297 1406.22 732.297 L1402.2 732.297 L1402.2 728.454 L1406.41 728.454 Q1409.86 728.454 1411.69 727.089 Q1413.52 725.7 1413.52 723.107 Q1413.52 720.445 1411.62 719.033 Q1409.74 717.598 1406.22 717.598 Q1404.3 717.598 1402.1 718.015 Q1399.9 718.431 1397.27 719.311 L1397.27 715.144 Q1399.93 714.404 1402.24 714.033 Q1404.58 713.663 1406.64 713.663 Q1411.96 713.663 1415.07 716.093 Q1418.17 718.501 1418.17 722.621 Q1418.17 725.492 1416.53 727.482 Q1414.88 729.45 1411.85 730.214 Z\" fill=\"#000000\" fill-rule=\"nonzero\" fill-opacity=\"1\" /><path clip-path=\"url(#clip220)\" d=\"M1514.43 732.019 L1544.1 732.019 L1544.1 735.954 L1514.43 735.954 L1514.43 732.019 Z\" fill=\"#000000\" fill-rule=\"nonzero\" fill-opacity=\"1\" /><path clip-path=\"url(#clip220)\" d=\"M1558.22 744.913 L1574.54 744.913 L1574.54 748.848 L1552.6 748.848 L1552.6 744.913 Q1555.26 742.158 1559.84 737.528 Q1564.45 732.876 1565.63 731.533 Q1567.87 729.01 1568.75 727.274 Q1569.66 725.515 1569.66 723.825 Q1569.66 721.07 1567.71 719.334 Q1565.79 717.598 1562.69 717.598 Q1560.49 717.598 1558.04 718.362 Q1555.61 719.126 1552.83 720.677 L1552.83 715.955 Q1555.65 714.82 1558.11 714.242 Q1560.56 713.663 1562.6 713.663 Q1567.97 713.663 1571.16 716.348 Q1574.36 719.033 1574.36 723.524 Q1574.36 725.654 1573.55 727.575 Q1572.76 729.473 1570.65 732.066 Q1570.07 732.737 1566.97 735.954 Q1563.87 739.149 1558.22 744.913 Z\" fill=\"#000000\" fill-rule=\"nonzero\" fill-opacity=\"1\" /><path clip-path=\"url(#clip220)\" d=\"M1670.28 732.019 L1699.95 732.019 L1699.95 735.954 L1670.28 735.954 L1670.28 732.019 Z\" fill=\"#000000\" fill-rule=\"nonzero\" fill-opacity=\"1\" /><path clip-path=\"url(#clip220)\" d=\"M1710.86 744.913 L1718.5 744.913 L1718.5 718.547 L1710.19 720.214 L1710.19 715.955 L1718.45 714.288 L1723.12 714.288 L1723.12 744.913 L1730.76 744.913 L1730.76 748.848 L1710.86 748.848 L1710.86 744.913 Z\" fill=\"#000000\" fill-rule=\"nonzero\" fill-opacity=\"1\" /><path clip-path=\"url(#clip220)\" d=\"M1856.56 717.367 Q1852.95 717.367 1851.12 720.931 Q1849.31 724.473 1849.31 731.603 Q1849.31 738.709 1851.12 742.274 Q1852.95 745.815 1856.56 745.815 Q1860.19 745.815 1862 742.274 Q1863.83 738.709 1863.83 731.603 Q1863.83 724.473 1862 720.931 Q1860.19 717.367 1856.56 717.367 M1856.56 713.663 Q1862.37 713.663 1865.42 718.269 Q1868.5 722.853 1868.5 731.603 Q1868.5 740.329 1865.42 744.936 Q1862.37 749.519 1856.56 749.519 Q1850.75 749.519 1847.67 744.936 Q1844.61 740.329 1844.61 731.603 Q1844.61 722.853 1847.67 718.269 Q1850.75 713.663 1856.56 713.663 Z\" fill=\"#000000\" fill-rule=\"nonzero\" fill-opacity=\"1\" /><path clip-path=\"url(#clip220)\" d=\"M2002.98 744.913 L2010.62 744.913 L2010.62 718.547 L2002.31 720.214 L2002.31 715.955 L2010.57 714.288 L2015.25 714.288 L2015.25 744.913 L2022.88 744.913 L2022.88 748.848 L2002.98 748.848 L2002.98 744.913 Z\" fill=\"#000000\" fill-rule=\"nonzero\" fill-opacity=\"1\" /><path clip-path=\"url(#clip220)\" d=\"M2163.28 744.913 L2179.6 744.913 L2179.6 748.848 L2157.66 748.848 L2157.66 744.913 Q2160.32 742.158 2164.91 737.528 Q2169.51 732.876 2170.69 731.533 Q2172.94 729.01 2173.82 727.274 Q2174.72 725.515 2174.72 723.825 Q2174.72 721.07 2172.78 719.334 Q2170.85 717.598 2167.75 717.598 Q2165.55 717.598 2163.1 718.362 Q2160.67 719.126 2157.89 720.677 L2157.89 715.955 Q2160.72 714.82 2163.17 714.242 Q2165.62 713.663 2167.66 713.663 Q2173.03 713.663 2176.22 716.348 Q2179.42 719.033 2179.42 723.524 Q2179.42 725.654 2178.61 727.575 Q2177.82 729.473 2175.72 732.066 Q2175.14 732.737 2172.03 735.954 Q2168.93 739.149 2163.28 744.913 Z\" fill=\"#000000\" fill-rule=\"nonzero\" fill-opacity=\"1\" /><path clip-path=\"url(#clip220)\" d=\"M2328.92 730.214 Q2332.27 730.931 2334.15 733.2 Q2336.05 735.468 2336.05 738.802 Q2336.05 743.917 2332.53 746.718 Q2329.01 749.519 2322.53 749.519 Q2320.35 749.519 2318.04 749.079 Q2315.75 748.663 2313.29 747.806 L2313.29 743.292 Q2315.24 744.427 2317.55 745.005 Q2319.87 745.584 2322.39 745.584 Q2326.79 745.584 2329.08 743.848 Q2331.39 742.112 2331.39 738.802 Q2331.39 735.746 2329.24 734.033 Q2327.11 732.297 2323.29 732.297 L2319.26 732.297 L2319.26 728.454 L2323.48 728.454 Q2326.93 728.454 2328.75 727.089 Q2330.58 725.7 2330.58 723.107 Q2330.58 720.445 2328.69 719.033 Q2326.81 717.598 2323.29 717.598 Q2321.37 717.598 2319.17 718.015 Q2316.97 718.431 2314.33 719.311 L2314.33 715.144 Q2317 714.404 2319.31 714.033 Q2321.65 713.663 2323.71 713.663 Q2329.03 713.663 2332.13 716.093 Q2335.24 718.501 2335.24 722.621 Q2335.24 725.492 2333.59 727.482 Q2331.95 729.45 2328.92 730.214 Z\" fill=\"#000000\" fill-rule=\"nonzero\" fill-opacity=\"1\" /><polyline clip-path=\"url(#clip223)\" style=\"stroke:#000000; stroke-linecap:round; stroke-linejoin:round; stroke-width:2; stroke-opacity:0.1; fill:none\" points=\"1360.36,668.357 2352.76,668.357 \"/>\n",
       "<polyline clip-path=\"url(#clip223)\" style=\"stroke:#000000; stroke-linecap:round; stroke-linejoin:round; stroke-width:2; stroke-opacity:0.1; fill:none\" points=\"1360.36,534.352 2352.76,534.352 \"/>\n",
       "<polyline clip-path=\"url(#clip223)\" style=\"stroke:#000000; stroke-linecap:round; stroke-linejoin:round; stroke-width:2; stroke-opacity:0.1; fill:none\" points=\"1360.36,400.347 2352.76,400.347 \"/>\n",
       "<polyline clip-path=\"url(#clip223)\" style=\"stroke:#000000; stroke-linecap:round; stroke-linejoin:round; stroke-width:2; stroke-opacity:0.1; fill:none\" points=\"1360.36,266.342 2352.76,266.342 \"/>\n",
       "<polyline clip-path=\"url(#clip223)\" style=\"stroke:#000000; stroke-linecap:round; stroke-linejoin:round; stroke-width:2; stroke-opacity:0.1; fill:none\" points=\"1360.36,132.337 2352.76,132.337 \"/>\n",
       "<polyline clip-path=\"url(#clip220)\" style=\"stroke:#000000; stroke-linecap:round; stroke-linejoin:round; stroke-width:4; stroke-opacity:1; fill:none\" points=\"1360.36,686.448 1360.36,47.2441 \"/>\n",
       "<polyline clip-path=\"url(#clip220)\" style=\"stroke:#000000; stroke-linecap:round; stroke-linejoin:round; stroke-width:4; stroke-opacity:1; fill:none\" points=\"1360.36,668.357 1379.26,668.357 \"/>\n",
       "<polyline clip-path=\"url(#clip220)\" style=\"stroke:#000000; stroke-linecap:round; stroke-linejoin:round; stroke-width:4; stroke-opacity:1; fill:none\" points=\"1360.36,534.352 1379.26,534.352 \"/>\n",
       "<polyline clip-path=\"url(#clip220)\" style=\"stroke:#000000; stroke-linecap:round; stroke-linejoin:round; stroke-width:4; stroke-opacity:1; fill:none\" points=\"1360.36,400.347 1379.26,400.347 \"/>\n",
       "<polyline clip-path=\"url(#clip220)\" style=\"stroke:#000000; stroke-linecap:round; stroke-linejoin:round; stroke-width:4; stroke-opacity:1; fill:none\" points=\"1360.36,266.342 1379.26,266.342 \"/>\n",
       "<polyline clip-path=\"url(#clip220)\" style=\"stroke:#000000; stroke-linecap:round; stroke-linejoin:round; stroke-width:4; stroke-opacity:1; fill:none\" points=\"1360.36,132.337 1379.26,132.337 \"/>\n",
       "<path clip-path=\"url(#clip220)\" d=\"M1312.42 654.156 Q1308.8 654.156 1306.98 657.721 Q1305.17 661.262 1305.17 668.392 Q1305.17 675.498 1306.98 679.063 Q1308.8 682.605 1312.42 682.605 Q1316.05 682.605 1317.86 679.063 Q1319.68 675.498 1319.68 668.392 Q1319.68 661.262 1317.86 657.721 Q1316.05 654.156 1312.42 654.156 M1312.42 650.452 Q1318.23 650.452 1321.28 655.059 Q1324.36 659.642 1324.36 668.392 Q1324.36 677.119 1321.28 681.725 Q1318.23 686.308 1312.42 686.308 Q1306.61 686.308 1303.53 681.725 Q1300.47 677.119 1300.47 668.392 Q1300.47 659.642 1303.53 655.059 Q1306.61 650.452 1312.42 650.452 Z\" fill=\"#000000\" fill-rule=\"nonzero\" fill-opacity=\"1\" /><path clip-path=\"url(#clip220)\" d=\"M1308.04 547.697 L1324.36 547.697 L1324.36 551.632 L1302.42 551.632 L1302.42 547.697 Q1305.08 544.942 1309.66 540.313 Q1314.27 535.66 1315.45 534.317 Q1317.69 531.794 1318.57 530.058 Q1319.48 528.299 1319.48 526.609 Q1319.48 523.855 1317.53 522.118 Q1315.61 520.382 1312.51 520.382 Q1310.31 520.382 1307.86 521.146 Q1305.42 521.91 1302.65 523.461 L1302.65 518.739 Q1305.47 517.605 1307.92 517.026 Q1310.38 516.447 1312.42 516.447 Q1317.79 516.447 1320.98 519.132 Q1324.17 521.818 1324.17 526.308 Q1324.17 528.438 1323.36 530.359 Q1322.58 532.257 1320.47 534.85 Q1319.89 535.521 1316.79 538.739 Q1313.69 541.933 1308.04 547.697 Z\" fill=\"#000000\" fill-rule=\"nonzero\" fill-opacity=\"1\" /><path clip-path=\"url(#clip220)\" d=\"M1314.78 387.141 L1302.97 405.59 L1314.78 405.59 L1314.78 387.141 M1313.55 383.067 L1319.43 383.067 L1319.43 405.59 L1324.36 405.59 L1324.36 409.479 L1319.43 409.479 L1319.43 417.627 L1314.78 417.627 L1314.78 409.479 L1299.17 409.479 L1299.17 404.965 L1313.55 383.067 Z\" fill=\"#000000\" fill-rule=\"nonzero\" fill-opacity=\"1\" /><path clip-path=\"url(#clip220)\" d=\"M1312.83 264.479 Q1309.68 264.479 1307.83 266.632 Q1306 268.784 1306 272.534 Q1306 276.261 1307.83 278.437 Q1309.68 280.59 1312.83 280.59 Q1315.98 280.59 1317.81 278.437 Q1319.66 276.261 1319.66 272.534 Q1319.66 268.784 1317.81 266.632 Q1315.98 264.479 1312.83 264.479 M1322.11 249.826 L1322.11 254.085 Q1320.36 253.252 1318.55 252.812 Q1316.77 252.372 1315.01 252.372 Q1310.38 252.372 1307.92 255.497 Q1305.49 258.622 1305.15 264.942 Q1306.51 262.928 1308.57 261.863 Q1310.63 260.775 1313.11 260.775 Q1318.32 260.775 1321.33 263.946 Q1324.36 267.095 1324.36 272.534 Q1324.36 277.858 1321.21 281.076 Q1318.06 284.294 1312.83 284.294 Q1306.84 284.294 1303.67 279.71 Q1300.49 275.104 1300.49 266.377 Q1300.49 258.183 1304.38 253.321 Q1308.27 248.437 1314.82 248.437 Q1316.58 248.437 1318.36 248.784 Q1320.17 249.132 1322.11 249.826 Z\" fill=\"#000000\" fill-rule=\"nonzero\" fill-opacity=\"1\" /><path clip-path=\"url(#clip220)\" d=\"M1312.51 133.205 Q1309.17 133.205 1307.25 134.988 Q1305.36 136.77 1305.36 139.895 Q1305.36 143.02 1307.25 144.802 Q1309.17 146.585 1312.51 146.585 Q1315.84 146.585 1317.76 144.802 Q1319.68 142.997 1319.68 139.895 Q1319.68 136.77 1317.76 134.988 Q1315.86 133.205 1312.51 133.205 M1307.83 131.215 Q1304.82 130.474 1303.13 128.414 Q1301.47 126.353 1301.47 123.391 Q1301.47 119.247 1304.41 116.84 Q1307.37 114.432 1312.51 114.432 Q1317.67 114.432 1320.61 116.84 Q1323.55 119.247 1323.55 123.391 Q1323.55 126.353 1321.86 128.414 Q1320.19 130.474 1317.21 131.215 Q1320.59 132.002 1322.46 134.293 Q1324.36 136.585 1324.36 139.895 Q1324.36 144.918 1321.28 147.603 Q1318.23 150.289 1312.51 150.289 Q1306.79 150.289 1303.71 147.603 Q1300.66 144.918 1300.66 139.895 Q1300.66 136.585 1302.55 134.293 Q1304.45 132.002 1307.83 131.215 M1306.12 123.83 Q1306.12 126.516 1307.79 128.02 Q1309.48 129.525 1312.51 129.525 Q1315.52 129.525 1317.21 128.02 Q1318.92 126.516 1318.92 123.83 Q1318.92 121.145 1317.21 119.641 Q1315.52 118.136 1312.51 118.136 Q1309.48 118.136 1307.79 119.641 Q1306.12 121.145 1306.12 123.83 Z\" fill=\"#000000\" fill-rule=\"nonzero\" fill-opacity=\"1\" /><polyline clip-path=\"url(#clip223)\" style=\"stroke:#009af9; stroke-linecap:round; stroke-linejoin:round; stroke-width:4; stroke-opacity:1; fill:none\" points=\"1388.45,65.3348 1404.05,104.866 1419.65,143.058 1435.26,179.909 1450.86,215.42 1466.47,249.592 1482.07,282.423 1497.67,313.914 1513.28,344.065 1528.88,372.876 1544.48,400.347 1560.09,426.478 1575.69,451.269 1591.29,474.72 1606.9,496.831 1622.5,517.602 1638.11,537.032 1653.71,555.123 1669.31,571.874 1684.92,587.284 1700.52,601.355 1716.12,614.085 1731.73,625.476 1747.33,635.526 1762.94,644.236 1778.54,651.607 1794.14,657.637 1809.75,662.327 1825.35,665.677 1840.95,667.687 1856.56,668.357 1872.16,667.687 1887.77,665.677 1903.37,662.327 1918.97,657.637 1934.58,651.607 1950.18,644.236 1965.78,635.526 1981.39,625.476 1996.99,614.085 2012.59,601.355 2028.2,587.284 2043.8,571.874 2059.41,555.123 2075.01,537.032 2090.61,517.602 2106.22,496.831 2121.82,474.72 2137.42,451.269 2153.03,426.478 2168.63,400.347 2184.24,372.876 2199.84,344.065 2215.44,313.914 2231.05,282.423 2246.65,249.592 2262.25,215.42 2277.86,179.909 2293.46,143.058 2309.07,104.866 2324.67,65.3348 \"/>\n",
       "<path clip-path=\"url(#clip220)\" d=\"M178.867 1486.45 L1171.26 1486.45 L1171.26 847.244 L178.867 847.244  Z\" fill=\"#ffffff\" fill-rule=\"evenodd\" fill-opacity=\"1\"/>\n",
       "<defs>\n",
       "  <clipPath id=\"clip224\">\n",
       "    <rect x=\"178\" y=\"847\" width=\"993\" height=\"640\"/>\n",
       "  </clipPath>\n",
       "</defs>\n",
       "<polyline clip-path=\"url(#clip224)\" style=\"stroke:#000000; stroke-linecap:round; stroke-linejoin:round; stroke-width:2; stroke-opacity:0.1; fill:none\" points=\"206.953,1486.45 206.953,847.244 \"/>\n",
       "<polyline clip-path=\"url(#clip224)\" style=\"stroke:#000000; stroke-linecap:round; stroke-linejoin:round; stroke-width:2; stroke-opacity:0.1; fill:none\" points=\"362.99,1486.45 362.99,847.244 \"/>\n",
       "<polyline clip-path=\"url(#clip224)\" style=\"stroke:#000000; stroke-linecap:round; stroke-linejoin:round; stroke-width:2; stroke-opacity:0.1; fill:none\" points=\"519.028,1486.45 519.028,847.244 \"/>\n",
       "<polyline clip-path=\"url(#clip224)\" style=\"stroke:#000000; stroke-linecap:round; stroke-linejoin:round; stroke-width:2; stroke-opacity:0.1; fill:none\" points=\"675.065,1486.45 675.065,847.244 \"/>\n",
       "<polyline clip-path=\"url(#clip224)\" style=\"stroke:#000000; stroke-linecap:round; stroke-linejoin:round; stroke-width:2; stroke-opacity:0.1; fill:none\" points=\"831.102,1486.45 831.102,847.244 \"/>\n",
       "<polyline clip-path=\"url(#clip224)\" style=\"stroke:#000000; stroke-linecap:round; stroke-linejoin:round; stroke-width:2; stroke-opacity:0.1; fill:none\" points=\"987.139,1486.45 987.139,847.244 \"/>\n",
       "<polyline clip-path=\"url(#clip224)\" style=\"stroke:#000000; stroke-linecap:round; stroke-linejoin:round; stroke-width:2; stroke-opacity:0.1; fill:none\" points=\"1143.18,1486.45 1143.18,847.244 \"/>\n",
       "<polyline clip-path=\"url(#clip220)\" style=\"stroke:#000000; stroke-linecap:round; stroke-linejoin:round; stroke-width:4; stroke-opacity:1; fill:none\" points=\"178.867,1486.45 1171.26,1486.45 \"/>\n",
       "<polyline clip-path=\"url(#clip220)\" style=\"stroke:#000000; stroke-linecap:round; stroke-linejoin:round; stroke-width:4; stroke-opacity:1; fill:none\" points=\"206.953,1486.45 206.953,1467.55 \"/>\n",
       "<polyline clip-path=\"url(#clip220)\" style=\"stroke:#000000; stroke-linecap:round; stroke-linejoin:round; stroke-width:4; stroke-opacity:1; fill:none\" points=\"362.99,1486.45 362.99,1467.55 \"/>\n",
       "<polyline clip-path=\"url(#clip220)\" style=\"stroke:#000000; stroke-linecap:round; stroke-linejoin:round; stroke-width:4; stroke-opacity:1; fill:none\" points=\"519.028,1486.45 519.028,1467.55 \"/>\n",
       "<polyline clip-path=\"url(#clip220)\" style=\"stroke:#000000; stroke-linecap:round; stroke-linejoin:round; stroke-width:4; stroke-opacity:1; fill:none\" points=\"675.065,1486.45 675.065,1467.55 \"/>\n",
       "<polyline clip-path=\"url(#clip220)\" style=\"stroke:#000000; stroke-linecap:round; stroke-linejoin:round; stroke-width:4; stroke-opacity:1; fill:none\" points=\"831.102,1486.45 831.102,1467.55 \"/>\n",
       "<polyline clip-path=\"url(#clip220)\" style=\"stroke:#000000; stroke-linecap:round; stroke-linejoin:round; stroke-width:4; stroke-opacity:1; fill:none\" points=\"987.139,1486.45 987.139,1467.55 \"/>\n",
       "<polyline clip-path=\"url(#clip220)\" style=\"stroke:#000000; stroke-linecap:round; stroke-linejoin:round; stroke-width:4; stroke-opacity:1; fill:none\" points=\"1143.18,1486.45 1143.18,1467.55 \"/>\n",
       "<path clip-path=\"url(#clip220)\" d=\"M176.421 1532.02 L206.097 1532.02 L206.097 1535.95 L176.421 1535.95 L176.421 1532.02 Z\" fill=\"#000000\" fill-rule=\"nonzero\" fill-opacity=\"1\" /><path clip-path=\"url(#clip220)\" d=\"M230.356 1530.21 Q233.712 1530.93 235.587 1533.2 Q237.486 1535.47 237.486 1538.8 Q237.486 1543.92 233.967 1546.72 Q230.449 1549.52 223.967 1549.52 Q221.791 1549.52 219.476 1549.08 Q217.185 1548.66 214.731 1547.81 L214.731 1543.29 Q216.675 1544.43 218.99 1545.01 Q221.305 1545.58 223.828 1545.58 Q228.226 1545.58 230.518 1543.85 Q232.833 1542.11 232.833 1538.8 Q232.833 1535.75 230.68 1534.03 Q228.55 1532.3 224.731 1532.3 L220.703 1532.3 L220.703 1528.45 L224.916 1528.45 Q228.365 1528.45 230.194 1527.09 Q232.023 1525.7 232.023 1523.11 Q232.023 1520.45 230.124 1519.03 Q228.249 1517.6 224.731 1517.6 Q222.81 1517.6 220.611 1518.01 Q218.412 1518.43 215.773 1519.31 L215.773 1515.14 Q218.435 1514.4 220.75 1514.03 Q223.087 1513.66 225.148 1513.66 Q230.472 1513.66 233.574 1516.09 Q236.675 1518.5 236.675 1522.62 Q236.675 1525.49 235.032 1527.48 Q233.388 1529.45 230.356 1530.21 Z\" fill=\"#000000\" fill-rule=\"nonzero\" fill-opacity=\"1\" /><path clip-path=\"url(#clip220)\" d=\"M332.933 1532.02 L362.608 1532.02 L362.608 1535.95 L332.933 1535.95 L332.933 1532.02 Z\" fill=\"#000000\" fill-rule=\"nonzero\" fill-opacity=\"1\" /><path clip-path=\"url(#clip220)\" d=\"M376.729 1544.91 L393.048 1544.91 L393.048 1548.85 L371.104 1548.85 L371.104 1544.91 Q373.766 1542.16 378.349 1537.53 Q382.956 1532.88 384.136 1531.53 Q386.382 1529.01 387.261 1527.27 Q388.164 1525.51 388.164 1523.82 Q388.164 1521.07 386.219 1519.33 Q384.298 1517.6 381.196 1517.6 Q378.997 1517.6 376.544 1518.36 Q374.113 1519.13 371.335 1520.68 L371.335 1515.95 Q374.159 1514.82 376.613 1514.24 Q379.067 1513.66 381.104 1513.66 Q386.474 1513.66 389.669 1516.35 Q392.863 1519.03 392.863 1523.52 Q392.863 1525.65 392.053 1527.57 Q391.266 1529.47 389.159 1532.07 Q388.581 1532.74 385.479 1535.95 Q382.377 1539.15 376.729 1544.91 Z\" fill=\"#000000\" fill-rule=\"nonzero\" fill-opacity=\"1\" /><path clip-path=\"url(#clip220)\" d=\"M488.785 1532.02 L518.46 1532.02 L518.46 1535.95 L488.785 1535.95 L488.785 1532.02 Z\" fill=\"#000000\" fill-rule=\"nonzero\" fill-opacity=\"1\" /><path clip-path=\"url(#clip220)\" d=\"M529.363 1544.91 L537.002 1544.91 L537.002 1518.55 L528.692 1520.21 L528.692 1515.95 L536.956 1514.29 L541.632 1514.29 L541.632 1544.91 L549.27 1544.91 L549.27 1548.85 L529.363 1548.85 L529.363 1544.91 Z\" fill=\"#000000\" fill-rule=\"nonzero\" fill-opacity=\"1\" /><path clip-path=\"url(#clip220)\" d=\"M675.065 1517.37 Q671.454 1517.37 669.625 1520.93 Q667.819 1524.47 667.819 1531.6 Q667.819 1538.71 669.625 1542.27 Q671.454 1545.82 675.065 1545.82 Q678.699 1545.82 680.504 1542.27 Q682.333 1538.71 682.333 1531.6 Q682.333 1524.47 680.504 1520.93 Q678.699 1517.37 675.065 1517.37 M675.065 1513.66 Q680.875 1513.66 683.93 1518.27 Q687.009 1522.85 687.009 1531.6 Q687.009 1540.33 683.93 1544.94 Q680.875 1549.52 675.065 1549.52 Q669.255 1549.52 666.176 1544.94 Q663.12 1540.33 663.12 1531.6 Q663.12 1522.85 666.176 1518.27 Q669.255 1513.66 675.065 1513.66 Z\" fill=\"#000000\" fill-rule=\"nonzero\" fill-opacity=\"1\" /><path clip-path=\"url(#clip220)\" d=\"M821.484 1544.91 L829.123 1544.91 L829.123 1518.55 L820.813 1520.21 L820.813 1515.95 L829.076 1514.29 L833.752 1514.29 L833.752 1544.91 L841.391 1544.91 L841.391 1548.85 L821.484 1548.85 L821.484 1544.91 Z\" fill=\"#000000\" fill-rule=\"nonzero\" fill-opacity=\"1\" /><path clip-path=\"url(#clip220)\" d=\"M981.792 1544.91 L998.111 1544.91 L998.111 1548.85 L976.167 1548.85 L976.167 1544.91 Q978.829 1542.16 983.412 1537.53 Q988.019 1532.88 989.199 1531.53 Q991.444 1529.01 992.324 1527.27 Q993.227 1525.51 993.227 1523.82 Q993.227 1521.07 991.282 1519.33 Q989.361 1517.6 986.259 1517.6 Q984.06 1517.6 981.607 1518.36 Q979.176 1519.13 976.398 1520.68 L976.398 1515.95 Q979.222 1514.82 981.676 1514.24 Q984.13 1513.66 986.167 1513.66 Q991.537 1513.66 994.731 1516.35 Q997.926 1519.03 997.926 1523.52 Q997.926 1525.65 997.116 1527.57 Q996.329 1529.47 994.222 1532.07 Q993.644 1532.74 990.542 1535.95 Q987.44 1539.15 981.792 1544.91 Z\" fill=\"#000000\" fill-rule=\"nonzero\" fill-opacity=\"1\" /><path clip-path=\"url(#clip220)\" d=\"M1147.42 1530.21 Q1150.78 1530.93 1152.66 1533.2 Q1154.55 1535.47 1154.55 1538.8 Q1154.55 1543.92 1151.03 1546.72 Q1147.52 1549.52 1141.03 1549.52 Q1138.86 1549.52 1136.54 1549.08 Q1134.25 1548.66 1131.8 1547.81 L1131.8 1543.29 Q1133.74 1544.43 1136.06 1545.01 Q1138.37 1545.58 1140.9 1545.58 Q1145.29 1545.58 1147.59 1543.85 Q1149.9 1542.11 1149.9 1538.8 Q1149.9 1535.75 1147.75 1534.03 Q1145.62 1532.3 1141.8 1532.3 L1137.77 1532.3 L1137.77 1528.45 L1141.98 1528.45 Q1145.43 1528.45 1147.26 1527.09 Q1149.09 1525.7 1149.09 1523.11 Q1149.09 1520.45 1147.19 1519.03 Q1145.32 1517.6 1141.8 1517.6 Q1139.88 1517.6 1137.68 1518.01 Q1135.48 1518.43 1132.84 1519.31 L1132.84 1515.14 Q1135.5 1514.4 1137.82 1514.03 Q1140.16 1513.66 1142.22 1513.66 Q1147.54 1513.66 1150.64 1516.09 Q1153.74 1518.5 1153.74 1522.62 Q1153.74 1525.49 1152.1 1527.48 Q1150.46 1529.45 1147.42 1530.21 Z\" fill=\"#000000\" fill-rule=\"nonzero\" fill-opacity=\"1\" /><polyline clip-path=\"url(#clip224)\" style=\"stroke:#000000; stroke-linecap:round; stroke-linejoin:round; stroke-width:2; stroke-opacity:0.1; fill:none\" points=\"178.867,1390.19 1171.26,1390.19 \"/>\n",
       "<polyline clip-path=\"url(#clip224)\" style=\"stroke:#000000; stroke-linecap:round; stroke-linejoin:round; stroke-width:2; stroke-opacity:0.1; fill:none\" points=\"178.867,1278.52 1171.26,1278.52 \"/>\n",
       "<polyline clip-path=\"url(#clip224)\" style=\"stroke:#000000; stroke-linecap:round; stroke-linejoin:round; stroke-width:2; stroke-opacity:0.1; fill:none\" points=\"178.867,1166.85 1171.26,1166.85 \"/>\n",
       "<polyline clip-path=\"url(#clip224)\" style=\"stroke:#000000; stroke-linecap:round; stroke-linejoin:round; stroke-width:2; stroke-opacity:0.1; fill:none\" points=\"178.867,1055.18 1171.26,1055.18 \"/>\n",
       "<polyline clip-path=\"url(#clip224)\" style=\"stroke:#000000; stroke-linecap:round; stroke-linejoin:round; stroke-width:2; stroke-opacity:0.1; fill:none\" points=\"178.867,943.504 1171.26,943.504 \"/>\n",
       "<polyline clip-path=\"url(#clip220)\" style=\"stroke:#000000; stroke-linecap:round; stroke-linejoin:round; stroke-width:4; stroke-opacity:1; fill:none\" points=\"178.867,1486.45 178.867,847.244 \"/>\n",
       "<polyline clip-path=\"url(#clip220)\" style=\"stroke:#000000; stroke-linecap:round; stroke-linejoin:round; stroke-width:4; stroke-opacity:1; fill:none\" points=\"178.867,1390.19 197.764,1390.19 \"/>\n",
       "<polyline clip-path=\"url(#clip220)\" style=\"stroke:#000000; stroke-linecap:round; stroke-linejoin:round; stroke-width:4; stroke-opacity:1; fill:none\" points=\"178.867,1278.52 197.764,1278.52 \"/>\n",
       "<polyline clip-path=\"url(#clip220)\" style=\"stroke:#000000; stroke-linecap:round; stroke-linejoin:round; stroke-width:4; stroke-opacity:1; fill:none\" points=\"178.867,1166.85 197.764,1166.85 \"/>\n",
       "<polyline clip-path=\"url(#clip220)\" style=\"stroke:#000000; stroke-linecap:round; stroke-linejoin:round; stroke-width:4; stroke-opacity:1; fill:none\" points=\"178.867,1055.18 197.764,1055.18 \"/>\n",
       "<polyline clip-path=\"url(#clip220)\" style=\"stroke:#000000; stroke-linecap:round; stroke-linejoin:round; stroke-width:4; stroke-opacity:1; fill:none\" points=\"178.867,943.504 197.764,943.504 \"/>\n",
       "<path clip-path=\"url(#clip220)\" d=\"M50.9921 1390.64 L80.6679 1390.64 L80.6679 1394.57 L50.9921 1394.57 L50.9921 1390.64 Z\" fill=\"#000000\" fill-rule=\"nonzero\" fill-opacity=\"1\" /><path clip-path=\"url(#clip220)\" d=\"M94.7882 1403.53 L111.108 1403.53 L111.108 1407.47 L89.1632 1407.47 L89.1632 1403.53 Q91.8252 1400.78 96.4085 1396.15 Q101.015 1391.5 102.196 1390.15 Q104.441 1387.63 105.321 1385.89 Q106.223 1384.13 106.223 1382.44 Q106.223 1379.69 104.279 1377.95 Q102.358 1376.22 99.2558 1376.22 Q97.0567 1376.22 94.603 1376.98 Q92.1725 1377.75 89.3947 1379.3 L89.3947 1374.57 Q92.2188 1373.44 94.6724 1372.86 Q97.1261 1372.28 99.1632 1372.28 Q104.534 1372.28 107.728 1374.97 Q110.922 1377.65 110.922 1382.14 Q110.922 1384.27 110.112 1386.19 Q109.325 1388.09 107.219 1390.69 Q106.64 1391.36 103.538 1394.57 Q100.436 1397.77 94.7882 1403.53 Z\" fill=\"#000000\" fill-rule=\"nonzero\" fill-opacity=\"1\" /><path clip-path=\"url(#clip220)\" d=\"M130.922 1375.99 Q127.311 1375.99 125.482 1379.55 Q123.677 1383.09 123.677 1390.22 Q123.677 1397.33 125.482 1400.89 Q127.311 1404.44 130.922 1404.44 Q134.556 1404.44 136.362 1400.89 Q138.191 1397.33 138.191 1390.22 Q138.191 1383.09 136.362 1379.55 Q134.556 1375.99 130.922 1375.99 M130.922 1372.28 Q136.732 1372.28 139.788 1376.89 Q142.867 1381.47 142.867 1390.22 Q142.867 1398.95 139.788 1403.56 Q136.732 1408.14 130.922 1408.14 Q125.112 1408.14 122.033 1403.56 Q118.978 1398.95 118.978 1390.22 Q118.978 1381.47 122.033 1376.89 Q125.112 1372.28 130.922 1372.28 Z\" fill=\"#000000\" fill-rule=\"nonzero\" fill-opacity=\"1\" /><path clip-path=\"url(#clip220)\" d=\"M50.9921 1278.97 L80.6679 1278.97 L80.6679 1282.9 L50.9921 1282.9 L50.9921 1278.97 Z\" fill=\"#000000\" fill-rule=\"nonzero\" fill-opacity=\"1\" /><path clip-path=\"url(#clip220)\" d=\"M91.5706 1291.86 L99.2095 1291.86 L99.2095 1265.5 L90.8993 1267.16 L90.8993 1262.9 L99.1632 1261.24 L103.839 1261.24 L103.839 1291.86 L111.478 1291.86 L111.478 1295.8 L91.5706 1295.8 L91.5706 1291.86 Z\" fill=\"#000000\" fill-rule=\"nonzero\" fill-opacity=\"1\" /><path clip-path=\"url(#clip220)\" d=\"M130.922 1264.32 Q127.311 1264.32 125.482 1267.88 Q123.677 1271.42 123.677 1278.55 Q123.677 1285.66 125.482 1289.22 Q127.311 1292.76 130.922 1292.76 Q134.556 1292.76 136.362 1289.22 Q138.191 1285.66 138.191 1278.55 Q138.191 1271.42 136.362 1267.88 Q134.556 1264.32 130.922 1264.32 M130.922 1260.61 Q136.732 1260.61 139.788 1265.22 Q142.867 1269.8 142.867 1278.55 Q142.867 1287.28 139.788 1291.88 Q136.732 1296.47 130.922 1296.47 Q125.112 1296.47 122.033 1291.88 Q118.978 1287.28 118.978 1278.55 Q118.978 1269.8 122.033 1265.22 Q125.112 1260.61 130.922 1260.61 Z\" fill=\"#000000\" fill-rule=\"nonzero\" fill-opacity=\"1\" /><path clip-path=\"url(#clip220)\" d=\"M130.922 1152.64 Q127.311 1152.64 125.482 1156.21 Q123.677 1159.75 123.677 1166.88 Q123.677 1173.99 125.482 1177.55 Q127.311 1181.09 130.922 1181.09 Q134.556 1181.09 136.362 1177.55 Q138.191 1173.99 138.191 1166.88 Q138.191 1159.75 136.362 1156.21 Q134.556 1152.64 130.922 1152.64 M130.922 1148.94 Q136.732 1148.94 139.788 1153.55 Q142.867 1158.13 142.867 1166.88 Q142.867 1175.61 139.788 1180.21 Q136.732 1184.8 130.922 1184.8 Q125.112 1184.8 122.033 1180.21 Q118.978 1175.61 118.978 1166.88 Q118.978 1158.13 122.033 1153.55 Q125.112 1148.94 130.922 1148.94 Z\" fill=\"#000000\" fill-rule=\"nonzero\" fill-opacity=\"1\" /><path clip-path=\"url(#clip220)\" d=\"M91.5706 1068.52 L99.2095 1068.52 L99.2095 1042.15 L90.8993 1043.82 L90.8993 1039.56 L99.1632 1037.9 L103.839 1037.9 L103.839 1068.52 L111.478 1068.52 L111.478 1072.46 L91.5706 1072.46 L91.5706 1068.52 Z\" fill=\"#000000\" fill-rule=\"nonzero\" fill-opacity=\"1\" /><path clip-path=\"url(#clip220)\" d=\"M130.922 1040.97 Q127.311 1040.97 125.482 1044.54 Q123.677 1048.08 123.677 1055.21 Q123.677 1062.32 125.482 1065.88 Q127.311 1069.42 130.922 1069.42 Q134.556 1069.42 136.362 1065.88 Q138.191 1062.32 138.191 1055.21 Q138.191 1048.08 136.362 1044.54 Q134.556 1040.97 130.922 1040.97 M130.922 1037.27 Q136.732 1037.27 139.788 1041.88 Q142.867 1046.46 142.867 1055.21 Q142.867 1063.94 139.788 1068.54 Q136.732 1073.13 130.922 1073.13 Q125.112 1073.13 122.033 1068.54 Q118.978 1063.94 118.978 1055.21 Q118.978 1046.46 122.033 1041.88 Q125.112 1037.27 130.922 1037.27 Z\" fill=\"#000000\" fill-rule=\"nonzero\" fill-opacity=\"1\" /><path clip-path=\"url(#clip220)\" d=\"M94.7882 956.849 L111.108 956.849 L111.108 960.784 L89.1632 960.784 L89.1632 956.849 Q91.8252 954.095 96.4085 949.465 Q101.015 944.812 102.196 943.47 Q104.441 940.946 105.321 939.21 Q106.223 937.451 106.223 935.761 Q106.223 933.007 104.279 931.271 Q102.358 929.535 99.2558 929.535 Q97.0567 929.535 94.603 930.298 Q92.1725 931.062 89.3947 932.613 L89.3947 927.891 Q92.2188 926.757 94.6724 926.178 Q97.1261 925.599 99.1632 925.599 Q104.534 925.599 107.728 928.285 Q110.922 930.97 110.922 935.46 Q110.922 937.59 110.112 939.511 Q109.325 941.409 107.219 944.002 Q106.64 944.673 103.538 947.891 Q100.436 951.085 94.7882 956.849 Z\" fill=\"#000000\" fill-rule=\"nonzero\" fill-opacity=\"1\" /><path clip-path=\"url(#clip220)\" d=\"M130.922 929.303 Q127.311 929.303 125.482 932.868 Q123.677 936.409 123.677 943.539 Q123.677 950.646 125.482 954.21 Q127.311 957.752 130.922 957.752 Q134.556 957.752 136.362 954.21 Q138.191 950.646 138.191 943.539 Q138.191 936.409 136.362 932.868 Q134.556 929.303 130.922 929.303 M130.922 925.599 Q136.732 925.599 139.788 930.206 Q142.867 934.789 142.867 943.539 Q142.867 952.266 139.788 956.872 Q136.732 961.456 130.922 961.456 Q125.112 961.456 122.033 956.872 Q118.978 952.266 118.978 943.539 Q118.978 934.789 122.033 930.206 Q125.112 925.599 130.922 925.599 Z\" fill=\"#000000\" fill-rule=\"nonzero\" fill-opacity=\"1\" /><polyline clip-path=\"url(#clip224)\" style=\"stroke:#009af9; stroke-linecap:round; stroke-linejoin:round; stroke-width:4; stroke-opacity:1; fill:none\" points=\"206.953,1468.36 222.557,1439.2 238.161,1411.99 253.764,1386.65 269.368,1363.12 284.972,1341.33 300.576,1321.22 316.179,1302.72 331.783,1285.75 347.387,1270.26 362.99,1256.18 378.594,1243.44 394.198,1231.97 409.802,1221.71 425.405,1212.59 441.009,1204.53 456.613,1197.49 472.216,1191.38 487.82,1186.14 503.424,1181.71 519.028,1178.01 534.631,1174.99 550.235,1172.56 565.839,1170.68 581.442,1169.26 597.046,1168.24 612.65,1167.56 628.254,1167.15 643.857,1166.94 659.461,1166.86 675.065,1166.85 690.668,1166.83 706.272,1166.76 721.876,1166.54 737.48,1166.13 753.083,1165.45 768.687,1164.43 784.291,1163.02 799.894,1161.13 815.498,1158.71 831.102,1155.68 846.706,1151.98 862.309,1147.55 877.913,1142.31 893.517,1136.2 909.12,1129.16 924.724,1121.11 940.328,1111.98 955.932,1101.72 971.535,1090.25 987.139,1077.51 1002.74,1063.43 1018.35,1047.94 1033.95,1030.98 1049.55,1012.47 1065.16,992.36 1080.76,970.573 1096.36,947.044 1111.97,921.706 1127.57,894.492 1143.18,865.335 \"/>\n",
       "<path clip-path=\"url(#clip220)\" d=\"M1360.36 1486.45 L2352.76 1486.45 L2352.76 847.244 L1360.36 847.244  Z\" fill=\"#ffffff\" fill-rule=\"evenodd\" fill-opacity=\"1\"/>\n",
       "<defs>\n",
       "  <clipPath id=\"clip225\">\n",
       "    <rect x=\"1360\" y=\"847\" width=\"993\" height=\"640\"/>\n",
       "  </clipPath>\n",
       "</defs>\n",
       "<polyline clip-path=\"url(#clip225)\" style=\"stroke:#000000; stroke-linecap:round; stroke-linejoin:round; stroke-width:2; stroke-opacity:0.1; fill:none\" points=\"1388.45,1486.45 1388.45,847.244 \"/>\n",
       "<polyline clip-path=\"url(#clip225)\" style=\"stroke:#000000; stroke-linecap:round; stroke-linejoin:round; stroke-width:2; stroke-opacity:0.1; fill:none\" points=\"1544.48,1486.45 1544.48,847.244 \"/>\n",
       "<polyline clip-path=\"url(#clip225)\" style=\"stroke:#000000; stroke-linecap:round; stroke-linejoin:round; stroke-width:2; stroke-opacity:0.1; fill:none\" points=\"1700.52,1486.45 1700.52,847.244 \"/>\n",
       "<polyline clip-path=\"url(#clip225)\" style=\"stroke:#000000; stroke-linecap:round; stroke-linejoin:round; stroke-width:2; stroke-opacity:0.1; fill:none\" points=\"1856.56,1486.45 1856.56,847.244 \"/>\n",
       "<polyline clip-path=\"url(#clip225)\" style=\"stroke:#000000; stroke-linecap:round; stroke-linejoin:round; stroke-width:2; stroke-opacity:0.1; fill:none\" points=\"2012.59,1486.45 2012.59,847.244 \"/>\n",
       "<polyline clip-path=\"url(#clip225)\" style=\"stroke:#000000; stroke-linecap:round; stroke-linejoin:round; stroke-width:2; stroke-opacity:0.1; fill:none\" points=\"2168.63,1486.45 2168.63,847.244 \"/>\n",
       "<polyline clip-path=\"url(#clip225)\" style=\"stroke:#000000; stroke-linecap:round; stroke-linejoin:round; stroke-width:2; stroke-opacity:0.1; fill:none\" points=\"2324.67,1486.45 2324.67,847.244 \"/>\n",
       "<polyline clip-path=\"url(#clip220)\" style=\"stroke:#000000; stroke-linecap:round; stroke-linejoin:round; stroke-width:4; stroke-opacity:1; fill:none\" points=\"1360.36,1486.45 2352.76,1486.45 \"/>\n",
       "<polyline clip-path=\"url(#clip220)\" style=\"stroke:#000000; stroke-linecap:round; stroke-linejoin:round; stroke-width:4; stroke-opacity:1; fill:none\" points=\"1388.45,1486.45 1388.45,1467.55 \"/>\n",
       "<polyline clip-path=\"url(#clip220)\" style=\"stroke:#000000; stroke-linecap:round; stroke-linejoin:round; stroke-width:4; stroke-opacity:1; fill:none\" points=\"1544.48,1486.45 1544.48,1467.55 \"/>\n",
       "<polyline clip-path=\"url(#clip220)\" style=\"stroke:#000000; stroke-linecap:round; stroke-linejoin:round; stroke-width:4; stroke-opacity:1; fill:none\" points=\"1700.52,1486.45 1700.52,1467.55 \"/>\n",
       "<polyline clip-path=\"url(#clip220)\" style=\"stroke:#000000; stroke-linecap:round; stroke-linejoin:round; stroke-width:4; stroke-opacity:1; fill:none\" points=\"1856.56,1486.45 1856.56,1467.55 \"/>\n",
       "<polyline clip-path=\"url(#clip220)\" style=\"stroke:#000000; stroke-linecap:round; stroke-linejoin:round; stroke-width:4; stroke-opacity:1; fill:none\" points=\"2012.59,1486.45 2012.59,1467.55 \"/>\n",
       "<polyline clip-path=\"url(#clip220)\" style=\"stroke:#000000; stroke-linecap:round; stroke-linejoin:round; stroke-width:4; stroke-opacity:1; fill:none\" points=\"2168.63,1486.45 2168.63,1467.55 \"/>\n",
       "<polyline clip-path=\"url(#clip220)\" style=\"stroke:#000000; stroke-linecap:round; stroke-linejoin:round; stroke-width:4; stroke-opacity:1; fill:none\" points=\"2324.67,1486.45 2324.67,1467.55 \"/>\n",
       "<path clip-path=\"url(#clip220)\" d=\"M1357.91 1532.02 L1387.59 1532.02 L1387.59 1535.95 L1357.91 1535.95 L1357.91 1532.02 Z\" fill=\"#000000\" fill-rule=\"nonzero\" fill-opacity=\"1\" /><path clip-path=\"url(#clip220)\" d=\"M1411.85 1530.21 Q1415.21 1530.93 1417.08 1533.2 Q1418.98 1535.47 1418.98 1538.8 Q1418.98 1543.92 1415.46 1546.72 Q1411.94 1549.52 1405.46 1549.52 Q1403.28 1549.52 1400.97 1549.08 Q1398.68 1548.66 1396.22 1547.81 L1396.22 1543.29 Q1398.17 1544.43 1400.48 1545.01 Q1402.8 1545.58 1405.32 1545.58 Q1409.72 1545.58 1412.01 1543.85 Q1414.33 1542.11 1414.33 1538.8 Q1414.33 1535.75 1412.17 1534.03 Q1410.04 1532.3 1406.22 1532.3 L1402.2 1532.3 L1402.2 1528.45 L1406.41 1528.45 Q1409.86 1528.45 1411.69 1527.09 Q1413.52 1525.7 1413.52 1523.11 Q1413.52 1520.45 1411.62 1519.03 Q1409.74 1517.6 1406.22 1517.6 Q1404.3 1517.6 1402.1 1518.01 Q1399.9 1518.43 1397.27 1519.31 L1397.27 1515.14 Q1399.93 1514.4 1402.24 1514.03 Q1404.58 1513.66 1406.64 1513.66 Q1411.96 1513.66 1415.07 1516.09 Q1418.17 1518.5 1418.17 1522.62 Q1418.17 1525.49 1416.53 1527.48 Q1414.88 1529.45 1411.85 1530.21 Z\" fill=\"#000000\" fill-rule=\"nonzero\" fill-opacity=\"1\" /><path clip-path=\"url(#clip220)\" d=\"M1514.43 1532.02 L1544.1 1532.02 L1544.1 1535.95 L1514.43 1535.95 L1514.43 1532.02 Z\" fill=\"#000000\" fill-rule=\"nonzero\" fill-opacity=\"1\" /><path clip-path=\"url(#clip220)\" d=\"M1558.22 1544.91 L1574.54 1544.91 L1574.54 1548.85 L1552.6 1548.85 L1552.6 1544.91 Q1555.26 1542.16 1559.84 1537.53 Q1564.45 1532.88 1565.63 1531.53 Q1567.87 1529.01 1568.75 1527.27 Q1569.66 1525.51 1569.66 1523.82 Q1569.66 1521.07 1567.71 1519.33 Q1565.79 1517.6 1562.69 1517.6 Q1560.49 1517.6 1558.04 1518.36 Q1555.61 1519.13 1552.83 1520.68 L1552.83 1515.95 Q1555.65 1514.82 1558.11 1514.24 Q1560.56 1513.66 1562.6 1513.66 Q1567.97 1513.66 1571.16 1516.35 Q1574.36 1519.03 1574.36 1523.52 Q1574.36 1525.65 1573.55 1527.57 Q1572.76 1529.47 1570.65 1532.07 Q1570.07 1532.74 1566.97 1535.95 Q1563.87 1539.15 1558.22 1544.91 Z\" fill=\"#000000\" fill-rule=\"nonzero\" fill-opacity=\"1\" /><path clip-path=\"url(#clip220)\" d=\"M1670.28 1532.02 L1699.95 1532.02 L1699.95 1535.95 L1670.28 1535.95 L1670.28 1532.02 Z\" fill=\"#000000\" fill-rule=\"nonzero\" fill-opacity=\"1\" /><path clip-path=\"url(#clip220)\" d=\"M1710.86 1544.91 L1718.5 1544.91 L1718.5 1518.55 L1710.19 1520.21 L1710.19 1515.95 L1718.45 1514.29 L1723.12 1514.29 L1723.12 1544.91 L1730.76 1544.91 L1730.76 1548.85 L1710.86 1548.85 L1710.86 1544.91 Z\" fill=\"#000000\" fill-rule=\"nonzero\" fill-opacity=\"1\" /><path clip-path=\"url(#clip220)\" d=\"M1856.56 1517.37 Q1852.95 1517.37 1851.12 1520.93 Q1849.31 1524.47 1849.31 1531.6 Q1849.31 1538.71 1851.12 1542.27 Q1852.95 1545.82 1856.56 1545.82 Q1860.19 1545.82 1862 1542.27 Q1863.83 1538.71 1863.83 1531.6 Q1863.83 1524.47 1862 1520.93 Q1860.19 1517.37 1856.56 1517.37 M1856.56 1513.66 Q1862.37 1513.66 1865.42 1518.27 Q1868.5 1522.85 1868.5 1531.6 Q1868.5 1540.33 1865.42 1544.94 Q1862.37 1549.52 1856.56 1549.52 Q1850.75 1549.52 1847.67 1544.94 Q1844.61 1540.33 1844.61 1531.6 Q1844.61 1522.85 1847.67 1518.27 Q1850.75 1513.66 1856.56 1513.66 Z\" fill=\"#000000\" fill-rule=\"nonzero\" fill-opacity=\"1\" /><path clip-path=\"url(#clip220)\" d=\"M2002.98 1544.91 L2010.62 1544.91 L2010.62 1518.55 L2002.31 1520.21 L2002.31 1515.95 L2010.57 1514.29 L2015.25 1514.29 L2015.25 1544.91 L2022.88 1544.91 L2022.88 1548.85 L2002.98 1548.85 L2002.98 1544.91 Z\" fill=\"#000000\" fill-rule=\"nonzero\" fill-opacity=\"1\" /><path clip-path=\"url(#clip220)\" d=\"M2163.28 1544.91 L2179.6 1544.91 L2179.6 1548.85 L2157.66 1548.85 L2157.66 1544.91 Q2160.32 1542.16 2164.91 1537.53 Q2169.51 1532.88 2170.69 1531.53 Q2172.94 1529.01 2173.82 1527.27 Q2174.72 1525.51 2174.72 1523.82 Q2174.72 1521.07 2172.78 1519.33 Q2170.85 1517.6 2167.75 1517.6 Q2165.55 1517.6 2163.1 1518.36 Q2160.67 1519.13 2157.89 1520.68 L2157.89 1515.95 Q2160.72 1514.82 2163.17 1514.24 Q2165.62 1513.66 2167.66 1513.66 Q2173.03 1513.66 2176.22 1516.35 Q2179.42 1519.03 2179.42 1523.52 Q2179.42 1525.65 2178.61 1527.57 Q2177.82 1529.47 2175.72 1532.07 Q2175.14 1532.74 2172.03 1535.95 Q2168.93 1539.15 2163.28 1544.91 Z\" fill=\"#000000\" fill-rule=\"nonzero\" fill-opacity=\"1\" /><path clip-path=\"url(#clip220)\" d=\"M2328.92 1530.21 Q2332.27 1530.93 2334.15 1533.2 Q2336.05 1535.47 2336.05 1538.8 Q2336.05 1543.92 2332.53 1546.72 Q2329.01 1549.52 2322.53 1549.52 Q2320.35 1549.52 2318.04 1549.08 Q2315.75 1548.66 2313.29 1547.81 L2313.29 1543.29 Q2315.24 1544.43 2317.55 1545.01 Q2319.87 1545.58 2322.39 1545.58 Q2326.79 1545.58 2329.08 1543.85 Q2331.39 1542.11 2331.39 1538.8 Q2331.39 1535.75 2329.24 1534.03 Q2327.11 1532.3 2323.29 1532.3 L2319.26 1532.3 L2319.26 1528.45 L2323.48 1528.45 Q2326.93 1528.45 2328.75 1527.09 Q2330.58 1525.7 2330.58 1523.11 Q2330.58 1520.45 2328.69 1519.03 Q2326.81 1517.6 2323.29 1517.6 Q2321.37 1517.6 2319.17 1518.01 Q2316.97 1518.43 2314.33 1519.31 L2314.33 1515.14 Q2317 1514.4 2319.31 1514.03 Q2321.65 1513.66 2323.71 1513.66 Q2329.03 1513.66 2332.13 1516.09 Q2335.24 1518.5 2335.24 1522.62 Q2335.24 1525.49 2333.59 1527.48 Q2331.95 1529.45 2328.92 1530.21 Z\" fill=\"#000000\" fill-rule=\"nonzero\" fill-opacity=\"1\" /><polyline clip-path=\"url(#clip225)\" style=\"stroke:#000000; stroke-linecap:round; stroke-linejoin:round; stroke-width:2; stroke-opacity:0.1; fill:none\" points=\"1360.36,1468.36 2352.76,1468.36 \"/>\n",
       "<polyline clip-path=\"url(#clip225)\" style=\"stroke:#000000; stroke-linecap:round; stroke-linejoin:round; stroke-width:2; stroke-opacity:0.1; fill:none\" points=\"1360.36,1319.46 2352.76,1319.46 \"/>\n",
       "<polyline clip-path=\"url(#clip225)\" style=\"stroke:#000000; stroke-linecap:round; stroke-linejoin:round; stroke-width:2; stroke-opacity:0.1; fill:none\" points=\"1360.36,1170.57 2352.76,1170.57 \"/>\n",
       "<polyline clip-path=\"url(#clip225)\" style=\"stroke:#000000; stroke-linecap:round; stroke-linejoin:round; stroke-width:2; stroke-opacity:0.1; fill:none\" points=\"1360.36,1021.67 2352.76,1021.67 \"/>\n",
       "<polyline clip-path=\"url(#clip225)\" style=\"stroke:#000000; stroke-linecap:round; stroke-linejoin:round; stroke-width:2; stroke-opacity:0.1; fill:none\" points=\"1360.36,872.779 2352.76,872.779 \"/>\n",
       "<polyline clip-path=\"url(#clip220)\" style=\"stroke:#000000; stroke-linecap:round; stroke-linejoin:round; stroke-width:4; stroke-opacity:1; fill:none\" points=\"1360.36,1486.45 1360.36,847.244 \"/>\n",
       "<polyline clip-path=\"url(#clip220)\" style=\"stroke:#000000; stroke-linecap:round; stroke-linejoin:round; stroke-width:4; stroke-opacity:1; fill:none\" points=\"1360.36,1468.36 1379.26,1468.36 \"/>\n",
       "<polyline clip-path=\"url(#clip220)\" style=\"stroke:#000000; stroke-linecap:round; stroke-linejoin:round; stroke-width:4; stroke-opacity:1; fill:none\" points=\"1360.36,1319.46 1379.26,1319.46 \"/>\n",
       "<polyline clip-path=\"url(#clip220)\" style=\"stroke:#000000; stroke-linecap:round; stroke-linejoin:round; stroke-width:4; stroke-opacity:1; fill:none\" points=\"1360.36,1170.57 1379.26,1170.57 \"/>\n",
       "<polyline clip-path=\"url(#clip220)\" style=\"stroke:#000000; stroke-linecap:round; stroke-linejoin:round; stroke-width:4; stroke-opacity:1; fill:none\" points=\"1360.36,1021.67 1379.26,1021.67 \"/>\n",
       "<polyline clip-path=\"url(#clip220)\" style=\"stroke:#000000; stroke-linecap:round; stroke-linejoin:round; stroke-width:4; stroke-opacity:1; fill:none\" points=\"1360.36,872.779 1379.26,872.779 \"/>\n",
       "<path clip-path=\"url(#clip220)\" d=\"M1312.42 1454.16 Q1308.8 1454.16 1306.98 1457.72 Q1305.17 1461.26 1305.17 1468.39 Q1305.17 1475.5 1306.98 1479.06 Q1308.8 1482.6 1312.42 1482.6 Q1316.05 1482.6 1317.86 1479.06 Q1319.68 1475.5 1319.68 1468.39 Q1319.68 1461.26 1317.86 1457.72 Q1316.05 1454.16 1312.42 1454.16 M1312.42 1450.45 Q1318.23 1450.45 1321.28 1455.06 Q1324.36 1459.64 1324.36 1468.39 Q1324.36 1477.12 1321.28 1481.73 Q1318.23 1486.31 1312.42 1486.31 Q1306.61 1486.31 1303.53 1481.73 Q1300.47 1477.12 1300.47 1468.39 Q1300.47 1459.64 1303.53 1455.06 Q1306.61 1450.45 1312.42 1450.45 Z\" fill=\"#000000\" fill-rule=\"nonzero\" fill-opacity=\"1\" /><path clip-path=\"url(#clip220)\" d=\"M1276.28 1332.81 L1292.6 1332.81 L1292.6 1336.74 L1270.66 1336.74 L1270.66 1332.81 Q1273.32 1330.05 1277.9 1325.42 Q1282.51 1320.77 1283.69 1319.43 Q1285.93 1316.9 1286.81 1315.17 Q1287.72 1313.41 1287.72 1311.72 Q1287.72 1308.97 1285.77 1307.23 Q1283.85 1305.49 1280.75 1305.49 Q1278.55 1305.49 1276.1 1306.26 Q1273.67 1307.02 1270.89 1308.57 L1270.89 1303.85 Q1273.71 1302.72 1276.17 1302.14 Q1278.62 1301.56 1280.66 1301.56 Q1286.03 1301.56 1289.22 1304.24 Q1292.42 1306.93 1292.42 1311.42 Q1292.42 1313.55 1291.61 1315.47 Q1290.82 1317.37 1288.71 1319.96 Q1288.13 1320.63 1285.03 1323.85 Q1281.93 1327.04 1276.28 1332.81 Z\" fill=\"#000000\" fill-rule=\"nonzero\" fill-opacity=\"1\" /><path clip-path=\"url(#clip220)\" d=\"M1312.42 1305.26 Q1308.8 1305.26 1306.98 1308.83 Q1305.17 1312.37 1305.17 1319.5 Q1305.17 1326.6 1306.98 1330.17 Q1308.8 1333.71 1312.42 1333.71 Q1316.05 1333.71 1317.86 1330.17 Q1319.68 1326.6 1319.68 1319.5 Q1319.68 1312.37 1317.86 1308.83 Q1316.05 1305.26 1312.42 1305.26 M1312.42 1301.56 Q1318.23 1301.56 1321.28 1306.16 Q1324.36 1310.75 1324.36 1319.5 Q1324.36 1328.22 1321.28 1332.83 Q1318.23 1337.41 1312.42 1337.41 Q1306.61 1337.41 1303.53 1332.83 Q1300.47 1328.22 1300.47 1319.5 Q1300.47 1310.75 1303.53 1306.16 Q1306.61 1301.56 1312.42 1301.56 Z\" fill=\"#000000\" fill-rule=\"nonzero\" fill-opacity=\"1\" /><path clip-path=\"url(#clip220)\" d=\"M1285.1 1157.36 L1273.3 1175.81 L1285.1 1175.81 L1285.1 1157.36 M1283.87 1153.29 L1289.75 1153.29 L1289.75 1175.81 L1294.68 1175.81 L1294.68 1179.7 L1289.75 1179.7 L1289.75 1187.85 L1285.1 1187.85 L1285.1 1179.7 L1269.5 1179.7 L1269.5 1175.19 L1283.87 1153.29 Z\" fill=\"#000000\" fill-rule=\"nonzero\" fill-opacity=\"1\" /><path clip-path=\"url(#clip220)\" d=\"M1312.42 1156.37 Q1308.8 1156.37 1306.98 1159.93 Q1305.17 1163.47 1305.17 1170.6 Q1305.17 1177.71 1306.98 1181.27 Q1308.8 1184.82 1312.42 1184.82 Q1316.05 1184.82 1317.86 1181.27 Q1319.68 1177.71 1319.68 1170.6 Q1319.68 1163.47 1317.86 1159.93 Q1316.05 1156.37 1312.42 1156.37 M1312.42 1152.66 Q1318.23 1152.66 1321.28 1157.27 Q1324.36 1161.85 1324.36 1170.6 Q1324.36 1179.33 1321.28 1183.94 Q1318.23 1188.52 1312.42 1188.52 Q1306.61 1188.52 1303.53 1183.94 Q1300.47 1179.33 1300.47 1170.6 Q1300.47 1161.85 1303.53 1157.27 Q1306.61 1152.66 1312.42 1152.66 Z\" fill=\"#000000\" fill-rule=\"nonzero\" fill-opacity=\"1\" /><path clip-path=\"url(#clip220)\" d=\"M1282.83 1019.81 Q1279.68 1019.81 1277.83 1021.96 Q1276 1024.12 1276 1027.87 Q1276 1031.59 1277.83 1033.77 Q1279.68 1035.92 1282.83 1035.92 Q1285.98 1035.92 1287.81 1033.77 Q1289.66 1031.59 1289.66 1027.87 Q1289.66 1024.12 1287.81 1021.96 Q1285.98 1019.81 1282.83 1019.81 M1292.11 1005.16 L1292.11 1009.42 Q1290.36 1008.58 1288.55 1008.14 Q1286.77 1007.7 1285.01 1007.7 Q1280.38 1007.7 1277.92 1010.83 Q1275.49 1013.95 1275.15 1020.27 Q1276.51 1018.26 1278.57 1017.19 Q1280.63 1016.11 1283.11 1016.11 Q1288.32 1016.11 1291.33 1019.28 Q1294.36 1022.43 1294.36 1027.87 Q1294.36 1033.19 1291.21 1036.41 Q1288.06 1039.63 1282.83 1039.63 Q1276.84 1039.63 1273.67 1035.04 Q1270.49 1030.44 1270.49 1021.71 Q1270.49 1013.51 1274.38 1008.65 Q1278.27 1003.77 1284.82 1003.77 Q1286.58 1003.77 1288.36 1004.12 Q1290.17 1004.46 1292.11 1005.16 Z\" fill=\"#000000\" fill-rule=\"nonzero\" fill-opacity=\"1\" /><path clip-path=\"url(#clip220)\" d=\"M1312.42 1007.47 Q1308.8 1007.47 1306.98 1011.04 Q1305.17 1014.58 1305.17 1021.71 Q1305.17 1028.82 1306.98 1032.38 Q1308.8 1035.92 1312.42 1035.92 Q1316.05 1035.92 1317.86 1032.38 Q1319.68 1028.82 1319.68 1021.71 Q1319.68 1014.58 1317.86 1011.04 Q1316.05 1007.47 1312.42 1007.47 M1312.42 1003.77 Q1318.23 1003.77 1321.28 1008.38 Q1324.36 1012.96 1324.36 1021.71 Q1324.36 1030.44 1321.28 1035.04 Q1318.23 1039.63 1312.42 1039.63 Q1306.61 1039.63 1303.53 1035.04 Q1300.47 1030.44 1300.47 1021.71 Q1300.47 1012.96 1303.53 1008.38 Q1306.61 1003.77 1312.42 1003.77 Z\" fill=\"#000000\" fill-rule=\"nonzero\" fill-opacity=\"1\" /><path clip-path=\"url(#clip220)\" d=\"M1282.25 873.648 Q1278.92 873.648 1277 875.43 Q1275.1 877.212 1275.1 880.337 Q1275.1 883.462 1277 885.245 Q1278.92 887.027 1282.25 887.027 Q1285.59 887.027 1287.51 885.245 Q1289.43 883.439 1289.43 880.337 Q1289.43 877.212 1287.51 875.43 Q1285.61 873.648 1282.25 873.648 M1277.58 871.657 Q1274.57 870.916 1272.88 868.856 Q1271.21 866.796 1271.21 863.833 Q1271.21 859.689 1274.15 857.282 Q1277.11 854.874 1282.25 854.874 Q1287.42 854.874 1290.36 857.282 Q1293.3 859.689 1293.3 863.833 Q1293.3 866.796 1291.61 868.856 Q1289.94 870.916 1286.95 871.657 Q1290.33 872.444 1292.21 874.735 Q1294.11 877.027 1294.11 880.337 Q1294.11 885.36 1291.03 888.046 Q1287.97 890.731 1282.25 890.731 Q1276.54 890.731 1273.46 888.046 Q1270.4 885.36 1270.4 880.337 Q1270.4 877.027 1272.3 874.735 Q1274.2 872.444 1277.58 871.657 M1275.86 864.273 Q1275.86 866.958 1277.53 868.462 Q1279.22 869.967 1282.25 869.967 Q1285.26 869.967 1286.95 868.462 Q1288.67 866.958 1288.67 864.273 Q1288.67 861.587 1286.95 860.083 Q1285.26 858.578 1282.25 858.578 Q1279.22 858.578 1277.53 860.083 Q1275.86 861.587 1275.86 864.273 Z\" fill=\"#000000\" fill-rule=\"nonzero\" fill-opacity=\"1\" /><path clip-path=\"url(#clip220)\" d=\"M1312.42 858.578 Q1308.8 858.578 1306.98 862.143 Q1305.17 865.685 1305.17 872.814 Q1305.17 879.921 1306.98 883.485 Q1308.8 887.027 1312.42 887.027 Q1316.05 887.027 1317.86 883.485 Q1319.68 879.921 1319.68 872.814 Q1319.68 865.685 1317.86 862.143 Q1316.05 858.578 1312.42 858.578 M1312.42 854.874 Q1318.23 854.874 1321.28 859.481 Q1324.36 864.064 1324.36 872.814 Q1324.36 881.541 1321.28 886.147 Q1318.23 890.731 1312.42 890.731 Q1306.61 890.731 1303.53 886.147 Q1300.47 881.541 1300.47 872.814 Q1300.47 864.064 1303.53 859.481 Q1306.61 854.874 1312.42 854.874 Z\" fill=\"#000000\" fill-rule=\"nonzero\" fill-opacity=\"1\" /><polyline clip-path=\"url(#clip225)\" style=\"stroke:#009af9; stroke-linecap:round; stroke-linejoin:round; stroke-width:4; stroke-opacity:1; fill:none\" points=\"1388.45,865.335 1404.05,941.806 1419.65,1010.76 1435.26,1072.71 1450.86,1128.15 1466.47,1177.55 1482.07,1221.36 1497.67,1260.02 1513.28,1293.96 1528.88,1323.57 1544.48,1349.24 1560.09,1371.34 1575.69,1390.21 1591.29,1406.18 1606.9,1419.57 1622.5,1430.67 1638.11,1439.76 1653.71,1447.09 1669.31,1452.92 1684.92,1457.46 1700.52,1460.91 1716.12,1463.47 1731.73,1465.31 1747.33,1466.57 1762.94,1467.39 1778.54,1467.89 1794.14,1468.17 1809.75,1468.3 1825.35,1468.35 1840.95,1468.36 1856.56,1468.36 1872.16,1468.36 1887.77,1468.35 1903.37,1468.3 1918.97,1468.17 1934.58,1467.89 1950.18,1467.39 1965.78,1466.57 1981.39,1465.31 1996.99,1463.47 2012.59,1460.91 2028.2,1457.46 2043.8,1452.92 2059.41,1447.09 2075.01,1439.76 2090.61,1430.67 2106.22,1419.57 2121.82,1406.18 2137.42,1390.21 2153.03,1371.34 2168.63,1349.24 2184.24,1323.57 2199.84,1293.96 2215.44,1260.02 2231.05,1221.36 2246.65,1177.55 2262.25,1128.15 2277.86,1072.71 2293.46,1010.76 2309.07,941.806 2324.67,865.335 \"/>\n",
       "</svg>\n"
      ]
     },
     "execution_count": 31,
     "metadata": {},
     "output_type": "execute_result"
    }
   ],
   "source": [
    "gr()\n",
    "p1 = plot(x,x)\n",
    "p2 = plot(x, x.^2)\n",
    "p3 = plot(x, x.^3)\n",
    "p4 = plot(x, x.^4)\n",
    "plot(p1,p2,p3,p4, layout=(2,2), legend=false)"
   ]
  },
  {
   "cell_type": "markdown",
   "id": "96694a74-3165-48c9-a29b-ff24b8aea6bd",
   "metadata": {},
   "source": [
    "### **Multiple dispatch**\n",
    "\n",
    "Sometimes we want our function to behave slightly different based on the type of data / parameter passed in\n",
    "\n",
    "First we will learn to do so with `+`, we can see with `methods(+)` the methods available for `+`."
   ]
  },
  {
   "cell_type": "code",
   "execution_count": 32,
   "id": "dc5c6dff-18eb-476e-a0d3-a2b9052bf708",
   "metadata": {},
   "outputs": [
    {
     "data": {
      "text/html": [
       "+(x::<b>T</b>, y::<b>T</b>)<i> where T<:Union{Int128, Int16, Int32, Int64, Int8, UInt128, UInt16, UInt32, UInt64, UInt8}</i> in Base at <a href=\"https://github.com/JuliaLang/julia/tree/147bdf428cd14c979202678127d1618e425912d6/base/int.jl#L87\" target=\"_blank\">int.jl:87</a>"
      ],
      "text/plain": [
       "+(\u001b[90mx\u001b[39m::\u001b[1mT\u001b[22m, \u001b[90my\u001b[39m::\u001b[1mT\u001b[22m) where T<:Union{Int128, Int16, Int32, Int64, Int8, UInt128, UInt16, UInt32, UInt64, UInt8}\n",
       "\u001b[90m     @\u001b[39m \u001b[90mBase\u001b[39m \u001b[90m\u001b[4mint.jl:87\u001b[24m\u001b[39m"
      ]
     },
     "execution_count": 32,
     "metadata": {},
     "output_type": "execute_result"
    }
   ],
   "source": [
    "@which 3 + 3"
   ]
  },
  {
   "cell_type": "code",
   "execution_count": 33,
   "id": "d1cc28f7-6ff7-4216-957c-e204ebf6f899",
   "metadata": {},
   "outputs": [
    {
     "data": {
      "text/html": [
       "+(x::<b>T</b>, y::<b>T</b>)<i> where T<:Union{Float16, Float32, Float64}</i> in Base at <a href=\"https://github.com/JuliaLang/julia/tree/147bdf428cd14c979202678127d1618e425912d6/base/float.jl#L408\" target=\"_blank\">float.jl:408</a>"
      ],
      "text/plain": [
       "+(\u001b[90mx\u001b[39m::\u001b[1mT\u001b[22m, \u001b[90my\u001b[39m::\u001b[1mT\u001b[22m) where T<:Union{Float16, Float32, Float64}\n",
       "\u001b[90m     @\u001b[39m \u001b[90mBase\u001b[39m \u001b[90m\u001b[4mfloat.jl:408\u001b[24m\u001b[39m"
      ]
     },
     "execution_count": 33,
     "metadata": {},
     "output_type": "execute_result"
    }
   ],
   "source": [
    "@which 3.0+3.0"
   ]
  },
  {
   "cell_type": "markdown",
   "id": "2b6de42e-4e2f-4cea-8472-2395ea403436",
   "metadata": {},
   "source": [
    "Both above methods can help us see which behaviour of the method it is implementing such as the one wtih ints or floats\n",
    "\n",
    "We can override the methods such as making the `+` work as it does in python, we will have to first import the base class for it though"
   ]
  },
  {
   "cell_type": "code",
   "execution_count": 34,
   "id": "9caee3da-8577-445d-a5bf-98d2e7699c29",
   "metadata": {},
   "outputs": [
    {
     "ename": "LoadError",
     "evalue": "MethodError: no method matching +(::String, ::String)\nString concatenation is performed with \u001b[36m*\u001b[39m (See also: https://docs.julialang.org/en/v1/manual/strings/#man-concatenation).\n\n\u001b[0mClosest candidates are:\n\u001b[0m  +(::Any, ::Any, \u001b[91m::Any\u001b[39m, \u001b[91m::Any...\u001b[39m)\n\u001b[0m\u001b[90m   @\u001b[39m \u001b[90mBase\u001b[39m \u001b[90m\u001b[4moperators.jl:578\u001b[24m\u001b[39m\n",
     "output_type": "error",
     "traceback": [
      "MethodError: no method matching +(::String, ::String)\nString concatenation is performed with \u001b[36m*\u001b[39m (See also: https://docs.julialang.org/en/v1/manual/strings/#man-concatenation).\n\n\u001b[0mClosest candidates are:\n\u001b[0m  +(::Any, ::Any, \u001b[91m::Any\u001b[39m, \u001b[91m::Any...\u001b[39m)\n\u001b[0m\u001b[90m   @\u001b[39m \u001b[90mBase\u001b[39m \u001b[90m\u001b[4moperators.jl:578\u001b[24m\u001b[39m\n",
      "",
      "Stacktrace:",
      " [1] top-level scope",
      "   @ In[34]:1"
     ]
    }
   ],
   "source": [
    "\"hello\" +\" world!\""
   ]
  },
  {
   "cell_type": "code",
   "execution_count": 35,
   "id": "ba41c7ac-be2e-4d0e-8627-510b137a678c",
   "metadata": {},
   "outputs": [],
   "source": [
    "import Base:+"
   ]
  },
  {
   "cell_type": "code",
   "execution_count": 36,
   "id": "2de5fd2c-659d-4e9c-b82f-cc9957d7f915",
   "metadata": {},
   "outputs": [
    {
     "data": {
      "text/plain": [
       "+ (generic function with 230 methods)"
      ]
     },
     "execution_count": 36,
     "metadata": {},
     "output_type": "execute_result"
    }
   ],
   "source": [
    "+(x::String, y::String) = string(x,y)"
   ]
  },
  {
   "cell_type": "code",
   "execution_count": 37,
   "id": "b53f0735-8e2a-46c8-96c8-8258213eb2bd",
   "metadata": {},
   "outputs": [
    {
     "data": {
      "text/plain": [
       "\"hello world!\""
      ]
     },
     "execution_count": 37,
     "metadata": {},
     "output_type": "execute_result"
    }
   ],
   "source": [
    "\"hello\" + \" world!\""
   ]
  },
  {
   "cell_type": "markdown",
   "id": "6dff4a75-82d6-46f3-b673-67d72f83c48b",
   "metadata": {
    "jp-MarkdownHeadingCollapsed": true,
    "tags": []
   },
   "source": [
    "## **Basic linear algebra**\n",
    "\n",
    "We are going to be using this for computing basic linear algebra such as multiplying vectors and matrices or solving linear systems by \"Dividing them\"\n",
    "\n",
    "Careful with references as copy and assigning it is NOT the same thing"
   ]
  },
  {
   "cell_type": "code",
   "execution_count": 38,
   "id": "cdf95221-16ec-48a0-bee4-44b7f0f0fdd9",
   "metadata": {},
   "outputs": [
    {
     "data": {
      "text/plain": [
       "3×3 Matrix{Int64}:\n",
       " 4  3  4\n",
       " 1  3  2\n",
       " 1  3  2"
      ]
     },
     "execution_count": 38,
     "metadata": {},
     "output_type": "execute_result"
    }
   ],
   "source": [
    "A = rand(1:4, 3, 3)"
   ]
  },
  {
   "cell_type": "code",
   "execution_count": 39,
   "id": "cca97917-874b-4521-a205-20b34bea0e5f",
   "metadata": {},
   "outputs": [
    {
     "data": {
      "text/plain": [
       "3×6 Matrix{Int64}:\n",
       " 4  3  4  4  3  4\n",
       " 1  3  2  1  3  2\n",
       " 1  3  2  1  3  2"
      ]
     },
     "execution_count": 39,
     "metadata": {},
     "output_type": "execute_result"
    }
   ],
   "source": [
    "B = A\n",
    "C = copy(A)\n",
    "[B C] # makes a new matrix of 6 x 3"
   ]
  },
  {
   "cell_type": "code",
   "execution_count": 40,
   "id": "16f279c3-e4a2-41b7-82dd-2e6de5a5cbac",
   "metadata": {
    "tags": []
   },
   "outputs": [
    {
     "data": {
      "text/plain": [
       "3×6 Matrix{Int64}:\n",
       " 17  3  4  4  3  4\n",
       "  1  3  2  1  3  2\n",
       "  1  3  2  1  3  2"
      ]
     },
     "execution_count": 40,
     "metadata": {},
     "output_type": "execute_result"
    }
   ],
   "source": [
    "A[1] = 17\n",
    "[B C] # B copied the change but C is its own thing"
   ]
  },
  {
   "cell_type": "markdown",
   "id": "ffe707b7-3917-4676-ad05-a75bbff0beca",
   "metadata": {},
   "source": [
    "Can do linear algebra matrix like MATLAB"
   ]
  },
  {
   "cell_type": "code",
   "execution_count": 41,
   "id": "1275d306-0e8c-4a49-ab1e-fe6a510903a8",
   "metadata": {},
   "outputs": [
    {
     "data": {
      "text/plain": [
       "1×3 adjoint(::Vector{Float64}) with eltype Float64:\n",
       " 24.0  6.0  6.0"
      ]
     },
     "execution_count": 41,
     "metadata": {},
     "output_type": "execute_result"
    }
   ],
   "source": [
    "x = ones(3)\n",
    "b = A*x\n",
    "b' # transpose it"
   ]
  },
  {
   "cell_type": "code",
   "execution_count": 42,
   "id": "303dff55-14a2-4cf3-b6e4-468f03892684",
   "metadata": {},
   "outputs": [
    {
     "ename": "LoadError",
     "evalue": "LinearAlgebra.SingularException(3)",
     "output_type": "error",
     "traceback": [
      "LinearAlgebra.SingularException(3)",
      "",
      "Stacktrace:",
      " [1] checknonsingular",
      "   @ C:\\Users\\Pushya Jain\\AppData\\Local\\Programs\\Julia-1.9.1\\share\\julia\\stdlib\\v1.9\\LinearAlgebra\\src\\factorization.jl:19 [inlined]",
      " [2] checknonsingular",
      "   @ C:\\Users\\Pushya Jain\\AppData\\Local\\Programs\\Julia-1.9.1\\share\\julia\\stdlib\\v1.9\\LinearAlgebra\\src\\factorization.jl:22 [inlined]",
      " [3] #lu!#170",
      "   @ C:\\Users\\Pushya Jain\\AppData\\Local\\Programs\\Julia-1.9.1\\share\\julia\\stdlib\\v1.9\\LinearAlgebra\\src\\lu.jl:82 [inlined]",
      " [4] lu!",
      "   @ C:\\Users\\Pushya Jain\\AppData\\Local\\Programs\\Julia-1.9.1\\share\\julia\\stdlib\\v1.9\\LinearAlgebra\\src\\lu.jl:80 [inlined]",
      " [5] lu(A::Matrix{Int64}, pivot::LinearAlgebra.RowMaximum; check::Bool)",
      "   @ LinearAlgebra C:\\Users\\Pushya Jain\\AppData\\Local\\Programs\\Julia-1.9.1\\share\\julia\\stdlib\\v1.9\\LinearAlgebra\\src\\lu.jl:299",
      " [6] lu (repeats 2 times)",
      "   @ C:\\Users\\Pushya Jain\\AppData\\Local\\Programs\\Julia-1.9.1\\share\\julia\\stdlib\\v1.9\\LinearAlgebra\\src\\lu.jl:298 [inlined]",
      " [7] \\(A::Matrix{Int64}, B::Vector{Float64})",
      "   @ LinearAlgebra C:\\Users\\Pushya Jain\\AppData\\Local\\Programs\\Julia-1.9.1\\share\\julia\\stdlib\\v1.9\\LinearAlgebra\\src\\generic.jl:1115",
      " [8] top-level scope",
      "   @ In[42]:2"
     ]
    }
   ],
   "source": [
    "# solving linear systems\n",
    "A\\b"
   ]
  },
  {
   "cell_type": "markdown",
   "id": "d61a4dfb-aaeb-4293-a6ff-978fdf645d05",
   "metadata": {},
   "source": [
    "#### **Overdetermined solution**\n",
    "\n",
    "In an overdetermined system, A is the tall matrix and it calculates the least squares solution for it"
   ]
  },
  {
   "cell_type": "code",
   "execution_count": 43,
   "id": "0e7a9cf7-d63e-4660-a2f2-ca5f1033d5dd",
   "metadata": {},
   "outputs": [
    {
     "data": {
      "text/plain": [
       "3×2 Matrix{Int64}:\n",
       " 17  3\n",
       "  1  3\n",
       "  1  3"
      ]
     },
     "metadata": {},
     "output_type": "display_data"
    },
    {
     "data": {
      "text/plain": [
       "2-element Vector{Float64}:\n",
       " 1.125\n",
       " 1.625"
      ]
     },
     "execution_count": 43,
     "metadata": {},
     "output_type": "execute_result"
    }
   ],
   "source": [
    "Atall = A[:,1:2]\n",
    "display(Atall)\n",
    "Atall\\b"
   ]
  },
  {
   "cell_type": "markdown",
   "id": "f6e7d886-c391-44a1-a788-0547759fca91",
   "metadata": {},
   "source": [
    "It also works for rank deficient problems"
   ]
  },
  {
   "cell_type": "code",
   "execution_count": 44,
   "id": "eab0f2f1-f783-4b05-8fe6-e5a67e9de065",
   "metadata": {},
   "outputs": [
    {
     "data": {
      "text/plain": [
       "3×3 Matrix{Float64}:\n",
       " -0.144084   0.763606   0.18633\n",
       " -0.161968  -1.4361    -1.4453\n",
       " -0.922201   2.29223    0.0610996"
      ]
     },
     "execution_count": 44,
     "metadata": {},
     "output_type": "execute_result"
    }
   ],
   "source": [
    "A = randn(3,3)"
   ]
  },
  {
   "cell_type": "code",
   "execution_count": 45,
   "id": "6ce737a5-b985-4632-bcd0-2a494825397a",
   "metadata": {},
   "outputs": [
    {
     "data": {
      "text/plain": [
       "2-element Vector{Float64}:\n",
       " -5.550750626705774\n",
       " -5.550750626705776"
      ]
     },
     "execution_count": 45,
     "metadata": {},
     "output_type": "execute_result"
    }
   ],
   "source": [
    "[A[:,1] A[:,1]]\\b # rank deficient least squares problem"
   ]
  },
  {
   "cell_type": "markdown",
   "id": "3847428b-ca42-4cb6-ab09-3abd0e07bfd3",
   "metadata": {},
   "source": [
    "#### **Undetermined system**\n",
    "\n",
    "When A is a wide matrix, it can return the minimum norm solution"
   ]
  },
  {
   "cell_type": "code",
   "execution_count": 46,
   "id": "beacb54b-4142-4266-bf2e-671ed40e9bcb",
   "metadata": {},
   "outputs": [
    {
     "data": {
      "text/plain": [
       "2×3 Matrix{Float64}:\n",
       " -0.144084   0.763606   0.18633\n",
       " -0.161968  -1.4361    -1.4453"
      ]
     },
     "metadata": {},
     "output_type": "display_data"
    },
    {
     "data": {
      "text/plain": [
       "3-element Vector{Float64}:\n",
       " -24.789624583882375\n",
       "  35.75708451838322\n",
       " -36.90279332789297"
      ]
     },
     "execution_count": 46,
     "metadata": {},
     "output_type": "execute_result"
    }
   ],
   "source": [
    "Awide = A[1:2,:] # wide matrix\n",
    "display(Awide)\n",
    "Awide\\b[1:2] # making b shorter too"
   ]
  },
  {
   "cell_type": "markdown",
   "id": "7685267d-879c-46e2-9df6-47ae336729bf",
   "metadata": {},
   "source": [
    "#### **Julia is fast**\n",
    "\n",
    "Julia is a lot faster than python for numeric scientific computation\n",
    "\n",
    "It is faster than both python and numpy python"
   ]
  },
  {
   "cell_type": "code",
   "execution_count": 47,
   "id": "d1b529da-9024-4e0e-892b-53bc6e79f6ae",
   "metadata": {},
   "outputs": [
    {
     "name": "stderr",
     "output_type": "stream",
     "text": [
      "\u001b[32m\u001b[1m   Resolving\u001b[22m\u001b[39m package versions...\n",
      "\u001b[32m\u001b[1m  No Changes\u001b[22m\u001b[39m to `C:\\Users\\Pushya Jain\\.julia\\environments\\v1.9\\Project.toml`\n",
      "\u001b[32m\u001b[1m  No Changes\u001b[22m\u001b[39m to `C:\\Users\\Pushya Jain\\.julia\\environments\\v1.9\\Manifest.toml`\n"
     ]
    }
   ],
   "source": [
    "Pkg.add(\"BenchmarkTools\")\n",
    "using BenchmarkTools"
   ]
  },
  {
   "cell_type": "code",
   "execution_count": 48,
   "id": "ec4a46d3-3f39-4e89-aed6-9d21f6988192",
   "metadata": {},
   "outputs": [
    {
     "data": {
      "text/plain": [
       "10000000"
      ]
     },
     "execution_count": 48,
     "metadata": {},
     "output_type": "execute_result"
    }
   ],
   "source": [
    "a = rand(10^7)\n",
    "length(a)"
   ]
  },
  {
   "cell_type": "code",
   "execution_count": 49,
   "id": "1fdaa270-bc72-47f1-b477-d956d15aa41d",
   "metadata": {},
   "outputs": [
    {
     "data": {
      "text/plain": [
       "BenchmarkTools.Trial: 1241 samples with 1 evaluation.\n",
       " Range \u001b[90m(\u001b[39m\u001b[36m\u001b[1mmin\u001b[22m\u001b[39m … \u001b[35mmax\u001b[39m\u001b[90m):  \u001b[39m\u001b[36m\u001b[1m3.708 ms\u001b[22m\u001b[39m … \u001b[35m  5.526 ms\u001b[39m  \u001b[90m┊\u001b[39m GC \u001b[90m(\u001b[39mmin … max\u001b[90m): \u001b[39m0.00% … 0.00%\n",
       " Time  \u001b[90m(\u001b[39m\u001b[34m\u001b[1mmedian\u001b[22m\u001b[39m\u001b[90m):     \u001b[39m\u001b[34m\u001b[1m3.958 ms               \u001b[22m\u001b[39m\u001b[90m┊\u001b[39m GC \u001b[90m(\u001b[39mmedian\u001b[90m):    \u001b[39m0.00%\n",
       " Time  \u001b[90m(\u001b[39m\u001b[32m\u001b[1mmean\u001b[22m\u001b[39m ± \u001b[32mσ\u001b[39m\u001b[90m):   \u001b[39m\u001b[32m\u001b[1m4.014 ms\u001b[22m\u001b[39m ± \u001b[32m214.344 μs\u001b[39m  \u001b[90m┊\u001b[39m GC \u001b[90m(\u001b[39mmean ± σ\u001b[90m):  \u001b[39m0.00% ± 0.00%\n",
       "\n",
       "  \u001b[39m \u001b[39m \u001b[39m \u001b[39m \u001b[39m \u001b[39m \u001b[39m \u001b[39m▃\u001b[39m▆\u001b[39m█\u001b[39m█\u001b[39m█\u001b[39m▆\u001b[34m▆\u001b[39m\u001b[39m▅\u001b[39m▃\u001b[32m \u001b[39m\u001b[39m \u001b[39m \u001b[39m \u001b[39m \u001b[39m \u001b[39m \u001b[39m \u001b[39m \u001b[39m \u001b[39m \u001b[39m \u001b[39m \u001b[39m \u001b[39m \u001b[39m \u001b[39m \u001b[39m \u001b[39m \u001b[39m \u001b[39m \u001b[39m \u001b[39m \u001b[39m \u001b[39m \u001b[39m \u001b[39m \u001b[39m \u001b[39m \u001b[39m \u001b[39m \u001b[39m \u001b[39m \u001b[39m \u001b[39m \u001b[39m \u001b[39m \u001b[39m \u001b[39m \u001b[39m \u001b[39m \u001b[39m \u001b[39m \u001b[39m \u001b[39m \n",
       "  \u001b[39m▃\u001b[39m▄\u001b[39m▃\u001b[39m▄\u001b[39m▆\u001b[39m█\u001b[39m▇\u001b[39m█\u001b[39m█\u001b[39m█\u001b[39m█\u001b[39m█\u001b[39m█\u001b[34m█\u001b[39m\u001b[39m█\u001b[39m█\u001b[32m█\u001b[39m\u001b[39m█\u001b[39m█\u001b[39m▇\u001b[39m▆\u001b[39m▇\u001b[39m▄\u001b[39m▅\u001b[39m▄\u001b[39m▄\u001b[39m▄\u001b[39m▄\u001b[39m▃\u001b[39m▃\u001b[39m▃\u001b[39m▄\u001b[39m▃\u001b[39m▃\u001b[39m▃\u001b[39m▃\u001b[39m▃\u001b[39m▃\u001b[39m▃\u001b[39m▃\u001b[39m▂\u001b[39m▃\u001b[39m▂\u001b[39m▂\u001b[39m▂\u001b[39m▂\u001b[39m▁\u001b[39m▂\u001b[39m▂\u001b[39m▃\u001b[39m▂\u001b[39m▂\u001b[39m▂\u001b[39m▂\u001b[39m▁\u001b[39m▂\u001b[39m▁\u001b[39m▂\u001b[39m▂\u001b[39m \u001b[39m▄\n",
       "  3.71 ms\u001b[90m         Histogram: frequency by time\u001b[39m        4.84 ms \u001b[0m\u001b[1m<\u001b[22m\n",
       "\n",
       " Memory estimate\u001b[90m: \u001b[39m\u001b[33m0 bytes\u001b[39m, allocs estimate\u001b[90m: \u001b[39m\u001b[33m0\u001b[39m."
      ]
     },
     "execution_count": 49,
     "metadata": {},
     "output_type": "execute_result"
    }
   ],
   "source": [
    "j_bench = @benchmark sum($a)"
   ]
  },
  {
   "cell_type": "code",
   "execution_count": 50,
   "id": "48824384-7e85-4810-ad74-e4e68b9cc109",
   "metadata": {},
   "outputs": [
    {
     "data": {
      "text/plain": [
       "3-element Vector{Pair{String, Real}}:\n",
       " \"Julia builtin\" => 6.8\n",
       "  \"Python numpy\" => 7\n",
       "             \"C\" => 11.9"
      ]
     },
     "execution_count": 50,
     "metadata": {},
     "output_type": "execute_result"
    }
   ],
   "source": [
    "#Based on the test run, it runs as following\n",
    "\n",
    "benchmarks = Dict(\"C\" => 11.9,\n",
    "            \"Julia builtin\" => 6.8,\n",
    "            \"Julia hand written\" => 12.6,\n",
    "            \"Python built in\" => 155.3,\n",
    "            \"Python hand written\" => 480.4,\n",
    "            \"Python numpy\" => 7)\n",
    "\n",
    "sorted_dict = sort(collect(benchmarks), by = x -> x[2], rev = false)\n",
    "\n",
    "top_3 = first(sorted_dict, 3)"
   ]
  },
  {
   "cell_type": "markdown",
   "id": "e186aec4-2222-45d5-9ba2-dd76002eb8af",
   "metadata": {},
   "source": [
    "### **Benchmark conclusion**\n",
    "\n",
    "So C is fast $<$ Python numpy is faster $<$ Julia built in is the fastest"
   ]
  },
  {
   "cell_type": "markdown",
   "id": "d1c50780-4d41-4afa-aff0-fcdbe8407052",
   "metadata": {
    "jp-MarkdownHeadingCollapsed": true,
    "tags": []
   },
   "source": [
    "## **Advanced Linear Algebra**"
   ]
  },
  {
   "cell_type": "markdown",
   "id": "1b453bb4-b0de-4f5b-9ffe-f486c1cc15eb",
   "metadata": {},
   "source": [
    "So we can also perform factorisations and SVD in Julia quickly and eigen value decomposition"
   ]
  },
  {
   "cell_type": "code",
   "execution_count": 51,
   "id": "20da650d-3751-4882-bdf6-c2ff64229c12",
   "metadata": {},
   "outputs": [
    {
     "data": {
      "text/plain": [
       "3×3 Matrix{Int64}:\n",
       " 54   83  -78\n",
       " 55  -71   26\n",
       " 27  -92   -7"
      ]
     },
     "execution_count": 51,
     "metadata": {},
     "output_type": "execute_result"
    }
   ],
   "source": [
    "A = rand(-100:100,3,3)"
   ]
  },
  {
   "cell_type": "markdown",
   "id": "aed203f6-b678-4726-becf-d1065e5c4c1f",
   "metadata": {},
   "source": [
    "#### **LU factorisation**\n",
    "Generate a matrix A = LU such that L is lower traingular matrix with 1s on the diagonal and U is an upper triangular matric with diagonal elements of U are the pivots of the matrix <br>\n",
    "\n",
    "Permutation vector is a vector that represents row permuations performed during the decompositions proxess *ex: if row 2 and row changed then [1,3,2] cuz 1 unchanged, 2 & 3 swapped pos*\n",
    "\n",
    "***Brief: U is RREF form of matrix and do same to get L***"
   ]
  },
  {
   "cell_type": "code",
   "execution_count": 55,
   "id": "88481dc9-56ed-43a8-abfb-fd11f7868683",
   "metadata": {},
   "outputs": [
    {
     "data": {
      "text/plain": [
       "LU{Float64, Matrix{Float64}, Vector{Int64}}\n",
       "L factor:\n",
       "3×3 Matrix{Float64}:\n",
       " 1.0        0.0       0.0\n",
       " 0.981818   1.0       0.0\n",
       " 0.490909  -0.374211  1.0\n",
       "U factor:\n",
       "3×3 Matrix{Float64}:\n",
       " 55.0  -71.0      26.0\n",
       "  0.0  152.709  -103.527\n",
       "  0.0    0.0     -58.5047"
      ]
     },
     "execution_count": 55,
     "metadata": {},
     "output_type": "execute_result"
    }
   ],
   "source": [
    "using LinearAlgebra\n",
    "# We can create LU decomposition of a matrix which returns:\n",
    "# L (lower triangular matrix)\n",
    "# U (upper triangular matrix)\n",
    "# P (permutation vector)\n",
    "l,u,p = lu(A)"
   ]
  },
  {
   "cell_type": "code",
   "execution_count": 56,
   "id": "344a3471-1020-46a3-840d-40fe8b11c643",
   "metadata": {},
   "outputs": [
    {
     "data": {
      "text/plain": [
       "262.80410955690934"
      ]
     },
     "metadata": {},
     "output_type": "display_data"
    },
    {
     "data": {
      "text/plain": [
       "1.4210854715202004e-14"
      ]
     },
     "metadata": {},
     "output_type": "display_data"
    }
   ],
   "source": [
    "# Pivoting is on by default so we can't assume A == LU\n",
    "display(norm(l*u - A))\n",
    "display(norm(l*u - A[p,:])) # permutations reapplied -> == 0"
   ]
  },
  {
   "cell_type": "markdown",
   "id": "e2c01353-4006-4c0d-bc4b-6db03467fb2c",
   "metadata": {},
   "source": [
    "#### **Determinants**\n",
    "Can find the determinants of a Matrix in Julia"
   ]
  },
  {
   "cell_type": "code",
   "execution_count": 75,
   "id": "c92bf2bd-e17d-4bc2-aebc-4c2737f45527",
   "metadata": {},
   "outputs": [
    {
     "data": {
      "text/plain": [
       "-3.0"
      ]
     },
     "execution_count": 75,
     "metadata": {},
     "output_type": "execute_result"
    }
   ],
   "source": [
    "det(A) # ~ MATLAB"
   ]
  },
  {
   "cell_type": "markdown",
   "id": "22153ab9-fcd2-4d9f-81f9-739570e64ded",
   "metadata": {},
   "source": [
    "#### **QR factorisation**\n",
    "QR factorization, also known as QR decomposition, is a method used to decompose a matrix into the product of an orthogonal matrix (Q) and an upper triangular matrix (R).\n",
    "\n",
    "*Side note: Orthogonal matrix is s.t. $AA^T = I$ where dot prod. of any 2 distinct row / column is 0*\n",
    "\n",
    "$||Ax-b|| = ||QRx - b|| = ||Q(RX - Q'b)||$ \n",
    "$$ \n",
    "\\begin{align*}\n",
    "    &=  \\begin{pmatrix} R_0x - Q'_0b \\\\\n",
    "                         Q'_1 b \\\\ \n",
    "            \\end{pmatrix} \\\\\n",
    "    &= ||R_0x - Q'_0 b|| + ||Q'_1 b||\n",
    "\\end{align*}$$\n"
   ]
  },
  {
   "cell_type": "code",
   "execution_count": 80,
   "id": "f4cdb2fc-f765-451e-83ae-98639da97739",
   "metadata": {},
   "outputs": [
    {
     "data": {
      "text/plain": [
       "3×2 Matrix{Int64}:\n",
       " 1  2\n",
       " 4  5\n",
       " 7  8"
      ]
     },
     "metadata": {},
     "output_type": "display_data"
    },
    {
     "data": {
      "text/plain": [
       "LinearAlgebra.QRCompactWY{Float64, Matrix{Float64}, Matrix{Float64}}\n",
       "Q factor:\n",
       "3×3 LinearAlgebra.QRCompactWYQ{Float64, Matrix{Float64}, Matrix{Float64}}:\n",
       " -0.123091   0.904534   0.408248\n",
       " -0.492366   0.301511  -0.816497\n",
       " -0.86164   -0.301511   0.408248\n",
       "R factor:\n",
       "2×2 Matrix{Float64}:\n",
       " -8.12404  -9.60114\n",
       "  0.0       0.904534"
      ]
     },
     "execution_count": 80,
     "metadata": {},
     "output_type": "execute_result"
    }
   ],
   "source": [
    "using LinearAlgebra\n",
    "display((A[:,1:2])) # 2 first columns of A\n",
    "Agr = qr(A[:,1:2]) # we can qr factprose tje twp forst columns of A"
   ]
  },
  {
   "cell_type": "code",
   "execution_count": 93,
   "id": "6142b587-b894-4231-8b54-c071f5587435",
   "metadata": {},
   "outputs": [
    {
     "name": "stdout",
     "output_type": "stream",
     "text": [
      "\n",
      " Q matrix is as following:\n"
     ]
    },
    {
     "data": {
      "text/plain": [
       "3×3 LinearAlgebra.QRCompactWYQ{Float64, Matrix{Float64}, Matrix{Float64}}:\n",
       " -0.123091   0.904534   0.408248\n",
       " -0.492366   0.301511  -0.816497\n",
       " -0.86164   -0.301511   0.408248"
      ]
     },
     "metadata": {},
     "output_type": "display_data"
    },
    {
     "name": "stdout",
     "output_type": "stream",
     "text": [
      "\n",
      " R matrix is as following:\n"
     ]
    },
    {
     "data": {
      "text/plain": [
       "2×2 Matrix{Float64}:\n",
       " -8.12404  -9.60114\n",
       "  0.0       0.904534"
      ]
     },
     "metadata": {},
     "output_type": "display_data"
    }
   ],
   "source": [
    "println(\"\\n Q matrix is as following:\")\n",
    "display(Agr.Q)\n",
    "println(\"\\n R matrix is as following:\")\n",
    "display(Agr.R)"
   ]
  },
  {
   "cell_type": "markdown",
   "id": "5e03a1d0-ff23-46a2-9e90-5b018b43aa25",
   "metadata": {},
   "source": [
    "Here R is stored as a 2 x 2 matrix rather than a 3x2 because last row is just 0s"
   ]
  },
  {
   "cell_type": "markdown",
   "id": "78acd815-5409-4f8c-b267-5e96df359ac8",
   "metadata": {},
   "source": [
    "#### **Eigen decompositions and SVD(s)**\n",
    "\n",
    "The results from eigendecompositions and singular value decompositions are also stored in factorization types"
   ]
  },
  {
   "cell_type": "code",
   "execution_count": 102,
   "id": "4de307da-ad50-43bd-8039-44fd4eef12b5",
   "metadata": {},
   "outputs": [
    {
     "data": {
      "text/plain": [
       "3×3 Matrix{Int64}:\n",
       "  2   6  10\n",
       "  6  10  14\n",
       " 10  14  20"
      ]
     },
     "metadata": {},
     "output_type": "display_data"
    },
    {
     "name": "stdout",
     "output_type": "stream",
     "text": [
      "eigen values: [-2.4656047866788446, 0.3807723022771561, 34.08483248440164]\n"
     ]
    },
    {
     "data": {
      "text/plain": [
       "3×3 Matrix{Float64}:\n",
       "  0.898813    0.275438  -0.340982\n",
       "  0.0556776  -0.843348  -0.534476\n",
       " -0.434781    0.461409  -0.773348"
      ]
     },
     "execution_count": 102,
     "metadata": {},
     "output_type": "execute_result"
    }
   ],
   "source": [
    "Asym = A + A'\n",
    "display(Asym)\n",
    "AsymEig = eigen(Asym)\n",
    "println(\"eigen values: \",AsymEig.values)\n",
    "AsymEig.vectors"
   ]
  },
  {
   "cell_type": "markdown",
   "id": "998033c6-6ce3-4676-b8d2-11fbcad0a6d1",
   "metadata": {
    "jp-MarkdownHeadingCollapsed": true,
    "tags": []
   },
   "source": [
    "#### **SVD(Singular Value Decomposition)**\n",
    "SVD separates A into $U \\Sigma V^T$ where \n",
    "- $U$ is an $m \\times m$ matrix\n",
    "- $\\Sigma$ is an $m \\times n$ matrix\n",
    "- $V$ is an $n \\times n$ matrix\n",
    "\n",
    "It is a form of dimension reduction w/ following properties:\n",
    "1. The singular values in $\\Sigma$ represent the magnitude or importance of the corresponding columns or rows of $U$ and $V^T$. The larger the singular value, the more significant the corresponding column or row.\n",
    "2. The columns of $U$ are the left singular vectors, representing the orthogonal basis of the column space of $A$.\n",
    "3. The columns of $V$ are the right singular vectors, representing the orthogonal basis of the row space of $A$.\n",
    "4. The SVD provides a way to approximate or compress the original matrix by truncating the singular values and their corresponding singular vectors."
   ]
  },
  {
   "cell_type": "code",
   "execution_count": 108,
   "id": "08d810f4-4a45-4574-a627-62217816b530",
   "metadata": {},
   "outputs": [
    {
     "data": {
      "text/plain": [
       "3×3 Matrix{Float64}:\n",
       " -0.209337   0.964385    0.161676\n",
       " -0.503849   0.0353215  -0.86307\n",
       " -0.838042  -0.262133    0.47851"
      ]
     },
     "execution_count": 108,
     "metadata": {},
     "output_type": "execute_result"
    }
   ],
   "source": [
    "Asvd = svd(A)\n",
    "Asvd.U"
   ]
  },
  {
   "cell_type": "code",
   "execution_count": 109,
   "id": "bdfdce0e-0d74-4bae-adbd-c6b9f9898cf2",
   "metadata": {},
   "outputs": [
    {
     "data": {
      "text/plain": [
       "3×3 adjoint(::Matrix{Float64}) with eltype Float64:\n",
       " -0.464668  -0.833286     0.29953\n",
       " -0.553755   0.00949949  -0.832626\n",
       " -0.69097    0.55276      0.46585"
      ]
     },
     "execution_count": 109,
     "metadata": {},
     "output_type": "execute_result"
    }
   ],
   "source": [
    "Asvd.V"
   ]
  },
  {
   "cell_type": "code",
   "execution_count": 111,
   "id": "4a1637b4-8b41-48de-bfbb-6664dfd9df69",
   "metadata": {},
   "outputs": [
    {
     "data": {
      "text/plain": [
       "3-element Vector{Float64}:\n",
       " 17.412505166808597\n",
       "  0.8751613501104368\n",
       "  0.1968665211174301"
      ]
     },
     "execution_count": 111,
     "metadata": {},
     "output_type": "execute_result"
    }
   ],
   "source": [
    "Asvd.S # only the diagonals are given here"
   ]
  },
  {
   "cell_type": "markdown",
   "id": "a08c61ab-258d-4f89-a0a3-bce559f4b4a7",
   "metadata": {},
   "source": [
    "#### **Different forms of matrix A**\n",
    "Converting the Matrix into different forms"
   ]
  },
  {
   "cell_type": "code",
   "execution_count": 112,
   "id": "3b42375b-0b83-4e6e-a819-9db1216e0d37",
   "metadata": {},
   "outputs": [
    {
     "data": {
      "text/plain": [
       "3×3 Diagonal{Int64, Vector{Int64}}:\n",
       " 1  ⋅   ⋅\n",
       " ⋅  5   ⋅\n",
       " ⋅  ⋅  10"
      ]
     },
     "execution_count": 112,
     "metadata": {},
     "output_type": "execute_result"
    }
   ],
   "source": [
    "Diagonal(A)"
   ]
  },
  {
   "cell_type": "code",
   "execution_count": 113,
   "id": "3470662f-6446-41d9-908e-fc46180df91d",
   "metadata": {},
   "outputs": [
    {
     "data": {
      "text/plain": [
       "3×3 LowerTriangular{Int64, Matrix{Int64}}:\n",
       " 1  ⋅   ⋅\n",
       " 4  5   ⋅\n",
       " 7  8  10"
      ]
     },
     "execution_count": 113,
     "metadata": {},
     "output_type": "execute_result"
    }
   ],
   "source": [
    "LowerTriangular(A)"
   ]
  },
  {
   "cell_type": "code",
   "execution_count": 129,
   "id": "c51b0bf8-9dfc-4e88-a0a9-711dfca3aac3",
   "metadata": {},
   "outputs": [
    {
     "data": {
      "text/plain": [
       "3×3 UpperTriangular{Int64, Matrix{Int64}}:\n",
       " 1  2   3\n",
       " ⋅  5   6\n",
       " ⋅  ⋅  10"
      ]
     },
     "metadata": {},
     "output_type": "display_data"
    },
    {
     "data": {
      "text/plain": [
       "3×3 Symmetric{Int64, Matrix{Int64}}:\n",
       " 1  2   3\n",
       " 2  5   6\n",
       " 3  6  10"
      ]
     },
     "metadata": {},
     "output_type": "display_data"
    },
    {
     "data": {
      "text/plain": [
       "3×3 Matrix{Int64}:\n",
       " 14   32   53\n",
       " 32   77  128\n",
       " 53  128  213"
      ]
     },
     "metadata": {},
     "output_type": "display_data"
    }
   ],
   "source": [
    "display(UpperTriangular(A))\n",
    "display(Symmetric(A)) # constructs symmetry of upper or lower tri of matrix\n",
    "display(A*A') # NOT this"
   ]
  }
 ],
 "metadata": {
  "@webio": {
   "lastCommId": "c2c0ce80-8f9a-45c7-89dd-7f91b78cccf8",
   "lastKernelId": "e04ea23b-6fe2-44f6-9911-c137897f0859"
  },
  "kernelspec": {
   "display_name": "Julia 1.9.1",
   "language": "julia",
   "name": "julia-1.9"
  },
  "language_info": {
   "file_extension": ".jl",
   "mimetype": "application/julia",
   "name": "julia",
   "version": "1.9.1"
  }
 },
 "nbformat": 4,
 "nbformat_minor": 5
}
